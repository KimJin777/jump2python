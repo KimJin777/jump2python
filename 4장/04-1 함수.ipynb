{
 "cells": [
  {
   "cell_type": "markdown",
   "id": "3b3ba503-5b38-4dd4-873a-8f0741fde754",
   "metadata": {},
   "source": [
    "## 04-1 함수\n",
    "\n",
    "함수란 무엇인가?\n",
    "- 입력값을 가지고 어떤 일을 수행한 후 그 결과물을 내어 놓는 것\n",
    "\n",
    "함수를 사용하는 이유\n",
    "- 반복적으로 사용되는 가치 있는 부분\n",
    "- 작성한 프로그램을 기능 단위로 분리"
   ]
  },
  {
   "cell_type": "markdown",
   "id": "a6f44547-8d3d-4621-8fc0-d35561a3edf9",
   "metadata": {},
   "source": [
    "#### 파이썬 함수의 구조\n",
    "```python\n",
    "def 함수이름(매개변수):\n",
    "    수행할 문장1\n",
    "    수행할 문장2\n",
    "    ....\n"
   ]
  },
  {
   "cell_type": "markdown",
   "id": "e0f7bef3-4411-4483-8db7-180307b957b8",
   "metadata": {},
   "source": [
    "#### 파이썬의 예약어 Reserved Words\r",
    "- \n",
    "예약어는 모두 30개이다\n",
    "- \r\n",
    "예약어는 상수 또는 변수 나 다른 식별자의 이름으로 사용 할 수 없 \n",
    "- .\r\n",
    "예약어는 모두 소문자  12|cep|t\tlambda\tyield"
   ]
  },
  {
   "cell_type": "markdown",
   "id": "70aa50f5-50dd-46ba-b9d3-87432a7eb237",
   "metadata": {},
   "source": [
    "|Keyword\t| Keyword\t| Keyword|\n",
    "|---|---|---|\n",
    "|assert |\tfinally\t| or|\n",
    "|break|\tfor\t| pass|\n",
    "|class|\tfrom |\tprint|\n",
    "|continue|\tglobal\t| raise|\n",
    "|def\t| if |\treturn|\n",
    "|del\t| import\t| try|\n",
    "|elif |\tin |\twhile|\n",
    "|else |\tis |\twith|\n",
    "|except |\tlambda\t| yield|"
   ]
  },
  {
   "cell_type": "code",
   "execution_count": 28,
   "id": "47314399-d949-4ef8-bbec-08655cdc8850",
   "metadata": {},
   "outputs": [
    {
     "data": {
      "text/plain": [
       "5"
      ]
     },
     "execution_count": 28,
     "metadata": {},
     "output_type": "execute_result"
    }
   ],
   "source": [
    "add(2,3)"
   ]
  },
  {
   "cell_type": "code",
   "execution_count": null,
   "id": "41def172-e148-48cd-8512-396bc5c67f5b",
   "metadata": {},
   "outputs": [],
   "source": [
    "def add(a, b):\n",
    "    return a+b"
   ]
  },
  {
   "cell_type": "code",
   "execution_count": 31,
   "id": "5aee0d73-5b26-47ac-8ca2-2a930f12336d",
   "metadata": {},
   "outputs": [
    {
     "name": "stdout",
     "output_type": "stream",
     "text": [
      "7\n"
     ]
    }
   ],
   "source": [
    "a = 3\n",
    "b = 4\n",
    "c = add(a, b)\n",
    "print(c)"
   ]
  },
  {
   "cell_type": "markdown",
   "id": "f2229a69-1ef0-423b-856a-f6ffa0a0b6aa",
   "metadata": {},
   "source": [
    "#### 매개변수parameter와 인수arguments\n",
    "\n",
    "```python\n",
    "\n",
    "def add(a, b):    # a, b는 매개변수 <br> \n",
    "    reslut = a+b  # 수행할 문장 <br>\n",
    "    return result # 결과값 리턴 <br>\n",
    "<br>\n",
    "c = add(3,4)      # 3, 4는 인수<br>\n"
   ]
  },
  {
   "cell_type": "markdown",
   "id": "c47cfa72-f2f3-4d4f-bec0-b46c3239ef6b",
   "metadata": {},
   "source": [
    "#### 입력값이 없는 함수"
   ]
  },
  {
   "cell_type": "code",
   "execution_count": 43,
   "id": "b181e1e5-2b41-4b82-9fe1-bb1b4ccb1a8a",
   "metadata": {},
   "outputs": [],
   "source": [
    "def say():\n",
    "    return 'Hi'"
   ]
  },
  {
   "cell_type": "code",
   "execution_count": 45,
   "id": "04081f7d-e5ea-4fbd-8de3-64d617db5571",
   "metadata": {},
   "outputs": [],
   "source": [
    "a = say()"
   ]
  },
  {
   "cell_type": "code",
   "execution_count": 47,
   "id": "be75b707-130b-495c-8470-249d81f8be40",
   "metadata": {},
   "outputs": [
    {
     "name": "stdout",
     "output_type": "stream",
     "text": [
      "Hi\n"
     ]
    }
   ],
   "source": [
    "print(a)"
   ]
  },
  {
   "cell_type": "markdown",
   "id": "6d868f23-83bb-4195-b89e-70149618ba3b",
   "metadata": {},
   "source": [
    "#### 리터값이 없는 함수"
   ]
  },
  {
   "cell_type": "code",
   "execution_count": 13,
   "id": "2309098f-0742-45ab-be62-ecd722b20d74",
   "metadata": {},
   "outputs": [],
   "source": [
    "def add(a, b):\n",
    "    print('%d, %d의 합은 %d 입니다' % (a, b, a+b))"
   ]
  },
  {
   "cell_type": "code",
   "execution_count": 15,
   "id": "bb0b52cf-86b6-46e2-ba46-b4ef04ebc9e5",
   "metadata": {},
   "outputs": [
    {
     "name": "stdout",
     "output_type": "stream",
     "text": [
      "4, 5의 합은 9 입니다\n"
     ]
    }
   ],
   "source": [
    "add(4,5)"
   ]
  },
  {
   "cell_type": "code",
   "execution_count": 17,
   "id": "190c774e-296d-4cd9-8f20-acc9745e9a1e",
   "metadata": {},
   "outputs": [],
   "source": [
    "def add(a, b):\n",
    "    return print('%d, %d의 합은 %d 입니다' % (a, b, a+b))"
   ]
  },
  {
   "cell_type": "code",
   "execution_count": 19,
   "id": "14f1caa7-12d5-4552-a53a-a419d7016556",
   "metadata": {},
   "outputs": [
    {
     "name": "stdout",
     "output_type": "stream",
     "text": [
      "4, 5의 합은 9 입니다\n"
     ]
    }
   ],
   "source": [
    "add(4,5)"
   ]
  },
  {
   "cell_type": "code",
   "execution_count": 23,
   "id": "9e929bd0-f833-45ce-9d1b-429778f9885d",
   "metadata": {},
   "outputs": [
    {
     "name": "stdout",
     "output_type": "stream",
     "text": [
      "4, 5의 합은 9 입니다\n"
     ]
    }
   ],
   "source": [
    "def add(a, b):\n",
    "    print('%d, %d의 합은 %d 입니다' % (a, b, a+b))\n",
    "    \n",
    "    \n",
    "a = add(4,5)"
   ]
  },
  {
   "cell_type": "code",
   "execution_count": 25,
   "id": "c1306ce5-a0c3-429c-a2ab-df4eacc58572",
   "metadata": {},
   "outputs": [
    {
     "name": "stdout",
     "output_type": "stream",
     "text": [
      "None\n"
     ]
    }
   ],
   "source": [
    "print(a)"
   ]
  },
  {
   "cell_type": "code",
   "execution_count": 27,
   "id": "7e22c76f-641e-45a7-b078-83afa5e32aea",
   "metadata": {},
   "outputs": [
    {
     "name": "stdout",
     "output_type": "stream",
     "text": [
      "4, 5의 합은 9 입니다\n"
     ]
    }
   ],
   "source": [
    "def add(a, b):\n",
    "    return print('%d, %d의 합은 %d 입니다' % (a, b, a+b))\n",
    "\n",
    "a = add(4,5)"
   ]
  },
  {
   "cell_type": "code",
   "execution_count": 29,
   "id": "c467babc-3d22-4121-9d62-74f9402abff1",
   "metadata": {},
   "outputs": [
    {
     "name": "stdout",
     "output_type": "stream",
     "text": [
      "None\n"
     ]
    }
   ],
   "source": [
    "print(a)"
   ]
  },
  {
   "cell_type": "markdown",
   "id": "26293c24-d9f8-44e3-93c5-1b009067d99a",
   "metadata": {},
   "source": [
    "#### 입력값도 리턴값도 없는 함수"
   ]
  },
  {
   "cell_type": "code",
   "execution_count": 51,
   "id": "bf2d830d-0dc2-4549-9b19-333999b867e4",
   "metadata": {},
   "outputs": [],
   "source": [
    "def say():\n",
    "    print('Hi')\n",
    "    "
   ]
  },
  {
   "cell_type": "code",
   "execution_count": 53,
   "id": "1fc1306a-13ef-4b92-9f0a-eb791a59c264",
   "metadata": {},
   "outputs": [
    {
     "name": "stdout",
     "output_type": "stream",
     "text": [
      "Hi\n"
     ]
    }
   ],
   "source": [
    "say()"
   ]
  },
  {
   "cell_type": "code",
   "execution_count": 59,
   "id": "d2b98450-e43d-429d-afae-a8145daa0951",
   "metadata": {},
   "outputs": [
    {
     "name": "stdout",
     "output_type": "stream",
     "text": [
      "None\n"
     ]
    }
   ],
   "source": [
    "print(a)"
   ]
  },
  {
   "cell_type": "markdown",
   "id": "f5adf2f1-7556-4bda-a168-903565521b18",
   "metadata": {},
   "source": [
    "#### 매개변수를 지정하여 호출하기"
   ]
  },
  {
   "cell_type": "code",
   "execution_count": 31,
   "id": "af19499d-a786-452b-8697-22c643025330",
   "metadata": {},
   "outputs": [],
   "source": [
    "def add(a, b):\n",
    "    return a-b"
   ]
  },
  {
   "cell_type": "code",
   "execution_count": 55,
   "id": "aa067ab2-2727-4274-b728-27e4666da372",
   "metadata": {},
   "outputs": [],
   "source": [
    "result = add(7,3)"
   ]
  },
  {
   "cell_type": "code",
   "execution_count": 57,
   "id": "5625b427-e396-48a3-ba19-ce4ea5a214ea",
   "metadata": {},
   "outputs": [
    {
     "name": "stdout",
     "output_type": "stream",
     "text": [
      "4\n"
     ]
    }
   ],
   "source": [
    "print(result)"
   ]
  },
  {
   "cell_type": "code",
   "execution_count": 59,
   "id": "5f0129d5-534d-487a-adff-43ff4a3e9216",
   "metadata": {},
   "outputs": [],
   "source": [
    "result = add(a =7, b =3)"
   ]
  },
  {
   "cell_type": "code",
   "execution_count": 61,
   "id": "7df06eeb-9d0f-4d13-b036-f82f17261624",
   "metadata": {},
   "outputs": [
    {
     "name": "stdout",
     "output_type": "stream",
     "text": [
      "4\n"
     ]
    }
   ],
   "source": [
    "print(result)"
   ]
  },
  {
   "cell_type": "code",
   "execution_count": 65,
   "id": "47432e61-e774-4bd0-870f-a529794ea7cb",
   "metadata": {},
   "outputs": [
    {
     "name": "stdout",
     "output_type": "stream",
     "text": [
      "4\n"
     ]
    }
   ],
   "source": [
    "result = add( b =3 , a =7)\n",
    "print(result)"
   ]
  },
  {
   "cell_type": "markdown",
   "id": "ce23aa33-d904-4564-be93-42d96a697210",
   "metadata": {},
   "source": [
    "#### 입력값이 몇개인지 모를때\n",
    "``` python\n",
    "def 함수이름(*매개변수):\n",
    "    수행할 문장"
   ]
  },
  {
   "cell_type": "code",
   "execution_count": 67,
   "id": "bb23123b-ead3-4b61-9998-d2c2addd9124",
   "metadata": {},
   "outputs": [],
   "source": [
    "def add_many(*args):\n",
    "    result = 0\n",
    "    for i in args:\n",
    "        result = result + i\n",
    "    return result\n",
    "    "
   ]
  },
  {
   "cell_type": "code",
   "execution_count": 69,
   "id": "3cd0063f-bf1d-4090-8446-b032b4bf453f",
   "metadata": {},
   "outputs": [
    {
     "data": {
      "text/plain": [
       "15"
      ]
     },
     "execution_count": 69,
     "metadata": {},
     "output_type": "execute_result"
    }
   ],
   "source": [
    "add_many(1,2,3,4,5)"
   ]
  },
  {
   "cell_type": "code",
   "execution_count": 71,
   "id": "ff7537a3-ba21-423d-8f90-95f6fbb5fabd",
   "metadata": {},
   "outputs": [
    {
     "data": {
      "text/plain": [
       "55"
      ]
     },
     "execution_count": 71,
     "metadata": {},
     "output_type": "execute_result"
    }
   ],
   "source": [
    "add_many(1,2,3,4,5,6,7,8,9,10)"
   ]
  },
  {
   "cell_type": "code",
   "execution_count": 85,
   "id": "04567f84-85d2-4f47-97fb-13e7426dde2e",
   "metadata": {},
   "outputs": [],
   "source": [
    "def add_mul(choice, *args):\n",
    "    if choice == 'add':\n",
    "        result = 0\n",
    "        for i in args:\n",
    "            result = result + i\n",
    "    elif choice == 'mul':\n",
    "        result =1\n",
    "        for i in args:\n",
    "            result = result*i\n",
    "\n",
    "    return result\n"
   ]
  },
  {
   "cell_type": "code",
   "execution_count": 87,
   "id": "542d6279-79a0-42d7-b6dd-15cb4c877cad",
   "metadata": {},
   "outputs": [
    {
     "name": "stdout",
     "output_type": "stream",
     "text": [
      "15\n"
     ]
    }
   ],
   "source": [
    "result = add_mul('add', 1,2,3,4,5)\n",
    "print(result)"
   ]
  },
  {
   "cell_type": "code",
   "execution_count": 89,
   "id": "943c8145-03d5-4506-b701-0e71e5b09fa1",
   "metadata": {},
   "outputs": [
    {
     "name": "stdout",
     "output_type": "stream",
     "text": [
      "120\n"
     ]
    }
   ],
   "source": [
    "result = add_mul('mul', 1,2,3,4,5)\n",
    "print(result)"
   ]
  },
  {
   "cell_type": "markdown",
   "id": "feb68df1-c70b-491d-aa24-2a52c78401f9",
   "metadata": {},
   "source": [
    "키워드 매개변수, kwargs\n",
    "``` python\n",
    "def 함수이름(*kwargs):\n",
    "    수행할 문장"
   ]
  },
  {
   "cell_type": "code",
   "execution_count": 65,
   "id": "d8442d6e-c4c0-4662-a34c-54796c07082e",
   "metadata": {},
   "outputs": [],
   "source": [
    "def print_kwargs(**kwargs):\n",
    "    print(kwargs)"
   ]
  },
  {
   "cell_type": "code",
   "execution_count": 67,
   "id": "fc79fb66-c2bc-40c5-bc91-db475309fc12",
   "metadata": {},
   "outputs": [
    {
     "name": "stdout",
     "output_type": "stream",
     "text": [
      "{'a': 1}\n"
     ]
    }
   ],
   "source": [
    "print_kwargs(a=1)"
   ]
  },
  {
   "cell_type": "code",
   "execution_count": 69,
   "id": "ab229674-3585-4337-8679-e2e349dab58d",
   "metadata": {},
   "outputs": [
    {
     "name": "stdout",
     "output_type": "stream",
     "text": [
      "{'name': 'foo', 'age': 3}\n"
     ]
    }
   ],
   "source": [
    "print_kwargs(name='foo', age=3)"
   ]
  },
  {
   "cell_type": "markdown",
   "id": "99c77fe5-3fee-4884-836b-dea4d4315856",
   "metadata": {},
   "source": [
    "#### 함수의 리턴값은 언제나 하나이다."
   ]
  },
  {
   "cell_type": "code",
   "execution_count": 76,
   "id": "87b6e6c6-838b-4eab-acd0-ed23cef3a414",
   "metadata": {},
   "outputs": [],
   "source": [
    "def add_and_mul(a, b):\n",
    "    return a+b, a*b"
   ]
  },
  {
   "cell_type": "code",
   "execution_count": 100,
   "id": "8deed23a-f55e-4447-bd29-4f407a17477d",
   "metadata": {},
   "outputs": [],
   "source": [
    "result = add_and_mul(3,4)\n",
    "result = str(result)"
   ]
  },
  {
   "cell_type": "code",
   "execution_count": 112,
   "id": "43730e7c-fd28-4817-95c6-83ef2f6433da",
   "metadata": {},
   "outputs": [
    {
     "name": "stdout",
     "output_type": "stream",
     "text": [
      "(7, 12) <= 튜플 1개로 반환된다\n"
     ]
    }
   ],
   "source": [
    "print('%s <= 튜플 1개로 반환된다' % (result) )"
   ]
  },
  {
   "cell_type": "code",
   "execution_count": 103,
   "id": "131e81d9-69f1-48ec-a935-1f3bda6fb7ac",
   "metadata": {},
   "outputs": [],
   "source": [
    "result, result2 = add_and_mul(3,4)"
   ]
  },
  {
   "cell_type": "code",
   "execution_count": 105,
   "id": "988d69af-26df-4211-a8ac-ff16e0ff8c19",
   "metadata": {},
   "outputs": [
    {
     "name": "stdout",
     "output_type": "stream",
     "text": [
      "7 12\n"
     ]
    }
   ],
   "source": [
    "print(result, result2)"
   ]
  },
  {
   "cell_type": "markdown",
   "id": "19c24757-58a5-48fa-a037-a0cfe4a8c0e6",
   "metadata": {},
   "source": [
    "#### return 의 쓰임새\n",
    "```python\n",
    " return을 만나면 함수를 끝낸다."
   ]
  },
  {
   "cell_type": "code",
   "execution_count": 116,
   "id": "4d0ebb1d-cceb-47e7-812e-182476a606bb",
   "metadata": {},
   "outputs": [],
   "source": [
    "def add_and_mul(a, b):\n",
    "    return a+b\n",
    "    return a*b"
   ]
  },
  {
   "cell_type": "code",
   "execution_count": 118,
   "id": "4d7b600b-b928-400f-9bb8-78f3807607af",
   "metadata": {},
   "outputs": [
    {
     "name": "stdout",
     "output_type": "stream",
     "text": [
      "7\n"
     ]
    }
   ],
   "source": [
    "result = add_and_mul(3,4)\n",
    "print(result)"
   ]
  },
  {
   "cell_type": "code",
   "execution_count": 120,
   "id": "ab1f951f-fd83-4ee2-aa67-e8be7cf92f43",
   "metadata": {},
   "outputs": [],
   "source": [
    "def add_and_mul(a, b):\n",
    "    return a+b\n",
    "    print('----------------')\n",
    "    return a*b"
   ]
  },
  {
   "cell_type": "code",
   "execution_count": 122,
   "id": "4732eee1-eb66-4263-9870-447f388e602f",
   "metadata": {},
   "outputs": [
    {
     "name": "stdout",
     "output_type": "stream",
     "text": [
      "7\n"
     ]
    }
   ],
   "source": [
    "result = add_and_mul(3,4)\n",
    "print(result)"
   ]
  },
  {
   "cell_type": "markdown",
   "id": "94855aca-1dcf-49d3-9de8-ebf0182d386c",
   "metadata": {},
   "source": [
    "#### 매개변수에 초깃값 미리 설정하기"
   ]
  },
  {
   "cell_type": "code",
   "execution_count": 115,
   "id": "41a73c40-414f-4f94-bb7a-cac9251c17d1",
   "metadata": {},
   "outputs": [],
   "source": [
    "def say_myself(name, age, man=True):\n",
    "    print('나의 이름은 %s 입니다.' % name)\n",
    "    print('나의 나이는 %d 입니다.' % age)\n",
    "    if man:\n",
    "        print('나는 남자 입니다.')\n",
    "    else:\n",
    "        print('나는 여자 입니다.')"
   ]
  },
  {
   "cell_type": "code",
   "execution_count": 117,
   "id": "ca8a839a-0b1e-4275-8819-109a56ec77bd",
   "metadata": {},
   "outputs": [
    {
     "name": "stdout",
     "output_type": "stream",
     "text": [
      "나의 이름은 김진 입니다.\n",
      "나의 나이는 44 입니다.\n",
      "나는 남자 입니다.\n"
     ]
    }
   ],
   "source": [
    "say_myself('김진', 44)"
   ]
  },
  {
   "cell_type": "code",
   "execution_count": 119,
   "id": "b74debc7-2dba-4220-b24c-52ab48f1e894",
   "metadata": {},
   "outputs": [
    {
     "name": "stdout",
     "output_type": "stream",
     "text": [
      "나의 이름은 김진 입니다.\n",
      "나의 나이는 44 입니다.\n",
      "나는 남자 입니다.\n"
     ]
    }
   ],
   "source": [
    "say_myself('김진', 44, True)"
   ]
  },
  {
   "cell_type": "code",
   "execution_count": 121,
   "id": "0df73790-a946-48bf-aaff-194d6c743f89",
   "metadata": {},
   "outputs": [
    {
     "name": "stdout",
     "output_type": "stream",
     "text": [
      "나의 이름은 김진 입니다.\n",
      "나의 나이는 44 입니다.\n",
      "나는 여자 입니다.\n"
     ]
    }
   ],
   "source": [
    "say_myself('김진', 44, False)"
   ]
  },
  {
   "cell_type": "code",
   "execution_count": 123,
   "id": "eec911f9-a2f3-402e-8a78-429a2b11367b",
   "metadata": {},
   "outputs": [
    {
     "ename": "SyntaxError",
     "evalue": "parameter without a default follows parameter with a default (3384935188.py, line 1)",
     "output_type": "error",
     "traceback": [
      "\u001b[1;36m  Cell \u001b[1;32mIn[123], line 1\u001b[1;36m\u001b[0m\n\u001b[1;33m    def say_myself(name, man=True, age):\u001b[0m\n\u001b[1;37m                                   ^\u001b[0m\n\u001b[1;31mSyntaxError\u001b[0m\u001b[1;31m:\u001b[0m parameter without a default follows parameter with a default\n"
     ]
    }
   ],
   "source": [
    "def say_myself(name, man=True, age):\n",
    "    print('나의 이름은 %s 입니다.' % name)\n",
    "    print('나의 나이는 %d 입니다.' % age)\n",
    "    if man:\n",
    "        print('나는 남자 입니다.')\n",
    "    else:\n",
    "        print('나는 여자 입니다.')"
   ]
  },
  {
   "cell_type": "markdown",
   "id": "5f98ffc4-c719-4db4-9cff-43a0c93fe2f8",
   "metadata": {},
   "source": [
    "#### 함수 안에서 선언한 변수의 효력 범위"
   ]
  },
  {
   "cell_type": "code",
   "execution_count": 125,
   "id": "c0f9967f-3f89-4f15-869f-bdf2b6d2c18b",
   "metadata": {},
   "outputs": [
    {
     "name": "stdout",
     "output_type": "stream",
     "text": [
      "1\n"
     ]
    }
   ],
   "source": [
    "a = 1\n",
    "def vartest(a):\n",
    "    a = a+100\n",
    "\n",
    "vartest(a)\n",
    "print(a)"
   ]
  },
  {
   "cell_type": "code",
   "execution_count": 127,
   "id": "91ede178-4d2e-4815-b567-2893510fb0b7",
   "metadata": {},
   "outputs": [
    {
     "name": "stdout",
     "output_type": "stream",
     "text": [
      "101\n",
      "1\n"
     ]
    }
   ],
   "source": [
    "a = 1\n",
    "def vartest(a):\n",
    "    a = a+100\n",
    "    print(a)\n",
    "\n",
    "vartest(a)\n",
    "print(a)"
   ]
  },
  {
   "cell_type": "code",
   "execution_count": 133,
   "id": "5b157633-e226-4f38-9f69-ed30bae89895",
   "metadata": {},
   "outputs": [
    {
     "name": "stdout",
     "output_type": "stream",
     "text": [
      "103\n"
     ]
    },
    {
     "ename": "NameError",
     "evalue": "name 'z' is not defined",
     "output_type": "error",
     "traceback": [
      "\u001b[1;31m---------------------------------------------------------------------------\u001b[0m",
      "\u001b[1;31mNameError\u001b[0m                                 Traceback (most recent call last)",
      "Cell \u001b[1;32mIn[133], line 7\u001b[0m\n\u001b[0;32m      4\u001b[0m     \u001b[38;5;28;01mreturn\u001b[39;00m\n\u001b[0;32m      6\u001b[0m vartest(\u001b[38;5;241m3\u001b[39m)\n\u001b[1;32m----> 7\u001b[0m \u001b[38;5;28mprint\u001b[39m(z)\n",
      "\u001b[1;31mNameError\u001b[0m: name 'z' is not defined"
     ]
    }
   ],
   "source": [
    "\n",
    "def vartest(z):\n",
    "    z = z+100\n",
    "    print(z)\n",
    "    return\n",
    "\n",
    "vartest(3)\n",
    "print(z)"
   ]
  },
  {
   "cell_type": "code",
   "execution_count": null,
   "id": "ab4e901b-3298-40d7-9148-6ee002dcc7ed",
   "metadata": {},
   "outputs": [],
   "source": [
    "1.return 사용하기"
   ]
  },
  {
   "cell_type": "code",
   "execution_count": 147,
   "id": "23c3ca2a-e419-4589-b90a-c766bc361cfa",
   "metadata": {},
   "outputs": [
    {
     "name": "stdout",
     "output_type": "stream",
     "text": [
      "101\n",
      "101\n"
     ]
    }
   ],
   "source": [
    "z = 1\n",
    "def vartest(z):\n",
    "\n",
    "    z = z+100\n",
    "    print(z)\n",
    "    return z\n",
    "\n",
    "z = vartest(z)\n",
    "print(z)"
   ]
  },
  {
   "cell_type": "code",
   "execution_count": null,
   "id": "cd493670-f93f-4640-bb70-5c2b4cb9dbc8",
   "metadata": {},
   "outputs": [],
   "source": [
    "2. global 명령어 사용하기"
   ]
  },
  {
   "cell_type": "code",
   "execution_count": 141,
   "id": "52ad11ce-aa42-484f-9a26-c2ad2ddd64e2",
   "metadata": {},
   "outputs": [
    {
     "name": "stdout",
     "output_type": "stream",
     "text": [
      "101\n",
      "101\n"
     ]
    }
   ],
   "source": [
    "z = 1\n",
    "def vartest():\n",
    "    global z\n",
    "    z = z+100\n",
    "    print(z)\n",
    "    return\n",
    "\n",
    "vartest()\n",
    "print(z)"
   ]
  },
  {
   "cell_type": "markdown",
   "id": "bcb40776-8312-44bd-abd8-322c24640955",
   "metadata": {},
   "source": [
    "#### lambda 예약어\n",
    "\n",
    "- lambda는 함수를 생성할 때 사용하는 예약어\n",
    "- def와 동일한 역할을 한다.\n",
    "- 보통 함수를 한줄로 간결하게 만들때 사용한다.\n",
    "- def를 사용해야 할 정도로 복잡하지 않거나 def를 사용할 수 없는 곳에 주로 쓰인다.\n",
    "\n",
    "- 함수이름 = lambda 매개변수1, 매개변수2, .... : 매개변수를 이용한 표현식"
   ]
  },
  {
   "cell_type": "code",
   "execution_count": 127,
   "id": "4a695cbf-6b46-4ee4-bc9b-604c985dd677",
   "metadata": {},
   "outputs": [
    {
     "name": "stdout",
     "output_type": "stream",
     "text": [
      "7\n"
     ]
    }
   ],
   "source": [
    "add = lambda a, b: a+b\n",
    "result = add(3,4)\n",
    "print(result)"
   ]
  },
  {
   "cell_type": "code",
   "execution_count": 129,
   "id": "73917351-96ff-4831-bd4c-4a5a290c4317",
   "metadata": {},
   "outputs": [
    {
     "name": "stdout",
     "output_type": "stream",
     "text": [
      "7\n"
     ]
    }
   ],
   "source": [
    "def add(a, b):\n",
    "    return a+b\n",
    "\n",
    "result = add(3,4)\n",
    "print(result)"
   ]
  },
  {
   "cell_type": "code",
   "execution_count": null,
   "id": "1d59c630-c3c2-4e14-a9b8-baf0b2ca70e7",
   "metadata": {},
   "outputs": [],
   "source": []
  }
 ],
 "metadata": {
  "kernelspec": {
   "display_name": "Python 3 (ipykernel)",
   "language": "python",
   "name": "python3"
  },
  "language_info": {
   "codemirror_mode": {
    "name": "ipython",
    "version": 3
   },
   "file_extension": ".py",
   "mimetype": "text/x-python",
   "name": "python",
   "nbconvert_exporter": "python",
   "pygments_lexer": "ipython3",
   "version": "3.12.4"
  }
 },
 "nbformat": 4,
 "nbformat_minor": 5
}
