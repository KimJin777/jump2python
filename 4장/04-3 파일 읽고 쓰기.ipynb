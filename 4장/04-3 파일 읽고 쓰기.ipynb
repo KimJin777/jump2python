{
 "cells": [
  {
   "cell_type": "markdown",
   "id": "10e17439-d132-48e9-a86c-e6c5927ce59c",
   "metadata": {},
   "source": [
    "## 04-3 파일 읽고 쓰기"
   ]
  },
  {
   "cell_type": "code",
   "execution_count": 5,
   "id": "b7091a49-f727-4826-b684-ee8d94220a96",
   "metadata": {},
   "outputs": [],
   "source": [
    "f = open('새파일.txt', 'w')"
   ]
  },
  {
   "cell_type": "code",
   "execution_count": 7,
   "id": "ffb4c0dd-4f40-4a9d-9eac-33b5a59a7d5c",
   "metadata": {},
   "outputs": [],
   "source": [
    "f.close()"
   ]
  },
  {
   "cell_type": "markdown",
   "id": "a2793aea-c654-477e-8200-d8030988d183",
   "metadata": {},
   "source": [
    "#### 파일 객체 = open(파일이름, 파일열기, 열기모드)\n",
    "\n",
    "|파일열기모드\t| 설명\t|\n",
    "|:---:|---|\n",
    "|r| 읽기모드: 파일을 읽기만 할때 사용한다.|\n",
    "|w| 쓰기모드: 파일에 내용을 쓸때 사용한다.|\n",
    "|a| 추가모드: 파일의 마지막에 새로운 내용을 추가할 때 사용한다|\n"
   ]
  },
  {
   "cell_type": "markdown",
   "id": "f0e4a1ac-f173-411d-889c-74af2c8af04e",
   "metadata": {},
   "source": [
    "#### 파일을 쓰기 모드로 열어 내용쓰기"
   ]
  },
  {
   "cell_type": "code",
   "execution_count": 9,
   "id": "bb72bfa7-68a4-42ce-a499-aaff8f85a62b",
   "metadata": {},
   "outputs": [
    {
     "data": {
      "text/plain": [
       "'C:\\\\Users\\\\kjink\\\\내 드라이브\\\\Colab Notebooks\\\\점프투파이썬'"
      ]
     },
     "execution_count": 9,
     "metadata": {},
     "output_type": "execute_result"
    }
   ],
   "source": [
    "pwd"
   ]
  },
  {
   "cell_type": "code",
   "execution_count": 11,
   "id": "324ecd83-852b-41fe-aae9-6efcabc9a20e",
   "metadata": {},
   "outputs": [],
   "source": [
    "f = open('새파일.txt', 'w')\n",
    "for i in range(1, 21):\n",
    "    data ='%d번째 줄입니다. \\n' % i\n",
    "    f.write(data)\n",
    "\n",
    "f.close()"
   ]
  },
  {
   "cell_type": "code",
   "execution_count": 15,
   "id": "d4bc8133-3edc-4d8b-8e16-340b805cc339",
   "metadata": {},
   "outputs": [],
   "source": [
    "!python write_data.py"
   ]
  },
  {
   "cell_type": "markdown",
   "id": "88f54631-e72b-472c-9482-214bcbe2618c",
   "metadata": {},
   "source": [
    "#### 파일을 읽는 여러가지 방법"
   ]
  },
  {
   "cell_type": "code",
   "execution_count": 17,
   "id": "0eacf85d-5755-4a24-8563-edb527394479",
   "metadata": {},
   "outputs": [
    {
     "name": "stdout",
     "output_type": "stream",
     "text": [
      "1번째 줄입니다. \n",
      "\n"
     ]
    }
   ],
   "source": [
    "f = open('새파일.txt', 'r')\n",
    "line = f.readline()\n",
    "print(line)\n",
    "f.close()"
   ]
  },
  {
   "cell_type": "code",
   "execution_count": 19,
   "id": "020efc29-e4b2-48cb-bd89-c149ef300e93",
   "metadata": {},
   "outputs": [
    {
     "name": "stdout",
     "output_type": "stream",
     "text": [
      "1번째 줄입니다. \n",
      "\n",
      "2번째 줄입니다. \n",
      "\n",
      "3번째 줄입니다. \n",
      "\n",
      "4번째 줄입니다. \n",
      "\n",
      "5번째 줄입니다. \n",
      "\n",
      "6번째 줄입니다. \n",
      "\n",
      "7번째 줄입니다. \n",
      "\n",
      "8번째 줄입니다. \n",
      "\n",
      "9번째 줄입니다. \n",
      "\n",
      "10번째 줄입니다. \n",
      "\n",
      "11번째 줄입니다. \n",
      "\n",
      "12번째 줄입니다. \n",
      "\n",
      "13번째 줄입니다. \n",
      "\n",
      "14번째 줄입니다. \n",
      "\n",
      "15번째 줄입니다. \n",
      "\n",
      "16번째 줄입니다. \n",
      "\n",
      "17번째 줄입니다. \n",
      "\n",
      "18번째 줄입니다. \n",
      "\n",
      "19번째 줄입니다. \n",
      "\n",
      "20번째 줄입니다. \n",
      "\n"
     ]
    }
   ],
   "source": [
    "f = open('새파일.txt', 'r')\n",
    "while True:\n",
    "    line = f.readline()\n",
    "    if not line: break\n",
    "    print(line)\n",
    "f.close()"
   ]
  },
  {
   "cell_type": "code",
   "execution_count": 21,
   "id": "8475a67a-eb32-40b1-8174-89c1dacff73a",
   "metadata": {},
   "outputs": [
    {
     "name": "stdin",
     "output_type": "stream",
     "text": [
      " 333\n"
     ]
    },
    {
     "name": "stdout",
     "output_type": "stream",
     "text": [
      "333\n"
     ]
    },
    {
     "name": "stdin",
     "output_type": "stream",
     "text": [
      " 444\n"
     ]
    },
    {
     "name": "stdout",
     "output_type": "stream",
     "text": [
      "444\n"
     ]
    },
    {
     "name": "stdin",
     "output_type": "stream",
     "text": [
      " \n"
     ]
    }
   ],
   "source": [
    "while True:\n",
    "    data = input()\n",
    "    if not data: break\n",
    "    print(data)"
   ]
  },
  {
   "cell_type": "code",
   "execution_count": 23,
   "id": "50b78987-70fe-46a3-b69e-399ec0832240",
   "metadata": {},
   "outputs": [
    {
     "name": "stdout",
     "output_type": "stream",
     "text": [
      "1번째 줄입니다. \n",
      "\n",
      "2번째 줄입니다. \n",
      "\n",
      "3번째 줄입니다. \n",
      "\n",
      "4번째 줄입니다. \n",
      "\n",
      "5번째 줄입니다. \n",
      "\n",
      "6번째 줄입니다. \n",
      "\n",
      "7번째 줄입니다. \n",
      "\n",
      "8번째 줄입니다. \n",
      "\n",
      "9번째 줄입니다. \n",
      "\n",
      "10번째 줄입니다. \n",
      "\n",
      "11번째 줄입니다. \n",
      "\n",
      "12번째 줄입니다. \n",
      "\n",
      "13번째 줄입니다. \n",
      "\n",
      "14번째 줄입니다. \n",
      "\n",
      "15번째 줄입니다. \n",
      "\n",
      "16번째 줄입니다. \n",
      "\n",
      "17번째 줄입니다. \n",
      "\n",
      "18번째 줄입니다. \n",
      "\n",
      "19번째 줄입니다. \n",
      "\n",
      "20번째 줄입니다. \n",
      "\n"
     ]
    }
   ],
   "source": [
    "f = open('새파일.txt', 'r')\n",
    "lines = f.readlines()\n",
    "for line in lines:\n",
    "    print(line)\n",
    "\n",
    "f.close()"
   ]
  },
  {
   "cell_type": "code",
   "execution_count": 25,
   "id": "d824439b-52c7-4d33-94e6-a4a3c131b594",
   "metadata": {},
   "outputs": [
    {
     "name": "stdout",
     "output_type": "stream",
     "text": [
      "1번째 줄입니다.\n",
      "2번째 줄입니다.\n",
      "3번째 줄입니다.\n",
      "4번째 줄입니다.\n",
      "5번째 줄입니다.\n",
      "6번째 줄입니다.\n",
      "7번째 줄입니다.\n",
      "8번째 줄입니다.\n",
      "9번째 줄입니다.\n",
      "10번째 줄입니다.\n",
      "11번째 줄입니다.\n",
      "12번째 줄입니다.\n",
      "13번째 줄입니다.\n",
      "14번째 줄입니다.\n",
      "15번째 줄입니다.\n",
      "16번째 줄입니다.\n",
      "17번째 줄입니다.\n",
      "18번째 줄입니다.\n",
      "19번째 줄입니다.\n",
      "20번째 줄입니다.\n"
     ]
    }
   ],
   "source": [
    "f = open('새파일.txt', 'r')\n",
    "lines = f.readlines()\n",
    "for line in lines:\n",
    "    line = line.strip()\n",
    "    print(line)\n",
    "\n",
    "f.close()"
   ]
  },
  {
   "cell_type": "code",
   "execution_count": 27,
   "id": "d7c52982-5345-47f8-b27b-62e40837a9d0",
   "metadata": {},
   "outputs": [
    {
     "name": "stdout",
     "output_type": "stream",
     "text": [
      "1번째 줄입니다. \n",
      "2번째 줄입니다. \n",
      "3번째 줄입니다. \n",
      "4번째 줄입니다. \n",
      "5번째 줄입니다. \n",
      "6번째 줄입니다. \n",
      "7번째 줄입니다. \n",
      "8번째 줄입니다. \n",
      "9번째 줄입니다. \n",
      "10번째 줄입니다. \n",
      "11번째 줄입니다. \n",
      "12번째 줄입니다. \n",
      "13번째 줄입니다. \n",
      "14번째 줄입니다. \n",
      "15번째 줄입니다. \n",
      "16번째 줄입니다. \n",
      "17번째 줄입니다. \n",
      "18번째 줄입니다. \n",
      "19번째 줄입니다. \n",
      "20번째 줄입니다. \n",
      "\n"
     ]
    }
   ],
   "source": [
    "f = open('새파일.txt', 'r')\n",
    "lines = f.read()\n",
    "print(lines)\n",
    "\n",
    "f.close()"
   ]
  },
  {
   "cell_type": "code",
   "execution_count": 29,
   "id": "f4fe3caf-f062-4056-9bc7-2e9c643d43a4",
   "metadata": {},
   "outputs": [
    {
     "name": "stdout",
     "output_type": "stream",
     "text": [
      "1번째 줄입니다. \n",
      "\n",
      "2번째 줄입니다. \n",
      "\n",
      "3번째 줄입니다. \n",
      "\n",
      "4번째 줄입니다. \n",
      "\n",
      "5번째 줄입니다. \n",
      "\n",
      "6번째 줄입니다. \n",
      "\n",
      "7번째 줄입니다. \n",
      "\n",
      "8번째 줄입니다. \n",
      "\n",
      "9번째 줄입니다. \n",
      "\n",
      "10번째 줄입니다. \n",
      "\n",
      "11번째 줄입니다. \n",
      "\n",
      "12번째 줄입니다. \n",
      "\n",
      "13번째 줄입니다. \n",
      "\n",
      "14번째 줄입니다. \n",
      "\n",
      "15번째 줄입니다. \n",
      "\n",
      "16번째 줄입니다. \n",
      "\n",
      "17번째 줄입니다. \n",
      "\n",
      "18번째 줄입니다. \n",
      "\n",
      "19번째 줄입니다. \n",
      "\n",
      "20번째 줄입니다. \n",
      "\n"
     ]
    }
   ],
   "source": [
    "f = open('새파일.txt', 'r')\n",
    "for line in f:\n",
    "    print(line)\n",
    "\n",
    "f.close()"
   ]
  },
  {
   "cell_type": "markdown",
   "id": "45b33e70-2daf-4c49-8554-e99ce953050d",
   "metadata": {},
   "source": [
    "#### 파일에 새로운 내용 추가하기"
   ]
  },
  {
   "cell_type": "code",
   "execution_count": 31,
   "id": "09822f00-ee93-44ae-aed4-4681aa6b2a33",
   "metadata": {},
   "outputs": [],
   "source": [
    "f = open('새파일.txt', 'a')\n",
    "for i in range(21, 30):\n",
    "    data = '%d번째 줄입니다. \\n' % i\n",
    "    f.write(data)\n",
    "f.close()"
   ]
  },
  {
   "cell_type": "code",
   "execution_count": 33,
   "id": "e533e9a2-7037-4668-8707-5ce52227921b",
   "metadata": {},
   "outputs": [],
   "source": [
    "f = open('foo.txt', 'w')\n",
    "f.write('Life is toooo short, you need python')\n",
    "f.close()"
   ]
  },
  {
   "cell_type": "markdown",
   "id": "b6a8510c-7be2-4e80-8646-99397fb8837c",
   "metadata": {},
   "source": [
    "#### with문과 함께 사용하기"
   ]
  },
  {
   "cell_type": "code",
   "execution_count": 35,
   "id": "033baece-5ab9-44aa-87bc-7eec1142efe7",
   "metadata": {},
   "outputs": [],
   "source": [
    "with open('foo.txt', 'w') as f:\n",
    "    f.write('Life is toooo short, you need python  !!!!!')"
   ]
  },
  {
   "cell_type": "code",
   "execution_count": null,
   "id": "55a2514b-7f3f-4831-aa26-352f50c803c9",
   "metadata": {},
   "outputs": [],
   "source": []
  }
 ],
 "metadata": {
  "kernelspec": {
   "display_name": "Python 3 (ipykernel)",
   "language": "python",
   "name": "python3"
  },
  "language_info": {
   "codemirror_mode": {
    "name": "ipython",
    "version": 3
   },
   "file_extension": ".py",
   "mimetype": "text/x-python",
   "name": "python",
   "nbconvert_exporter": "python",
   "pygments_lexer": "ipython3",
   "version": "3.12.4"
  }
 },
 "nbformat": 4,
 "nbformat_minor": 5
}
