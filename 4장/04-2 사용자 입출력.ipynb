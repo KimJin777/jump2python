{
 "cells": [
  {
   "cell_type": "markdown",
   "id": "3c699e28-b617-42c0-985d-8e33e771db97",
   "metadata": {},
   "source": [
    "## 04-2 사용자 입출력"
   ]
  },
  {
   "cell_type": "markdown",
   "id": "875680ae-da94-45f3-bc98-a14720ab2607",
   "metadata": {},
   "source": [
    "#### 사용자 입력 활용하기"
   ]
  },
  {
   "cell_type": "code",
   "execution_count": 23,
   "id": "5f8f516a-c2f3-4b34-93c4-1465f426c559",
   "metadata": {},
   "outputs": [
    {
     "name": "stdin",
     "output_type": "stream",
     "text": [
      " Life is toooooooo short\n"
     ]
    },
    {
     "name": "stdout",
     "output_type": "stream",
     "text": [
      "input is      'Life is toooooooo short'\n"
     ]
    }
   ],
   "source": [
    "a = input()\n",
    "\n",
    "print('input is      \\'%s\\'' % a)"
   ]
  },
  {
   "cell_type": "markdown",
   "id": "4f2a0357-c49f-45f0-9c1b-29b85d558899",
   "metadata": {},
   "source": [
    "#### 안내문구 사용하기"
   ]
  },
  {
   "cell_type": "code",
   "execution_count": 25,
   "id": "9980c6e5-4b00-456b-8eb9-62b40447605a",
   "metadata": {},
   "outputs": [
    {
     "name": "stdin",
     "output_type": "stream",
     "text": [
      "숫자를 입력하세요 4\n"
     ]
    },
    {
     "name": "stdout",
     "output_type": "stream",
     "text": [
      "4\n"
     ]
    }
   ],
   "source": [
    "i = input('숫자를 입력하세요')\n",
    "\n",
    "print(i)"
   ]
  },
  {
   "cell_type": "code",
   "execution_count": 27,
   "id": "4ec3e503-7e94-4fcc-ab6d-07b74da5bf74",
   "metadata": {},
   "outputs": [
    {
     "data": {
      "text/plain": [
       "str"
      ]
     },
     "execution_count": 27,
     "metadata": {},
     "output_type": "execute_result"
    }
   ],
   "source": [
    "type(i)"
   ]
  },
  {
   "cell_type": "markdown",
   "id": "56b85989-27e8-4f57-b4e3-76aa072209a8",
   "metadata": {},
   "source": [
    "#### print 자세히 알기"
   ]
  },
  {
   "cell_type": "code",
   "execution_count": 29,
   "id": "55941b20-47c6-4459-b664-b4d8de3c6c85",
   "metadata": {},
   "outputs": [
    {
     "name": "stdout",
     "output_type": "stream",
     "text": [
      "123\n",
      "Python\n",
      "[1, 2, 3]\n"
     ]
    }
   ],
   "source": [
    "a = 123\n",
    "print(a)\n",
    "a = 'Python'\n",
    "print(a)\n",
    "a = [1,2,3]\n",
    "print(a)"
   ]
  },
  {
   "cell_type": "code",
   "execution_count": 33,
   "id": "d25a79af-ef6e-483a-9041-988840beeb12",
   "metadata": {},
   "outputs": [
    {
     "name": "stdout",
     "output_type": "stream",
     "text": [
      "Liefistoo short\n",
      "Liefistoo short\n",
      "Lief is too short\n"
     ]
    }
   ],
   "source": [
    "print('Lief''is''too short')\n",
    "print('Lief'+'is'+'too short')\n",
    "print('Lief','is','too short')"
   ]
  },
  {
   "cell_type": "code",
   "execution_count": 39,
   "id": "e681f83f-c1a4-49ac-93c5-d4a3ab6be603",
   "metadata": {},
   "outputs": [
    {
     "name": "stdout",
     "output_type": "stream",
     "text": [
      "0\n",
      "1\n",
      "2\n",
      "3\n",
      "4\n",
      "5\n",
      "6\n",
      "7\n",
      "8\n",
      "9\n"
     ]
    }
   ],
   "source": [
    "for i in range(10):\n",
    "    print(i)\n"
   ]
  },
  {
   "cell_type": "code",
   "execution_count": 41,
   "id": "6dce6546-aba0-416d-b7dc-7ed3b8789b67",
   "metadata": {},
   "outputs": [
    {
     "name": "stdout",
     "output_type": "stream",
     "text": [
      "0123456789"
     ]
    }
   ],
   "source": [
    "for i in range(10):\n",
    "    print(i, end ='')"
   ]
  },
  {
   "cell_type": "code",
   "execution_count": 43,
   "id": "7a317a81-6ff5-4bab-8584-9f71b44c79cc",
   "metadata": {},
   "outputs": [
    {
     "name": "stdout",
     "output_type": "stream",
     "text": [
      "0 1 2 3 4 5 6 7 8 9 "
     ]
    }
   ],
   "source": [
    "for i in range(10):\n",
    "    print(i, end =' ')"
   ]
  },
  {
   "cell_type": "code",
   "execution_count": 45,
   "id": "2ca0aaa3-72a7-4a95-930b-c2482904cce9",
   "metadata": {},
   "outputs": [
    {
     "name": "stdout",
     "output_type": "stream",
     "text": [
      "0\n",
      "1\n",
      "2\n",
      "3\n",
      "4\n",
      "5\n",
      "6\n",
      "7\n",
      "8\n",
      "9\n"
     ]
    }
   ],
   "source": [
    "for i in range(10):\n",
    "    print(i, end ='\\n') # default \\n"
   ]
  },
  {
   "cell_type": "code",
   "execution_count": null,
   "id": "f309d8af-e77b-4d4d-b4e0-e562550c20f7",
   "metadata": {},
   "outputs": [],
   "source": []
  }
 ],
 "metadata": {
  "kernelspec": {
   "display_name": "Python 3 (ipykernel)",
   "language": "python",
   "name": "python3"
  },
  "language_info": {
   "codemirror_mode": {
    "name": "ipython",
    "version": 3
   },
   "file_extension": ".py",
   "mimetype": "text/x-python",
   "name": "python",
   "nbconvert_exporter": "python",
   "pygments_lexer": "ipython3",
   "version": "3.12.4"
  }
 },
 "nbformat": 4,
 "nbformat_minor": 5
}
