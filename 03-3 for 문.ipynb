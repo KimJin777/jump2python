{
 "cells": [
  {
   "cell_type": "markdown",
   "id": "a7ce3815-20bb-4702-8526-19657ef7d8e3",
   "metadata": {},
   "source": [
    "## 03-3 for 문\n",
    "\n",
    "#### for문의 기본구조\n",
    "```python\n",
    "for 변수 in 리스트9또는 튜플, 문자열):\n",
    "    수행할 문장 1\n",
    "    수행할 문장 2\n",
    "    ...\n",
    "\n",
    "    "
   ]
  },
  {
   "cell_type": "markdown",
   "id": "1fdfe94d-1723-4580-8dbd-1e04fbfe294e",
   "metadata": {},
   "source": [
    "#### 예제를 통해 for 문 이해하기"
   ]
  },
  {
   "cell_type": "code",
   "execution_count": 4,
   "id": "6b49c79d-f3b2-4768-b95c-a7e0128e34fa",
   "metadata": {},
   "outputs": [
    {
     "name": "stdout",
     "output_type": "stream",
     "text": [
      "one\n",
      "two\n",
      "three\n"
     ]
    }
   ],
   "source": [
    "test_list = ['one', 'two', 'three']\n",
    "for i in test_list:\n",
    "    print(i)"
   ]
  },
  {
   "cell_type": "code",
   "execution_count": 6,
   "id": "8617133e-0e82-475c-abca-618288c8186e",
   "metadata": {},
   "outputs": [
    {
     "name": "stdout",
     "output_type": "stream",
     "text": [
      "3\n",
      "7\n",
      "11\n"
     ]
    }
   ],
   "source": [
    "a = [(1,2), (3,4), (5,6)]\n",
    "for (first, last) in a:\n",
    "    print(first+last)"
   ]
  },
  {
   "cell_type": "code",
   "execution_count": 8,
   "id": "8483cda5-cd7e-4fec-93db-15cfaa9ffec7",
   "metadata": {},
   "outputs": [
    {
     "name": "stdout",
     "output_type": "stream",
     "text": [
      "1 학생은 합격입니다\n",
      "2 학생은 불합격입니다\n",
      "3 학생은 합격입니다\n",
      "4 학생은 불합격입니다\n",
      "5 학생은 합격입니다\n"
     ]
    }
   ],
   "source": [
    "marks = [90, 25, 67,45, 80]\n",
    "\n",
    "number = 0\n",
    "for mark in marks:\n",
    "    number = number +1\n",
    "    if mark >= 60:\n",
    "        print('%d 학생은 합격입니다' %number)\n",
    "    else:\n",
    "        print('%d 학생은 불합격입니다' %number)"
   ]
  },
  {
   "cell_type": "code",
   "execution_count": 34,
   "id": "f2693bb1-3b12-412e-877f-c50329d6f7fa",
   "metadata": {},
   "outputs": [
    {
     "name": "stdout",
     "output_type": "stream",
     "text": [
      "1번 학생은 합격입니다\n",
      "2번 학생은 불합격입니다\n",
      "3번 학생은 합격입니다\n",
      "4번 학생은 불합격입니다\n",
      "5번 학생은 합격입니다\n"
     ]
    }
   ],
   "source": [
    "marks = [90, 25, 67,45, 80]\n",
    "\n",
    "for mark in marks:\n",
    "    \n",
    "    if mark >= 60:\n",
    "        number = marks.index(mark)+1\n",
    "        print('%d번 학생은 합격입니다' % number)\n",
    "                \n",
    "    else:\n",
    "        number = marks.index(mark)+1\n",
    "        print('%d번 학생은 불합격입니다' %number)"
   ]
  },
  {
   "cell_type": "code",
   "execution_count": 46,
   "id": "b2e16479-b57c-4d8d-bdab-f5d8d2313b9d",
   "metadata": {},
   "outputs": [
    {
     "name": "stdout",
     "output_type": "stream",
     "text": [
      "1번 학생은 합격입니다\n",
      "2번 학생은 불합격입니다\n",
      "3번 학생은 합격입니다\n",
      "4번 학생은 불합격입니다\n",
      "5번 학생은 합격입니다\n"
     ]
    }
   ],
   "source": [
    "marks = [90, 25, 67,45, 80]\n",
    "\n",
    "for mark in marks:\n",
    "    \n",
    "    if mark >= 60:        \n",
    "        print('%d번 학생은 합격입니다' % int(marks.index(mark)+1) )\n",
    "                \n",
    "    else:\n",
    "        print('%d번 학생은 불합격입니다' % int(marks.index(mark)+1))"
   ]
  },
  {
   "cell_type": "code",
   "execution_count": 40,
   "id": "059073e6-c3a3-4762-bb64-f8241222f758",
   "metadata": {},
   "outputs": [
    {
     "data": {
      "text/plain": [
       "int"
      ]
     },
     "execution_count": 40,
     "metadata": {},
     "output_type": "execute_result"
    }
   ],
   "source": [
    "type(marks.index(mark))"
   ]
  },
  {
   "cell_type": "markdown",
   "id": "22271055-f76a-4c21-9a71-2a77da7f97fe",
   "metadata": {},
   "source": [
    "#### for 문과 continue 문"
   ]
  },
  {
   "cell_type": "code",
   "execution_count": 49,
   "id": "b05ca6aa-27d9-487b-85e6-01b8b49ca9e4",
   "metadata": {},
   "outputs": [
    {
     "name": "stdout",
     "output_type": "stream",
     "text": [
      "1번 학생은 합격입니다\n",
      "3번 학생은 합격입니다\n",
      "5번 학생은 합격입니다\n"
     ]
    }
   ],
   "source": [
    "marks = [90, 25, 67,45, 80]\n",
    "\n",
    "number = 0\n",
    "for mark in marks:\n",
    "    number = number +1\n",
    "    if mark < 60: continue\n",
    "\n",
    "    print('%d번 학생은 합격입니다' %number)"
   ]
  },
  {
   "cell_type": "code",
   "execution_count": 53,
   "id": "d580b1a6-9a2a-4ada-8228-8b84b90b2dd6",
   "metadata": {},
   "outputs": [
    {
     "ename": "IndentationError",
     "evalue": "expected an indented block after 'if' statement on line 6 (4004699739.py, line 8)",
     "output_type": "error",
     "traceback": [
      "\u001b[1;36m  Cell \u001b[1;32mIn[53], line 8\u001b[1;36m\u001b[0m\n\u001b[1;33m    else:\u001b[0m\n\u001b[1;37m    ^\u001b[0m\n\u001b[1;31mIndentationError\u001b[0m\u001b[1;31m:\u001b[0m expected an indented block after 'if' statement on line 6\n"
     ]
    }
   ],
   "source": [
    "marks = [90, 25, 67,45, 80]\n",
    "\n",
    "number = 0\n",
    "for mark in marks:\n",
    "    number = number +1\n",
    "    if mark < 60: \n",
    "    \n",
    "    else:\n",
    "        print('%d번 학생은 합격입니다' %number)"
   ]
  },
  {
   "cell_type": "code",
   "execution_count": 55,
   "id": "dabc82af-36d9-4442-98ee-b77ec759d926",
   "metadata": {},
   "outputs": [
    {
     "name": "stdout",
     "output_type": "stream",
     "text": [
      "1번 학생은 합격입니다\n",
      "3번 학생은 합격입니다\n",
      "5번 학생은 합격입니다\n"
     ]
    }
   ],
   "source": [
    "marks = [90, 25, 67,45, 80]\n",
    "\n",
    "number = 0\n",
    "for mark in marks:\n",
    "    number = number +1\n",
    "    if mark < 60: \n",
    "        continue\n",
    "    else:\n",
    "        print('%d번 학생은 합격입니다' %number)"
   ]
  },
  {
   "cell_type": "markdown",
   "id": "ee1c170e-2cd2-4d95-8603-421753b31ef9",
   "metadata": {},
   "source": [
    "#### for 문과 함께 사용하는 range 함수\n",
    "'''\n",
    "- 메모리 효율성 range로 생성하는 숫자는 메모리에 저장하지 않고 필요할때 마다 숫자를 생성하는 방식을 사용하여 메모리를 절약 할 수 있다. 이것을 \"지연평가방식(lazy evaluation)\"이라고 한다.<br>\n",
    "\n",
    "- \r\n",
    "가변인자 range는 start, stop, step 세개의 매개변수(인자)를 받을 수 있는데 특별히 인자에 1개 또는 2개 또는 3개를 입력 할 수 있으며 입력 매개변수의 개수에 따라 출력 방식이 다르<br>\n",
    "\n",
    "- \r\n",
    "\r\n",
    "불변성 range 객체는 한번 생성되면 변경할 수 없는 불변성을 <br>\n",
    "\n",
    "- 다.\r\n",
    "\r\n",
    "슬라이싱 range 객체는 리스트처럼 슬라이스 할<br>\n",
    "\n",
    "-  있다.\r\n",
    "\r\n",
    "인덱싱 range 객체는 리스트 처럼 인덱싱<br>\n",
    "''' 할 수 있다."
   ]
  },
  {
   "cell_type": "code",
   "execution_count": 58,
   "id": "a127c4ee-4073-4ae5-b982-96c4cbda3ab3",
   "metadata": {},
   "outputs": [
    {
     "name": "stdout",
     "output_type": "stream",
     "text": [
      "range(0, 10)\n"
     ]
    }
   ],
   "source": [
    "a = range(10)\n",
    "print(a)"
   ]
  },
  {
   "cell_type": "code",
   "execution_count": 65,
   "id": "12538e27-8b6d-4528-b722-cee2012e05c1",
   "metadata": {},
   "outputs": [
    {
     "name": "stdout",
     "output_type": "stream",
     "text": [
      "range(0, 11)\n"
     ]
    }
   ],
   "source": [
    "a = range(11)\n",
    "print(a)"
   ]
  },
  {
   "cell_type": "code",
   "execution_count": 67,
   "id": "b953e368-5d03-435d-b10c-19a374bfd783",
   "metadata": {},
   "outputs": [
    {
     "name": "stdout",
     "output_type": "stream",
     "text": [
      "55\n"
     ]
    }
   ],
   "source": [
    "add = 0 \n",
    "for i in range(1,11):\n",
    "    add = add+i\n",
    "\n",
    "print(add)"
   ]
  },
  {
   "cell_type": "code",
   "execution_count": 73,
   "id": "be638ecc-bbf8-4558-99f6-9474147596f4",
   "metadata": {},
   "outputs": [
    {
     "name": "stdout",
     "output_type": "stream",
     "text": [
      "1번 학생은 합격입니다\n",
      "3번 학생은 합격입니다\n",
      "5번 학생은 합격입니다\n"
     ]
    }
   ],
   "source": [
    "marks = [90, 25, 67,45, 80]\n",
    "\n",
    "for number in range(len(marks)):\n",
    "    \n",
    "    if marks[number] < 60: \n",
    "        continue\n",
    "    else:\n",
    "        print('%d번 학생은 합격입니다' % (number+1))"
   ]
  },
  {
   "cell_type": "code",
   "execution_count": 85,
   "id": "adc60816-1003-4ab7-a3de-206108c5760a",
   "metadata": {},
   "outputs": [
    {
     "name": "stdout",
     "output_type": "stream",
     "text": [
      "2 4 6 8 10 12 14 16 18 \n",
      "3 6 9 12 15 18 21 24 27 \n",
      "4 8 12 16 20 24 28 32 36 \n",
      "5 10 15 20 25 30 35 40 45 \n",
      "6 12 18 24 30 36 42 48 54 \n",
      "7 14 21 28 35 42 49 56 63 \n",
      "8 16 24 32 40 48 56 64 72 \n",
      "9 18 27 36 45 54 63 72 81 \n"
     ]
    }
   ],
   "source": [
    "for i in range(2, 10):\n",
    "    for j in range(1, 10):\n",
    "        print(i*j, end=' ')\n",
    "    print('')"
   ]
  },
  {
   "cell_type": "code",
   "execution_count": 87,
   "id": "5db714ed-edca-4c9a-aa0c-b0f0bde3751e",
   "metadata": {},
   "outputs": [
    {
     "name": "stdout",
     "output_type": "stream",
     "text": [
      "2 단 : 2 4 6 8 10 12 14 16 18 \n",
      "3 단 : 3 6 9 12 15 18 21 24 27 \n",
      "4 단 : 4 8 12 16 20 24 28 32 36 \n",
      "5 단 : 5 10 15 20 25 30 35 40 45 \n",
      "6 단 : 6 12 18 24 30 36 42 48 54 \n",
      "7 단 : 7 14 21 28 35 42 49 56 63 \n",
      "8 단 : 8 16 24 32 40 48 56 64 72 \n",
      "9 단 : 9 18 27 36 45 54 63 72 81 \n"
     ]
    }
   ],
   "source": [
    "for i in range(2, 10):\n",
    "    print(i, \"단 : \", end='')\n",
    "    for j in range(1, 10):\n",
    "        print(i*j, end=' ')\n",
    "    print('')"
   ]
  },
  {
   "cell_type": "code",
   "execution_count": null,
   "id": "32c0ed04-313d-4e1e-8ea5-021397eaf527",
   "metadata": {},
   "outputs": [],
   "source": []
  },
  {
   "cell_type": "markdown",
   "id": "cc942039-b292-42fe-b03b-ae4ba6d78c24",
   "metadata": {},
   "source": [
    "#### 리스트 컴프리헨션 사용하기 list comprehension"
   ]
  },
  {
   "cell_type": "code",
   "execution_count": 90,
   "id": "3a6a5a83-5971-4a81-a36b-030cd761dd41",
   "metadata": {},
   "outputs": [
    {
     "name": "stdout",
     "output_type": "stream",
     "text": [
      "[3, 6, 9, 12]\n"
     ]
    }
   ],
   "source": [
    "a = [1,2,3,4]\n",
    "result = []\n",
    "for num in a:\n",
    "    result.append(num*3)\n",
    "\n",
    "print(result)"
   ]
  },
  {
   "cell_type": "code",
   "execution_count": 92,
   "id": "8005e055-7fea-4f42-8add-1a78898d4b62",
   "metadata": {},
   "outputs": [
    {
     "name": "stdout",
     "output_type": "stream",
     "text": [
      "[3, 6, 9, 12]\n"
     ]
    }
   ],
   "source": [
    "a = [1,2,3,4]\n",
    "result = [num*3 for num in a]\n",
    "print(result)"
   ]
  },
  {
   "cell_type": "markdown",
   "id": "22152eda-679c-4e1b-8743-6b2543124535",
   "metadata": {},
   "source": [
    "#### 리스트 컴프리헨션 문법\n",
    "\n",
    "[표현식 for 항목 in 반복가능객체 if 조건문]\n"
   ]
  },
  {
   "cell_type": "code",
   "execution_count": 94,
   "id": "2c22c40f-c03f-4899-8b92-dcb111306558",
   "metadata": {},
   "outputs": [
    {
     "name": "stdout",
     "output_type": "stream",
     "text": [
      "[6, 12]\n"
     ]
    }
   ],
   "source": [
    "a = [1,2,3,4]\n",
    "result = [num*3 for num in a if num%2 ==0]\n",
    "print(result)"
   ]
  },
  {
   "cell_type": "markdown",
   "id": "6e9fb3f8-20e6-4df1-9e03-33063f0afed0",
   "metadata": {},
   "source": [
    "[표현식 for 항목1 in 반복가능객체1 if 조건문1] <br>\n",
    "[      for 항목2 in 반복가능객체2 if 조건문2] <br>\n",
    "...  <br>\n",
    "[      for 항목n in 반복가능객체n if 조건문n] <br>"
   ]
  },
  {
   "cell_type": "code",
   "execution_count": 99,
   "id": "73192a28-94e5-4fe6-8cf7-734eaf13f4c1",
   "metadata": {},
   "outputs": [
    {
     "name": "stdout",
     "output_type": "stream",
     "text": [
      "[2, 4, 6, 8, 10, 12, 14, 16, 18, 3, 6, 9, 12, 15, 18, 21, 24, 27, 4, 8, 12, 16, 20, 24, 28, 32, 36, 5, 10, 15, 20, 25, 30, 35, 40, 45, 6, 12, 18, 24, 30, 36, 42, 48, 54, 7, 14, 21, 28, 35, 42, 49, 56, 63, 8, 16, 24, 32, 40, 48, 56, 64, 72, 9, 18, 27, 36, 45, 54, 63, 72, 81]\n"
     ]
    }
   ],
   "source": [
    "result = [x*y for x in range(2, 10)\n",
    "              for y in range(1, 10)]\n",
    "\n",
    "print(result)"
   ]
  },
  {
   "cell_type": "code",
   "execution_count": null,
   "id": "7a573154-bae9-42ae-9413-7830a9e2a5dc",
   "metadata": {},
   "outputs": [],
   "source": []
  },
  {
   "cell_type": "code",
   "execution_count": null,
   "id": "15a2c38a-1553-46f3-853a-d0842ac1716f",
   "metadata": {},
   "outputs": [],
   "source": []
  },
  {
   "cell_type": "code",
   "execution_count": null,
   "id": "e602b939-c3b1-4e54-a5f3-8168984691b3",
   "metadata": {},
   "outputs": [],
   "source": []
  },
  {
   "cell_type": "code",
   "execution_count": null,
   "id": "660d2b56-9403-4c7d-9137-66b47ede7bec",
   "metadata": {},
   "outputs": [],
   "source": []
  },
  {
   "cell_type": "code",
   "execution_count": null,
   "id": "c5eab5e5-6851-4dc1-8840-8e97a10a28fb",
   "metadata": {},
   "outputs": [],
   "source": []
  },
  {
   "cell_type": "code",
   "execution_count": null,
   "id": "28a0d9e5-2e4f-488b-8d9c-a19b8815796f",
   "metadata": {},
   "outputs": [],
   "source": []
  },
  {
   "cell_type": "code",
   "execution_count": null,
   "id": "28d68034-8447-461c-b396-75bb487097c8",
   "metadata": {},
   "outputs": [],
   "source": []
  }
 ],
 "metadata": {
  "kernelspec": {
   "display_name": "Python 3 (ipykernel)",
   "language": "python",
   "name": "python3"
  },
  "language_info": {
   "codemirror_mode": {
    "name": "ipython",
    "version": 3
   },
   "file_extension": ".py",
   "mimetype": "text/x-python",
   "name": "python",
   "nbconvert_exporter": "python",
   "pygments_lexer": "ipython3",
   "version": "3.12.4"
  }
 },
 "nbformat": 4,
 "nbformat_minor": 5
}
