{
 "cells": [
  {
   "cell_type": "code",
   "execution_count": 1,
   "id": "dd5945a9-5231-427f-8d46-1ea5b59dcb5e",
   "metadata": {},
   "outputs": [],
   "source": [
    "num: int =1"
   ]
  },
  {
   "cell_type": "code",
   "execution_count": 3,
   "id": "ec4b9631-4003-406f-874a-8b737164e347",
   "metadata": {},
   "outputs": [],
   "source": [
    "def add(a: int, b: int) -> int:\n",
    "    return a+b"
   ]
  },
  {
   "cell_type": "code",
   "execution_count": 5,
   "id": "2b7cf49b-c79f-4b76-86a2-7e8cb6384f90",
   "metadata": {},
   "outputs": [],
   "source": [
    "result = add(3,3.45)"
   ]
  },
  {
   "cell_type": "code",
   "execution_count": 7,
   "id": "d481fdbc-0314-478e-827e-5e69a2ac4765",
   "metadata": {},
   "outputs": [
    {
     "name": "stdout",
     "output_type": "stream",
     "text": [
      "6.45\n"
     ]
    }
   ],
   "source": [
    "print(result)"
   ]
  },
  {
   "cell_type": "code",
   "execution_count": null,
   "id": "bfcb295c-949c-4c47-b36e-b498b11b1a1d",
   "metadata": {},
   "outputs": [],
   "source": []
  }
 ],
 "metadata": {
  "kernelspec": {
   "display_name": "Python 3 (ipykernel)",
   "language": "python",
   "name": "python3"
  },
  "language_info": {
   "codemirror_mode": {
    "name": "ipython",
    "version": 3
   },
   "file_extension": ".py",
   "mimetype": "text/x-python",
   "name": "python",
   "nbconvert_exporter": "python",
   "pygments_lexer": "ipython3",
   "version": "3.12.4"
  }
 },
 "nbformat": 4,
 "nbformat_minor": 5
}
