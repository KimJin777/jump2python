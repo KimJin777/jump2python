{
 "cells": [
  {
   "cell_type": "markdown",
   "id": "ac7f16bb-11c8-42bf-87de-8635e69e291f",
   "metadata": {},
   "source": [
    "## 03-1 if 문\n",
    "- 조건을 판단하여 해당 조건에 맞는 상황을 수행하는 데 쓰인다."
   ]
  },
  {
   "cell_type": "markdown",
   "id": "9d28d33f-0bdd-488e-86c8-b909b1823ae9",
   "metadata": {},
   "source": [
    "#### if문은 왜 필요할까?"
   ]
  },
  {
   "cell_type": "code",
   "execution_count": 3,
   "id": "6d753b48-da89-4b89-821c-d8274f376527",
   "metadata": {},
   "outputs": [
    {
     "name": "stdout",
     "output_type": "stream",
     "text": [
      "택시를 타고 가라\n"
     ]
    }
   ],
   "source": [
    "money = True\n",
    "if money:\n",
    "    print('택시를 타고 가라')\n",
    "else:\n",
    "    print('걸어가라')"
   ]
  },
  {
   "attachments": {
    "8266cd1c-0514-45b7-b35b-7335a4880369.png": {
     "image/png": "[encoded data removed]"
    }
   },
   "cell_type": "markdown",
   "id": "ce8fd697-23a3-40bc-8976-a0873bf31f94",
   "metadata": {},
   "source": [
    "![image.png](attachment:8266cd1c-0514-45b7-b35b-7335a4880369.png)"
   ]
  },
  {
   "cell_type": "markdown",
   "id": "24b99e15-6b60-4058-a601-7629a818a7da",
   "metadata": {},
   "source": [
    "------------------------------------------------------------------------------------"
   ]
  },
  {
   "cell_type": "markdown",
   "id": "98c64ab5-e773-4249-8d2f-dd254d1ed60c",
   "metadata": {},
   "source": [
    "#### if 문의 기본구조\n",
    "```python\n",
    "if 조건문: \n",
    "    수행할 문장 1  \n",
    "    수행할 문장 2  \n",
    "else: \n",
    "    수행할 문장 A  \n",
    "    수행할 문장 B  \n",
    "\n",
    "```"
   ]
  },
  {
   "attachments": {
    "06b23009-43d9-4abc-936e-325edb26da0c.png": {
     "image/png": "[encoded data removed]"
    }
   },
   "cell_type": "markdown",
   "id": "676652f5-81b1-4ed4-99d8-053254b99402",
   "metadata": {},
   "source": [
    "![image.png](attachment:06b23009-43d9-4abc-936e-325edb26da0c.png)"
   ]
  },
  {
   "cell_type": "markdown",
   "id": "1738a644-7542-47f4-8b1f-d9333a00ef1e",
   "metadata": {},
   "source": [
    "#### 들여쓰기 방법 알아보기\n",
    "\n",
    "```python\n",
    "if 조건문:\n",
    "    수행할 문장1\n",
    "    수행할 문장2\n",
    "    수행할 문장3\n",
    "\n",
    "\n",
    "if 조건문:\n",
    "    수행할 문장1\n",
    "수행할 문장2\n",
    "    수행할 문장3\n"
   ]
  },
  {
   "cell_type": "code",
   "execution_count": 5,
   "id": "0e68be92-fb1e-4782-bee9-51cf4337c80a",
   "metadata": {},
   "outputs": [
    {
     "ename": "IndentationError",
     "evalue": "unexpected indent (1844545467.py, line 5)",
     "output_type": "error",
     "traceback": [
      "\u001b[1;36m  Cell \u001b[1;32mIn[5], line 5\u001b[1;36m\u001b[0m\n\u001b[1;33m    print('가라')\u001b[0m\n\u001b[1;37m    ^\u001b[0m\n\u001b[1;31mIndentationError\u001b[0m\u001b[1;31m:\u001b[0m unexpected indent\n"
     ]
    }
   ],
   "source": [
    "money = True\n",
    "if money:\n",
    "    print('택시를')\n",
    "print('타고')\n",
    "    print('가라')"
   ]
  },
  {
   "cell_type": "code",
   "execution_count": 7,
   "id": "eb87ca5d-a66e-4f7f-8ea7-455c8bba91ff",
   "metadata": {},
   "outputs": [
    {
     "ename": "IndentationError",
     "evalue": "unexpected indent (380793649.py, line 5)",
     "output_type": "error",
     "traceback": [
      "\u001b[1;36m  Cell \u001b[1;32mIn[7], line 5\u001b[1;36m\u001b[0m\n\u001b[1;33m    print('가라')\u001b[0m\n\u001b[1;37m    ^\u001b[0m\n\u001b[1;31mIndentationError\u001b[0m\u001b[1;31m:\u001b[0m unexpected indent\n"
     ]
    }
   ],
   "source": [
    "money = True\n",
    "if money:\n",
    "    print('택시를')\n",
    "    print('타고')\n",
    "        print('가라')"
   ]
  },
  {
   "cell_type": "code",
   "execution_count": 9,
   "id": "373dc30b-091d-41f7-bc7c-f7dd69b8e36f",
   "metadata": {},
   "outputs": [],
   "source": [
    "x = 3\n",
    "y = 2"
   ]
  },
  {
   "cell_type": "code",
   "execution_count": 11,
   "id": "a3b04fa5-61b2-44c5-9198-b8f81c71fc5d",
   "metadata": {},
   "outputs": [
    {
     "data": {
      "text/plain": [
       "True"
      ]
     },
     "execution_count": 11,
     "metadata": {},
     "output_type": "execute_result"
    }
   ],
   "source": [
    "x > y"
   ]
  },
  {
   "cell_type": "code",
   "execution_count": 13,
   "id": "488b8c9f-1ba3-4913-b736-84ef060273ae",
   "metadata": {},
   "outputs": [
    {
     "data": {
      "text/plain": [
       "False"
      ]
     },
     "execution_count": 13,
     "metadata": {},
     "output_type": "execute_result"
    }
   ],
   "source": [
    "x < y"
   ]
  },
  {
   "cell_type": "code",
   "execution_count": 15,
   "id": "905d1abd-0ef9-4a65-a528-d42fb37397a7",
   "metadata": {},
   "outputs": [
    {
     "data": {
      "text/plain": [
       "False"
      ]
     },
     "execution_count": 15,
     "metadata": {},
     "output_type": "execute_result"
    }
   ],
   "source": [
    "x == y"
   ]
  },
  {
   "cell_type": "code",
   "execution_count": 17,
   "id": "f92ab53b-d638-4830-9480-706350034648",
   "metadata": {},
   "outputs": [],
   "source": [
    "x = y"
   ]
  },
  {
   "cell_type": "code",
   "execution_count": 21,
   "id": "d81cafcf-4193-4250-835e-46c2a7193b2b",
   "metadata": {},
   "outputs": [
    {
     "name": "stdout",
     "output_type": "stream",
     "text": [
      "x = 2 , y = 2\n"
     ]
    }
   ],
   "source": [
    "print('x = %s , y = %s' % (x, y))"
   ]
  },
  {
   "cell_type": "code",
   "execution_count": 23,
   "id": "3ff35611-a3e8-43b2-936f-25e560a3dd70",
   "metadata": {},
   "outputs": [
    {
     "name": "stdout",
     "output_type": "stream",
     "text": [
      "걸어가라\n"
     ]
    }
   ],
   "source": [
    "money = 2000\n",
    "if money >= 3000:\n",
    "    print('택시를 타고 가라')\n",
    "else:\n",
    "    print('걸어가라')"
   ]
  },
  {
   "cell_type": "code",
   "execution_count": 25,
   "id": "3cd6a2cd-7264-4d5a-8e40-52bbc714284f",
   "metadata": {},
   "outputs": [
    {
     "name": "stdout",
     "output_type": "stream",
     "text": [
      "택시를 타고 가라\n"
     ]
    }
   ],
   "source": [
    "money = 2000\n",
    "card = True\n",
    "if money >= 3000 or card:\n",
    "    print('택시를 타고 가라')\n",
    "else:\n",
    "    print('걸어가라')"
   ]
  },
  {
   "cell_type": "markdown",
   "id": "bcddd34b-c4a7-41c1-bc04-96382b22a714",
   "metadata": {},
   "source": [
    "#### in, not in"
   ]
  },
  {
   "cell_type": "code",
   "execution_count": 27,
   "id": "000ca445-466b-4209-8096-5e9e05732779",
   "metadata": {},
   "outputs": [
    {
     "data": {
      "text/plain": [
       "True"
      ]
     },
     "execution_count": 27,
     "metadata": {},
     "output_type": "execute_result"
    }
   ],
   "source": [
    "1 in [1,2,3]"
   ]
  },
  {
   "cell_type": "code",
   "execution_count": 29,
   "id": "9176fe02-6c5b-4673-8e28-52bb4e0ba489",
   "metadata": {},
   "outputs": [
    {
     "data": {
      "text/plain": [
       "False"
      ]
     },
     "execution_count": 29,
     "metadata": {},
     "output_type": "execute_result"
    }
   ],
   "source": [
    "1 not in [1,2,3]"
   ]
  },
  {
   "cell_type": "code",
   "execution_count": 31,
   "id": "fad09b03-560b-4d40-81cb-8bdb1aa4131e",
   "metadata": {},
   "outputs": [
    {
     "data": {
      "text/plain": [
       "True"
      ]
     },
     "execution_count": 31,
     "metadata": {},
     "output_type": "execute_result"
    }
   ],
   "source": [
    "'a' in ('a', 'b', 'c')"
   ]
  },
  {
   "cell_type": "code",
   "execution_count": 33,
   "id": "00cc1ebc-b05a-46ed-b8b9-1c436885dee7",
   "metadata": {},
   "outputs": [
    {
     "data": {
      "text/plain": [
       "True"
      ]
     },
     "execution_count": 33,
     "metadata": {},
     "output_type": "execute_result"
    }
   ],
   "source": [
    "'j' not in 'python'"
   ]
  },
  {
   "cell_type": "code",
   "execution_count": 35,
   "id": "be0a1bd8-7bb0-4e59-aff8-0362a87d5734",
   "metadata": {},
   "outputs": [
    {
     "name": "stdout",
     "output_type": "stream",
     "text": [
      "택시를 타고가라\n"
     ]
    }
   ],
   "source": [
    "pocket = ['paper', 'cellphone', 'money']\n",
    "if 'money' in pocket:\n",
    "    print('택시를 타고가라')\n",
    "else:\n",
    "    print('걸어가라')\n",
    "    "
   ]
  },
  {
   "cell_type": "code",
   "execution_count": 37,
   "id": "5ae30a6a-268b-45aa-9104-db12322581b1",
   "metadata": {},
   "outputs": [],
   "source": [
    "pocket = ['paper', 'cellphone', 'money']\n",
    "if 'money' in pocket:\n",
    "    pass\n",
    "else:\n",
    "    print('걸어가라')"
   ]
  },
  {
   "cell_type": "code",
   "execution_count": 39,
   "id": "833234a6-13d5-41d4-8e0e-7075b6fc0c1c",
   "metadata": {
    "scrolled": true
   },
   "outputs": [
    {
     "ename": "IndentationError",
     "evalue": "expected an indented block after 'if' statement on line 2 (3707472530.py, line 4)",
     "output_type": "error",
     "traceback": [
      "\u001b[1;36m  Cell \u001b[1;32mIn[39], line 4\u001b[1;36m\u001b[0m\n\u001b[1;33m    else:\u001b[0m\n\u001b[1;37m    ^\u001b[0m\n\u001b[1;31mIndentationError\u001b[0m\u001b[1;31m:\u001b[0m expected an indented block after 'if' statement on line 2\n"
     ]
    }
   ],
   "source": [
    "pocket = ['paper', 'cellphone', 'money']\n",
    "if 'money' in pocket:\n",
    "    # pass\n",
    "else:\n",
    "    print('걸어가라')"
   ]
  },
  {
   "cell_type": "markdown",
   "id": "fe41f035-74ec-4cf5-888e-6971f10c5ff7",
   "metadata": {},
   "source": [
    "#### 다양한 조건을 판단하는 elif\n",
    "\n",
    "```python\n",
    "if 조건문:\n",
    "    수행할 문장1\n",
    "    수행할 문장2\n",
    "elif 조건문:\n",
    "    수행할 문장1\n",
    "    수행할 문장2\n",
    "elif\n",
    "    수행할 문장1\n",
    "    수행할 문장2\n",
    "    .\n",
    "    .\n",
    "    .\n",
    "(...생략...)        \n",
    "else:\n",
    "    수행할 문장1\n",
    "    수행할 문장2\n"
   ]
  },
  {
   "attachments": {
    "23f65532-815a-429a-994f-28d98de7bff8.png": {
     "image/png": "[encoded data removed]"
    }
   },
   "cell_type": "markdown",
   "id": "5181592f-3c62-43c1-b290-f572ccebfd69",
   "metadata": {},
   "source": [
    "![image.png](attachment:23f65532-815a-429a-994f-28d98de7bff8.png)"
   ]
  },
  {
   "cell_type": "code",
   "execution_count": 41,
   "id": "b32ddb54-6b67-487b-86f7-4a97368ed4a0",
   "metadata": {},
   "outputs": [
    {
     "name": "stdout",
     "output_type": "stream",
     "text": [
      "택시를 타고가라\n"
     ]
    }
   ],
   "source": [
    "pocket = ['paper', 'cellphone', 'money']\n",
    "card = True\n",
    "\n",
    "if 'money' in pocket:\n",
    "    print('택시를 타고가라')\n",
    "else:\n",
    "    if card:\n",
    "        print('택시를 타고가라')\n",
    "    else:\n",
    "        print('걸어가라')"
   ]
  },
  {
   "cell_type": "code",
   "execution_count": 43,
   "id": "9df0e53d-7090-4e48-9a23-587175d027a5",
   "metadata": {},
   "outputs": [
    {
     "name": "stdout",
     "output_type": "stream",
     "text": [
      "택시를 타고가라\n"
     ]
    }
   ],
   "source": [
    "pocket = ['paper', 'cellphone', 'money']\n",
    "card = True\n",
    "\n",
    "if 'money' in pocket:\n",
    "    print('택시를 타고가라')\n",
    "elif card:\n",
    "    print('택시를 타고가라')\n",
    "else:\n",
    "    print('걸어가라')"
   ]
  },
  {
   "cell_type": "code",
   "execution_count": 47,
   "id": "3c0aad3a-8ed1-4d03-bd5a-e51f6b05061f",
   "metadata": {},
   "outputs": [
    {
     "name": "stdout",
     "output_type": "stream",
     "text": [
      "택시를 타고가라\n"
     ]
    }
   ],
   "source": [
    "pocket = ['paper', 'cellphone', 'money']\n",
    "if 'money' in pocket:  print('택시를 타고가라')\n",
    "else:     print('걸어가라')"
   ]
  },
  {
   "cell_type": "code",
   "execution_count": 59,
   "id": "f81386ac-e65e-4e27-b222-54a1baec9298",
   "metadata": {},
   "outputs": [
    {
     "name": "stdout",
     "output_type": "stream",
     "text": [
      "택시를 타고가라\n"
     ]
    }
   ],
   "source": [
    "pocket = ['paper', 'cellphone', 'money']\n",
    "print('택시를 타고가라') if 'money' in pocket else  print('걸어가라')"
   ]
  },
  {
   "cell_type": "code",
   "execution_count": 63,
   "id": "27fc2a84-c438-4155-abf5-cb7edfc2495c",
   "metadata": {},
   "outputs": [],
   "source": [
    "message = ('택시를 타고가라') if 'money' in pocket else  ('걸어가라')"
   ]
  },
  {
   "cell_type": "code",
   "execution_count": 65,
   "id": "9d40b5d5-77bf-46a6-a0a5-2284107f4fff",
   "metadata": {},
   "outputs": [
    {
     "name": "stdout",
     "output_type": "stream",
     "text": [
      "택시를 타고가라\n"
     ]
    }
   ],
   "source": [
    "print(message)"
   ]
  },
  {
   "cell_type": "markdown",
   "id": "931b94d8-c790-460c-ad8b-27b9486295a5",
   "metadata": {},
   "source": [
    "#### 조건부 표현식 conditional expression"
   ]
  },
  {
   "cell_type": "code",
   "execution_count": 27,
   "id": "c1c6cd41-5acf-4e63-9db9-94870dd7776a",
   "metadata": {},
   "outputs": [
    {
     "name": "stdout",
     "output_type": "stream",
     "text": [
      "success\n"
     ]
    }
   ],
   "source": [
    "score = 90\n",
    "if score >= 60:\n",
    "    message = 'success'\n",
    "else:\n",
    "    message = 'failure'\n",
    "\n",
    "print(message)"
   ]
  },
  {
   "cell_type": "code",
   "execution_count": 43,
   "id": "c1f9af9c-fdfc-49ac-941d-9648b256df70",
   "metadata": {},
   "outputs": [
    {
     "name": "stdout",
     "output_type": "stream",
     "text": [
      "success\n"
     ]
    }
   ],
   "source": [
    "score =90\n",
    "message = \"success\" if score >= 60 else \"failure\"\n",
    "\n",
    "print(message)"
   ]
  },
  {
   "cell_type": "code",
   "execution_count": null,
   "id": "a716aa13-bfba-4d23-a18e-6caff221b846",
   "metadata": {},
   "outputs": [],
   "source": []
  },
  {
   "cell_type": "code",
   "execution_count": null,
   "id": "9f9e23c6-8822-4dc4-bc32-7f2450d6e8a3",
   "metadata": {},
   "outputs": [],
   "source": []
  },
  {
   "cell_type": "code",
   "execution_count": null,
   "id": "0b6961da-0e68-4cf4-9f1b-4170cac22943",
   "metadata": {},
   "outputs": [],
   "source": []
  },
  {
   "cell_type": "code",
   "execution_count": null,
   "id": "e518cd7b-d86b-4c76-bd59-369a923e06e2",
   "metadata": {},
   "outputs": [],
   "source": []
  }
 ],
 "metadata": {
  "kernelspec": {
   "display_name": "Python 3 (ipykernel)",
   "language": "python",
   "name": "python3"
  },
  "language_info": {
   "codemirror_mode": {
    "name": "ipython",
    "version": 3
   },
   "file_extension": ".py",
   "mimetype": "text/x-python",
   "name": "python",
   "nbconvert_exporter": "python",
   "pygments_lexer": "ipython3",
   "version": "3.12.4"
  }
 },
 "nbformat": 4,
 "nbformat_minor": 5
}
