{
 "cells": [
  {
   "cell_type": "markdown",
   "id": "0101f7e2-ee56-4bd7-a750-1559646c2089",
   "metadata": {},
   "source": [
    "02-2 문자열 자료형"
   ]
  },
  {
   "cell_type": "markdown",
   "id": "a84594e1-24ba-45ce-ab52-9201a8ee305a",
   "metadata": {},
   "source": [
    "큰따옴표, 작은 따옴표로 양쪽 둘러싸기\n",
    "\n",
    "\"Hello World\"\n",
    "\n",
    "'Hello World'"
   ]
  },
  {
   "cell_type": "code",
   "execution_count": null,
   "id": "34879a80-e127-4049-b28d-d319a97d3937",
   "metadata": {},
   "outputs": [],
   "source": [
    "따옴표 3개 연속으로 써서 양쪽 둘러싸기\n",
    "\n",
    "\"\"\"Life is to short, Your need python\"\"\"\n",
    "'''Life is to short, Your need python'''"
   ]
  },
  {
   "cell_type": "code",
   "execution_count": 6,
   "id": "c751d6dc-8787-4f42-a2f9-77d1d88ef792",
   "metadata": {},
   "outputs": [
    {
     "ename": "SyntaxError",
     "evalue": "unterminated string literal (detected at line 1) (2947316285.py, line 1)",
     "output_type": "error",
     "traceback": [
      "\u001b[1;36m  Cell \u001b[1;32mIn[6], line 1\u001b[1;36m\u001b[0m\n\u001b[1;33m    food = 'python's favorite food is perl'\u001b[0m\n\u001b[1;37m                                          ^\u001b[0m\n\u001b[1;31mSyntaxError\u001b[0m\u001b[1;31m:\u001b[0m unterminated string literal (detected at line 1)\n"
     ]
    }
   ],
   "source": [
    "food = 'python's favorite food is perl'"
   ]
  },
  {
   "cell_type": "code",
   "execution_count": 8,
   "id": "c61eb7ef-06d6-4aa2-b817-2372c0e8530e",
   "metadata": {},
   "outputs": [
    {
     "name": "stdout",
     "output_type": "stream",
     "text": [
      "python's favorite food is perl\n"
     ]
    }
   ],
   "source": [
    "food = \"python's favorite food is perl\"\n",
    "print(food)"
   ]
  },
  {
   "cell_type": "code",
   "execution_count": 12,
   "id": "350db6ae-7f3b-4775-8462-096b25fac85b",
   "metadata": {},
   "outputs": [
    {
     "name": "stdout",
     "output_type": "stream",
     "text": [
      "\"Python is very easy.\" he says\n"
     ]
    }
   ],
   "source": [
    "say = '\"Python is very easy.\" he says'\n",
    "print(say)"
   ]
  },
  {
   "cell_type": "code",
   "execution_count": 18,
   "id": "15f7325e-620e-4159-9b10-8e23dd23fcca",
   "metadata": {},
   "outputs": [
    {
     "name": "stdout",
     "output_type": "stream",
     "text": [
      "python's favorite food is perl\n",
      "\"Python is very easy.\" he says.\n"
     ]
    }
   ],
   "source": [
    "food = 'python\\'s favorite food is perl'\n",
    "say = \"\\\"Python is very easy.\\\" he says.\"\n",
    "print(food)\n",
    "print(say)"
   ]
  },
  {
   "cell_type": "markdown",
   "id": "432b008a-bdfd-4228-a8d1-b5ba68721e5d",
   "metadata": {},
   "source": [
    "여러 줄인 문자열을 변수에 대입하고 싶을 때\n",
    "\n",
    "Life is to short\n",
    "\n",
    "Your need python"
   ]
  },
  {
   "cell_type": "code",
   "execution_count": 24,
   "id": "e5ff5075-af30-4f6b-8863-80316216af1e",
   "metadata": {},
   "outputs": [
    {
     "name": "stdout",
     "output_type": "stream",
     "text": [
      "Life is to short.\n",
      "You need python.\n"
     ]
    }
   ],
   "source": [
    "multiline = 'Life is to short.\\nYou need python.'\n",
    "print(multiline)"
   ]
  },
  {
   "cell_type": "code",
   "execution_count": 26,
   "id": "8abf80d4-a0cc-42fb-9b34-4b226ef589b1",
   "metadata": {},
   "outputs": [
    {
     "name": "stdout",
     "output_type": "stream",
     "text": [
      "\n",
      "Life is to short.\n",
      "You need python.\n",
      "\n"
     ]
    }
   ],
   "source": [
    "multiline = '''\n",
    "Life is to short.\n",
    "You need python.\n",
    "'''\n",
    "print(multiline)"
   ]
  },
  {
   "cell_type": "code",
   "execution_count": 28,
   "id": "2fa6930c-db5f-40e2-897f-3d50d2abdd7e",
   "metadata": {},
   "outputs": [
    {
     "name": "stdout",
     "output_type": "stream",
     "text": [
      "\n",
      "Life is to short.\n",
      "You need python.\n",
      "\n"
     ]
    }
   ],
   "source": [
    "multiline = \"\"\"\n",
    "Life is to short.\n",
    "You need python.\n",
    "\"\"\"\n",
    "print(multiline)"
   ]
  },
  {
   "cell_type": "markdown",
   "id": "f05468d9-bb22-4c98-bdb9-0ceb517d363e",
   "metadata": {},
   "source": [
    "이스케이프 코드 ( escape code)\n",
    "\n",
    "- 이스케이프 코드란 프로그래밍할 때 사용할 수 있도록 미리 정의해 둔 '문자 조합'을 말한다.\n",
    "- 문자열 예제에서 여러 줄을 문장을 처리할 때 역슬래시 문자와 소문자 n을 종합한 \\n 이스케이프 코드를 사용했다.\n",
    "- 주로 출력물을 보기 좋게 정렬하는 용도로 사용한다."
   ]
  },
  {
   "cell_type": "markdown",
   "id": "2df99b79-f0b6-4b4a-bf40-eb4985cdcd7a",
   "metadata": {},
   "source": [
    "- \\n : 문자열 안에서 줄을 바꿀 때 사용\n",
    "- \\t : 문자열 사이에 탭 간격을 줄 때 사용\n",
    "- \\\\ : \\를 그대로 표현할 때 사용\n",
    "- \\' : 작은 따옴표(')을 그대로 표현할 때 사용\n",
    "- \\\" : 큰 따옴표(\")를 그대로 표현할 때 사용\n",
    "- \\r :캐리지 리터(줄 바꿈 문자, 거서를 현재 줄의 가장 앞으로 이동)\n",
    "- \\f : 폼 피드(줄 바꿈 문자, 커서를 현재 줄의 다음 줄로 이동)\n",
    "- \\a : 벨 소리(출력할 때 PC스피커에서 '삑' 소리가 난다.)\n",
    "- \\b : 백 스페이스\n",
    "- \\000 : 널null 문자"
   ]
  },
  {
   "cell_type": "code",
   "execution_count": null,
   "id": "4ca1b80e-417c-4ffb-97f5-8d394e85900c",
   "metadata": {},
   "outputs": [],
   "source": []
  },
  {
   "cell_type": "code",
   "execution_count": null,
   "id": "9bb2f9af-7a29-43d9-9c17-17284234d475",
   "metadata": {},
   "outputs": [],
   "source": []
  },
  {
   "cell_type": "markdown",
   "id": "4ba81113-6853-4d4e-b9ba-b4e38bce2e71",
   "metadata": {},
   "source": [
    "문자열 연산하기\n",
    "\n",
    "- 파이썬에서는 문자열을 더하거나 곱할 수 있다. \n",
    "- 다른 언어에서는 쉽게 찾아 볼 수 없는 기능"
   ]
  },
  {
   "cell_type": "code",
   "execution_count": 30,
   "id": "67c03e57-a530-4a38-8570-39fed5d770ea",
   "metadata": {},
   "outputs": [
    {
     "data": {
      "text/plain": [
       "'Python is fun!! '"
      ]
     },
     "execution_count": 30,
     "metadata": {},
     "output_type": "execute_result"
    }
   ],
   "source": [
    "head = 'Python'\n",
    "tail = ' is fun!! '\n",
    "head + tail"
   ]
  },
  {
   "cell_type": "code",
   "execution_count": 32,
   "id": "1218b2fc-f64b-4612-8c38-46f5534729db",
   "metadata": {},
   "outputs": [
    {
     "name": "stdout",
     "output_type": "stream",
     "text": [
      "Python is fun!! \n"
     ]
    }
   ],
   "source": [
    "print(head+tail)"
   ]
  },
  {
   "cell_type": "code",
   "execution_count": 34,
   "id": "9e5d9b16-807c-4ce1-aeda-e53171bbcf5b",
   "metadata": {},
   "outputs": [
    {
     "data": {
      "text/plain": [
       "'PythonPython'"
      ]
     },
     "execution_count": 34,
     "metadata": {},
     "output_type": "execute_result"
    }
   ],
   "source": [
    "head * 2"
   ]
  },
  {
   "cell_type": "code",
   "execution_count": 36,
   "id": "02cbfb58-0d29-40a7-aad4-8ea2022298bc",
   "metadata": {},
   "outputs": [
    {
     "name": "stdout",
     "output_type": "stream",
     "text": [
      "==================================================\n",
      "My Program\n",
      "==================================================\n"
     ]
    }
   ],
   "source": [
    "print(\"=\"*50)\n",
    "print('My Program')\n",
    "print(\"=\"*50)\n"
   ]
  },
  {
   "cell_type": "code",
   "execution_count": 30,
   "id": "975fa5c8-9f8f-45db-99f4-0cbc35b37510",
   "metadata": {},
   "outputs": [
    {
     "data": {
      "text/plain": [
       "17"
      ]
     },
     "execution_count": 30,
     "metadata": {},
     "output_type": "execute_result"
    }
   ],
   "source": [
    "a = \"Life is too short\"\n",
    "len(a)"
   ]
  },
  {
   "cell_type": "code",
   "execution_count": 32,
   "id": "c1d85d97-421b-4f5f-afb7-0f84ff44bdf5",
   "metadata": {},
   "outputs": [
    {
     "data": {
      "text/plain": [
       "'e'"
      ]
     },
     "execution_count": 32,
     "metadata": {},
     "output_type": "execute_result"
    }
   ],
   "source": [
    "a[3]"
   ]
  },
  {
   "cell_type": "code",
   "execution_count": 34,
   "id": "852b12b4-65b4-4ee6-b3e0-719d31ef61d9",
   "metadata": {},
   "outputs": [
    {
     "name": "stdout",
     "output_type": "stream",
     "text": [
      "L\n",
      "i\n",
      "f\n",
      "e\n",
      " \n",
      "i\n",
      "s\n",
      " \n",
      "t\n",
      "o\n",
      "o\n",
      " \n",
      "s\n",
      "h\n",
      "o\n",
      "r\n",
      "t\n"
     ]
    }
   ],
   "source": [
    "for i in a:\n",
    "    print(i)"
   ]
  },
  {
   "cell_type": "code",
   "execution_count": 46,
   "id": "c22de4cc-0ae5-4a20-b10f-6397b419454f",
   "metadata": {},
   "outputs": [
    {
     "name": "stdout",
     "output_type": "stream",
     "text": [
      "0 L\n",
      "1 i\n",
      "2 f\n",
      "3 e\n",
      "4  \n",
      "5 i\n",
      "6 s\n",
      "7  \n",
      "8 t\n",
      "9 o\n",
      "10 o\n",
      "11  \n",
      "12 s\n",
      "13 h\n",
      "14 o\n",
      "15 r\n",
      "16 t\n"
     ]
    }
   ],
   "source": [
    "for i in range(len(a)):\n",
    "    print(i, a[i])\n",
    "\n",
    "    "
   ]
  },
  {
   "cell_type": "code",
   "execution_count": 38,
   "id": "17beb8f5-a5ef-44ce-87f9-2707f3827ce1",
   "metadata": {},
   "outputs": [
    {
     "name": "stdout",
     "output_type": "stream",
     "text": [
      "0 L\n",
      "1 t\n",
      "2 r\n",
      "3 o\n",
      "4 h\n",
      "5 s\n",
      "6  \n",
      "7 o\n",
      "8 o\n",
      "9 t\n",
      "10  \n",
      "11 s\n",
      "12 i\n",
      "13  \n",
      "14 e\n",
      "15 f\n",
      "16 i\n"
     ]
    }
   ],
   "source": [
    "for i in range(len(a)):\n",
    "    print(i , a[-i])"
   ]
  },
  {
   "cell_type": "code",
   "execution_count": 64,
   "id": "b99757ad-a517-45c6-b3f9-d04f1414d112",
   "metadata": {},
   "outputs": [
    {
     "name": "stdout",
     "output_type": "stream",
     "text": [
      "Life\n"
     ]
    }
   ],
   "source": [
    "a = \"Life is too short, You need Python\"\n",
    "b = a[0] + a[1] + a[2] + a[3]\n",
    "print(b)"
   ]
  },
  {
   "cell_type": "code",
   "execution_count": 66,
   "id": "ffdeb7b6-f40b-4fe7-8757-4688acdf1cb2",
   "metadata": {},
   "outputs": [
    {
     "name": "stdout",
     "output_type": "stream",
     "text": [
      "Life\n"
     ]
    }
   ],
   "source": [
    "b = a[0:4]\n",
    "print(b)"
   ]
  },
  {
   "cell_type": "code",
   "execution_count": 68,
   "id": "01ed52a7-8871-411a-b382-03bbb48cb2bf",
   "metadata": {},
   "outputs": [
    {
     "name": "stdout",
     "output_type": "stream",
     "text": [
      "Life\n"
     ]
    }
   ],
   "source": [
    "b = a[:4]\n",
    "print(b)"
   ]
  },
  {
   "cell_type": "code",
   "execution_count": 70,
   "id": "95f9bdf9-093b-4517-af3f-ce8e04fff0d5",
   "metadata": {},
   "outputs": [
    {
     "name": "stdout",
     "output_type": "stream",
     "text": [
      "is\n"
     ]
    }
   ],
   "source": [
    "b = a[5:7]\n",
    "print(b)"
   ]
  },
  {
   "cell_type": "code",
   "execution_count": 73,
   "id": "0cde77dc-a759-4815-a574-77e35a6e4c52",
   "metadata": {},
   "outputs": [
    {
     "name": "stdout",
     "output_type": "stream",
     "text": [
      "You need Python\n"
     ]
    }
   ],
   "source": [
    "b = a[19:]\n",
    "print(b)"
   ]
  },
  {
   "cell_type": "code",
   "execution_count": 75,
   "id": "6e8acd46-2227-44c9-ba24-0e9e6e6129e3",
   "metadata": {},
   "outputs": [
    {
     "name": "stdout",
     "output_type": "stream",
     "text": [
      "Life is too short\n"
     ]
    }
   ],
   "source": [
    "b = a[:17]\n",
    "print(b)"
   ]
  },
  {
   "cell_type": "code",
   "execution_count": 77,
   "id": "422d3592-cb8a-452b-b492-231aefeb3f79",
   "metadata": {},
   "outputs": [
    {
     "name": "stdout",
     "output_type": "stream",
     "text": [
      "You need\n"
     ]
    }
   ],
   "source": [
    "b = a[19:-7]\n",
    "print(b)"
   ]
  },
  {
   "cell_type": "code",
   "execution_count": 81,
   "id": "26821fd5-16e0-417e-a230-f06adb093e40",
   "metadata": {},
   "outputs": [
    {
     "name": "stdout",
     "output_type": "stream",
     "text": [
      "2023\n",
      "0231\n",
      "Rainy\n"
     ]
    }
   ],
   "source": [
    "a = '20230231Rainy'\n",
    "year = a[:4]\n",
    "day = a[4:8]\n",
    "weather = a[8:]\n",
    "print(year)\n",
    "print(day)\n",
    "print(weather)"
   ]
  },
  {
   "cell_type": "code",
   "execution_count": 83,
   "id": "547d2d1c-0521-4d2f-833b-63885298a47b",
   "metadata": {},
   "outputs": [
    {
     "name": "stdout",
     "output_type": "stream",
     "text": [
      "i\n"
     ]
    }
   ],
   "source": [
    "a = 'Pithon'\n",
    "print(a[1])\n"
   ]
  },
  {
   "cell_type": "code",
   "execution_count": 85,
   "id": "7d833564-d163-4c1c-bd91-ddbee9058aa6",
   "metadata": {},
   "outputs": [
    {
     "ename": "TypeError",
     "evalue": "'str' object does not support item assignment",
     "output_type": "error",
     "traceback": [
      "\u001b[1;31m---------------------------------------------------------------------------\u001b[0m",
      "\u001b[1;31mTypeError\u001b[0m                                 Traceback (most recent call last)",
      "Cell \u001b[1;32mIn[85], line 1\u001b[0m\n\u001b[1;32m----> 1\u001b[0m a[\u001b[38;5;241m1\u001b[39m] \u001b[38;5;241m=\u001b[39m \u001b[38;5;124m'\u001b[39m\u001b[38;5;124my\u001b[39m\u001b[38;5;124m'\u001b[39m\n",
      "\u001b[1;31mTypeError\u001b[0m: 'str' object does not support item assignment"
     ]
    }
   ],
   "source": [
    "a[1] = 'y'"
   ]
  },
  {
   "cell_type": "markdown",
   "id": "38533873-325b-4f3e-8c4e-682d0f563548",
   "metadata": {},
   "source": [
    "#### 변경 불가능한 자료형 immutable data type\n",
    "- 문자열 자료형: 정수, 실수, 불, 문자열 튜플\n",
    "\n",
    "#### 변경 가능한 자료형 mutable data type\n",
    "- 리스트, 사전, 집합"
   ]
  },
  {
   "cell_type": "code",
   "execution_count": null,
   "id": "4f11b4b6-ae5a-4bcd-9434-6cfadd9d8f25",
   "metadata": {},
   "outputs": [],
   "source": []
  },
  {
   "cell_type": "markdown",
   "id": "138737e0-effc-477b-aa68-8937a80dbe40",
   "metadata": {},
   "source": [
    "#### 문자열 포매팅 string formatting\n",
    "'현재 온도는 18도 입니다.' <br>\n",
    "'현재 온도는 20도 입니다.'\n",
    "\n",
    "- 문자열 안의 특정한 값을 바꾸게 해주는 기능\n"
   ]
  },
  {
   "cell_type": "code",
   "execution_count": 87,
   "id": "26072d56-addd-4a6c-88a2-5daf9a46bc23",
   "metadata": {},
   "outputs": [
    {
     "name": "stdout",
     "output_type": "stream",
     "text": [
      "I eat 3 apples.\n"
     ]
    }
   ],
   "source": [
    "print('I eat %d apples.' %3)"
   ]
  },
  {
   "cell_type": "code",
   "execution_count": 91,
   "id": "aa124ee8-9131-4f4e-9f7d-e2d710960906",
   "metadata": {},
   "outputs": [
    {
     "ename": "TypeError",
     "evalue": "%d format: a real number is required, not str",
     "output_type": "error",
     "traceback": [
      "\u001b[1;31m---------------------------------------------------------------------------\u001b[0m",
      "\u001b[1;31mTypeError\u001b[0m                                 Traceback (most recent call last)",
      "Cell \u001b[1;32mIn[91], line 1\u001b[0m\n\u001b[1;32m----> 1\u001b[0m \u001b[38;5;28mprint\u001b[39m(\u001b[38;5;124m'\u001b[39m\u001b[38;5;124mI eat \u001b[39m\u001b[38;5;132;01m%d\u001b[39;00m\u001b[38;5;124m apples.\u001b[39m\u001b[38;5;124m'\u001b[39m \u001b[38;5;241m%\u001b[39m \u001b[38;5;124m'\u001b[39m\u001b[38;5;124mfive\u001b[39m\u001b[38;5;124m'\u001b[39m)\n",
      "\u001b[1;31mTypeError\u001b[0m: %d format: a real number is required, not str"
     ]
    }
   ],
   "source": [
    "print('I eat %d apples.' % 'five')"
   ]
  },
  {
   "cell_type": "code",
   "execution_count": 93,
   "id": "2a9ae298-bf8e-4735-879c-f096adaeed93",
   "metadata": {},
   "outputs": [
    {
     "name": "stdout",
     "output_type": "stream",
     "text": [
      "I eat five apples.\n"
     ]
    }
   ],
   "source": [
    "print('I eat %s apples.' % 'five')"
   ]
  },
  {
   "cell_type": "code",
   "execution_count": 95,
   "id": "d5005ddd-fe7f-49b3-9f9b-e8c2303bea7b",
   "metadata": {},
   "outputs": [
    {
     "name": "stdout",
     "output_type": "stream",
     "text": [
      "I eat 3 apples.\n"
     ]
    }
   ],
   "source": [
    "number = 3\n",
    "print('I eat %s apples.' % number)"
   ]
  },
  {
   "cell_type": "code",
   "execution_count": 99,
   "id": "900c606c-94b1-4fad-ab2a-33e5f7e2959a",
   "metadata": {},
   "outputs": [
    {
     "name": "stdout",
     "output_type": "stream",
     "text": [
      "I eat 0 apples.\n",
      "I eat 1 apples.\n",
      "I eat 2 apples.\n",
      "I eat 3 apples.\n",
      "I eat 4 apples.\n"
     ]
    }
   ],
   "source": [
    "for number in range(5):\n",
    "    print('I eat %s apples.' % number)"
   ]
  },
  {
   "cell_type": "code",
   "execution_count": 101,
   "id": "0df9f780-8c34-4756-a063-f0cdf4dfac48",
   "metadata": {},
   "outputs": [
    {
     "name": "stdout",
     "output_type": "stream",
     "text": [
      "I eat 3 apples. so I was sick for three days\n"
     ]
    }
   ],
   "source": [
    "number = 3\n",
    "day = 'three'\n",
    "print('I eat %s apples. so I was sick for %s days' % (number, day))"
   ]
  },
  {
   "cell_type": "markdown",
   "id": "b1664379-1044-4f44-a00b-771b8f8f91ff",
   "metadata": {},
   "source": [
    "#### 문자열 포멧 코드\n",
    "\n",
    "- %S : 문자열 (string)\n",
    "- %c : 문자 1개(character)\n",
    "- %d : 정수 (integer)\n",
    "- %f : 부동소수 (floating-point)\n",
    "- %o : 8진수\n",
    "- %x : 16진수\n",
    "- %% Liter %(문자 % 자체)"
   ]
  },
  {
   "cell_type": "code",
   "execution_count": null,
   "id": "07a55d68-e150-467f-a891-7110a4a21878",
   "metadata": {},
   "outputs": [],
   "source": []
  },
  {
   "cell_type": "code",
   "execution_count": 103,
   "id": "9389f01b-f4f6-4fa2-958a-84aca41fc6cb",
   "metadata": {},
   "outputs": [
    {
     "name": "stdout",
     "output_type": "stream",
     "text": [
      "rate is 3.234\n"
     ]
    }
   ],
   "source": [
    "print('rate is %s' % 3.234)"
   ]
  },
  {
   "cell_type": "code",
   "execution_count": 105,
   "id": "59d1474e-9f8f-48d0-b915-2d729dd8dcf0",
   "metadata": {},
   "outputs": [
    {
     "name": "stdout",
     "output_type": "stream",
     "text": [
      "Error is 98.\n"
     ]
    }
   ],
   "source": [
    "print('Error is %d.' % 98)"
   ]
  },
  {
   "cell_type": "code",
   "execution_count": 107,
   "id": "20c17496-5335-40f7-b46a-8490f4064ed4",
   "metadata": {},
   "outputs": [
    {
     "ename": "ValueError",
     "evalue": "incomplete format",
     "output_type": "error",
     "traceback": [
      "\u001b[1;31m---------------------------------------------------------------------------\u001b[0m",
      "\u001b[1;31mValueError\u001b[0m                                Traceback (most recent call last)",
      "Cell \u001b[1;32mIn[107], line 1\u001b[0m\n\u001b[1;32m----> 1\u001b[0m \u001b[38;5;28mprint\u001b[39m(\u001b[38;5;124m'\u001b[39m\u001b[38;5;124mError is \u001b[39m\u001b[38;5;132;01m%d\u001b[39;00m\u001b[38;5;124m%\u001b[39m\u001b[38;5;124m.\u001b[39m\u001b[38;5;124m'\u001b[39m \u001b[38;5;241m%\u001b[39m \u001b[38;5;241m98\u001b[39m)\n",
      "\u001b[1;31mValueError\u001b[0m: incomplete format"
     ]
    }
   ],
   "source": [
    "print('Error is %d%.' % 98)"
   ]
  },
  {
   "cell_type": "code",
   "execution_count": 109,
   "id": "7a7400df-017e-4992-b909-cedc02ba3bba",
   "metadata": {},
   "outputs": [
    {
     "name": "stdout",
     "output_type": "stream",
     "text": [
      "Error is 98%.\n"
     ]
    }
   ],
   "source": [
    "print('Error is %d%%.' % 98)"
   ]
  },
  {
   "cell_type": "markdown",
   "id": "3acac4fe-f169-43d6-9571-24c3dd247c50",
   "metadata": {},
   "source": [
    "#### 포멧코드와 숫자 함께 사용하기"
   ]
  },
  {
   "cell_type": "code",
   "execution_count": 119,
   "id": "825244d6-4c96-4101-b686-ed6ce911a215",
   "metadata": {},
   "outputs": [
    {
     "name": "stdout",
     "output_type": "stream",
     "text": [
      "        hi\n"
     ]
    }
   ],
   "source": [
    "print(\"%10s\" % 'hi')"
   ]
  },
  {
   "cell_type": "code",
   "execution_count": 125,
   "id": "7c32a576-7dd2-4ae5-a24e-e302ec46b11c",
   "metadata": {},
   "outputs": [
    {
     "name": "stdout",
     "output_type": "stream",
     "text": [
      "hi        jane\n"
     ]
    }
   ],
   "source": [
    "print(\"%-10sjane\" % 'hi')"
   ]
  },
  {
   "cell_type": "code",
   "execution_count": 127,
   "id": "449b35c8-3f36-4981-82ee-1e2d3bcef3fd",
   "metadata": {},
   "outputs": [
    {
     "name": "stdout",
     "output_type": "stream",
     "text": [
      "3.1416\n"
     ]
    }
   ],
   "source": [
    "print(\"%0.4f\" % 3.141592)"
   ]
  },
  {
   "cell_type": "code",
   "execution_count": 129,
   "id": "0e48f397-425a-405e-b10d-9dc140c2126a",
   "metadata": {},
   "outputs": [
    {
     "name": "stdout",
     "output_type": "stream",
     "text": [
      "    3.1416\n"
     ]
    }
   ],
   "source": [
    "print(\"%10.4f\" % 3.141592)"
   ]
  },
  {
   "cell_type": "code",
   "execution_count": 131,
   "id": "6a025829-1285-4371-977a-74456d2f9293",
   "metadata": {},
   "outputs": [
    {
     "name": "stdout",
     "output_type": "stream",
     "text": [
      "3.1416    \n"
     ]
    }
   ],
   "source": [
    "print(\"%-10.4f\" % 3.141592)"
   ]
  },
  {
   "cell_type": "code",
   "execution_count": 133,
   "id": "13097683-6409-4518-9d44-747a6d2c03c7",
   "metadata": {},
   "outputs": [
    {
     "name": "stdout",
     "output_type": "stream",
     "text": [
      "I eat 3 apples.\n"
     ]
    }
   ],
   "source": [
    "print('I eat {0} apples.'.format(3))"
   ]
  },
  {
   "cell_type": "code",
   "execution_count": 135,
   "id": "32a7f862-345f-493d-8619-17ac19b04ceb",
   "metadata": {},
   "outputs": [
    {
     "name": "stdout",
     "output_type": "stream",
     "text": [
      "I eat 4 apples.\n"
     ]
    }
   ],
   "source": [
    "number = 4\n",
    "print('I eat {0} apples.'.format(number))"
   ]
  },
  {
   "cell_type": "code",
   "execution_count": 139,
   "id": "1d7698ad-5dd2-4bae-8efe-3502a63075d5",
   "metadata": {},
   "outputs": [
    {
     "name": "stdout",
     "output_type": "stream",
     "text": [
      "I eat 4 apples. so I was sick for three days\n"
     ]
    }
   ],
   "source": [
    "day = 'three'\n",
    "number = 4\n",
    "print('I eat {0} apples. so I was sick for {1} days'.format(number, day))\n"
   ]
  },
  {
   "cell_type": "code",
   "execution_count": 143,
   "id": "34f146be-03ad-48c5-92a9-5ac4a4372ecc",
   "metadata": {},
   "outputs": [
    {
     "name": "stdout",
     "output_type": "stream",
     "text": [
      "I eat 9 apples. so I was sick for 4 days\n"
     ]
    }
   ],
   "source": [
    "\n",
    "print('I eat {number} apples. so I was sick for {day} days'.format(day=4, number=9))"
   ]
  },
  {
   "cell_type": "code",
   "execution_count": 145,
   "id": "0d2eb830-04af-408a-8320-6a0bb8a4c87a",
   "metadata": {},
   "outputs": [
    {
     "name": "stdout",
     "output_type": "stream",
     "text": [
      "I eat 11 apples. so I was sick for 4 days\n"
     ]
    }
   ],
   "source": [
    "print('I eat {0} apples. so I was sick for {day} days'.format(11, day=4))"
   ]
  },
  {
   "cell_type": "code",
   "execution_count": 147,
   "id": "8755fd3c-294a-47df-a58f-ff7ac0e29459",
   "metadata": {},
   "outputs": [
    {
     "ename": "IndexError",
     "evalue": "Replacement index 0 out of range for positional args tuple",
     "output_type": "error",
     "traceback": [
      "\u001b[1;31m---------------------------------------------------------------------------\u001b[0m",
      "\u001b[1;31mIndexError\u001b[0m                                Traceback (most recent call last)",
      "Cell \u001b[1;32mIn[147], line 1\u001b[0m\n\u001b[1;32m----> 1\u001b[0m \u001b[38;5;28mprint\u001b[39m(\u001b[38;5;124m'\u001b[39m\u001b[38;5;124mI eat \u001b[39m\u001b[38;5;132;01m{0}\u001b[39;00m\u001b[38;5;124m apples. so I was sick for \u001b[39m\u001b[38;5;132;01m{day}\u001b[39;00m\u001b[38;5;124m days\u001b[39m\u001b[38;5;124m'\u001b[39m\u001b[38;5;241m.\u001b[39mformat(number\u001b[38;5;241m=\u001b[39m\u001b[38;5;241m7\u001b[39m, day\u001b[38;5;241m=\u001b[39m\u001b[38;5;241m4\u001b[39m))\n",
      "\u001b[1;31mIndexError\u001b[0m: Replacement index 0 out of range for positional args tuple"
     ]
    }
   ],
   "source": [
    "print('I eat {0} apples. so I was sick for {day} days'.format(number=7, day=4))"
   ]
  },
  {
   "cell_type": "code",
   "execution_count": 149,
   "id": "899f3ee2-5564-4121-bb98-318e08452f8a",
   "metadata": {},
   "outputs": [
    {
     "name": "stdout",
     "output_type": "stream",
     "text": [
      "hi        \n"
     ]
    }
   ],
   "source": [
    "print(\"{0:<10}\".format('hi'))"
   ]
  },
  {
   "cell_type": "code",
   "execution_count": 151,
   "id": "cfc765f1-2fde-4e07-9de6-69e71d5bc91a",
   "metadata": {},
   "outputs": [
    {
     "name": "stdout",
     "output_type": "stream",
     "text": [
      "        hi\n"
     ]
    }
   ],
   "source": [
    "print(\"{0:>10}\".format('hi'))"
   ]
  },
  {
   "cell_type": "code",
   "execution_count": 153,
   "id": "f7671877-9fe3-4cb1-8aac-e589c1c00a6d",
   "metadata": {},
   "outputs": [
    {
     "name": "stdout",
     "output_type": "stream",
     "text": [
      "    hi    \n"
     ]
    }
   ],
   "source": [
    "print(\"{0:^10}\".format('hi'))"
   ]
  },
  {
   "cell_type": "code",
   "execution_count": 157,
   "id": "60d965fe-f1e6-4aa5-bee5-1bbb6febc598",
   "metadata": {},
   "outputs": [
    {
     "name": "stdout",
     "output_type": "stream",
     "text": [
      "3.1416\n"
     ]
    }
   ],
   "source": [
    "y = 3.141592\n",
    "print(\"{0:0.4f}\".format(y))"
   ]
  },
  {
   "cell_type": "code",
   "execution_count": 159,
   "id": "ab3bb52c-bf6c-466b-b662-96af078456fe",
   "metadata": {},
   "outputs": [
    {
     "name": "stdout",
     "output_type": "stream",
     "text": [
      "    3.1416\n"
     ]
    }
   ],
   "source": [
    "y = 3.141592\n",
    "print(\"{0:10.4f}\".format(y))"
   ]
  },
  {
   "cell_type": "code",
   "execution_count": 161,
   "id": "de2934b4-37c5-4885-929a-a9a8b17dbd89",
   "metadata": {},
   "outputs": [
    {
     "data": {
      "text/plain": [
       "'{ and }'"
      ]
     },
     "execution_count": 161,
     "metadata": {},
     "output_type": "execute_result"
    }
   ],
   "source": [
    "'{{ and }}'.format()"
   ]
  },
  {
   "cell_type": "markdown",
   "id": "e991b914-f942-4eba-a180-0c302934320f",
   "metadata": {},
   "source": [
    "#### f 문자열 포매팅"
   ]
  },
  {
   "cell_type": "code",
   "execution_count": 165,
   "id": "30e74750-9963-4722-aefa-986cc543530a",
   "metadata": {},
   "outputs": [
    {
     "name": "stdout",
     "output_type": "stream",
     "text": [
      "나의 이름은 홍길동입니다. 나이는 30입니다\n"
     ]
    }
   ],
   "source": [
    "name = '홍길동'\n",
    "age = 30\n",
    "print(f'나의 이름은 {name}입니다. 나이는 {age}입니다')"
   ]
  },
  {
   "cell_type": "code",
   "execution_count": 167,
   "id": "2bdc2f79-ff94-46b8-8031-05276c5aca97",
   "metadata": {},
   "outputs": [
    {
     "name": "stdout",
     "output_type": "stream",
     "text": [
      "나의 이름은 홍길동입니다. 나이는 31입니다\n"
     ]
    }
   ],
   "source": [
    "name = '홍길동'\n",
    "age = 30\n",
    "print(f'나의 이름은 {name}입니다. 나이는 {age+1}입니다')"
   ]
  },
  {
   "cell_type": "code",
   "execution_count": 179,
   "id": "044b07be-eb86-4d76-a257-d5cff989a4f6",
   "metadata": {},
   "outputs": [
    {
     "name": "stdout",
     "output_type": "stream",
     "text": [
      "나의 이름은 홍길동입니다. 나이는 30입니다\n"
     ]
    }
   ],
   "source": [
    "d = {'name' :'홍길동', 'age' :30 }\n",
    "print(f'나의 이름은 {d['name']}입니다. 나이는 {d['age']}입니다')"
   ]
  },
  {
   "cell_type": "code",
   "execution_count": 181,
   "id": "8c84554f-70ce-49a9-903f-962c4b5c80bc",
   "metadata": {},
   "outputs": [
    {
     "data": {
      "text/plain": [
       "'hi        '"
      ]
     },
     "execution_count": 181,
     "metadata": {},
     "output_type": "execute_result"
    }
   ],
   "source": [
    "f'{'hi':<10}'"
   ]
  },
  {
   "cell_type": "code",
   "execution_count": 183,
   "id": "38e3e02c-d690-458b-b2b0-ec41bae78dfa",
   "metadata": {},
   "outputs": [
    {
     "data": {
      "text/plain": [
       "'        hi'"
      ]
     },
     "execution_count": 183,
     "metadata": {},
     "output_type": "execute_result"
    }
   ],
   "source": [
    "f'{'hi':>10}'"
   ]
  },
  {
   "cell_type": "code",
   "execution_count": 185,
   "id": "704f66e9-076a-4d81-9496-a6b2d7e4e25c",
   "metadata": {},
   "outputs": [
    {
     "data": {
      "text/plain": [
       "'    hi    '"
      ]
     },
     "execution_count": 185,
     "metadata": {},
     "output_type": "execute_result"
    }
   ],
   "source": [
    "f'{'hi':^10}'"
   ]
  },
  {
   "cell_type": "code",
   "execution_count": 187,
   "id": "35fc8871-50ca-4ae4-8e3e-51596078febb",
   "metadata": {},
   "outputs": [
    {
     "data": {
      "text/plain": [
       "'hi========'"
      ]
     },
     "execution_count": 187,
     "metadata": {},
     "output_type": "execute_result"
    }
   ],
   "source": [
    "f'{'hi':=<10}'"
   ]
  },
  {
   "cell_type": "code",
   "execution_count": 191,
   "id": "42c34855-4421-48f2-b628-a5e4b78b815e",
   "metadata": {},
   "outputs": [
    {
     "name": "stdout",
     "output_type": "stream",
     "text": [
      "3.1416\n"
     ]
    }
   ],
   "source": [
    "y = 3.141592\n",
    "print(f\"{y:0.4f}\")"
   ]
  },
  {
   "cell_type": "code",
   "execution_count": 193,
   "id": "5eacebb6-7173-431d-8521-dd5c7908b7bb",
   "metadata": {},
   "outputs": [
    {
     "name": "stdout",
     "output_type": "stream",
     "text": [
      "              3.1416\n"
     ]
    }
   ],
   "source": [
    "y = 3.141592\n",
    "print(f\"{y:20.4f}\")"
   ]
  },
  {
   "cell_type": "code",
   "execution_count": 195,
   "id": "16365dd3-aaf8-470b-bdb2-4ab64aae3348",
   "metadata": {},
   "outputs": [
    {
     "data": {
      "text/plain": [
       "'{ and }'"
      ]
     },
     "execution_count": 195,
     "metadata": {},
     "output_type": "execute_result"
    }
   ],
   "source": [
    "f'{{ and }}'"
   ]
  },
  {
   "cell_type": "markdown",
   "id": "82f1e426-6339-417f-a137-6d44c395321c",
   "metadata": {},
   "source": [
    "#### 문자열 관련 함수"
   ]
  },
  {
   "cell_type": "code",
   "execution_count": 197,
   "id": "9d3db4bf-6a26-48ce-9bd8-c3df689a73a3",
   "metadata": {},
   "outputs": [
    {
     "data": {
      "text/plain": [
       "2"
      ]
     },
     "execution_count": 197,
     "metadata": {},
     "output_type": "execute_result"
    }
   ],
   "source": [
    "a = 'hobby'\n",
    "a.count('b')"
   ]
  },
  {
   "cell_type": "code",
   "execution_count": 199,
   "id": "a4348e21-1fe0-4721-8974-ee73b6ee530a",
   "metadata": {},
   "outputs": [
    {
     "data": {
      "text/plain": [
       "14"
      ]
     },
     "execution_count": 199,
     "metadata": {},
     "output_type": "execute_result"
    }
   ],
   "source": [
    "a = 'Python is the best choice'\n",
    "a.find('b')"
   ]
  },
  {
   "cell_type": "code",
   "execution_count": 203,
   "id": "3d9af09d-0d75-47a3-94c2-f37b0ff66f9a",
   "metadata": {},
   "outputs": [
    {
     "data": {
      "text/plain": [
       "-1"
      ]
     },
     "execution_count": 203,
     "metadata": {},
     "output_type": "execute_result"
    }
   ],
   "source": [
    "a.find('k')"
   ]
  },
  {
   "cell_type": "code",
   "execution_count": 205,
   "id": "333e688c-6a60-4e30-9dd8-3dca057d84b6",
   "metadata": {},
   "outputs": [
    {
     "data": {
      "text/plain": [
       "2"
      ]
     },
     "execution_count": 205,
     "metadata": {},
     "output_type": "execute_result"
    }
   ],
   "source": [
    "a.find('t')"
   ]
  },
  {
   "cell_type": "code",
   "execution_count": 207,
   "id": "bf4588cf-7927-425b-9725-bcab9338a569",
   "metadata": {},
   "outputs": [
    {
     "data": {
      "text/plain": [
       "8"
      ]
     },
     "execution_count": 207,
     "metadata": {},
     "output_type": "execute_result"
    }
   ],
   "source": [
    "a = 'Life is too short'\n",
    "a.index('t')"
   ]
  },
  {
   "cell_type": "code",
   "execution_count": 209,
   "id": "a1169faf-8282-4973-969f-adff6a6532d4",
   "metadata": {},
   "outputs": [
    {
     "ename": "ValueError",
     "evalue": "substring not found",
     "output_type": "error",
     "traceback": [
      "\u001b[1;31m---------------------------------------------------------------------------\u001b[0m",
      "\u001b[1;31mValueError\u001b[0m                                Traceback (most recent call last)",
      "Cell \u001b[1;32mIn[209], line 1\u001b[0m\n\u001b[1;32m----> 1\u001b[0m a\u001b[38;5;241m.\u001b[39mindex(\u001b[38;5;124m'\u001b[39m\u001b[38;5;124mk\u001b[39m\u001b[38;5;124m'\u001b[39m)\n",
      "\u001b[1;31mValueError\u001b[0m: substring not found"
     ]
    }
   ],
   "source": [
    "a.index('k')"
   ]
  },
  {
   "cell_type": "code",
   "execution_count": 211,
   "id": "55a8c261-b55f-4500-bf4f-86cdf5343360",
   "metadata": {},
   "outputs": [
    {
     "data": {
      "text/plain": [
       "'a,b,c,d'"
      ]
     },
     "execution_count": 211,
     "metadata": {},
     "output_type": "execute_result"
    }
   ],
   "source": [
    "','.join('abcd')"
   ]
  },
  {
   "cell_type": "code",
   "execution_count": 221,
   "id": "bc315fd8-bde0-4f32-ab05-09d09d95b593",
   "metadata": {},
   "outputs": [
    {
     "data": {
      "text/plain": [
       "'a,b,c,d'"
      ]
     },
     "execution_count": 221,
     "metadata": {},
     "output_type": "execute_result"
    }
   ],
   "source": [
    "','.join(['a', 'b', 'c', 'd'])"
   ]
  },
  {
   "cell_type": "code",
   "execution_count": 223,
   "id": "da100a64-b575-4e88-9af1-1c4532e1d5d1",
   "metadata": {},
   "outputs": [
    {
     "data": {
      "text/plain": [
       "'acbcccd'"
      ]
     },
     "execution_count": 223,
     "metadata": {},
     "output_type": "execute_result"
    }
   ],
   "source": [
    "'c'.join(['a', 'b', 'c', 'd'])"
   ]
  },
  {
   "cell_type": "code",
   "execution_count": 225,
   "id": "193e3937-e32c-449c-b30d-2458218c2119",
   "metadata": {},
   "outputs": [
    {
     "data": {
      "text/plain": [
       "'HI'"
      ]
     },
     "execution_count": 225,
     "metadata": {},
     "output_type": "execute_result"
    }
   ],
   "source": [
    "a = 'Hi'\n",
    "a.upper()"
   ]
  },
  {
   "cell_type": "code",
   "execution_count": 227,
   "id": "2a5ba94d-577f-46b5-9610-16dfbce70783",
   "metadata": {},
   "outputs": [
    {
     "data": {
      "text/plain": [
       "'hi'"
      ]
     },
     "execution_count": 227,
     "metadata": {},
     "output_type": "execute_result"
    }
   ],
   "source": [
    "a.lower()"
   ]
  },
  {
   "cell_type": "code",
   "execution_count": 229,
   "id": "b1784f82-d2c4-44f3-ac6f-837fb187bdb6",
   "metadata": {},
   "outputs": [
    {
     "data": {
      "text/plain": [
       "'Hi   '"
      ]
     },
     "execution_count": 229,
     "metadata": {},
     "output_type": "execute_result"
    }
   ],
   "source": [
    "a = '   Hi   '\n",
    "a.lstrip()"
   ]
  },
  {
   "cell_type": "code",
   "execution_count": 231,
   "id": "09790f77-952b-4795-a2a6-b42ac8991de8",
   "metadata": {},
   "outputs": [
    {
     "data": {
      "text/plain": [
       "'   Hi'"
      ]
     },
     "execution_count": 231,
     "metadata": {},
     "output_type": "execute_result"
    }
   ],
   "source": [
    "a = '   Hi   '\n",
    "a.rstrip()"
   ]
  },
  {
   "cell_type": "code",
   "execution_count": 233,
   "id": "7eecd9ae-ecb9-49c5-859d-ab8a54475f0c",
   "metadata": {},
   "outputs": [
    {
     "data": {
      "text/plain": [
       "'Hi'"
      ]
     },
     "execution_count": 233,
     "metadata": {},
     "output_type": "execute_result"
    }
   ],
   "source": [
    "a = '   Hi   '\n",
    "a.strip()"
   ]
  },
  {
   "cell_type": "code",
   "execution_count": 235,
   "id": "3a872671-b08d-4387-b535-d2684b424461",
   "metadata": {},
   "outputs": [
    {
     "data": {
      "text/plain": [
       "'Your leg is too short'"
      ]
     },
     "execution_count": 235,
     "metadata": {},
     "output_type": "execute_result"
    }
   ],
   "source": [
    "a = 'Life is too short'\n",
    "a.replace('Life', 'Your leg')"
   ]
  },
  {
   "cell_type": "code",
   "execution_count": 237,
   "id": "45069907-9be4-4fad-a6eb-cfa42beee44e",
   "metadata": {},
   "outputs": [
    {
     "data": {
      "text/plain": [
       "['Life', 'is', 'too', 'short']"
      ]
     },
     "execution_count": 237,
     "metadata": {},
     "output_type": "execute_result"
    }
   ],
   "source": [
    "a.split()"
   ]
  },
  {
   "cell_type": "code",
   "execution_count": 241,
   "id": "6200235e-0965-4203-9676-495bfd5f41cb",
   "metadata": {},
   "outputs": [
    {
     "data": {
      "text/plain": [
       "['a', 'b', 'c', 'd']"
      ]
     },
     "execution_count": 241,
     "metadata": {},
     "output_type": "execute_result"
    }
   ],
   "source": [
    "b = 'a:b:c:d'\n",
    "b.split(':')"
   ]
  },
  {
   "cell_type": "code",
   "execution_count": 243,
   "id": "942e8170-104e-4517-8641-c6dd19908d03",
   "metadata": {},
   "outputs": [
    {
     "data": {
      "text/plain": [
       "['a', 'b', '', '', 'd']"
      ]
     },
     "execution_count": 243,
     "metadata": {},
     "output_type": "execute_result"
    }
   ],
   "source": [
    "\n",
    "b = 'acbcccd'\n",
    "b.split('c')"
   ]
  },
  {
   "cell_type": "code",
   "execution_count": null,
   "id": "b6ce1481-e223-4327-b4fe-a9e79bf62cc7",
   "metadata": {},
   "outputs": [],
   "source": []
  }
 ],
 "metadata": {
  "kernelspec": {
   "display_name": "Python 3 (ipykernel)",
   "language": "python",
   "name": "python3"
  },
  "language_info": {
   "codemirror_mode": {
    "name": "ipython",
    "version": 3
   },
   "file_extension": ".py",
   "mimetype": "text/x-python",
   "name": "python",
   "nbconvert_exporter": "python",
   "pygments_lexer": "ipython3",
   "version": "3.12.4"
  }
 },
 "nbformat": 4,
 "nbformat_minor": 5
}
