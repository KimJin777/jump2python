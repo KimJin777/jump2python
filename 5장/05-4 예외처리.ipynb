{
 "cells": [
  {
   "cell_type": "markdown",
   "id": "a236a9b4-5fa0-4607-92f4-d984c53accad",
   "metadata": {},
   "source": [
    "## 05-4 예외 처리"
   ]
  },
  {
   "cell_type": "markdown",
   "id": "d2451e33-33d1-4ed1-9b7d-578253a88b95",
   "metadata": {},
   "source": [
    "#### 오류는 언제 발생하는가?"
   ]
  },
  {
   "cell_type": "code",
   "execution_count": 6,
   "id": "3f709681-1b03-49de-9b5a-6621be62c0cf",
   "metadata": {},
   "outputs": [
    {
     "ename": "FileNotFoundError",
     "evalue": "[Errno 2] No such file or directory: '나없는파일.txt'",
     "output_type": "error",
     "traceback": [
      "\u001b[1;31m---------------------------------------------------------------------------\u001b[0m",
      "\u001b[1;31mFileNotFoundError\u001b[0m                         Traceback (most recent call last)",
      "Cell \u001b[1;32mIn[6], line 1\u001b[0m\n\u001b[1;32m----> 1\u001b[0m f \u001b[38;5;241m=\u001b[39m \u001b[38;5;28mopen\u001b[39m(\u001b[38;5;124m'\u001b[39m\u001b[38;5;124m나없는파일.txt\u001b[39m\u001b[38;5;124m'\u001b[39m, \u001b[38;5;124m'\u001b[39m\u001b[38;5;124mr\u001b[39m\u001b[38;5;124m'\u001b[39m)\n",
      "File \u001b[1;32m~\\anaconda3\\Lib\\site-packages\\IPython\\core\\interactiveshell.py:324\u001b[0m, in \u001b[0;36m_modified_open\u001b[1;34m(file, *args, **kwargs)\u001b[0m\n\u001b[0;32m    317\u001b[0m \u001b[38;5;28;01mif\u001b[39;00m file \u001b[38;5;129;01min\u001b[39;00m {\u001b[38;5;241m0\u001b[39m, \u001b[38;5;241m1\u001b[39m, \u001b[38;5;241m2\u001b[39m}:\n\u001b[0;32m    318\u001b[0m     \u001b[38;5;28;01mraise\u001b[39;00m \u001b[38;5;167;01mValueError\u001b[39;00m(\n\u001b[0;32m    319\u001b[0m         \u001b[38;5;124mf\u001b[39m\u001b[38;5;124m\"\u001b[39m\u001b[38;5;124mIPython won\u001b[39m\u001b[38;5;124m'\u001b[39m\u001b[38;5;124mt let you open fd=\u001b[39m\u001b[38;5;132;01m{\u001b[39;00mfile\u001b[38;5;132;01m}\u001b[39;00m\u001b[38;5;124m by default \u001b[39m\u001b[38;5;124m\"\u001b[39m\n\u001b[0;32m    320\u001b[0m         \u001b[38;5;124m\"\u001b[39m\u001b[38;5;124mas it is likely to crash IPython. If you know what you are doing, \u001b[39m\u001b[38;5;124m\"\u001b[39m\n\u001b[0;32m    321\u001b[0m         \u001b[38;5;124m\"\u001b[39m\u001b[38;5;124myou can use builtins\u001b[39m\u001b[38;5;124m'\u001b[39m\u001b[38;5;124m open.\u001b[39m\u001b[38;5;124m\"\u001b[39m\n\u001b[0;32m    322\u001b[0m     )\n\u001b[1;32m--> 324\u001b[0m \u001b[38;5;28;01mreturn\u001b[39;00m io_open(file, \u001b[38;5;241m*\u001b[39margs, \u001b[38;5;241m*\u001b[39m\u001b[38;5;241m*\u001b[39mkwargs)\n",
      "\u001b[1;31mFileNotFoundError\u001b[0m: [Errno 2] No such file or directory: '나없는파일.txt'"
     ]
    }
   ],
   "source": [
    "f = open('나없는파일.txt', 'r')"
   ]
  },
  {
   "cell_type": "markdown",
   "id": "6239bcc0-0fae-4de6-bcdf-89bbc94e5927",
   "metadata": {},
   "source": [
    "#### 오류 예외 처리 기법"
   ]
  },
  {
   "cell_type": "markdown",
   "id": "51472287-21ab-4edc-bef9-e0115e89eaff",
   "metadata": {},
   "source": [
    "#### try-except 문"
   ]
  },
  {
   "cell_type": "markdown",
   "id": "2ff4c73b-1d51-4e91-8f1f-c88c2eb48898",
   "metadata": {},
   "source": [
    "try:\n",
    "   ....\n",
    "except [발생오류 [as 오류 변수]]:\n",
    "   ...."
   ]
  },
  {
   "cell_type": "markdown",
   "id": "63a65541-eab0-4664-ba99-1d5471546dce",
   "metadata": {},
   "source": [
    "```python\n",
    "\n",
    "try:\n",
    "   ....\n",
    "except:\n",
    "   ...."
   ]
  },
  {
   "cell_type": "markdown",
   "id": "78ee4e7e-7565-404b-b76c-67430f718f19",
   "metadata": {},
   "source": [
    "```python\n",
    "try:\n",
    "   ....\n",
    "except 발생오류:\n",
    "   ...."
   ]
  },
  {
   "cell_type": "markdown",
   "id": "9bfe1437-38d0-45ec-bfb6-16431ba06143",
   "metadata": {},
   "source": [
    "```python\n",
    "try:\n",
    "   ....\n",
    "except 발생오류 as 오류 변수:\n",
    "   ...."
   ]
  },
  {
   "cell_type": "code",
   "execution_count": 1,
   "id": "38c02f8e-511b-484a-ae43-1ed7c79111e4",
   "metadata": {},
   "outputs": [
    {
     "name": "stdout",
     "output_type": "stream",
     "text": [
      "division by zero\n"
     ]
    }
   ],
   "source": [
    "try:\n",
    "    4/0\n",
    "\n",
    "except ZeroDivisionError as e:\n",
    "    print(e)"
   ]
  },
  {
   "cell_type": "markdown",
   "id": "342037fd-5ff0-4761-b0dd-8f76af3bbd15",
   "metadata": {},
   "source": [
    "#### try-finally 문"
   ]
  },
  {
   "cell_type": "markdown",
   "id": "7bc2da21-342c-4f2c-8fbc-65a6710c16cf",
   "metadata": {},
   "source": [
    "```python\n",
    "try:\n",
    "   ....\n",
    "except 발생오류:\n",
    "   ....\n",
    "finally:\n",
    "   ...."
   ]
  },
  {
   "cell_type": "code",
   "execution_count": 26,
   "id": "ad84bb78-0b75-4557-aa24-2e7e4197934f",
   "metadata": {},
   "outputs": [
    {
     "name": "stdout",
     "output_type": "stream",
     "text": [
      "오류 발생\n"
     ]
    }
   ],
   "source": [
    "try:\n",
    "    f = open('faas.txt', 'r')\n",
    "    print('잘 진행되고 있음')\n",
    "except:\n",
    "    print('오류 발생')\n",
    "finally:\n",
    "    f.close()"
   ]
  },
  {
   "cell_type": "markdown",
   "id": "60d006c0-9e1c-4ebc-8e01-5fd7d642bd0d",
   "metadata": {},
   "source": [
    "#### 여러 개의 오류 처리하기"
   ]
  },
  {
   "cell_type": "code",
   "execution_count": 11,
   "id": "f2733772-3a83-4264-8b19-70e3e865be2b",
   "metadata": {},
   "outputs": [
    {
     "name": "stdout",
     "output_type": "stream",
     "text": [
      "인덱싱을 할 수 없습니다.\n"
     ]
    }
   ],
   "source": [
    "try:\n",
    "    a = [1,3]\n",
    "    print(a[3])\n",
    "    b = 4/0\n",
    "\n",
    "except ZeroDivisionError:\n",
    "    print('0으로 나눌 수 없습니다.')\n",
    "\n",
    "except IndexError:\n",
    "    print('인덱싱을 할 수 없습니다.')"
   ]
  },
  {
   "cell_type": "code",
   "execution_count": 13,
   "id": "47330345-85c4-48d2-a161-dfd3d204358f",
   "metadata": {},
   "outputs": [
    {
     "name": "stdout",
     "output_type": "stream",
     "text": [
      "list index out of range\n"
     ]
    }
   ],
   "source": [
    "try:\n",
    "    a = [1,3]\n",
    "    print(a[3])\n",
    "    b = 4/0\n",
    "\n",
    "except ZeroDivisionError as e:\n",
    "    print(e)\n",
    "\n",
    "except IndexError as e:\n",
    "    print(e)"
   ]
  },
  {
   "cell_type": "code",
   "execution_count": 23,
   "id": "43e07f7d-4f71-4284-82ff-c8640ef19b75",
   "metadata": {},
   "outputs": [
    {
     "name": "stdout",
     "output_type": "stream",
     "text": [
      "<class 'IndexError'>\n",
      "list index out of range\n"
     ]
    }
   ],
   "source": [
    "try:\n",
    "    a = [1,3]\n",
    "    print(a[3])\n",
    "    b = 4/0\n",
    "\n",
    "except   (ZeroDivisionError, IndexError) as e:\n",
    "    print(type(e))\n",
    "    print(e)\n"
   ]
  },
  {
   "cell_type": "code",
   "execution_count": 27,
   "id": "7fbadd7a-b35c-4bf5-90bc-60c4e7de97bb",
   "metadata": {},
   "outputs": [
    {
     "name": "stdin",
     "output_type": "stream",
     "text": [
      "나이를 입력하세요. 33\n"
     ]
    },
    {
     "name": "stdout",
     "output_type": "stream",
     "text": [
      "환영합니다\n"
     ]
    }
   ],
   "source": [
    "try:\n",
    "    age = int(input('나이를 입력하세요.'))\n",
    "\n",
    "except:\n",
    "    print('입력이 정확하지 않습니다.')\n",
    "\n",
    "else:\n",
    "    if age <= 18:\n",
    "        print('미성년자 출입금지 입니다')\n",
    "    else:\n",
    "        print('환영합니다')\n",
    "        "
   ]
  },
  {
   "cell_type": "markdown",
   "id": "18e73f42-e79e-4b0e-8d0b-641ad9099db5",
   "metadata": {},
   "source": [
    "#### 오류 회피하기"
   ]
  },
  {
   "cell_type": "code",
   "execution_count": 29,
   "id": "6482cfde-008b-4099-b79c-f849a2c10d94",
   "metadata": {},
   "outputs": [],
   "source": [
    "try:\n",
    "    f = open('나없는파일', 'r')\n",
    "\n",
    "except FileNotFoundError:\n",
    "    pass"
   ]
  },
  {
   "cell_type": "code",
   "execution_count": 37,
   "id": "4512ac25-dabc-4d8d-a239-44535e23d2fd",
   "metadata": {},
   "outputs": [],
   "source": [
    "class Bird:\n",
    "    def fly(self):\n",
    "        raise NotImplementedError"
   ]
  },
  {
   "cell_type": "code",
   "execution_count": 39,
   "id": "c7071dbb-14d3-46b9-9438-1fba898b3fcd",
   "metadata": {},
   "outputs": [],
   "source": [
    "class Eagle(Bird):\n",
    "    pass"
   ]
  },
  {
   "cell_type": "code",
   "execution_count": 41,
   "id": "338e0652-314c-4c8d-b0ac-4f352ef414f8",
   "metadata": {},
   "outputs": [
    {
     "ename": "NotImplementedError",
     "evalue": "",
     "output_type": "error",
     "traceback": [
      "\u001b[1;31m---------------------------------------------------------------------------\u001b[0m",
      "\u001b[1;31mNotImplementedError\u001b[0m                       Traceback (most recent call last)",
      "Cell \u001b[1;32mIn[41], line 2\u001b[0m\n\u001b[0;32m      1\u001b[0m eagle \u001b[38;5;241m=\u001b[39m Eagle()\n\u001b[1;32m----> 2\u001b[0m eagle\u001b[38;5;241m.\u001b[39mfly()\n",
      "Cell \u001b[1;32mIn[37], line 3\u001b[0m, in \u001b[0;36mBird.fly\u001b[1;34m(self)\u001b[0m\n\u001b[0;32m      2\u001b[0m \u001b[38;5;28;01mdef\u001b[39;00m \u001b[38;5;21mfly\u001b[39m(\u001b[38;5;28mself\u001b[39m):\n\u001b[1;32m----> 3\u001b[0m     \u001b[38;5;28;01mraise\u001b[39;00m \u001b[38;5;167;01mNotImplementedError\u001b[39;00m\n",
      "\u001b[1;31mNotImplementedError\u001b[0m: "
     ]
    }
   ],
   "source": [
    "eagle = Eagle()\n",
    "eagle.fly()"
   ]
  },
  {
   "cell_type": "code",
   "execution_count": 43,
   "id": "e1dd4003-c711-4fee-bca9-bc31d74b16d3",
   "metadata": {},
   "outputs": [],
   "source": [
    "class Bird:\n",
    "    def fly(self):\n",
    "        print('Very Fast Flying')"
   ]
  },
  {
   "cell_type": "code",
   "execution_count": 45,
   "id": "92aa8c50-7707-4b21-8c3e-717e91c8de52",
   "metadata": {},
   "outputs": [],
   "source": [
    "class Eagle(Bird):\n",
    "    pass"
   ]
  },
  {
   "cell_type": "code",
   "execution_count": 47,
   "id": "86cf00f8-95cb-48d9-a231-84cd3e772632",
   "metadata": {},
   "outputs": [
    {
     "name": "stdout",
     "output_type": "stream",
     "text": [
      "Very Fast Flying\n"
     ]
    }
   ],
   "source": [
    "eagle = Eagle()\n",
    "eagle.fly()"
   ]
  },
  {
   "cell_type": "markdown",
   "id": "9f960a31-59e9-42cf-afcf-91996864da43",
   "metadata": {},
   "source": [
    "#### 예외 만들기"
   ]
  },
  {
   "cell_type": "code",
   "execution_count": 31,
   "id": "83c92b54-e94d-4c5c-bb2e-5c7401f664ec",
   "metadata": {},
   "outputs": [],
   "source": [
    "class MyError(Exception):\n",
    "    pass"
   ]
  },
  {
   "cell_type": "code",
   "execution_count": 33,
   "id": "0fe0c6a0-0baa-42f7-9ddb-c397770080fb",
   "metadata": {},
   "outputs": [],
   "source": [
    "def say_nick(nick):\n",
    "    if nick == '바보':\n",
    "        raise MyError()\n",
    "\n",
    "    print(nick)\n",
    "    "
   ]
  },
  {
   "cell_type": "code",
   "execution_count": 35,
   "id": "07689da0-3c0d-4df4-acf9-94b51a8e3d4c",
   "metadata": {},
   "outputs": [
    {
     "name": "stdout",
     "output_type": "stream",
     "text": [
      "천사\n"
     ]
    }
   ],
   "source": [
    "say_nick('천사')"
   ]
  },
  {
   "cell_type": "code",
   "execution_count": 37,
   "id": "b53b143f-5ab8-4145-bed1-b0ba0e85f0e6",
   "metadata": {},
   "outputs": [
    {
     "ename": "MyError",
     "evalue": "",
     "output_type": "error",
     "traceback": [
      "\u001b[1;31m---------------------------------------------------------------------------\u001b[0m",
      "\u001b[1;31mMyError\u001b[0m                                   Traceback (most recent call last)",
      "Cell \u001b[1;32mIn[37], line 1\u001b[0m\n\u001b[1;32m----> 1\u001b[0m say_nick(\u001b[38;5;124m'\u001b[39m\u001b[38;5;124m바보\u001b[39m\u001b[38;5;124m'\u001b[39m)\n",
      "Cell \u001b[1;32mIn[33], line 3\u001b[0m, in \u001b[0;36msay_nick\u001b[1;34m(nick)\u001b[0m\n\u001b[0;32m      1\u001b[0m \u001b[38;5;28;01mdef\u001b[39;00m \u001b[38;5;21msay_nick\u001b[39m(nick):\n\u001b[0;32m      2\u001b[0m     \u001b[38;5;28;01mif\u001b[39;00m nick \u001b[38;5;241m==\u001b[39m \u001b[38;5;124m'\u001b[39m\u001b[38;5;124m바보\u001b[39m\u001b[38;5;124m'\u001b[39m:\n\u001b[1;32m----> 3\u001b[0m         \u001b[38;5;28;01mraise\u001b[39;00m MyError()\n\u001b[0;32m      5\u001b[0m     \u001b[38;5;28mprint\u001b[39m(nick)\n",
      "\u001b[1;31mMyError\u001b[0m: "
     ]
    }
   ],
   "source": [
    "say_nick('바보')"
   ]
  },
  {
   "cell_type": "code",
   "execution_count": 39,
   "id": "b2587988-1fa1-43ea-937f-9f0794410fbe",
   "metadata": {},
   "outputs": [
    {
     "name": "stdout",
     "output_type": "stream",
     "text": [
      "천사\n",
      "허용되지 않는 별명입니다\n"
     ]
    }
   ],
   "source": [
    "try:\n",
    "    say_nick('천사')\n",
    "    say_nick('바보')\n",
    "\n",
    "except MyError:\n",
    "    print('허용되지 않는 별명입니다')"
   ]
  },
  {
   "cell_type": "code",
   "execution_count": 41,
   "id": "73d542ed-059f-45df-8e1e-46a11a67f5dd",
   "metadata": {},
   "outputs": [
    {
     "name": "stdout",
     "output_type": "stream",
     "text": [
      "천사\n",
      "\n"
     ]
    }
   ],
   "source": [
    "try:\n",
    "    say_nick('천사')\n",
    "    say_nick('바보')\n",
    "\n",
    "except MyError as e:\n",
    "    print(e)"
   ]
  },
  {
   "cell_type": "code",
   "execution_count": 43,
   "id": "69ddc1fb-3e4b-4470-afbe-3f0ac08a67d5",
   "metadata": {},
   "outputs": [],
   "source": [
    "class MyError(Exception):\n",
    "    def __str__(self):\n",
    "        return '허용되지 않는 별명입니다'\n",
    "    pass"
   ]
  },
  {
   "cell_type": "code",
   "execution_count": 71,
   "id": "53805ebf-a135-44da-8d75-ccdc88052466",
   "metadata": {},
   "outputs": [
    {
     "name": "stdout",
     "output_type": "stream",
     "text": [
      "천사\n",
      "허용되지 않는 별명입니다\n"
     ]
    }
   ],
   "source": [
    "try:\n",
    "    say_nick('천사')\n",
    "    say_nick('바보')\n",
    "\n",
    "except MyError as e:\n",
    "    print(e)"
   ]
  },
  {
   "cell_type": "code",
   "execution_count": null,
   "id": "01af03bb-6820-4062-919f-b75b67bb77d2",
   "metadata": {},
   "outputs": [],
   "source": []
  }
 ],
 "metadata": {
  "kernelspec": {
   "display_name": "Python 3 (ipykernel)",
   "language": "python",
   "name": "python3"
  },
  "language_info": {
   "codemirror_mode": {
    "name": "ipython",
    "version": 3
   },
   "file_extension": ".py",
   "mimetype": "text/x-python",
   "name": "python",
   "nbconvert_exporter": "python",
   "pygments_lexer": "ipython3",
   "version": "3.12.4"
  }
 },
 "nbformat": 4,
 "nbformat_minor": 5
}
