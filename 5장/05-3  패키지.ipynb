{
 "cells": [
  {
   "attachments": {
    "cc92be77-14a0-4399-9caa-601fd6341f77.png": {
     "image/png": "[encoded data removed]"
    }
   },
   "cell_type": "markdown",
   "id": "cf2f89d4-8d53-412d-9979-26b6aa8b4294",
   "metadata": {},
   "source": [
    "## 05-3 패키지 package\n",
    "- 관련있는 모듈의 집합\n",
    "- 파이썬 모듈을 계층적(디렉토리 구조)으로 관리\n",
    "\n",
    "  \n",
    "![image.png](attachment:cc92be77-14a0-4399-9caa-601fd6341f77.png)"
   ]
  },
  {
   "cell_type": "code",
   "execution_count": 2,
   "id": "e745c455-a0d4-491a-a64b-fbb2bb3ee06d",
   "metadata": {},
   "outputs": [],
   "source": [
    "!set PYTHONPATH=c:/doit"
   ]
  },
  {
   "cell_type": "code",
   "execution_count": 6,
   "id": "9205ecd6-7b51-4175-83c4-9f57ae5764ee",
   "metadata": {},
   "outputs": [],
   "source": [
    "import game.sound.echo"
   ]
  },
  {
   "cell_type": "code",
   "execution_count": 8,
   "id": "9da393bc-c472-45a1-8ea7-6b6544b5cdf0",
   "metadata": {},
   "outputs": [
    {
     "name": "stdout",
     "output_type": "stream",
     "text": [
      "echo\n"
     ]
    }
   ],
   "source": [
    "game.sound.echo.echo_test()"
   ]
  },
  {
   "cell_type": "code",
   "execution_count": 14,
   "id": "446baf97-7050-4162-a98f-534bab79a88d",
   "metadata": {},
   "outputs": [],
   "source": [
    "from game.sound import echo"
   ]
  },
  {
   "cell_type": "code",
   "execution_count": 16,
   "id": "658b9fac-b1af-424e-9ed7-0f7baa83a8ae",
   "metadata": {},
   "outputs": [
    {
     "name": "stdout",
     "output_type": "stream",
     "text": [
      "echo\n"
     ]
    }
   ],
   "source": [
    "echo.echo_test()"
   ]
  },
  {
   "cell_type": "code",
   "execution_count": 18,
   "id": "422c38a1-07b8-4c80-8034-d3269f42e40f",
   "metadata": {},
   "outputs": [],
   "source": [
    "from game.sound.echo import echo_test"
   ]
  },
  {
   "cell_type": "code",
   "execution_count": 20,
   "id": "4bb485a3-cdd8-46a6-b1a3-088242440b43",
   "metadata": {},
   "outputs": [
    {
     "name": "stdout",
     "output_type": "stream",
     "text": [
      "echo\n"
     ]
    }
   ],
   "source": [
    "echo_test()"
   ]
  },
  {
   "cell_type": "markdown",
   "id": "76a96dba-27c4-4fbf-a774-4f9ec5d26480",
   "metadata": {},
   "source": [
    "```python\n",
    "__init__.py 의 용도"
   ]
  },
  {
   "cell_type": "code",
   "execution_count": 27,
   "id": "842fae17-877e-4045-b5a6-1c7161585a4c",
   "metadata": {},
   "outputs": [],
   "source": [
    "import game"
   ]
  },
  {
   "cell_type": "code",
   "execution_count": 33,
   "id": "6e15d96f-f2b3-4cd1-9594-baac1748757f",
   "metadata": {},
   "outputs": [
    {
     "name": "stdout",
     "output_type": "stream",
     "text": [
      "echo\n"
     ]
    }
   ],
   "source": [
    "game.sound.echo.echo_test()\n",
    "# 3.3 버전부터 __init__.py 파일이 없어도 인식함"
   ]
  },
  {
   "cell_type": "code",
   "execution_count": 1,
   "id": "98fc4bb0-3805-4225-8f95-d8e105bf1dd0",
   "metadata": {},
   "outputs": [
    {
     "name": "stdout",
     "output_type": "stream",
     "text": [
      "3.5\n"
     ]
    }
   ],
   "source": [
    "import game\n",
    "print(game.VERSION)"
   ]
  },
  {
   "cell_type": "code",
   "execution_count": 3,
   "id": "e3846240-7c7d-4600-b389-b5f358160ff1",
   "metadata": {
    "scrolled": true
   },
   "outputs": [
    {
     "data": {
      "text/plain": [
       "['VERSION',\n",
       " '__builtins__',\n",
       " '__cached__',\n",
       " '__doc__',\n",
       " '__file__',\n",
       " '__loader__',\n",
       " '__name__',\n",
       " '__package__',\n",
       " '__path__',\n",
       " '__spec__',\n",
       " 'print_version_info']"
      ]
     },
     "execution_count": 3,
     "metadata": {},
     "output_type": "execute_result"
    }
   ],
   "source": [
    "dir(game)"
   ]
  },
  {
   "cell_type": "code",
   "execution_count": 1,
   "id": "0ac4f223-b46e-4ff1-8a36-63d872c7c469",
   "metadata": {},
   "outputs": [],
   "source": [
    "import game"
   ]
  },
  {
   "cell_type": "code",
   "execution_count": 3,
   "id": "f84c775f-586d-43fd-ac89-9f535138db75",
   "metadata": {},
   "outputs": [
    {
     "name": "stdout",
     "output_type": "stream",
     "text": [
      "render\n"
     ]
    }
   ],
   "source": [
    "game.render_test()"
   ]
  },
  {
   "cell_type": "code",
   "execution_count": 15,
   "id": "ba3c7905-a157-4bd2-8033-a6e14962d17b",
   "metadata": {},
   "outputs": [],
   "source": [
    "import game\n"
   ]
  },
  {
   "cell_type": "code",
   "execution_count": 13,
   "id": "4619ddcf-9ac3-454a-91b0-3a252638cb02",
   "metadata": {},
   "outputs": [],
   "source": [
    "\n"
   ]
  },
  {
   "cell_type": "code",
   "execution_count": 15,
   "id": "b7f23ad1-afca-4e8b-94b0-37322781a45d",
   "metadata": {},
   "outputs": [
    {
     "name": "stdout",
     "output_type": "stream",
     "text": [
      "Initializing game ...\n"
     ]
    },
    {
     "data": {
      "text/plain": [
       "<module 'game' from 'C:\\\\Users\\\\kjink007\\\\내 드라이브\\\\Colab Notebooks\\\\점프투파이썬\\\\game\\\\__init__.py'>"
      ]
     },
     "execution_count": 15,
     "metadata": {},
     "output_type": "execute_result"
    }
   ],
   "source": [
    "import importlib\n",
    "importlib.reload(game) \n"
   ]
  },
  {
   "cell_type": "code",
   "execution_count": 1,
   "id": "8751b4c4-2f99-4522-84f1-315a7301f1f0",
   "metadata": {},
   "outputs": [
    {
     "name": "stdout",
     "output_type": "stream",
     "text": [
      "Initializing game ...\n"
     ]
    }
   ],
   "source": [
    "from game.graphic.render import render_test"
   ]
  },
  {
   "cell_type": "code",
   "execution_count": 3,
   "id": "970c10ff-f2de-405f-b109-5cc1f7d16cdd",
   "metadata": {},
   "outputs": [],
   "source": [
    "from game.sound import *"
   ]
  },
  {
   "cell_type": "code",
   "execution_count": 5,
   "id": "703c373f-f86d-48bc-914f-53a6f792c6e6",
   "metadata": {},
   "outputs": [
    {
     "ename": "NameError",
     "evalue": "name 'echo' is not defined",
     "output_type": "error",
     "traceback": [
      "\u001b[1;31m---------------------------------------------------------------------------\u001b[0m",
      "\u001b[1;31mNameError\u001b[0m                                 Traceback (most recent call last)",
      "Cell \u001b[1;32mIn[5], line 1\u001b[0m\n\u001b[1;32m----> 1\u001b[0m echo\u001b[38;5;241m.\u001b[39mecho_test()\n",
      "\u001b[1;31mNameError\u001b[0m: name 'echo' is not defined"
     ]
    }
   ],
   "source": [
    "echo.echo_test()"
   ]
  },
  {
   "cell_type": "code",
   "execution_count": 7,
   "id": "c2175fa6-4a76-4f21-b6d3-902f69841e2e",
   "metadata": {},
   "outputs": [],
   "source": [
    "from game.sound import *\n"
   ]
  },
  {
   "cell_type": "code",
   "execution_count": 9,
   "id": "f16db6e1-c0e9-4284-bfcc-ed5fbcacf33c",
   "metadata": {},
   "outputs": [
    {
     "ename": "NameError",
     "evalue": "name 'echo' is not defined",
     "output_type": "error",
     "traceback": [
      "\u001b[1;31m---------------------------------------------------------------------------\u001b[0m",
      "\u001b[1;31mNameError\u001b[0m                                 Traceback (most recent call last)",
      "Cell \u001b[1;32mIn[9], line 1\u001b[0m\n\u001b[1;32m----> 1\u001b[0m echo\u001b[38;5;241m.\u001b[39mecho_test()\n",
      "\u001b[1;31mNameError\u001b[0m: name 'echo' is not defined"
     ]
    }
   ],
   "source": [
    "echo.echo_test()"
   ]
  },
  {
   "cell_type": "code",
   "execution_count": 17,
   "id": "194d618b-cfab-4f6a-8be1-56a34e892264",
   "metadata": {},
   "outputs": [
    {
     "name": "stdout",
     "output_type": "stream",
     "text": [
      "Initializing game ...\n"
     ]
    },
    {
     "data": {
      "text/plain": [
       "<module 'game' from 'C:\\\\Users\\\\kjink007\\\\내 드라이브\\\\Colab Notebooks\\\\점프투파이썬\\\\game\\\\__init__.py'>"
      ]
     },
     "execution_count": 17,
     "metadata": {},
     "output_type": "execute_result"
    }
   ],
   "source": [
    "import importlib\n",
    "importlib.reload(game) "
   ]
  },
  {
   "cell_type": "code",
   "execution_count": 25,
   "id": "809fa928-411f-444b-b49e-541310736b99",
   "metadata": {},
   "outputs": [],
   "source": [
    "from game.sound import echo\n"
   ]
  },
  {
   "cell_type": "code",
   "execution_count": 27,
   "id": "d7ac08d3-709c-48fa-828d-7062b39010de",
   "metadata": {},
   "outputs": [
    {
     "name": "stdout",
     "output_type": "stream",
     "text": [
      "echo\n"
     ]
    }
   ],
   "source": [
    "echo.echo_test()"
   ]
  },
  {
   "cell_type": "code",
   "execution_count": 29,
   "id": "2b418ee2-36e8-4534-81fe-1a89da321777",
   "metadata": {},
   "outputs": [
    {
     "data": {
      "text/plain": [
       "<module 'game.sound.echo' from 'C:\\\\Users\\\\kjink007\\\\내 드라이브\\\\Colab Notebooks\\\\점프투파이썬\\\\game\\\\sound\\\\echo.py'>"
      ]
     },
     "execution_count": 29,
     "metadata": {},
     "output_type": "execute_result"
    }
   ],
   "source": [
    "import importlib\n",
    "importlib.reload(echo) "
   ]
  },
  {
   "cell_type": "code",
   "execution_count": 1,
   "id": "15e5cccb-77c5-4609-8e7c-531932550cdd",
   "metadata": {},
   "outputs": [
    {
     "name": "stdout",
     "output_type": "stream",
     "text": [
      "Initializing game ...\n"
     ]
    }
   ],
   "source": [
    "from game.graphic.render import render_test"
   ]
  },
  {
   "cell_type": "raw",
   "id": "8711ddc0-0271-4d3e-bbf2-134ccd57ad61",
   "metadata": {},
   "source": [
    "import importlib\n",
    "importlib.reload(render_test) "
   ]
  },
  {
   "cell_type": "code",
   "execution_count": 3,
   "id": "d9589467-bcdb-4afa-9f1b-1855ac4e0034",
   "metadata": {},
   "outputs": [
    {
     "name": "stdout",
     "output_type": "stream",
     "text": [
      "render\n",
      "echo\n"
     ]
    }
   ],
   "source": [
    "render_test()"
   ]
  },
  {
   "cell_type": "code",
   "execution_count": null,
   "id": "d77f1363-8ef6-4717-8281-8b2476202b86",
   "metadata": {},
   "outputs": [],
   "source": []
  }
 ],
 "metadata": {
  "kernelspec": {
   "display_name": "Python 3 (ipykernel)",
   "language": "python",
   "name": "python3"
  },
  "language_info": {
   "codemirror_mode": {
    "name": "ipython",
    "version": 3
   },
   "file_extension": ".py",
   "mimetype": "text/x-python",
   "name": "python",
   "nbconvert_exporter": "python",
   "pygments_lexer": "ipython3",
   "version": "3.12.4"
  }
 },
 "nbformat": 4,
 "nbformat_minor": 5
}
