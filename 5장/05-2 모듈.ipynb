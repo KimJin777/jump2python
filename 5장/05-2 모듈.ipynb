{
 "cells": [
  {
   "cell_type": "code",
   "execution_count": null,
   "id": "1c01ec4f-6382-4010-9fd9-83c10990f0c1",
   "metadata": {},
   "outputs": [],
   "source": [
    "## 05-2 모듈"
   ]
  },
  {
   "cell_type": "code",
   "execution_count": 2,
   "id": "1208982d-6e7d-44c0-88f7-36feeea3a859",
   "metadata": {},
   "outputs": [],
   "source": [
    "def add(a, b):\n",
    "    return a+b\n",
    "\n",
    "def sub(a, b):\n",
    "    return a-b\n",
    "    "
   ]
  },
  {
   "cell_type": "markdown",
   "id": "7de5727d-bedc-4201-a059-e9642650c1d6",
   "metadata": {},
   "source": [
    "#### 모듈 불러오기\n",
    "- import 모듈이름\n",
    "- from 모듈이름 import 모듈함수\n",
    "- from mod1 import add, sub\n",
    "- from mod1 import *"
   ]
  },
  {
   "cell_type": "code",
   "execution_count": 4,
   "id": "4296f578-59c5-45bf-8a95-da8b539ce18a",
   "metadata": {},
   "outputs": [
    {
     "name": "stdout",
     "output_type": "stream",
     "text": [
      "nt\n",
      "win32\n"
     ]
    }
   ],
   "source": [
    "import os, sys\n",
    "\n",
    "print(os.name)\n",
    "print(sys.platform)"
   ]
  },
  {
   "cell_type": "code",
   "execution_count": 6,
   "id": "8beb04ff-cbaa-4392-9b3c-8c44c6d2902e",
   "metadata": {},
   "outputs": [
    {
     "name": "stdout",
     "output_type": "stream",
     "text": [
      "nt\n",
      "win32\n"
     ]
    }
   ],
   "source": [
    "import moood1"
   ]
  },
  {
   "cell_type": "code",
   "execution_count": 8,
   "id": "dab068c8-cce3-4cc2-ae8e-d11336588394",
   "metadata": {},
   "outputs": [
    {
     "name": "stdout",
     "output_type": "stream",
     "text": [
      "5\n",
      "2\n"
     ]
    }
   ],
   "source": [
    "import mod1"
   ]
  },
  {
   "cell_type": "code",
   "execution_count": 10,
   "id": "9de0fce5-8108-493b-9b77-c895d87e4f87",
   "metadata": {},
   "outputs": [
    {
     "data": {
      "text/plain": [
       "3"
      ]
     },
     "execution_count": 10,
     "metadata": {},
     "output_type": "execute_result"
    }
   ],
   "source": [
    "mod1.add(1,2)"
   ]
  },
  {
   "cell_type": "code",
   "execution_count": 12,
   "id": "bb2e192a-e5a4-494c-8b66-ac2142243886",
   "metadata": {},
   "outputs": [],
   "source": [
    "from mod1 import sub as minus"
   ]
  },
  {
   "cell_type": "code",
   "execution_count": 14,
   "id": "1346cba0-371c-4398-9e33-678996f9fc31",
   "metadata": {},
   "outputs": [
    {
     "data": {
      "text/plain": [
       "-1"
      ]
     },
     "execution_count": 14,
     "metadata": {},
     "output_type": "execute_result"
    }
   ],
   "source": [
    "minus(3,4)"
   ]
  },
  {
   "cell_type": "code",
   "execution_count": 16,
   "id": "9fa30323-8943-482f-9676-205787d0c9dc",
   "metadata": {},
   "outputs": [],
   "source": [
    "import mod1"
   ]
  },
  {
   "cell_type": "code",
   "execution_count": 18,
   "id": "30f8a71c-bb71-46cd-ae87-91aead4bf24b",
   "metadata": {},
   "outputs": [
    {
     "data": {
      "text/plain": [
       "7"
      ]
     },
     "execution_count": 18,
     "metadata": {},
     "output_type": "execute_result"
    }
   ],
   "source": [
    "mod1.add(3,4)"
   ]
  },
  {
   "cell_type": "markdown",
   "id": "df2d930c-4c0e-4ebe-a330-67b1174fc062",
   "metadata": {},
   "source": [
    "```python \n",
    "__name__ 변수 "
   ]
  },
  {
   "cell_type": "code",
   "execution_count": 20,
   "id": "a9adb578-0be7-4532-8926-46b11067e17a",
   "metadata": {},
   "outputs": [
    {
     "data": {
      "text/plain": [
       "'mod1'"
      ]
     },
     "execution_count": 20,
     "metadata": {},
     "output_type": "execute_result"
    }
   ],
   "source": [
    "mod1.__name__"
   ]
  },
  {
   "cell_type": "code",
   "execution_count": 10,
   "id": "0bb934b1-f253-436b-959e-9921a114eb86",
   "metadata": {},
   "outputs": [
    {
     "name": "stdout",
     "output_type": "stream",
     "text": [
      "5\n",
      "6\n"
     ]
    }
   ],
   "source": [
    "def add(a, b):\n",
    "    return a+b\n",
    "\n",
    "def sub(a, b):\n",
    "    return a-b\n",
    "\n",
    "if __name__ =='__main__':\n",
    "    print(add(1,4))\n",
    "    print(add(4,2))"
   ]
  },
  {
   "cell_type": "code",
   "execution_count": 2,
   "id": "6cb6d0bb-0e9b-44fd-aed5-dd709e6e7fd0",
   "metadata": {},
   "outputs": [],
   "source": [
    "import mod2\n",
    "# importlib.reload(mod2)"
   ]
  },
  {
   "cell_type": "code",
   "execution_count": 4,
   "id": "42070f41-bffb-42e4-8e34-b3770c7abc17",
   "metadata": {},
   "outputs": [
    {
     "name": "stdout",
     "output_type": "stream",
     "text": [
      "3.141592\n"
     ]
    }
   ],
   "source": [
    "print(mod2.PI)"
   ]
  },
  {
   "cell_type": "code",
   "execution_count": 6,
   "id": "75f0fd7a-4930-41aa-9495-52d561c42a9a",
   "metadata": {},
   "outputs": [],
   "source": [
    "a = mod2.Math()"
   ]
  },
  {
   "cell_type": "code",
   "execution_count": 8,
   "id": "be41434a-766a-4594-bf2c-bf032b2140de",
   "metadata": {},
   "outputs": [
    {
     "name": "stdout",
     "output_type": "stream",
     "text": [
      "12.566368\n"
     ]
    }
   ],
   "source": [
    "print(a.Solv(2))"
   ]
  },
  {
   "cell_type": "code",
   "execution_count": 15,
   "id": "0a9ee8b9-b4a6-4f6b-a8c4-5c8b3c89789d",
   "metadata": {},
   "outputs": [
    {
     "name": "stdout",
     "output_type": "stream",
     "text": [
      "7.5415920000000005\n"
     ]
    }
   ],
   "source": [
    "print(mod2.Add(mod2.PI, 4.4))"
   ]
  },
  {
   "cell_type": "markdown",
   "id": "1bf05799-d40a-4dd2-bfa0-d1d40553e20c",
   "metadata": {},
   "source": [
    "#### 다른 파일에서 모듈 불러오기"
   ]
  },
  {
   "cell_type": "code",
   "execution_count": 17,
   "id": "dcec9114-320a-4f5f-bb8f-d404c2c7bc12",
   "metadata": {},
   "outputs": [
    {
     "ename": "AttributeError",
     "evalue": "module 'mod2' has no attribute 'add'",
     "output_type": "error",
     "traceback": [
      "\u001b[1;31m---------------------------------------------------------------------------\u001b[0m",
      "\u001b[1;31mAttributeError\u001b[0m                            Traceback (most recent call last)",
      "Cell \u001b[1;32mIn[17], line 2\u001b[0m\n\u001b[0;32m      1\u001b[0m \u001b[38;5;28;01mimport\u001b[39;00m \u001b[38;5;21;01mmod2\u001b[39;00m\n\u001b[1;32m----> 2\u001b[0m result \u001b[38;5;241m=\u001b[39m mod2\u001b[38;5;241m.\u001b[39madd(\u001b[38;5;241m3\u001b[39m,\u001b[38;5;241m4\u001b[39m)\n\u001b[0;32m      3\u001b[0m \u001b[38;5;28mprint\u001b[39m(result)\n",
      "\u001b[1;31mAttributeError\u001b[0m: module 'mod2' has no attribute 'add'"
     ]
    }
   ],
   "source": [
    "import mod2\n",
    "result = mod2.add(3,4)\n",
    "print(result)"
   ]
  },
  {
   "cell_type": "code",
   "execution_count": 16,
   "id": "b1d2dab6-4c0e-492d-853e-f3709bce4964",
   "metadata": {},
   "outputs": [],
   "source": [
    "import sys"
   ]
  },
  {
   "cell_type": "code",
   "execution_count": 24,
   "id": "3a1f4a18-e4d8-49b5-b47a-6651fc7a95b4",
   "metadata": {},
   "outputs": [
    {
     "data": {
      "text/plain": [
       "['C:\\\\Users\\\\kjink007\\\\내 드라이브\\\\Colab Notebooks\\\\점프투파이썬',\n",
       " 'C:\\\\Users\\\\kjink007\\\\anaconda3\\\\python312.zip',\n",
       " 'C:\\\\Users\\\\kjink007\\\\anaconda3\\\\DLLs',\n",
       " 'C:\\\\Users\\\\kjink007\\\\anaconda3\\\\Lib',\n",
       " 'C:\\\\Users\\\\kjink007\\\\anaconda3',\n",
       " '',\n",
       " 'C:\\\\Users\\\\kjink007\\\\anaconda3\\\\Lib\\\\site-packages',\n",
       " 'C:\\\\Users\\\\kjink007\\\\anaconda3\\\\Lib\\\\site-packages\\\\win32',\n",
       " 'C:\\\\Users\\\\kjink007\\\\anaconda3\\\\Lib\\\\site-packages\\\\win32\\\\lib',\n",
       " 'C:\\\\Users\\\\kjink007\\\\anaconda3\\\\Lib\\\\site-packages\\\\Pythonwin',\n",
       " 'c:/doit']"
      ]
     },
     "execution_count": 24,
     "metadata": {},
     "output_type": "execute_result"
    }
   ],
   "source": [
    "sys.path"
   ]
  },
  {
   "cell_type": "code",
   "execution_count": 26,
   "id": "a1ea77c2-4012-475d-ad2f-6528a7c2c23d",
   "metadata": {},
   "outputs": [],
   "source": [
    "sys.path.append('c:/doit')"
   ]
  },
  {
   "cell_type": "code",
   "execution_count": 30,
   "id": "732247f7-9c48-4e9c-8fba-f1cbb068111a",
   "metadata": {
    "scrolled": true
   },
   "outputs": [
    {
     "data": {
      "text/plain": [
       "['C:\\\\Users\\\\kjink007\\\\내 드라이브\\\\Colab Notebooks\\\\점프투파이썬',\n",
       " 'C:\\\\Users\\\\kjink007\\\\anaconda3\\\\python312.zip',\n",
       " 'C:\\\\Users\\\\kjink007\\\\anaconda3\\\\DLLs',\n",
       " 'C:\\\\Users\\\\kjink007\\\\anaconda3\\\\Lib',\n",
       " 'C:\\\\Users\\\\kjink007\\\\anaconda3',\n",
       " '',\n",
       " 'C:\\\\Users\\\\kjink007\\\\anaconda3\\\\Lib\\\\site-packages',\n",
       " 'C:\\\\Users\\\\kjink007\\\\anaconda3\\\\Lib\\\\site-packages\\\\win32',\n",
       " 'C:\\\\Users\\\\kjink007\\\\anaconda3\\\\Lib\\\\site-packages\\\\win32\\\\lib',\n",
       " 'C:\\\\Users\\\\kjink007\\\\anaconda3\\\\Lib\\\\site-packages\\\\Pythonwin',\n",
       " 'c:/doit',\n",
       " 'c:/doit']"
      ]
     },
     "execution_count": 30,
     "metadata": {},
     "output_type": "execute_result"
    }
   ],
   "source": [
    "sys.path"
   ]
  },
  {
   "cell_type": "code",
   "execution_count": 32,
   "id": "33a286d7-8e25-47cd-b904-0f6ca6accb85",
   "metadata": {},
   "outputs": [],
   "source": [
    "import mod5"
   ]
  },
  {
   "cell_type": "code",
   "execution_count": 34,
   "id": "63710bfe-dfb6-4239-843a-175bd408b861",
   "metadata": {},
   "outputs": [
    {
     "name": "stdout",
     "output_type": "stream",
     "text": [
      "7\n"
     ]
    }
   ],
   "source": [
    "print(mod2.Add(3,4))"
   ]
  },
  {
   "cell_type": "code",
   "execution_count": null,
   "id": "deb2f2e0-f975-45b6-93d1-46878d746df2",
   "metadata": {},
   "outputs": [],
   "source": []
  },
  {
   "cell_type": "code",
   "execution_count": null,
   "id": "f3db3015-8fca-4861-8de6-587ac05d6fe6",
   "metadata": {},
   "outputs": [],
   "source": []
  },
  {
   "cell_type": "code",
   "execution_count": null,
   "id": "d69f9e44-346a-4150-a025-732b66ae4a95",
   "metadata": {},
   "outputs": [],
   "source": []
  },
  {
   "cell_type": "code",
   "execution_count": null,
   "id": "06d33808-d5f4-42de-8c5a-251c062d57fa",
   "metadata": {},
   "outputs": [],
   "source": []
  }
 ],
 "metadata": {
  "kernelspec": {
   "display_name": "Python 3 (ipykernel)",
   "language": "python",
   "name": "python3"
  },
  "language_info": {
   "codemirror_mode": {
    "name": "ipython",
    "version": 3
   },
   "file_extension": ".py",
   "mimetype": "text/x-python",
   "name": "python",
   "nbconvert_exporter": "python",
   "pygments_lexer": "ipython3",
   "version": "3.12.4"
  }
 },
 "nbformat": 4,
 "nbformat_minor": 5
}
