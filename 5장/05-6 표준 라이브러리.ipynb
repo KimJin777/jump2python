{
 "cells": [
  {
   "cell_type": "markdown",
   "id": "44c5707e-9d94-4428-986d-3a8e186692a4",
   "metadata": {},
   "source": [
    "## 표준라이브러리 \n",
    "- 라이브러리: 도서관, 유용한 프로그램을 모아놓은 것\n",
    "- 파이썬을 설치할때 자동으로 컴퓨터에 설치된다."
   ]
  },
  {
   "cell_type": "markdown",
   "id": "cb7f278f-5337-4f3b-8d9a-7d5f129c24f7",
   "metadata": {},
   "source": [
    "datetime.date : 연, 월, 일로 날짜를 표현할 때 사용하는 함수"
   ]
  },
  {
   "cell_type": "code",
   "execution_count": 3,
   "id": "8c41bf30-78e7-49cd-bcf1-4d5cbf56bc73",
   "metadata": {},
   "outputs": [],
   "source": [
    "import datetime"
   ]
  },
  {
   "cell_type": "code",
   "execution_count": 5,
   "id": "624cf034-9dc4-4246-9e3e-6286786d3c9b",
   "metadata": {},
   "outputs": [],
   "source": [
    "day1 = datetime.date(2021, 12,14)\n",
    "day2 = datetime.date(2023, 12,14)"
   ]
  },
  {
   "cell_type": "code",
   "execution_count": 7,
   "id": "8d66c529-6e63-4c46-b0e0-2093f9ab8f9f",
   "metadata": {},
   "outputs": [
    {
     "name": "stdout",
     "output_type": "stream",
     "text": [
      "2021-12-14\n",
      "2023-12-14\n"
     ]
    }
   ],
   "source": [
    "print(day1)\n",
    "print(day2)"
   ]
  },
  {
   "cell_type": "code",
   "execution_count": 9,
   "id": "35d11895-32cd-4a21-9ada-3d25e54e0e13",
   "metadata": {},
   "outputs": [
    {
     "name": "stdout",
     "output_type": "stream",
     "text": [
      "730 days, 0:00:00\n"
     ]
    }
   ],
   "source": [
    "print(day2-day1)"
   ]
  },
  {
   "cell_type": "code",
   "execution_count": 15,
   "id": "930a87f1-939d-4d08-91f8-28ace7df6448",
   "metadata": {},
   "outputs": [
    {
     "name": "stdout",
     "output_type": "stream",
     "text": [
      "1\n",
      "3\n"
     ]
    }
   ],
   "source": [
    "print(day1.weekday())\n",
    "print(day2.weekday())"
   ]
  },
  {
   "cell_type": "code",
   "execution_count": 23,
   "id": "a0b27e53-2d13-46c2-9699-9975dd40f26f",
   "metadata": {},
   "outputs": [
    {
     "name": "stdout",
     "output_type": "stream",
     "text": [
      "datetime.today() :  2024-09-06 08:49:37.363904\n",
      "datetime.today().weekday() :  4\n",
      "datetime.today().microsecond :  Friday\n"
     ]
    }
   ],
   "source": [
    "from datetime import datetime\n",
    "\n",
    "#print(\"==================\")\n",
    "print(\"datetime.today() : \" , datetime.today())\n",
    "#print(\"==================\")\n",
    "print(\"datetime.today().weekday() : \" , datetime.today().weekday())\n",
    "print(\"datetime.today().microsecond : \" , datetime.today().strftime(\"%A\"))"
   ]
  },
  {
   "cell_type": "markdown",
   "id": "86c242f1-44c9-457f-b005-ab4a4eb11e61",
   "metadata": {},
   "source": [
    "#### UTC universal time coordinated, 협정표준시\n",
    "0: 월요일 <br>\n",
    "1: 화요일 <br>\n",
    "2: 수요일 <br>\n",
    "3: 목요일 <br>\n",
    "4: 금요일 <br>\n",
    "5: 토요일 <br>\n",
    "6: 일요일 <br>"
   ]
  },
  {
   "cell_type": "code",
   "execution_count": 25,
   "id": "7b64d364-5574-4901-9325-c8a953cc7c4e",
   "metadata": {},
   "outputs": [
    {
     "data": {
      "text/plain": [
       "2"
      ]
     },
     "execution_count": 25,
     "metadata": {},
     "output_type": "execute_result"
    }
   ],
   "source": [
    "day1.isoweekday()"
   ]
  },
  {
   "cell_type": "markdown",
   "id": "1a61b436-cd92-4057-b1c6-42e6c73ae5ff",
   "metadata": {},
   "source": [
    "#### ISO 8601 International Standard Orgnization\n",
    "1: 월요일 <br>\n",
    "2: 화요일 <br>\n",
    "3: 수요일 <br>\n",
    "4: 목요일 <br>\n",
    "5: 금요일 <br>\n",
    "6: 토요일 <br>\n",
    "7: 일요일 <br>"
   ]
  },
  {
   "cell_type": "markdown",
   "id": "a7691770-fa93-492c-8b98-e60286397b9b",
   "metadata": {},
   "source": [
    "time"
   ]
  },
  {
   "cell_type": "code",
   "execution_count": 36,
   "id": "7bc58f76-29bb-4cf1-90fe-9e524f3f5a39",
   "metadata": {},
   "outputs": [],
   "source": [
    "import time"
   ]
  },
  {
   "cell_type": "code",
   "execution_count": 38,
   "id": "93490b42-a833-493a-803a-93bcd3b87a13",
   "metadata": {},
   "outputs": [
    {
     "data": {
      "text/plain": [
       "1725581630.3500984"
      ]
     },
     "execution_count": 38,
     "metadata": {},
     "output_type": "execute_result"
    }
   ],
   "source": [
    "time.time()"
   ]
  },
  {
   "cell_type": "code",
   "execution_count": 40,
   "id": "96e0d33d-53c4-46ac-b65e-7c2b9b7d3d61",
   "metadata": {},
   "outputs": [
    {
     "data": {
      "text/plain": [
       "time.struct_time(tm_year=2024, tm_mon=9, tm_mday=6, tm_hour=9, tm_min=13, tm_sec=51, tm_wday=4, tm_yday=250, tm_isdst=0)"
      ]
     },
     "execution_count": 40,
     "metadata": {},
     "output_type": "execute_result"
    }
   ],
   "source": [
    "# localtime\n",
    "time.localtime(time.time())"
   ]
  },
  {
   "cell_type": "markdown",
   "id": "e5743df1-f7b3-48b4-8bfa-cb933b0f1ca4",
   "metadata": {},
   "source": [
    "년, 월, 일, 시간, 분, 초, 요일, 1월1일로부터 며칠째, summmer time 유무"
   ]
  },
  {
   "cell_type": "code",
   "execution_count": 42,
   "id": "a65c7b0f-b58b-4a9e-8eee-8200c22cd4a1",
   "metadata": {},
   "outputs": [
    {
     "data": {
      "text/plain": [
       "[2024, 9, 6, 9, 14, 6, 4, 250, 0]"
      ]
     },
     "execution_count": 42,
     "metadata": {},
     "output_type": "execute_result"
    }
   ],
   "source": [
    "# list변환\n",
    "list(time.localtime(time.time()))"
   ]
  },
  {
   "cell_type": "code",
   "execution_count": 44,
   "id": "9bf7e396-6712-495b-b011-aa640fc360b4",
   "metadata": {},
   "outputs": [
    {
     "data": {
      "text/plain": [
       "2024"
      ]
     },
     "execution_count": 44,
     "metadata": {},
     "output_type": "execute_result"
    }
   ],
   "source": [
    "list(time.localtime(time.time()))[0]"
   ]
  },
  {
   "cell_type": "code",
   "execution_count": 46,
   "id": "c2ea26dc-9338-493d-8359-4395d87a0c1e",
   "metadata": {},
   "outputs": [
    {
     "data": {
      "text/plain": [
       "'Fri Sep  6 09:15:09 2024'"
      ]
     },
     "execution_count": 46,
     "metadata": {},
     "output_type": "execute_result"
    }
   ],
   "source": [
    "#asctime\n",
    "time.asctime(time.localtime(time.time()))"
   ]
  },
  {
   "cell_type": "code",
   "execution_count": 48,
   "id": "a1b61080-b325-4945-ae7c-de25874283ad",
   "metadata": {},
   "outputs": [
    {
     "data": {
      "text/plain": [
       "'Fri Sep  6 09:15:38 2024'"
      ]
     },
     "execution_count": 48,
     "metadata": {},
     "output_type": "execute_result"
    }
   ],
   "source": [
    "#ctime\n",
    "time.ctime()"
   ]
  },
  {
   "cell_type": "code",
   "execution_count": null,
   "id": "2fe6f143-2c94-41ce-85cc-d78bf87a218a",
   "metadata": {},
   "outputs": [],
   "source": []
  },
  {
   "cell_type": "markdown",
   "id": "d6123f4a-962e-4807-b801-4c41e86ed285",
   "metadata": {},
   "source": [
    "시간에 관계된 것을 표현하는 포맷코드 (https://docs.python.org/ko/3/library/datetime.html#strftime-and-strptime-behavior)"
   ]
  },
  {
   "cell_type": "code",
   "execution_count": null,
   "id": "3fc62c15-5c0a-45e9-99e6-9b4275df5683",
   "metadata": {},
   "outputs": [],
   "source": []
  },
  {
   "cell_type": "code",
   "execution_count": 40,
   "id": "86c5677c-9757-4a93-9aac-45be92ce74d5",
   "metadata": {},
   "outputs": [
    {
     "data": {
      "text/plain": [
       "'출력할 형식 포맷 코드'"
      ]
     },
     "execution_count": 40,
     "metadata": {},
     "output_type": "execute_result"
    }
   ],
   "source": [
    "time.strftime('출력할 형식 포맷 코드', time.localtime(time.time()))"
   ]
  },
  {
   "cell_type": "code",
   "execution_count": 50,
   "id": "975b638d-3729-42aa-8469-688f598252c8",
   "metadata": {},
   "outputs": [
    {
     "name": "stdout",
     "output_type": "stream",
     "text": [
      "Friday\n"
     ]
    }
   ],
   "source": [
    "print(time.strftime('%A', time.localtime(time.time())))"
   ]
  },
  {
   "cell_type": "code",
   "execution_count": 48,
   "id": "bdb52d2a-fd5b-49d7-90f5-62633d1ca994",
   "metadata": {},
   "outputs": [
    {
     "name": "stdout",
     "output_type": "stream",
     "text": [
      "11:16:26\n",
      "08/16/24\n",
      "Fri Aug 16 11:16:26 2024\n"
     ]
    }
   ],
   "source": [
    "print(time.strftime('%X', time.localtime(time.time())))\n",
    "print(time.strftime('%x', time.localtime(time.time())))\n",
    "print(time.strftime('%c', time.localtime(time.time())))"
   ]
  },
  {
   "cell_type": "code",
   "execution_count": 54,
   "id": "7be6dd74-fe31-4f4c-b5c7-75120e2d321d",
   "metadata": {},
   "outputs": [
    {
     "name": "stdout",
     "output_type": "stream",
     "text": [
      "0\n",
      "1\n",
      "2\n",
      "3\n",
      "4\n",
      "5\n",
      "6\n",
      "7\n",
      "8\n",
      "9\n"
     ]
    }
   ],
   "source": [
    "import time\n",
    "for i in range(10):\n",
    "    print(i)\n",
    "    time.sleep(i)"
   ]
  },
  {
   "cell_type": "markdown",
   "id": "852a5bf5-ac44-4b4a-81fa-be80971649d9",
   "metadata": {},
   "source": [
    "#### math"
   ]
  },
  {
   "cell_type": "code",
   "execution_count": 2,
   "id": "0402939c-85b2-4847-980c-a308e49f18fc",
   "metadata": {},
   "outputs": [],
   "source": [
    "import math"
   ]
  },
  {
   "cell_type": "code",
   "execution_count": 4,
   "id": "f5b2c843-51cc-4338-b36c-144ce568354d",
   "metadata": {},
   "outputs": [
    {
     "data": {
      "text/plain": [
       "20"
      ]
     },
     "execution_count": 4,
     "metadata": {},
     "output_type": "execute_result"
    }
   ],
   "source": [
    "# 최대공약수 gcd  greatest common division\n",
    "math.gcd(60, 100, 80)"
   ]
  },
  {
   "cell_type": "code",
   "execution_count": 6,
   "id": "cad31fd1-cce5-469b-be6d-6acb0c672035",
   "metadata": {},
   "outputs": [
    {
     "data": {
      "text/plain": [
       "525"
      ]
     },
     "execution_count": 6,
     "metadata": {},
     "output_type": "execute_result"
    }
   ],
   "source": [
    "# 최소공배수 lcm  least common multiple\n",
    "math.lcm(15, 25, 175)"
   ]
  },
  {
   "cell_type": "code",
   "execution_count": 62,
   "id": "663eee7c-2279-4a4a-bc01-fa9b652740cf",
   "metadata": {},
   "outputs": [],
   "source": [
    "import random"
   ]
  },
  {
   "cell_type": "code",
   "execution_count": 64,
   "id": "0f3eebfa-6ae3-4aa3-8969-615d29274d82",
   "metadata": {},
   "outputs": [
    {
     "data": {
      "text/plain": [
       "0.03167559555792254"
      ]
     },
     "execution_count": 64,
     "metadata": {},
     "output_type": "execute_result"
    }
   ],
   "source": [
    "# 임의의 random \n",
    "random.random()"
   ]
  },
  {
   "cell_type": "code",
   "execution_count": 66,
   "id": "30fddd2b-567f-4fd6-895d-98623ebfc3ba",
   "metadata": {},
   "outputs": [
    {
     "data": {
      "text/plain": [
       "['BPF',\n",
       " 'LOG4',\n",
       " 'NV_MAGICCONST',\n",
       " 'RECIP_BPF',\n",
       " 'Random',\n",
       " 'SG_MAGICCONST',\n",
       " 'SystemRandom',\n",
       " 'TWOPI',\n",
       " '_ONE',\n",
       " '_Sequence',\n",
       " '__all__',\n",
       " '__builtins__',\n",
       " '__cached__',\n",
       " '__doc__',\n",
       " '__file__',\n",
       " '__loader__',\n",
       " '__name__',\n",
       " '__package__',\n",
       " '__spec__',\n",
       " '_accumulate',\n",
       " '_acos',\n",
       " '_bisect',\n",
       " '_ceil',\n",
       " '_cos',\n",
       " '_e',\n",
       " '_exp',\n",
       " '_fabs',\n",
       " '_floor',\n",
       " '_index',\n",
       " '_inst',\n",
       " '_isfinite',\n",
       " '_lgamma',\n",
       " '_log',\n",
       " '_log2',\n",
       " '_os',\n",
       " '_pi',\n",
       " '_random',\n",
       " '_repeat',\n",
       " '_sha512',\n",
       " '_sin',\n",
       " '_sqrt',\n",
       " '_test',\n",
       " '_test_generator',\n",
       " '_urandom',\n",
       " '_warn',\n",
       " 'betavariate',\n",
       " 'binomialvariate',\n",
       " 'choice',\n",
       " 'choices',\n",
       " 'expovariate',\n",
       " 'gammavariate',\n",
       " 'gauss',\n",
       " 'getrandbits',\n",
       " 'getstate',\n",
       " 'lognormvariate',\n",
       " 'normalvariate',\n",
       " 'paretovariate',\n",
       " 'randbytes',\n",
       " 'randint',\n",
       " 'random',\n",
       " 'randrange',\n",
       " 'sample',\n",
       " 'seed',\n",
       " 'setstate',\n",
       " 'shuffle',\n",
       " 'triangular',\n",
       " 'uniform',\n",
       " 'vonmisesvariate',\n",
       " 'weibullvariate']"
      ]
     },
     "execution_count": 66,
     "metadata": {},
     "output_type": "execute_result"
    }
   ],
   "source": [
    "dir(random)"
   ]
  },
  {
   "cell_type": "code",
   "execution_count": 68,
   "id": "8c5ef13d-17dc-47c6-b67d-8ed11102c93f",
   "metadata": {},
   "outputs": [
    {
     "data": {
      "text/plain": [
       "0.5719206052527627"
      ]
     },
     "execution_count": 68,
     "metadata": {},
     "output_type": "execute_result"
    }
   ],
   "source": [
    "random.random()"
   ]
  },
  {
   "cell_type": "code",
   "execution_count": 76,
   "id": "a2767d3e-d877-4fbc-8d47-2604a3e22aa6",
   "metadata": {},
   "outputs": [
    {
     "ename": "TypeError",
     "evalue": "Random.randint() missing 2 required positional arguments: 'a' and 'b'",
     "output_type": "error",
     "traceback": [
      "\u001b[1;31m---------------------------------------------------------------------------\u001b[0m",
      "\u001b[1;31mTypeError\u001b[0m                                 Traceback (most recent call last)",
      "Cell \u001b[1;32mIn[76], line 1\u001b[0m\n\u001b[1;32m----> 1\u001b[0m random\u001b[38;5;241m.\u001b[39mrandint()\n",
      "\u001b[1;31mTypeError\u001b[0m: Random.randint() missing 2 required positional arguments: 'a' and 'b'"
     ]
    }
   ],
   "source": [
    "random.randint()"
   ]
  },
  {
   "cell_type": "code",
   "execution_count": 78,
   "id": "887f5c66-2d96-46c7-a071-baf9b8d53abf",
   "metadata": {},
   "outputs": [
    {
     "data": {
      "text/plain": [
       "80"
      ]
     },
     "execution_count": 78,
     "metadata": {},
     "output_type": "execute_result"
    }
   ],
   "source": [
    "random.randint(1, 100)"
   ]
  },
  {
   "cell_type": "code",
   "execution_count": 80,
   "id": "32062087-cdd5-433a-8f9f-729a12c69e99",
   "metadata": {},
   "outputs": [
    {
     "name": "stdout",
     "output_type": "stream",
     "text": [
      "4\n",
      "1\n",
      "3\n",
      "5\n",
      "2\n"
     ]
    }
   ],
   "source": [
    "import random\n",
    "\n",
    "def random_pop(data):\n",
    "    number = random.randint(0, len(data)-1)\n",
    "    return data.pop(number)\n",
    "\n",
    "\n",
    "if __name__ == '__main__':\n",
    "    data =[1,2,3,4,5]\n",
    "    while data:\n",
    "        print(random_pop(data))\n"
   ]
  },
  {
   "cell_type": "code",
   "execution_count": 12,
   "id": "c43122e0-c704-4b4e-9bbb-7d0bb12e9d0b",
   "metadata": {},
   "outputs": [
    {
     "name": "stdout",
     "output_type": "stream",
     "text": [
      "2\n",
      "5\n",
      "4\n",
      "1\n",
      "3\n"
     ]
    }
   ],
   "source": [
    "import random\n",
    "\n",
    "def random_pop(data):\n",
    "    number = random.choice(data)\n",
    "    data.remove(number)\n",
    "    return number\n",
    "\n",
    "\n",
    " \n",
    "data =[1,2,3,4,5]\n",
    "while data:\n",
    "    print(random_pop(data))"
   ]
  },
  {
   "cell_type": "code",
   "execution_count": 84,
   "id": "390713df-9c4c-44c6-a0b2-9ec0726b6ffa",
   "metadata": {},
   "outputs": [
    {
     "ename": "TypeError",
     "evalue": "'module' object is not callable. Did you mean: 'random.random(...)'?",
     "output_type": "error",
     "traceback": [
      "\u001b[1;31m---------------------------------------------------------------------------\u001b[0m",
      "\u001b[1;31mTypeError\u001b[0m                                 Traceback (most recent call last)",
      "Cell \u001b[1;32mIn[84], line 3\u001b[0m\n\u001b[0;32m      1\u001b[0m data \u001b[38;5;241m=\u001b[39m [\u001b[38;5;241m1\u001b[39m,\u001b[38;5;241m2\u001b[39m,\u001b[38;5;241m3\u001b[39m,\u001b[38;5;241m4\u001b[39m,\u001b[38;5;241m5\u001b[39m]\n\u001b[1;32m----> 3\u001b[0m random(data)\n",
      "\u001b[1;31mTypeError\u001b[0m: 'module' object is not callable. Did you mean: 'random.random(...)'?"
     ]
    }
   ],
   "source": [
    "data = [1,2,3,4,5]\n",
    "\n",
    "random(data)"
   ]
  },
  {
   "cell_type": "code",
   "execution_count": 14,
   "id": "076913b4-eac3-4b07-9b91-97d2c71af4ee",
   "metadata": {},
   "outputs": [
    {
     "ename": "TypeError",
     "evalue": "Random.random() takes no arguments (1 given)",
     "output_type": "error",
     "traceback": [
      "\u001b[1;31m---------------------------------------------------------------------------\u001b[0m",
      "\u001b[1;31mTypeError\u001b[0m                                 Traceback (most recent call last)",
      "Cell \u001b[1;32mIn[14], line 1\u001b[0m\n\u001b[1;32m----> 1\u001b[0m random\u001b[38;5;241m.\u001b[39mrandom(data)\n",
      "\u001b[1;31mTypeError\u001b[0m: Random.random() takes no arguments (1 given)"
     ]
    }
   ],
   "source": [
    "random.random(data)"
   ]
  },
  {
   "cell_type": "code",
   "execution_count": 88,
   "id": "af4a0356-e3f6-44d1-89e6-83f5f247faca",
   "metadata": {},
   "outputs": [
    {
     "name": "stdout",
     "output_type": "stream",
     "text": [
      "2\n"
     ]
    }
   ],
   "source": [
    "# 한개 뽑을 때\n",
    "print(random.choice(data))"
   ]
  },
  {
   "cell_type": "code",
   "execution_count": 90,
   "id": "aed6cc05-43a5-4aaa-a5ea-1d5c0bd107f0",
   "metadata": {},
   "outputs": [
    {
     "name": "stdout",
     "output_type": "stream",
     "text": [
      "[3, 4, 1, 5]\n"
     ]
    }
   ],
   "source": [
    "# 여러개 뽑을 때, 중복허용 안함\n",
    "print(random.sample(data, 4))"
   ]
  },
  {
   "cell_type": "code",
   "execution_count": 94,
   "id": "ccf49f13-65bb-4210-b8e1-06413caaddb1",
   "metadata": {},
   "outputs": [
    {
     "name": "stdout",
     "output_type": "stream",
     "text": [
      "[5, 1, 4]\n"
     ]
    }
   ],
   "source": [
    "# 여러개 뽑을 때, 중복허용  \n",
    "print([random.choice(data) for i in range(3)])"
   ]
  },
  {
   "cell_type": "code",
   "execution_count": 100,
   "id": "b3c9e41e-dbc0-4809-b310-a113fa2e8c85",
   "metadata": {},
   "outputs": [
    {
     "name": "stdout",
     "output_type": "stream",
     "text": [
      "<zip object at 0x000002650001DD00>\n",
      "[('한민서', '사탕'), ('황지민', '초코릿'), ('이영철', '젤리')]\n"
     ]
    }
   ],
   "source": [
    "\n",
    "students =['한민서', '황지민', '이영철', '이광수', '김승민']\n",
    "snacks = ['사탕', '초코릿', '젤리']\n",
    "\n",
    "result = zip(students, snacks)\n",
    "print(result)\n",
    "print(list(result))"
   ]
  },
  {
   "cell_type": "markdown",
   "id": "cdb12ed4-70be-4c02-9b3b-e5851c87c7bd",
   "metadata": {},
   "source": [
    "#### zip 함수 \n",
    ")"
   ]
  },
  {
   "cell_type": "code",
   "execution_count": 16,
   "id": "b27a9436-ce25-4979-88e6-11db2789643e",
   "metadata": {},
   "outputs": [
    {
     "name": "stdout",
     "output_type": "stream",
     "text": [
      "(1, 'sugar')\n",
      "(2, 'spice')\n",
      "(3, 'everything nice')\n"
     ]
    }
   ],
   "source": [
    "for item in zip([1, 2, 3], ['sugar', 'spice', 'everything nice']):\n",
    "    print(item)"
   ]
  },
  {
   "cell_type": "code",
   "execution_count": 29,
   "id": "a6cde690-2823-45e1-ac00-0901a74707eb",
   "metadata": {},
   "outputs": [
    {
     "name": "stdout",
     "output_type": "stream",
     "text": [
      "['sugar']\n",
      "['spice']\n",
      "['everything nice']\n"
     ]
    }
   ],
   "source": [
    "# 전치행렬처럼 사용\n",
    "l = ['sugar', 'spice', 'everything nice']\n",
    "for item in zip(l):\n",
    "    print(list(item))"
   ]
  },
  {
   "cell_type": "code",
   "execution_count": 23,
   "id": "ffc8e4bf-287c-4e52-9cab-5b55ed175394",
   "metadata": {},
   "outputs": [
    {
     "data": {
      "text/plain": [
       "True"
      ]
     },
     "execution_count": 23,
     "metadata": {},
     "output_type": "execute_result"
    }
   ],
   "source": [
    "x = [1, 2, 3]\n",
    "y = [4, 5, 6]\n",
    "list(zip(x, y))\n",
    "\n",
    "x2, y2 = zip(*zip(x, y))\n",
    "x == list(x2) and y == list(y2)"
   ]
  },
  {
   "cell_type": "code",
   "execution_count": 27,
   "id": "d505628a-5104-4266-98b4-8453a9103b91",
   "metadata": {},
   "outputs": [
    {
     "name": "stdout",
     "output_type": "stream",
     "text": [
      "(1, 2, 3) (4, 5, 6)\n",
      "[1, 2, 3] [4, 5, 6]\n"
     ]
    }
   ],
   "source": [
    "print(x2, y2)\n",
    "print(list(x2), list(y2))"
   ]
  },
  {
   "cell_type": "markdown",
   "id": "37fa8dc2-8521-45c4-9503-ee6a500135c8",
   "metadata": {},
   "source": [
    "#### itertools \n",
    "- Functions creating iterators for efficient looping\n",
    "- 효율적인 루핑을 위한 반복자를 만드는 함수"
   ]
  },
  {
   "cell_type": "code",
   "execution_count": 36,
   "id": "a7b11c5c-0330-4a79-81f4-f59f6815a9d0",
   "metadata": {},
   "outputs": [
    {
     "name": "stdout",
     "output_type": "stream",
     "text": [
      "[('한민서', '사탕'), ('황지민', '초코릿'), ('이영철', '젤리'), ('이광수', None), ('김승민', None)]\n"
     ]
    }
   ],
   "source": [
    "\n",
    "import itertools\n",
    "\n",
    "\n",
    "students =['한민서', '황지민', '이영철', '이광수', '김승민']\n",
    "snacks = ['사탕', '초코릿', '젤리']\n",
    "\n",
    "result = itertools.zip_longest(students, snacks)\n",
    "# print(result)\n",
    "print(list(result))"
   ]
  },
  {
   "cell_type": "markdown",
   "id": "3d7c4765-3b18-4179-9fd5-43c4f3be2416",
   "metadata": {},
   "source": [
    "#### zip 함수\n",
    "- Iterate over several iterables in parallel, producing tuples with an item from each one.\n",
    "- 여러 반복 가능한 항목을 병렬로 반복하면서 각 항목의 항목을 포함하는 튜플을 생성합니다."
   ]
  },
  {
   "cell_type": "code",
   "execution_count": 38,
   "id": "77c613b7-8a5e-488d-9a55-d7187f8747e6",
   "metadata": {},
   "outputs": [
    {
     "name": "stdout",
     "output_type": "stream",
     "text": [
      "('한민서', '사탕')\n",
      "('황지민', '초코릿')\n",
      "('이영철', '젤리')\n"
     ]
    },
    {
     "ename": "ValueError",
     "evalue": "zip() argument 2 is shorter than argument 1",
     "output_type": "error",
     "traceback": [
      "\u001b[1;31m---------------------------------------------------------------------------\u001b[0m",
      "\u001b[1;31mValueError\u001b[0m                                Traceback (most recent call last)",
      "Cell \u001b[1;32mIn[38], line 1\u001b[0m\n\u001b[1;32m----> 1\u001b[0m \u001b[38;5;28;01mfor\u001b[39;00m item \u001b[38;5;129;01min\u001b[39;00m \u001b[38;5;28mzip\u001b[39m(students, snacks, strict\u001b[38;5;241m=\u001b[39m\u001b[38;5;28;01mTrue\u001b[39;00m):  \n\u001b[0;32m      2\u001b[0m     \u001b[38;5;28mprint\u001b[39m(item)\n",
      "\u001b[1;31mValueError\u001b[0m: zip() argument 2 is shorter than argument 1"
     ]
    }
   ],
   "source": [
    "for item in zip(students, snacks, strict=True):  \n",
    "    print(item)"
   ]
  },
  {
   "cell_type": "code",
   "execution_count": null,
   "id": "87aed09a-ed82-42a5-9c39-665fcbd9e134",
   "metadata": {},
   "outputs": [],
   "source": [
    "result = itertools.zip_longest(students, snacks, fillvalue='새우깡')\n",
    "# print(result)\n",
    "print(list(result))"
   ]
  },
  {
   "cell_type": "code",
   "execution_count": 110,
   "id": "6ae9347a-9047-4392-be7c-4c9e4fe1127c",
   "metadata": {},
   "outputs": [
    {
     "name": "stdout",
     "output_type": "stream",
     "text": [
      "[('한민서', '사탕'), ('황지민', '초코릿'), ('이영철', '젤리'), ('이광수', ['새우깡', '토마토']), ('김승민', ['새우깡', '토마토'])]\n"
     ]
    }
   ],
   "source": [
    "result = itertools.zip_longest(students, snacks, fillvalue=['새우깡', '토마토'])\n",
    "# print(result)\n",
    "print(list(result))"
   ]
  },
  {
   "cell_type": "markdown",
   "id": "ae971afc-b145-4d1c-826d-7253219d3011",
   "metadata": {},
   "source": [
    "#### permutations\n",
    "- Return successive r length permutations of elements from the iterable.\n",
    "- 반복 가능한 요소에서 길이가 r인 연속된 요소 순열을 반환합니다."
   ]
  },
  {
   "cell_type": "code",
   "execution_count": 122,
   "id": "deca4885-e6d1-4c6d-a0f0-b9bfce9ea443",
   "metadata": {},
   "outputs": [
    {
     "data": {
      "text/plain": [
       "[(1, 2),\n",
       " (1, 3),\n",
       " (1, 4),\n",
       " (2, 1),\n",
       " (2, 3),\n",
       " (2, 4),\n",
       " (3, 1),\n",
       " (3, 2),\n",
       " (3, 4),\n",
       " (4, 1),\n",
       " (4, 2),\n",
       " (4, 3)]"
      ]
     },
     "execution_count": 122,
     "metadata": {},
     "output_type": "execute_result"
    }
   ],
   "source": [
    "import itertools\n",
    "\n",
    "l = [1,2,3,4]\n",
    "list(itertools.permutations(l,2))"
   ]
  },
  {
   "cell_type": "code",
   "execution_count": 124,
   "id": "df6e95cc-ede1-468f-a7dd-44bacfa09ed6",
   "metadata": {},
   "outputs": [
    {
     "name": "stdout",
     "output_type": "stream",
     "text": [
      "3\n",
      "4\n",
      "5\n",
      "3\n",
      "5\n",
      "6\n",
      "4\n",
      "5\n",
      "7\n",
      "5\n",
      "6\n",
      "7\n"
     ]
    }
   ],
   "source": [
    "l = [1,2,3,4] #정수\n",
    "for a, b in itertools.permutations(l, 2):\n",
    "    print(a+b)"
   ]
  },
  {
   "cell_type": "code",
   "execution_count": 126,
   "id": "26ab4d3b-2473-4a87-9e44-9dcb410bfa45",
   "metadata": {},
   "outputs": [
    {
     "name": "stdout",
     "output_type": "stream",
     "text": [
      "12\n",
      "13\n",
      "14\n",
      "21\n",
      "23\n",
      "24\n",
      "31\n",
      "32\n",
      "34\n",
      "41\n",
      "42\n",
      "43\n"
     ]
    }
   ],
   "source": [
    "l = ['1','2','3','4'] # 문자열\n",
    "for a, b in itertools.permutations(l, 2):\n",
    "    print(a+b)"
   ]
  },
  {
   "cell_type": "markdown",
   "id": "f9bea08c-3b99-48e6-b986-f50c373662aa",
   "metadata": {},
   "source": [
    "#### combinations\n",
    "- 입력 iterable에서 요소의 길이 r 서브 시퀀스들을 반환합니다."
   ]
  },
  {
   "cell_type": "code",
   "execution_count": 49,
   "id": "0fe1c55d-c741-447e-9451-11168e35be96",
   "metadata": {},
   "outputs": [
    {
     "name": "stderr",
     "output_type": "stream",
     "text": [
      "IOPub data rate exceeded.\n",
      "The Jupyter server will temporarily stop sending output\n",
      "to the client in order to avoid crashing it.\n",
      "To change this limit, set the config variable\n",
      "`--ServerApp.iopub_data_rate_limit`.\n",
      "\n",
      "Current values:\n",
      "ServerApp.iopub_data_rate_limit=1000000.0 (bytes/sec)\n",
      "ServerApp.rate_limit_window=3.0 (secs)\n",
      "\n"
     ]
    }
   ],
   "source": [
    "import itertools\n",
    "\n",
    "l = list(range(1, 46))\n",
    "\n",
    "it = itertools.combinations(l, 6)\n",
    "\n",
    "print(list(it))"
   ]
  },
  {
   "cell_type": "code",
   "execution_count": 51,
   "id": "3e531c66-0f49-4947-98b2-bcd1f116d17d",
   "metadata": {
    "scrolled": true
   },
   "outputs": [
    {
     "data": {
      "text/plain": [
       "8145060"
      ]
     },
     "execution_count": 51,
     "metadata": {},
     "output_type": "execute_result"
    }
   ],
   "source": [
    "len(list(itertools.combinations(range(1,46), 6)))"
   ]
  },
  {
   "cell_type": "code",
   "execution_count": 53,
   "id": "e5ffdc96-9974-4117-9802-2cb03734ba83",
   "metadata": {},
   "outputs": [
    {
     "data": {
      "text/plain": [
       "15890700"
      ]
     },
     "execution_count": 53,
     "metadata": {},
     "output_type": "execute_result"
    }
   ],
   "source": [
    "# 중복을 허용하는 경우\n",
    "len(list(itertools.combinations_with_replacement(range(1,46), 6)))"
   ]
  },
  {
   "cell_type": "code",
   "execution_count": 29,
   "id": "cc028faa-4427-4d32-807f-462675e66345",
   "metadata": {},
   "outputs": [
    {
     "name": "stdout",
     "output_type": "stream",
     "text": [
      "9,366,819.000000\n"
     ]
    }
   ],
   "source": [
    "# 로또의 확률 https://coding-factory.tistory.com/606\n",
    "x = 46*45*44*43*42*41/(6*5*4*3*2*1)\n",
    "print(format(x, ',f'))  "
   ]
  },
  {
   "cell_type": "code",
   "execution_count": 31,
   "id": "5e5dca05-bf40-44e4-bc36-677b0a39bddb",
   "metadata": {},
   "outputs": [
    {
     "name": "stdout",
     "output_type": "stream",
     "text": [
      "9,366,819.000000\n"
     ]
    }
   ],
   "source": [
    "import math\n",
    "\n",
    "x = math.factorial(46)/math.factorial(46-6)/math.factorial(6)\n",
    "print(format(x, ',f'))  "
   ]
  },
  {
   "cell_type": "code",
   "execution_count": 25,
   "id": "12aaa06b-6cc4-463b-aa6a-4eb6f8dc7663",
   "metadata": {},
   "outputs": [
    {
     "name": "stdout",
     "output_type": "stream",
     "text": [
      "8,145,060\n"
     ]
    }
   ],
   "source": [
    "import itertools\n",
    "x = len(list(itertools.combinations(range(1,46), 6)))\n",
    "print(format(x, ',d')) "
   ]
  },
  {
   "cell_type": "code",
   "execution_count": 33,
   "id": "eb1664e2-f72a-4695-b10d-fafc7afc937b",
   "metadata": {},
   "outputs": [
    {
     "name": "stdout",
     "output_type": "stream",
     "text": [
      "8,145,060.000000\n"
     ]
    }
   ],
   "source": [
    "#????????????????\n",
    "x = 45*44*43*42*41*40/(6*5*4*3*2*1)\n",
    "print(format(x, ',f'))  "
   ]
  },
  {
   "cell_type": "code",
   "execution_count": null,
   "id": "5e1a7ca9-a4a1-44f2-b909-09f8145c32fc",
   "metadata": {},
   "outputs": [],
   "source": []
  },
  {
   "cell_type": "markdown",
   "id": "c1920bf1-f582-48ad-843d-eaf5f86beec3",
   "metadata": {
    "jp-MarkdownHeadingCollapsed": true
   },
   "source": [
    "\n"
   ]
  },
  {
   "cell_type": "markdown",
   "id": "6873ceec-59b0-401f-a322-52448a4ea577",
   "metadata": {},
   "source": [
    "#### functools \n",
    "- Higher-order functions and operations on callable objects\n",
    "- 모듈은 고차 함수를 위한 것입니다"
   ]
  },
  {
   "cell_type": "code",
   "execution_count": 60,
   "id": "cfd66840-8170-41be-950a-19b3514d61de",
   "metadata": {},
   "outputs": [
    {
     "name": "stdout",
     "output_type": "stream",
     "text": [
      "1\n",
      "3\n",
      "6\n",
      "10\n",
      "15\n",
      "--------------------------------------------\n",
      "15\n"
     ]
    }
   ],
   "source": [
    "def add(data):\n",
    "    result = 0\n",
    "    for i in data:\n",
    "        result += i\n",
    "        print(result)\n",
    "    return result\n",
    "\n",
    "\n",
    "data = [1,2,3,4,5]\n",
    "result = add(data)\n",
    "print('--------------------------------------------')\n",
    "print(result)\n",
    "\n"
   ]
  },
  {
   "cell_type": "code",
   "execution_count": 39,
   "id": "ed15b717-a19d-4ecd-a9e8-1452353b3b95",
   "metadata": {},
   "outputs": [
    {
     "name": "stdout",
     "output_type": "stream",
     "text": [
      "15\n"
     ]
    }
   ],
   "source": [
    "import functools\n",
    "\n",
    "data = [1,2,3,4,5]\n",
    "\n",
    "result = functools.reduce(lambda x, y: x+y, data)\n",
    "print(result)"
   ]
  },
  {
   "cell_type": "code",
   "execution_count": 49,
   "id": "7469b814-c524-4a2d-8b2d-459522408644",
   "metadata": {},
   "outputs": [
    {
     "ename": "SyntaxError",
     "evalue": "invalid syntax (2904513295.py, line 1)",
     "output_type": "error",
     "traceback": [
      "\u001b[1;36m  Cell \u001b[1;32mIn[49], line 1\u001b[1;36m\u001b[0m\n\u001b[1;33m    l = lambda(x, y: x+y, data)\u001b[0m\n\u001b[1;37m              ^\u001b[0m\n\u001b[1;31mSyntaxError\u001b[0m\u001b[1;31m:\u001b[0m invalid syntax\n"
     ]
    }
   ],
   "source": [
    "# lambda는 임시함수, 단독으로 쓰이지 못함, LISP에서 왔음\n",
    "l = lambda(x, y: x+y, data)\n",
    "print(l)"
   ]
  },
  {
   "cell_type": "markdown",
   "id": "606ecb91-aa75-48e4-95a3-ccd2a721643a",
   "metadata": {},
   "source": [
    "#### reduce\n",
    "- 두 인자의 function을 왼쪽에서 오른쪽으로 iterable의 항목에 누적적으로 적용해서, 이터러블을 단일 값으로 줄입니다.\n",
    "- 예를 들어, reduce(lambda x, y: x+y, [1, 2, 3, 4, 5])는 ((((1+2)+3)+4)+5)를 계산합니다.\n",
    "- 왼쪽 인자 x는 누적값이고 오른쪽 인자 y는 iterable에서 온 갱신 값입니다.\n",
    "- 선택적 initializer가 있으면, 계산에서 이터러블의 항목 앞에 배치되고, 이터러블이 비어있을 때 기본값의 역할을 합니다.\n",
    "- initializer가 제공되지 않고 iterable에 하나의 항목만 포함되면, 첫 번째 항목이 반환됩니다."
   ]
  },
  {
   "cell_type": "code",
   "execution_count": 51,
   "id": "07e3bd78-14b5-499e-8ab9-c4493598a41f",
   "metadata": {},
   "outputs": [
    {
     "name": "stdout",
     "output_type": "stream",
     "text": [
      "8\n"
     ]
    }
   ],
   "source": [
    "import functools\n",
    "\n",
    "data = [1,8,3,4,5,4]\n",
    "\n",
    "result = functools.reduce(lambda x, y: x if x > y else y, data)\n",
    "print(result)"
   ]
  },
  {
   "cell_type": "markdown",
   "id": "66d5c86e-93f0-4dc3-88aa-7262edd8a4c3",
   "metadata": {},
   "source": [
    "#### operator \n",
    "- 파이썬의 내장 연산자에 해당하는 효율적인 함수 집합을 내보냅니다."
   ]
  },
  {
   "cell_type": "code",
   "execution_count": 68,
   "id": "329d62ab-7339-4907-8e99-35cd6f7708f9",
   "metadata": {},
   "outputs": [],
   "source": [
    "\n",
    "\n",
    "students = [\n",
    "    ('jame', 22, 'A'),\n",
    "    ('dave', 34, 'B'),\n",
    "    ('sally', 17, 'B'),\n",
    "]"
   ]
  },
  {
   "cell_type": "code",
   "execution_count": 70,
   "id": "37fcc97a-2fb5-4002-8970-c104a52670f5",
   "metadata": {},
   "outputs": [
    {
     "name": "stdout",
     "output_type": "stream",
     "text": [
      "[('dave', 34, 'B'), ('jame', 22, 'A'), ('sally', 17, 'B')]\n"
     ]
    }
   ],
   "source": [
    "result = sorted(students)\n",
    "print(result)"
   ]
  },
  {
   "cell_type": "code",
   "execution_count": 74,
   "id": "4ab084cf-5096-4c48-83dd-99ec8f33cf9a",
   "metadata": {},
   "outputs": [
    {
     "ename": "TypeError",
     "evalue": "'tuple' object is not callable",
     "output_type": "error",
     "traceback": [
      "\u001b[1;31m---------------------------------------------------------------------------\u001b[0m",
      "\u001b[1;31mTypeError\u001b[0m                                 Traceback (most recent call last)",
      "Cell \u001b[1;32mIn[74], line 1\u001b[0m\n\u001b[1;32m----> 1\u001b[0m result \u001b[38;5;241m=\u001b[39m \u001b[38;5;28msorted\u001b[39m(students, key\u001b[38;5;241m=\u001b[39mstudents[\u001b[38;5;241m1\u001b[39m])\n\u001b[0;32m      2\u001b[0m \u001b[38;5;28mprint\u001b[39m(result)\n",
      "\u001b[1;31mTypeError\u001b[0m: 'tuple' object is not callable"
     ]
    }
   ],
   "source": [
    "result = sorted(students, key=students[1])\n",
    "print(result)"
   ]
  },
  {
   "cell_type": "code",
   "execution_count": null,
   "id": "9aa69a48-83b2-4810-af60-c5b9f25b234e",
   "metadata": {},
   "outputs": [],
   "source": []
  },
  {
   "cell_type": "code",
   "execution_count": 72,
   "id": "04a7432d-f873-4b7e-adb8-1d871fb70a72",
   "metadata": {},
   "outputs": [
    {
     "name": "stdout",
     "output_type": "stream",
     "text": [
      "[('sally', 17, 'B'), ('jame', 22, 'A'), ('dave', 34, 'B')]\n"
     ]
    }
   ],
   "source": [
    "from operator import itemgetter\n",
    "\n",
    "result = sorted(students, key= itemgetter(1))\n",
    "\n",
    "print(result)"
   ]
  },
  {
   "cell_type": "code",
   "execution_count": null,
   "id": "7cb1be61-e2bb-492e-bf2d-0aeaff1847f9",
   "metadata": {},
   "outputs": [],
   "source": []
  },
  {
   "cell_type": "code",
   "execution_count": 76,
   "id": "5f238c51-1b5f-40e4-aca9-61ef2541590c",
   "metadata": {},
   "outputs": [],
   "source": [
    "students = [\n",
    "    {'name': 'jame', 'age': 22, 'grade': 'A'},\n",
    "    {'name': 'dave', 'age': 34, 'grade': 'B'},\n",
    "    {'name': 'sally', 'age': 17, 'grade': 'B'},\n",
    "]"
   ]
  },
  {
   "cell_type": "code",
   "execution_count": 78,
   "id": "cb45bd9f-cf01-45fd-8c85-ec32c9244aa9",
   "metadata": {},
   "outputs": [
    {
     "name": "stdout",
     "output_type": "stream",
     "text": [
      "[{'name': 'sally', 'age': 17, 'grade': 'B'}, {'name': 'jame', 'age': 22, 'grade': 'A'}, {'name': 'dave', 'age': 34, 'grade': 'B'}]\n"
     ]
    }
   ],
   "source": [
    "from operator import itemgetter\n",
    "\n",
    "result = sorted(students, key= itemgetter('age'))\n",
    "\n",
    "print(result)"
   ]
  },
  {
   "cell_type": "code",
   "execution_count": null,
   "id": "9ec27205-1f48-4c87-a764-2502758f7f60",
   "metadata": {},
   "outputs": [],
   "source": []
  },
  {
   "cell_type": "code",
   "execution_count": 80,
   "id": "1426229a-e7df-4052-af27-19725bcc064c",
   "metadata": {},
   "outputs": [],
   "source": [
    "from operator import attrgetter\n",
    "\n",
    "class Student:\n",
    "    def __init__(self, name, age, grade):\n",
    "        self.name = name\n",
    "        self.age = age\n",
    "        self.grade = grade\n",
    "\n",
    "\n",
    "students = [\n",
    "    Student('jane', 22, 'A'),\n",
    "    Student('dave', 32, 'B'),    \n",
    "    Student('sally', 17, 'B'),\n",
    "]"
   ]
  },
  {
   "cell_type": "code",
   "execution_count": 90,
   "id": "9bf64bcc-45ef-4a39-a8a1-8d76a5d2127f",
   "metadata": {},
   "outputs": [
    {
     "name": "stdout",
     "output_type": "stream",
     "text": [
      "[<__main__.Student object at 0x00000208FCB81520>, <__main__.Student object at 0x00000208FCB806E0>, <__main__.Student object at 0x00000208FCB82840>]\n"
     ]
    }
   ],
   "source": [
    "result =  sorted(students, key=attrgetter('age'))\n",
    "print(result)"
   ]
  },
  {
   "cell_type": "markdown",
   "id": "1f2626e2-a4ac-4da2-8944-9fe94a339adc",
   "metadata": {},
   "source": [
    "#### shutil \n",
    "- 모듈은 파일과 파일 모음에 대한 여러 가지 고수준 연산을 제공합니다. 특히, 파일 복사와 삭제를 지원하는 함수가 제공됩니다. "
   ]
  },
  {
   "cell_type": "code",
   "execution_count": 93,
   "id": "7caaddc6-c044-4bd7-addd-850c4ea7fb32",
   "metadata": {},
   "outputs": [
    {
     "data": {
      "text/plain": [
       "'./temp/foo.txt.back'"
      ]
     },
     "execution_count": 93,
     "metadata": {},
     "output_type": "execute_result"
    }
   ],
   "source": [
    "import shutil\n",
    "\n",
    "shutil.copy('./foo.txt', './temp/foo.txt.back')"
   ]
  },
  {
   "cell_type": "code",
   "execution_count": null,
   "id": "16c553f7-adeb-49f3-a75f-30154f1052ec",
   "metadata": {},
   "outputs": [],
   "source": [
    "import shutil\n",
    "\n",
    "shutil.move('./foo.txt', './temp/foo.txt.back')"
   ]
  },
  {
   "cell_type": "markdown",
   "id": "59ea8e17-999c-43d3-8984-8be176b459fa",
   "metadata": {},
   "source": [
    "#### glob\n",
    "- 특정 디렉토리에 있는 파일 알아내기"
   ]
  },
  {
   "cell_type": "code",
   "execution_count": 97,
   "id": "6958a5cd-16cf-4992-9926-d38e74c602b8",
   "metadata": {},
   "outputs": [
    {
     "data": {
      "text/plain": [
       "['.\\\\05-2 모듈.ipynb',\n",
       " '.\\\\05-4 예외처리.ipynb',\n",
       " '.\\\\05-5 내장함수.ipynb',\n",
       " '.\\\\05-6 표준 라이브러리.ipynb',\n",
       " '.\\\\fo2o.txt',\n",
       " '.\\\\foo.txt',\n",
       " '.\\\\mod1.py',\n",
       " '.\\\\mod2.py',\n",
       " '.\\\\mod3.py',\n",
       " '.\\\\moood1.py',\n",
       " '.\\\\Untitled.ipynb',\n",
       " '.\\\\Untitled1.ipynb']"
      ]
     },
     "execution_count": 97,
     "metadata": {},
     "output_type": "execute_result"
    }
   ],
   "source": [
    "import glob\n",
    "glob.glob('./*.*')"
   ]
  },
  {
   "cell_type": "markdown",
   "id": "ca9aaee8-3563-43fa-ae5c-e3e9178df454",
   "metadata": {},
   "source": [
    "#### pickle\n",
    "- 객체의 형태를 그대로 유지하면서 파일을 저장하고 불러올 수 있게 하는 모듈이다."
   ]
  },
  {
   "cell_type": "code",
   "execution_count": 99,
   "id": "a933583d-923d-4f3b-a065-1c6fda6eeb99",
   "metadata": {},
   "outputs": [],
   "source": [
    "import pickle\n",
    "\n",
    "f = open('test.txt', 'wb')\n",
    "data = {1: 'python', 2:'you need'}\n",
    "pickle.dump(data, f)\n",
    "f.close()"
   ]
  },
  {
   "cell_type": "code",
   "execution_count": 101,
   "id": "857ea89e-d76a-4830-a599-30d518884f40",
   "metadata": {},
   "outputs": [
    {
     "name": "stdout",
     "output_type": "stream",
     "text": [
      "{1: 'python', 2: 'you need'}\n"
     ]
    }
   ],
   "source": [
    "\n",
    "import pickle\n",
    "\n",
    "f = open('test.txt', 'rb')\n",
    "data = pickle.load(f)\n",
    "print(data)\n",
    "f.close()\n"
   ]
  },
  {
   "cell_type": "markdown",
   "id": "624b22f8-ec04-443c-a707-ac2b4521d871",
   "metadata": {},
   "source": [
    "#### os\n",
    "- 환경변수나 디렉토리, 파일 등의 OS자원을 제어할 수 있게 해주는 모듈"
   ]
  },
  {
   "cell_type": "code",
   "execution_count": 114,
   "id": "f8984ffc-4c4a-48b2-bd33-cb1697cd7b45",
   "metadata": {},
   "outputs": [
    {
     "data": {
      "text/plain": [
       "environ{'ALLUSERSPROFILE': 'C:\\\\ProgramData',\n",
       "        'APPDATA': 'C:\\\\Users\\\\kjink007\\\\AppData\\\\Roaming',\n",
       "        'COMMONPROGRAMFILES': 'C:\\\\Program Files\\\\Common Files',\n",
       "        'COMMONPROGRAMFILES(X86)': 'C:\\\\Program Files (x86)\\\\Common Files',\n",
       "        'COMMONPROGRAMW6432': 'C:\\\\Program Files\\\\Common Files',\n",
       "        'COMPUTERNAME': '사무실컴퓨터1',\n",
       "        'COMSPEC': 'C:\\\\Windows\\\\system32\\\\cmd.exe',\n",
       "        'CONDA_PREFIX': 'C:\\\\Users\\\\kjink007\\\\anaconda3',\n",
       "        'DRIVERDATA': 'C:\\\\Windows\\\\System32\\\\Drivers\\\\DriverData',\n",
       "        'FPS_BROWSER_APP_PROFILE_STRING': 'Internet Explorer',\n",
       "        'FPS_BROWSER_USER_PROFILE_STRING': 'Default',\n",
       "        'HOMEDRIVE': 'C:',\n",
       "        'HOMEPATH': '\\\\Users\\\\kjink007',\n",
       "        'IPY_INTERRUPT_EVENT': '3408',\n",
       "        'JPY_INTERRUPT_EVENT': '3408',\n",
       "        'JPY_PARENT_PID': '3396',\n",
       "        'JPY_SESSION_NAME': 'C:\\\\Users\\\\kjink007\\\\내 드라이브\\\\Colab Notebooks\\\\2024년 2학기 연암공전\\\\점프투파이썬\\\\05-6 표준 라이브러리.ipynb',\n",
       "        'LOCALAPPDATA': 'C:\\\\Users\\\\kjink007\\\\AppData\\\\Local',\n",
       "        'LOGONSERVER': '\\\\\\\\사무실컴퓨터1',\n",
       "        'NUMBER_OF_PROCESSORS': '4',\n",
       "        'ONEDRIVE': 'C:\\\\Users\\\\Administrator\\\\OneDrive',\n",
       "        'OS': 'Windows_NT',\n",
       "        'PATH': 'C:\\\\Users\\\\kjink007\\\\anaconda3;C:\\\\Users\\\\kjink007\\\\anaconda3\\\\Library\\\\mingw-w64\\\\bin;C:\\\\Users\\\\kjink007\\\\anaconda3\\\\Library\\\\usr\\\\bin;C:\\\\Users\\\\kjink007\\\\anaconda3\\\\Library\\\\bin;C:\\\\Users\\\\kjink007\\\\anaconda3\\\\Scripts;C:\\\\Windows\\\\system32;C:\\\\Windows;C:\\\\Windows\\\\System32\\\\Wbem;C:\\\\Windows\\\\System32\\\\WindowsPowerShell\\\\v1.0\\\\;C:\\\\Windows\\\\System32\\\\OpenSSH\\\\;C:\\\\Program Files\\\\Bandizip\\\\;C:\\\\Users\\\\kjink007\\\\AppData\\\\Local\\\\Microsoft\\\\WindowsApps;;C:\\\\Users\\\\kjink007\\\\AppData\\\\Local\\\\Programs\\\\Ollama',\n",
       "        'PATHEXT': '.COM;.EXE;.BAT;.CMD;.VBS;.VBE;.JS;.JSE;.WSF;.WSH;.MSC',\n",
       "        'PROCESSOR_ARCHITECTURE': 'AMD64',\n",
       "        'PROCESSOR_IDENTIFIER': 'Intel64 Family 6 Model 94 Stepping 3, GenuineIntel',\n",
       "        'PROCESSOR_LEVEL': '6',\n",
       "        'PROCESSOR_REVISION': '5e03',\n",
       "        'PROGRAMDATA': 'C:\\\\ProgramData',\n",
       "        'PROGRAMFILES': 'C:\\\\Program Files',\n",
       "        'PROGRAMFILES(X86)': 'C:\\\\Program Files (x86)',\n",
       "        'PROGRAMW6432': 'C:\\\\Program Files',\n",
       "        'PSMODULEPATH': 'C:\\\\Program Files\\\\WindowsPowerShell\\\\Modules;C:\\\\Windows\\\\system32\\\\WindowsPowerShell\\\\v1.0\\\\Modules',\n",
       "        'PUBLIC': 'C:\\\\Users\\\\Public',\n",
       "        'PYDEVD_USE_FRAME_EVAL': 'NO',\n",
       "        'SESSIONNAME': 'Console',\n",
       "        'SYSTEMDRIVE': 'C:',\n",
       "        'SYSTEMROOT': 'C:\\\\Windows',\n",
       "        'TEMP': 'C:\\\\Users\\\\kjink007\\\\AppData\\\\Local\\\\Temp',\n",
       "        'TMP': 'C:\\\\Users\\\\kjink007\\\\AppData\\\\Local\\\\Temp',\n",
       "        'USERDOMAIN': '사무실컴퓨터1',\n",
       "        'USERDOMAIN_ROAMINGPROFILE': '사무실컴퓨터1',\n",
       "        'USERNAME': 'kjink007',\n",
       "        'USERPROFILE': 'C:\\\\Users\\\\kjink007',\n",
       "        'WINDIR': 'C:\\\\Windows',\n",
       "        'ZES_ENABLE_SYSMAN': '1',\n",
       "        'TERM': 'xterm-color',\n",
       "        'CLICOLOR': '1',\n",
       "        'FORCE_COLOR': '1',\n",
       "        'CLICOLOR_FORCE': '1',\n",
       "        'PAGER': 'cat',\n",
       "        'GIT_PAGER': 'cat',\n",
       "        'MPLBACKEND': 'module://matplotlib_inline.backend_inline'}"
      ]
     },
     "execution_count": 114,
     "metadata": {},
     "output_type": "execute_result"
    }
   ],
   "source": [
    "import os\n",
    "os.environ"
   ]
  },
  {
   "cell_type": "code",
   "execution_count": 116,
   "id": "699aa13e-4eb8-47a7-9465-883f4cd5f169",
   "metadata": {},
   "outputs": [
    {
     "data": {
      "text/plain": [
       "'C:\\\\Users\\\\kjink007\\\\anaconda3;C:\\\\Users\\\\kjink007\\\\anaconda3\\\\Library\\\\mingw-w64\\\\bin;C:\\\\Users\\\\kjink007\\\\anaconda3\\\\Library\\\\usr\\\\bin;C:\\\\Users\\\\kjink007\\\\anaconda3\\\\Library\\\\bin;C:\\\\Users\\\\kjink007\\\\anaconda3\\\\Scripts;C:\\\\Windows\\\\system32;C:\\\\Windows;C:\\\\Windows\\\\System32\\\\Wbem;C:\\\\Windows\\\\System32\\\\WindowsPowerShell\\\\v1.0\\\\;C:\\\\Windows\\\\System32\\\\OpenSSH\\\\;C:\\\\Program Files\\\\Bandizip\\\\;C:\\\\Users\\\\kjink007\\\\AppData\\\\Local\\\\Microsoft\\\\WindowsApps;;C:\\\\Users\\\\kjink007\\\\AppData\\\\Local\\\\Programs\\\\Ollama'"
      ]
     },
     "execution_count": 116,
     "metadata": {},
     "output_type": "execute_result"
    }
   ],
   "source": [
    "os.environ['PATH']"
   ]
  },
  {
   "cell_type": "code",
   "execution_count": 118,
   "id": "c40cef5a-47c6-4017-94df-392c84117595",
   "metadata": {},
   "outputs": [
    {
     "data": {
      "text/plain": [
       "'C:\\\\Users\\\\kjink007\\\\내 드라이브\\\\Colab Notebooks\\\\2024년 2학기 연암공전\\\\점프투파이썬'"
      ]
     },
     "execution_count": 118,
     "metadata": {},
     "output_type": "execute_result"
    }
   ],
   "source": [
    "os.getcwd()"
   ]
  },
  {
   "cell_type": "code",
   "execution_count": 120,
   "id": "90a76b3f-3885-49d9-93fb-cdae653d1731",
   "metadata": {},
   "outputs": [
    {
     "data": {
      "text/plain": [
       "0"
      ]
     },
     "execution_count": 120,
     "metadata": {},
     "output_type": "execute_result"
    }
   ],
   "source": [
    "os.system('dir')"
   ]
  },
  {
   "cell_type": "code",
   "execution_count": 122,
   "id": "dc0ec52f-5da6-4f3b-9a35-446e5cedd93e",
   "metadata": {},
   "outputs": [],
   "source": [
    "f = os.popen('dir')"
   ]
  },
  {
   "cell_type": "code",
   "execution_count": 124,
   "id": "d0490eac-33f7-485b-9a58-2db928c79975",
   "metadata": {},
   "outputs": [
    {
     "name": "stdout",
     "output_type": "stream",
     "text": [
      " C 드라이브의 볼륨: Pro\n",
      " 볼륨 일련 번호: 6609-791A\n",
      "\n",
      " C:\\Users\\kjink007\\내 드라이브\\Colab Notebooks\\2024년 2학기 연암공전\\점프투파이썬 디렉터리\n",
      "\n",
      "2024-09-07  오전 08:20    <DIR>          .\n",
      "2024-09-07  오전 08:20    <DIR>          ..\n",
      "2024-09-06  오전 08:57    <DIR>          .ipynb_checkpoints\n",
      "2024-08-25  오후 04:24         3,824,847 01-1 파이썬이란.ipynb\n",
      "2024-08-25  오후 04:35             3,710 01-2 파이썬의 특징.ipynb\n",
      "2024-08-25  오후 05:04             2,032 01-3 파이썬으로 무엇을 하 수있을까.ipynb\n",
      "2024-08-27  오후 02:22         2,298,668 01-4 파이썬 설치하기.ipynb\n",
      "2024-08-25  오후 05:16             5,989 01-5 파이썬 둘러보기.ipynb\n",
      "2024-08-27  오후 03:49             6,970 02-1 숫자형.ipynb\n",
      "2024-08-27  오후 04:28            39,271 02-2 문자열 자료형.ipynb\n",
      "2024-08-27  오후 04:33            22,431 02-3 리스트 자료형.ipynb\n",
      "2024-08-27  오후 04:36             7,932 02-4 튜플 자료형.ipynb\n",
      "2024-08-27  오후 04:50            53,398 02-5 딕셔너리 자료형.ipynb\n",
      "2024-08-27  오후 04:55            12,226 02-6 집합 자료형.ipynb\n",
      "2024-08-27  오후 05:18           206,699 02-7 불 자료형.ipynb\n",
      "2024-08-27  오후 05:32             9,905 02-8 자료형의 값을 저장하는 공간, 변수.ipynb\n",
      "2024-09-04  오전 09:54            71,609 03-1 if 문.ipynb\n",
      "2024-09-05  오전 09:14            36,765 03-2 while 문.ipynb\n",
      "2024-09-05  오전 10:09            15,000 03-3 for 문.ipynb\n",
      "2024-09-05  오후 05:59            56,058 03장 조건문.pptx\n",
      "2024-09-05  오후 04:05            23,868 04-1 함수.ipynb\n",
      "2024-09-05  오후 04:08             5,019 04-2 사용자 입출력.ipynb\n",
      "2024-09-05  오후 04:17            11,556 04-3 파일 읽고 쓰기.ipynb\n",
      "2024-09-05  오후 04:23             2,813 04-4 프로그램의 입출력.ipynb\n",
      "2024-09-05  오후 04:41         1,357,811 05-1 클래스.ipynb\n",
      "2024-09-05  오후 04:53            10,896 05-2 모듈.ipynb\n",
      "2024-09-05  오후 05:28            25,893 05-3  패키지.ipynb\n",
      "2024-09-05  오후 05:48            15,179 05-4 예외처리.ipynb\n",
      "2024-09-05  오후 05:59            35,258 05-5 내장함수.ipynb\n",
      "2024-09-07  오전 08:20            66,275 05-6 표준 라이브러리.ipynb\n",
      "2024-08-16  오후 02:49            30,482 05-7 외부 라이브러리.ipynb\n",
      "2024-08-21  오후 05:45             2,608 06-1 나의 프로그램.ipynb\n",
      "2024-08-21  오후 05:46            21,707 06-2 배수 더하기.ipynb\n",
      "2024-08-21  오후 05:48             2,125 06-3 게시판 페이징하기.ipynb\n",
      "2024-08-21  오후 05:50             3,084 06-4 메모장 만들기.ipynb\n",
      "2024-08-21  오후 05:53             1,459 06-5 공백문자.ipynb\n",
      "2024-08-21  오후 05:54        13,664,427 06-6 하위 디렉토리 검색하기.ipynb\n",
      "2024-08-16  오후 06:13             8,206 07-1 파이썬과 유니코드.ipynb\n",
      "2024-08-16  오후 07:40         2,344,661 07-2 클로저와 데코레이터.ipynb\n",
      "2024-08-16  오후 07:59            10,554 07-3 이터레이터와 제너레이터.ipynb\n",
      "2024-08-16  오후 08:05             1,506 07-4 파이썬 타입 어노테이션.ipynb\n",
      "2024-08-19  오전 11:48            16,332 08-1,2 정규표현식.ipynb\n",
      "2024-08-19  오후 12:31            16,752 08-3 정규 표현식.ipynb\n",
      "2024-08-16  오후 04:00                36 a.txt\n",
      "2024-08-16  오후 04:06                51 b.txt\n",
      "2024-08-21  오후 03:53               630 coffee.py\n",
      "2024-09-06  오전 09:21            11,747 datetime 모듈.ipynb\n",
      "2024-08-14  오후 03:29                 0 fo2o.txt\n",
      "2024-08-21  오후 06:17                43 foo.txt\n",
      "2024-09-05  오후 05:37                 0 fsso2o.txt\n",
      "2024-09-05  오후 05:38                 0 fssssssso2o.txt\n",
      "2024-08-21  오후 10:34    <DIR>          game\n",
      "2024-08-16  오후 03:34               291 memo.py\n",
      "2024-08-16  오후 03:31                62 memo1111.txt\n",
      "2024-08-16  오후 01:47                87 mod1.py\n",
      "2024-08-21  오후 09:53               110 mod2.py\n",
      "2024-08-14  오후 02:17                95 mod3.py\n",
      "2024-08-14  오후 01:30                50 moood1.py\n",
      "2024-08-16  오후 02:18                41 myinfo.json\n",
      "2024-08-16  오후 01:47               596 myzip0.zip\n",
      "2024-08-21  오후 06:27                59 sys1.py\n",
      "2024-08-21  오후 06:29                78 sys2.py\n",
      "2024-08-16  오후 04:05               239 tabto4.py\n",
      "2024-08-16  오후 01:33    <DIR>          temp\n",
      "2024-08-14  오후 05:04                 0 test\n",
      "2024-08-16  오후 01:37                40 test.txt\n",
      "2024-08-16  오후 05:40                25 test_euc_kr.txt\n",
      "2024-08-16  오후 02:31            83,114 wikidocs_12.html\n",
      "2024-08-16  오후 02:31           242,789 wikidocs_13.html\n",
      "2024-08-21  오후 06:05               124 write_data.py\n",
      "2024-08-21  오후 09:56    <DIR>          __pycache__\n",
      "2024-08-21  오후 06:15               542 새파일.txt\n",
      "              66개 파일          24,692,830 바이트\n",
      "               6개 디렉터리  49,735,516,160 바이트 남음\n",
      "\n"
     ]
    }
   ],
   "source": [
    "print(f.read())"
   ]
  },
  {
   "cell_type": "code",
   "execution_count": 127,
   "id": "8c5185fc-4407-4c9d-a256-4db7588214e2",
   "metadata": {},
   "outputs": [],
   "source": [
    "import zipfile\n",
    "\n",
    "with zipfile.ZipFile('myzip0.zip', 'w') as myzip:\n",
    "    myzip.write('mod1.py')\n",
    "    myzip.write('mod2.py')\n",
    "    myzip.write('mod3.py')\n",
    "\n",
    "\n",
    "myzip.close()\n",
    "    "
   ]
  },
  {
   "cell_type": "code",
   "execution_count": 129,
   "id": "7c0914ca-81e9-4f96-8542-2a6721d99b6b",
   "metadata": {},
   "outputs": [],
   "source": [
    "import zipfile\n",
    "\n",
    "with zipfile.ZipFile('myzip0.zip') as myzip:\n",
    "    myzip.extract('mod1.py')\n"
   ]
  },
  {
   "cell_type": "code",
   "execution_count": 126,
   "id": "73a2bf7a-09eb-4e6a-8de7-77b8073bf75c",
   "metadata": {},
   "outputs": [
    {
     "name": "stdout",
     "output_type": "stream",
     "text": [
      "Strat\n",
      "working: 0\n",
      "\n",
      "working: 1\n",
      "\n",
      "working: 2\n",
      "\n",
      "working: 3\n",
      "\n",
      "working: 4\n",
      "\n",
      "working: 0\n",
      "\n",
      "working: 1\n",
      "\n",
      "working: 2\n",
      "\n",
      "working: 3\n",
      "\n",
      "working: 4\n",
      "\n",
      "working: 0\n",
      "\n",
      "working: 1\n",
      "\n",
      "working: 2\n",
      "\n",
      "working: 3\n",
      "\n",
      "working: 4\n",
      "\n",
      "working: 0\n",
      "\n",
      "working: 1\n",
      "\n",
      "working: 2\n",
      "\n",
      "working: 3\n",
      "\n",
      "working: 4\n",
      "\n",
      "working: 0\n",
      "\n",
      "working: 1\n",
      "\n",
      "working: 2\n",
      "\n",
      "working: 3\n",
      "\n",
      "working: 4\n",
      "\n",
      "End\n"
     ]
    }
   ],
   "source": [
    "\n",
    "# 1개의 프로세스로 진행\n",
    "\n",
    "import time\n",
    "\n",
    "\n",
    "def long_task():\n",
    "    for i in range(5):\n",
    "        time.sleep(1)\n",
    "        print('working: %s\\n' %i)\n",
    "\n",
    "\n",
    "print('Strat')\n",
    "\n",
    "for i in range(5):\n",
    "    long_task()\n",
    "\n",
    "print('End')"
   ]
  },
  {
   "cell_type": "code",
   "execution_count": 127,
   "id": "6ca26e44-e1fe-4f8b-84ee-15094d70b3a5",
   "metadata": {},
   "outputs": [
    {
     "name": "stdout",
     "output_type": "stream",
     "text": [
      "Strat\n",
      "0  번째 프로세스\n",
      "1  번째 프로세스\n",
      "2  번째 프로세스\n",
      "3  번째 프로세스\n",
      "4  번째 프로세스\n",
      "쓰레드 시작\n",
      "0\n",
      "쓰레드 시작\n",
      "0\n",
      "쓰레드 시작\n",
      "0\n",
      "쓰레드 시작\n",
      "0\n",
      "쓰레드 시작\n",
      "0\n",
      "End\n"
     ]
    }
   ],
   "source": [
    "\n",
    "import time, threading\n",
    "\n",
    "\n",
    "def long_task():\n",
    "    print('쓰레드 시작')\n",
    "    for i in range(5):\n",
    "        print(i)\n",
    "        time.sleep(1)\n",
    "        print('working: %s\\n' %i)\n",
    "\n",
    "\n",
    "print('Strat')\n",
    "\n",
    "threads = []\n",
    "\n",
    "for i in range(5):\n",
    "    print('%d  번째 프로세스' % i)\n",
    "    t = threading.Thread(target=long_task)\n",
    "    threads.append(t)\n",
    "\n",
    "\n",
    "for t in threads:\n",
    "\n",
    "    t.start()\n",
    "\n",
    "print('End')"
   ]
  },
  {
   "cell_type": "code",
   "execution_count": 128,
   "id": "4b2b005a-9631-4448-9c9e-7215bf2f581c",
   "metadata": {},
   "outputs": [
    {
     "name": "stdout",
     "output_type": "stream",
     "text": [
      "Strat\n",
      "0  번째 프로세스\n",
      "1  번째 프로세스\n",
      "2  번째 프로세스\n",
      "3  번째 프로세스\n",
      "4  번째 프로세스\n",
      "프로세스 시작\n",
      "쓰레드 시작\n",
      "프로세스 시작\n",
      "쓰레드 시작\n",
      "프로세스 시작\n",
      "쓰레드 시작\n",
      "프로세스 시작\n",
      "쓰레드 시작\n",
      "프로세스 시작\n",
      "쓰레드 시작\n",
      "종료대기\n",
      "working: 0\n",
      "working: 0\n",
      "\n",
      "1\n",
      "working: 0\n",
      "\n",
      "1\n",
      "working: 0\n",
      "\n",
      "1\n",
      "working: 0\n",
      "\n",
      "1\n",
      "\n",
      "1\n",
      "working: 0\n",
      "\n",
      "working: 0\n",
      "\n",
      "working: 0\n",
      "\n",
      "working: 0\n",
      "\n",
      "working: 0\n",
      "\n",
      "working: 1\n",
      "working: 1\n",
      "\n",
      "2\n",
      "working: 1\n",
      "\n",
      "2\n",
      "working: 1\n",
      "\n",
      "2\n",
      "working: 1\n",
      "\n",
      "2\n",
      "\n",
      "2\n",
      "working: 1\n",
      "\n",
      "working: 1\n",
      "\n",
      "working: 1\n",
      "\n",
      "working: 1\n",
      "\n",
      "working: 1\n",
      "\n",
      "working: 2\n",
      "working: 2\n",
      "\n",
      "3\n",
      "working: 2\n",
      "\n",
      "3\n",
      "working: 2\n",
      "\n",
      "3\n",
      "working: 2\n",
      "\n",
      "3\n",
      "\n",
      "3\n",
      "working: 2\n",
      "\n",
      "working: 2\n",
      "\n",
      "working: 2\n",
      "\n",
      "working: 2\n",
      "\n",
      "working: 2\n",
      "\n",
      "working: 3\n",
      "working: 3\n",
      "\n",
      "4\n",
      "working: 3\n",
      "\n",
      "4\n",
      "working: 3\n",
      "\n",
      "4\n",
      "working: 3\n",
      "\n",
      "4\n",
      "\n",
      "4\n",
      "working: 3\n",
      "\n",
      "working: 3\n",
      "\n",
      "working: 3\n",
      "\n",
      "working: 3\n",
      "\n",
      "working: 3\n",
      "\n",
      "working: 4\n",
      "working: 4\n",
      "\n",
      "working: 4\n",
      "\n",
      "working: 4\n",
      "\n",
      "working: 4\n",
      "\n",
      "\n",
      "working: 4\n",
      "\n",
      "working: 4\n",
      "\n",
      "종료대기\n",
      "working: 4\n",
      "\n",
      "종료대기\n",
      "종료대기\n",
      "working: 4\n",
      "\n",
      "working: 4\n",
      "\n",
      "종료대기\n",
      "End\n"
     ]
    }
   ],
   "source": [
    "import time, threading\n",
    "\n",
    "\n",
    "def long_task():\n",
    "    print('쓰레드 시작')\n",
    "    for i in range(5):\n",
    "        time.sleep(1)\n",
    "        print('working: %s\\n' %i)\n",
    "\n",
    "\n",
    "print('Strat')\n",
    "\n",
    "threads = []\n",
    "\n",
    "for i in range(5):\n",
    "    print('%d  번째 프로세스' % i)\n",
    "    t = threading.Thread(target=long_task)\n",
    "    threads.append(t)\n",
    "\n",
    "\n",
    "for t in threads:\n",
    "    print('프로세스 시작')\n",
    "    t.start()\n",
    "for t in threads:\n",
    "    print('종료대기')\n",
    "    t.join()\n",
    "    \n",
    "print('End')"
   ]
  },
  {
   "cell_type": "code",
   "execution_count": 134,
   "id": "4f153606-391f-4e5e-a933-b2012cfdc3b7",
   "metadata": {},
   "outputs": [
    {
     "name": "stdout",
     "output_type": "stream",
     "text": [
      "(3, 'C:\\\\Users\\\\kjink007\\\\AppData\\\\Local\\\\Temp\\\\tmpw7amhyqp')\n"
     ]
    }
   ],
   "source": [
    "import tempfile\n",
    "filename = tempfile.mkstemp()\n",
    "print(filename)\n",
    "\n"
   ]
  },
  {
   "cell_type": "code",
   "execution_count": 138,
   "id": "e445357b-7a37-4ec1-a1c8-f97e2875f103",
   "metadata": {},
   "outputs": [],
   "source": [
    "f.close()"
   ]
  },
  {
   "cell_type": "markdown",
   "id": "3c98bb6d-90d9-49b1-bb9c-9a7cb77742b8",
   "metadata": {},
   "source": [
    "#### traceback\n",
    "- 프로그램 실행 중 발생한 오류를 추적"
   ]
  },
  {
   "cell_type": "code",
   "execution_count": 140,
   "id": "cccc3f4e-6ece-4775-b7a0-22065e3b0901",
   "metadata": {},
   "outputs": [],
   "source": [
    "\n",
    "\n",
    "\n",
    "def a():\n",
    "    return 1/0\n",
    "\n",
    "def b():\n",
    "    a()\n",
    "\n",
    "\n",
    "def main():\n",
    "    try:\n",
    "        b()\n",
    "\n",
    "    except:\n",
    "        print('오류가 발생하였습니다')\n",
    "\n",
    "        "
   ]
  },
  {
   "cell_type": "code",
   "execution_count": 142,
   "id": "c5a6d644-b495-4be5-b340-fce61eabc5ec",
   "metadata": {},
   "outputs": [
    {
     "name": "stdout",
     "output_type": "stream",
     "text": [
      "오류가 발생하였습니다\n"
     ]
    }
   ],
   "source": [
    "main()"
   ]
  },
  {
   "cell_type": "code",
   "execution_count": 144,
   "id": "266a3c67-8980-4af0-a608-e4d17be5ecc3",
   "metadata": {},
   "outputs": [],
   "source": [
    "\n",
    "import traceback\n",
    "\n",
    "def a():\n",
    "    return 1/0\n",
    "\n",
    "def b():\n",
    "    a()\n",
    "\n",
    "\n",
    "def main():\n",
    "    try:\n",
    "        b()\n",
    "\n",
    "    except:\n",
    "        print('오류가 발생하였습니다')\n",
    "        print(traceback.format_exc())"
   ]
  },
  {
   "cell_type": "code",
   "execution_count": 146,
   "id": "0eca448b-ad4b-4afe-be03-a21aab593f36",
   "metadata": {},
   "outputs": [
    {
     "name": "stdout",
     "output_type": "stream",
     "text": [
      "오류가 발생하였습니다\n",
      "Traceback (most recent call last):\n",
      "  File \"C:\\Users\\kjink007\\AppData\\Local\\Temp\\ipykernel_8516\\1897698600.py\", line 12, in main\n",
      "    b()\n",
      "  File \"C:\\Users\\kjink007\\AppData\\Local\\Temp\\ipykernel_8516\\1897698600.py\", line 7, in b\n",
      "    a()\n",
      "  File \"C:\\Users\\kjink007\\AppData\\Local\\Temp\\ipykernel_8516\\1897698600.py\", line 4, in a\n",
      "    return 1/0\n",
      "           ~^~\n",
      "ZeroDivisionError: division by zero\n",
      "\n"
     ]
    }
   ],
   "source": [
    "main()"
   ]
  },
  {
   "cell_type": "markdown",
   "id": "b50b9e41-81a9-48cc-b188-36c4bef4ad82",
   "metadata": {},
   "source": [
    "#### json\n",
    "- JSON 데이터를 쉽게 처리하고자 사용하는 모듈"
   ]
  },
  {
   "cell_type": "code",
   "execution_count": 152,
   "id": "94c6125e-2194-4ce3-ba72-26059cb610f9",
   "metadata": {},
   "outputs": [
    {
     "name": "stdout",
     "output_type": "stream",
     "text": [
      "{'name': 'jame', 'age': 22, 'grade': 'A'}\n"
     ]
    }
   ],
   "source": [
    "import json\n",
    "\n",
    "with open('myinfo.json') as f:\n",
    "    data = json.load(f)\n"
   ]
  },
  {
   "cell_type": "code",
   "execution_count": 154,
   "id": "2f10d9b6-d045-4658-a8ac-6a9e33c7c81c",
   "metadata": {},
   "outputs": [
    {
     "data": {
      "text/plain": [
       "dict"
      ]
     },
     "execution_count": 154,
     "metadata": {},
     "output_type": "execute_result"
    }
   ],
   "source": [
    "type(data)"
   ]
  },
  {
   "cell_type": "code",
   "execution_count": 156,
   "id": "ba9808c8-4541-4db5-85f1-be95311b381a",
   "metadata": {},
   "outputs": [
    {
     "name": "stdout",
     "output_type": "stream",
     "text": [
      "{'name': 'jame', 'age': 22, 'grade': 'A'}\n"
     ]
    }
   ],
   "source": [
    "print(data)"
   ]
  },
  {
   "cell_type": "code",
   "execution_count": 199,
   "id": "f7792bc2-914a-476c-85fe-c2040a09ce2f",
   "metadata": {},
   "outputs": [],
   "source": [
    "import json\n",
    "\n",
    "students = {\n",
    "    'name': 'jame', 'age': 22, 'grade': 'A'\n",
    "}\n",
    "\n",
    "with open('myinfo.json', 'w') as f:\n",
    "    json.dump(students, f)\n",
    "f.close()\n",
    "\n"
   ]
  },
  {
   "cell_type": "code",
   "execution_count": 203,
   "id": "876d149d-38a5-4a63-bb2f-f17ae4cb9ce4",
   "metadata": {},
   "outputs": [],
   "source": []
  },
  {
   "cell_type": "code",
   "execution_count": 160,
   "id": "e5969cec-02bd-4901-b169-d08247a26562",
   "metadata": {},
   "outputs": [],
   "source": [
    "import json\n",
    "\n",
    "students = {\n",
    "    'name': '홍길동', 'age': 22, 'grade': 'A'\n",
    "}\n",
    "\n",
    "json_data = json.dumps(students)\n",
    "\n"
   ]
  },
  {
   "cell_type": "code",
   "execution_count": 162,
   "id": "074b74f0-b95e-4088-b6f8-58cdf8a0d371",
   "metadata": {},
   "outputs": [
    {
     "data": {
      "text/plain": [
       "'{\"name\": \"\\\\ud64d\\\\uae38\\\\ub3d9\", \"age\": 22, \"grade\": \"A\"}'"
      ]
     },
     "execution_count": 162,
     "metadata": {},
     "output_type": "execute_result"
    }
   ],
   "source": [
    "json_data\n",
    "# 한글은 아스키문자열로 반환된다."
   ]
  },
  {
   "cell_type": "code",
   "execution_count": 164,
   "id": "a0790d82-02fb-4aa6-8d03-23b969476a6a",
   "metadata": {},
   "outputs": [
    {
     "data": {
      "text/plain": [
       "{'name': '홍길동', 'age': 22, 'grade': 'A'}"
      ]
     },
     "execution_count": 164,
     "metadata": {},
     "output_type": "execute_result"
    }
   ],
   "source": [
    "#딕셔너리로 다시 역변환하여 사용하면 된다.\n",
    "json.loads(json_data)"
   ]
  },
  {
   "cell_type": "code",
   "execution_count": 166,
   "id": "557dce50-1492-4800-937d-5d3ef66cb31c",
   "metadata": {},
   "outputs": [],
   "source": [
    "import json\n",
    "\n",
    "students = {    'name': '홍길동', 'age': 22, 'grade': 'A' }\n",
    "# ensure_ascii : 아스키 형태 문자열로 변경되는 것을 방지\n",
    "json_data = json.dumps(students, ensure_ascii=False)\n"
   ]
  },
  {
   "cell_type": "code",
   "execution_count": 168,
   "id": "433e2e47-a1fe-4090-a0eb-3aaf2e6b23ca",
   "metadata": {},
   "outputs": [
    {
     "data": {
      "text/plain": [
       "'{\"name\": \"홍길동\", \"age\": 22, \"grade\": \"A\"}'"
      ]
     },
     "execution_count": 168,
     "metadata": {},
     "output_type": "execute_result"
    }
   ],
   "source": [
    "json_data"
   ]
  },
  {
   "cell_type": "code",
   "execution_count": 170,
   "id": "ff61710f-259a-4ba2-8a58-d19edad0b070",
   "metadata": {},
   "outputs": [],
   "source": [
    "import json\n",
    "\n",
    "students = {    'name': '홍길동', 'age': 22, 'grade': 'A' }\n",
    "\n",
    "json_data = json.dumps(students, indent=2, ensure_ascii=False)"
   ]
  },
  {
   "cell_type": "code",
   "execution_count": 172,
   "id": "71f8b629-37bd-4c65-8142-651c3a551bb7",
   "metadata": {
    "scrolled": true
   },
   "outputs": [
    {
     "data": {
      "text/plain": [
       "'{\\n  \"name\": \"홍길동\",\\n  \"age\": 22,\\n  \"grade\": \"A\"\\n}'"
      ]
     },
     "execution_count": 172,
     "metadata": {},
     "output_type": "execute_result"
    }
   ],
   "source": [
    "json_data"
   ]
  },
  {
   "cell_type": "code",
   "execution_count": 174,
   "id": "d1d3f099-dff5-487b-a280-6b227f3b2756",
   "metadata": {},
   "outputs": [
    {
     "name": "stdout",
     "output_type": "stream",
     "text": [
      "{\n",
      "  \"name\": \"홍길동\",\n",
      "  \"age\": 22,\n",
      "  \"grade\": \"A\"\n",
      "}\n"
     ]
    }
   ],
   "source": [
    "print(json_data)"
   ]
  },
  {
   "cell_type": "markdown",
   "id": "f6e5dcd4-5eb9-4397-96b6-8fa552ca1179",
   "metadata": {},
   "source": [
    "#### urllib\n",
    "\n",
    "- urllib는 URL 작업을 위한 여러 모듈을 모은 패키지입니다.\n",
    "- URL을 열고 읽기 위한 urllib.request\n",
    "- urllib.request에 의해 발생하는 예외를 포함하는 urllib.error\n",
    "- URL 구문 분석을 위한 urllib.parse\n",
    "- robots.txt 파일을 구문 분석하기 위한 urllib.robotparser"
   ]
  },
  {
   "cell_type": "code",
   "execution_count": 199,
   "id": "0c0e4221-298a-42ad-bc7c-d4240b2dc9be",
   "metadata": {},
   "outputs": [],
   "source": [
    "import urllib.request\n",
    "\n",
    "def get_wikidocs(page):\n",
    "    resource = 'https://wikidocs.net/{}'.format(page)\n",
    "    # print(resource)\n",
    "    with urllib.request.urlopen(resource) as s:\n",
    "        with open('wikidocs_%s.html' % page, 'wb') as f:\n",
    "            f.write(s.read())"
   ]
  },
  {
   "cell_type": "code",
   "execution_count": 203,
   "id": "7e7a34ec-a6de-47e1-9cb7-507e818d75d3",
   "metadata": {},
   "outputs": [],
   "source": [
    "get_wikidocs(11)"
   ]
  },
  {
   "cell_type": "code",
   "execution_count": 209,
   "id": "4209bfae-b7cc-4102-b111-b35e3d7fa8f0",
   "metadata": {},
   "outputs": [],
   "source": [
    "import urllib.request\n",
    "\n",
    "def get_wikidocs_naver(page):\n",
    "    resource = 'https://www.naver.com'\n",
    "    with urllib.request.urlopen(resource) as s:\n",
    "        with open('wikidocs_%s.html' % page, 'wb') as f:\n",
    "            f.write(s.read())"
   ]
  },
  {
   "cell_type": "code",
   "execution_count": 207,
   "id": "e6f39b97-4a5c-46d9-bfed-f0ef2f54a06f",
   "metadata": {},
   "outputs": [],
   "source": [
    "get_wikidocs_naver(13)"
   ]
  },
  {
   "cell_type": "code",
   "execution_count": 211,
   "id": "9c92e409-2598-4507-86a2-d1aeaab43fcd",
   "metadata": {},
   "outputs": [
    {
     "data": {
      "text/plain": [
       "True"
      ]
     },
     "execution_count": 211,
     "metadata": {},
     "output_type": "execute_result"
    }
   ],
   "source": [
    "import webbrowser\n",
    "\n",
    "webbrowser.open_new('http://python.org')"
   ]
  },
  {
   "cell_type": "code",
   "execution_count": 213,
   "id": "8c51c610-217b-4416-8390-c9abcd0cc483",
   "metadata": {},
   "outputs": [
    {
     "data": {
      "text/plain": [
       "True"
      ]
     },
     "execution_count": 213,
     "metadata": {},
     "output_type": "execute_result"
    }
   ],
   "source": [
    "import webbrowser\n",
    "\n",
    "webbrowser.open('http://python.org')"
   ]
  },
  {
   "cell_type": "code",
   "execution_count": null,
   "id": "3043031f-b426-45ee-9168-4b8f2d535907",
   "metadata": {},
   "outputs": [],
   "source": []
  }
 ],
 "metadata": {
  "kernelspec": {
   "display_name": "Python 3 (ipykernel)",
   "language": "python",
   "name": "python3"
  },
  "language_info": {
   "codemirror_mode": {
    "name": "ipython",
    "version": 3
   },
   "file_extension": ".py",
   "mimetype": "text/x-python",
   "name": "python",
   "nbconvert_exporter": "python",
   "pygments_lexer": "ipython3",
   "version": "3.12.4"
  }
 },
 "nbformat": 4,
 "nbformat_minor": 5
}
