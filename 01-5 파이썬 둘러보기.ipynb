{
 "cells": [
  {
   "cell_type": "markdown",
   "id": "ff36c7eb-dd2c-4bce-9d64-f86799b0b18d",
   "metadata": {},
   "source": [
    "01-5 파이썬 둘러보기"
   ]
  },
  {
   "cell_type": "code",
   "execution_count": 2,
   "id": "af9224c3-2c54-46e4-a041-c7ba765039ad",
   "metadata": {},
   "outputs": [
    {
     "ename": "SystemExit",
     "evalue": "",
     "output_type": "error",
     "traceback": [
      "An exception has occurred, use %tb to see the full traceback.\n",
      "\u001b[1;31mSystemExit\u001b[0m\n"
     ]
    },
    {
     "name": "stderr",
     "output_type": "stream",
     "text": [
      "C:\\Users\\kjink007\\anaconda3\\Lib\\site-packages\\IPython\\core\\interactiveshell.py:3585: UserWarning: To exit: use 'exit', 'quit', or Ctrl-D.\n",
      "  warn(\"To exit: use 'exit', 'quit', or Ctrl-D.\", stacklevel=1)\n"
     ]
    }
   ],
   "source": [
    "import sys\n",
    "sys.exit()"
   ]
  },
  {
   "cell_type": "markdown",
   "id": "54d13340-125c-409b-92f0-d37b47e25703",
   "metadata": {},
   "source": [
    "파이썬 기초문법 따라 해 보기"
   ]
  },
  {
   "cell_type": "markdown",
   "id": "866a00c5-3720-442a-a3f5-b2e5dc38ff3b",
   "metadata": {},
   "source": [
    "사칙연산"
   ]
  },
  {
   "cell_type": "code",
   "execution_count": 4,
   "id": "f9402de9-40d6-49b0-af18-f8569fc25668",
   "metadata": {},
   "outputs": [
    {
     "data": {
      "text/plain": [
       "3"
      ]
     },
     "execution_count": 4,
     "metadata": {},
     "output_type": "execute_result"
    }
   ],
   "source": [
    "1+2"
   ]
  },
  {
   "cell_type": "code",
   "execution_count": 6,
   "id": "e721f0bd-6721-4abc-8e24-556987dc0b45",
   "metadata": {},
   "outputs": [
    {
     "data": {
      "text/plain": [
       "0.6666666666666666"
      ]
     },
     "execution_count": 6,
     "metadata": {},
     "output_type": "execute_result"
    }
   ],
   "source": [
    "3/4.5"
   ]
  },
  {
   "cell_type": "markdown",
   "id": "cfcfe4dc-4134-444b-b13b-7bd07953f472",
   "metadata": {},
   "source": [
    "변수에 숫자 대입하고 계산하기"
   ]
  },
  {
   "cell_type": "code",
   "execution_count": 8,
   "id": "b62a0b46-fa5c-4053-a4fa-b521e253d245",
   "metadata": {},
   "outputs": [
    {
     "data": {
      "text/plain": [
       "3"
      ]
     },
     "execution_count": 8,
     "metadata": {},
     "output_type": "execute_result"
    }
   ],
   "source": [
    "a = 1\n",
    "b =2 \n",
    "a+b\n"
   ]
  },
  {
   "cell_type": "markdown",
   "id": "fcaaf8c2-e958-41e4-ba26-490ead6b706a",
   "metadata": {},
   "source": [
    "변수에 문자 대입하고 출력하기"
   ]
  },
  {
   "cell_type": "code",
   "execution_count": 10,
   "id": "9298cdf0-f028-43c5-92d6-b7bdfe2838c8",
   "metadata": {},
   "outputs": [
    {
     "name": "stdout",
     "output_type": "stream",
     "text": [
      "Python\n"
     ]
    }
   ],
   "source": [
    "a = 'Python'\n",
    "print(a)"
   ]
  },
  {
   "cell_type": "code",
   "execution_count": 12,
   "id": "ccd98219-6336-417b-a764-39cbff61f982",
   "metadata": {},
   "outputs": [
    {
     "data": {
      "text/plain": [
       "'Python'"
      ]
     },
     "execution_count": 12,
     "metadata": {},
     "output_type": "execute_result"
    }
   ],
   "source": [
    "a "
   ]
  },
  {
   "cell_type": "markdown",
   "id": "8248d738-ed22-4662-b3e1-1e1b29debb73",
   "metadata": {},
   "source": [
    "조건문 if"
   ]
  },
  {
   "cell_type": "code",
   "execution_count": 14,
   "id": "5a8fd5b1-cbbc-4f3d-aca4-a1caa3341a35",
   "metadata": {},
   "outputs": [
    {
     "name": "stdout",
     "output_type": "stream",
     "text": [
      "a는 1보다 큽니다.\n"
     ]
    }
   ],
   "source": [
    "a = 3\n",
    "if a>1 :\n",
    "    print('a는 1보다 큽니다.')"
   ]
  },
  {
   "cell_type": "markdown",
   "id": "d9857b62-08c5-4e59-9a08-8389d5704bd5",
   "metadata": {},
   "source": [
    "반복문 for"
   ]
  },
  {
   "cell_type": "code",
   "execution_count": 16,
   "id": "bf6b27d6-1017-4b23-a06b-49c9c66fd319",
   "metadata": {},
   "outputs": [
    {
     "name": "stdout",
     "output_type": "stream",
     "text": [
      "1\n",
      "2\n",
      "3\n"
     ]
    }
   ],
   "source": [
    "for a in [1,2,3]:\n",
    "    print(a)"
   ]
  },
  {
   "cell_type": "markdown",
   "id": "644b02bf-c2c2-4bb2-9a0f-14754fb84866",
   "metadata": {},
   "source": [
    "반복문 while"
   ]
  },
  {
   "cell_type": "code",
   "execution_count": 18,
   "id": "c31a4df2-d275-4421-9f6a-a7cb384d08f7",
   "metadata": {},
   "outputs": [
    {
     "name": "stdout",
     "output_type": "stream",
     "text": [
      "1\n",
      "2\n",
      "3\n"
     ]
    }
   ],
   "source": [
    "i = 0 \n",
    "while i < 3:\n",
    "    i = i + 1\n",
    "    print(i)"
   ]
  },
  {
   "cell_type": "markdown",
   "id": "ff37e0a1-6181-4936-b36c-b14f18daf325",
   "metadata": {},
   "source": [
    "함수"
   ]
  },
  {
   "cell_type": "code",
   "execution_count": 20,
   "id": "90500b95-7bda-44d5-a74d-8031731c3560",
   "metadata": {},
   "outputs": [
    {
     "data": {
      "text/plain": [
       "7"
      ]
     },
     "execution_count": 20,
     "metadata": {},
     "output_type": "execute_result"
    }
   ],
   "source": [
    "def add(a, b):\n",
    "    return a+b\n",
    "\n",
    "\n",
    "add(3,4)"
   ]
  },
  {
   "cell_type": "code",
   "execution_count": null,
   "id": "c5621e22-07eb-4482-af35-97ca0d0489e0",
   "metadata": {},
   "outputs": [],
   "source": []
  }
 ],
 "metadata": {
  "kernelspec": {
   "display_name": "Python 3 (ipykernel)",
   "language": "python",
   "name": "python3"
  },
  "language_info": {
   "codemirror_mode": {
    "name": "ipython",
    "version": 3
   },
   "file_extension": ".py",
   "mimetype": "text/x-python",
   "name": "python",
   "nbconvert_exporter": "python",
   "pygments_lexer": "ipython3",
   "version": "3.12.4"
  }
 },
 "nbformat": 4,
 "nbformat_minor": 5
}
