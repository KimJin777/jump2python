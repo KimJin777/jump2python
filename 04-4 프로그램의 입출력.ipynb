{
 "cells": [
  {
   "cell_type": "markdown",
   "id": "87efbe1f-94a5-4b9f-a8c8-879273893ebd",
   "metadata": {},
   "source": [
    "## 프로그램 입출력"
   ]
  },
  {
   "cell_type": "code",
   "execution_count": 5,
   "id": "cf01ab4c-eabb-4eaa-9c35-560c9095644a",
   "metadata": {},
   "outputs": [
    {
     "name": "stderr",
     "output_type": "stream",
     "text": [
      "'tpye'은(는) 내부 또는 외부 명령, 실행할 수 있는 프로그램, 또는\n",
      "배치 파일이 아닙니다.\n"
     ]
    }
   ],
   "source": [
    "!tpye a.txt"
   ]
  },
  {
   "cell_type": "markdown",
   "id": "b8ab47b1-b93b-409a-b744-d01d5b1c9061",
   "metadata": {},
   "source": [
    "## sys 모듈 사용하기"
   ]
  },
  {
   "cell_type": "code",
   "execution_count": 8,
   "id": "a278d38b-b558-41e3-b3ea-d36e6212ab09",
   "metadata": {},
   "outputs": [
    {
     "name": "stdout",
     "output_type": "stream",
     "text": [
      "C:\\Users\\kjink007\\anaconda3\\Lib\\site-packages\\ipykernel_launcher.py\n",
      "-f\n",
      "C:\\Users\\kjink007\\AppData\\Roaming\\jupyter\\runtime\\kernel-8e54f455-663c-4744-a241-aab560220215.json\n"
     ]
    }
   ],
   "source": [
    "import sys\n",
    "\n",
    "args = sys.argv[0:]\n",
    "for i in args:\n",
    "    print(i)"
   ]
  },
  {
   "cell_type": "code",
   "execution_count": 14,
   "id": "5b06a7db-aead-427a-89c9-ac9cf5729907",
   "metadata": {},
   "outputs": [],
   "source": [
    "! sys1.py aaa bbb ccc"
   ]
  },
  {
   "cell_type": "code",
   "execution_count": 11,
   "id": "563166a6-bc12-4552-9fd0-a21ad67ba722",
   "metadata": {},
   "outputs": [
    {
     "name": "stdout",
     "output_type": "stream",
     "text": [
      "aaa\n",
      "bbb\n",
      "ccc\n"
     ]
    }
   ],
   "source": [
    "run -i sys1.py aaa bbb ccc"
   ]
  },
  {
   "cell_type": "code",
   "execution_count": 16,
   "id": "d53f63b1-263b-4015-9dda-63636cd7fef0",
   "metadata": {},
   "outputs": [
    {
     "name": "stdout",
     "output_type": "stream",
     "text": [
      "LIFE IS TOOOOO SHORT, YOU NEEEEEEED PYTHON "
     ]
    }
   ],
   "source": [
    "run -i sys2.py life is tooooo short, you neeeeeeed python"
   ]
  },
  {
   "cell_type": "code",
   "execution_count": null,
   "id": "5b628789-7c8a-4423-b4ca-71ce8445fd2b",
   "metadata": {},
   "outputs": [],
   "source": []
  }
 ],
 "metadata": {
  "kernelspec": {
   "display_name": "Python 3 (ipykernel)",
   "language": "python",
   "name": "python3"
  },
  "language_info": {
   "codemirror_mode": {
    "name": "ipython",
    "version": 3
   },
   "file_extension": ".py",
   "mimetype": "text/x-python",
   "name": "python",
   "nbconvert_exporter": "python",
   "pygments_lexer": "ipython3",
   "version": "3.12.4"
  }
 },
 "nbformat": 4,
 "nbformat_minor": 5
}
