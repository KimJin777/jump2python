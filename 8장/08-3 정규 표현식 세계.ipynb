{
 "cells": [
  {
   "cell_type": "markdown",
   "id": "fdde86ed-5ab4-42a0-a743-c6fdc4451144",
   "metadata": {},
   "source": [
    "## 08-3 강력한 정규 표현식의 세계로"
   ]
  },
  {
   "cell_type": "markdown",
   "id": "4ba79fe7-2d52-4faa-9d42-84e56f28a9ac",
   "metadata": {},
   "source": [
    "#### 문자열 소비가 없는 메타문자\n",
    "- +,*,[],{} 등의 메타 문자는 매치가 성사되면 문자열을 탐색하는 시작 위치가 변경된다(-> 소비된다고 표현한다)\n",
    "- zerowidth assertions"
   ]
  },
  {
   "cell_type": "markdown",
   "id": "6908ea34-aa49-4f7f-b5cd-e551057d7273",
   "metadata": {},
   "source": [
    "#### |  Vertical Bar 세로줄\n",
    "- or과 동일한 의미로 사용된다. \r\n",
    "\r\n"
   ]
  },
  {
   "cell_type": "code",
   "execution_count": 4,
   "id": "7b76e32d-ebd4-4266-a689-288d757f848c",
   "metadata": {},
   "outputs": [
    {
     "name": "stdout",
     "output_type": "stream",
     "text": [
      "<re.Match object; span=(0, 4), match='Crow'>\n"
     ]
    }
   ],
   "source": [
    "import re\n",
    "\n",
    "p = re.compile('Crow|Servo')\n",
    "m = p.match('CrowHello')\n",
    "print(m)"
   ]
  },
  {
   "cell_type": "markdown",
   "id": "1a0aa362-c173-4f42-be8e-ed03f6c1af55",
   "metadata": {},
   "source": [
    "#### ^ Circumflex/caret (서컴플렉스/캐럿) \n",
    "- 문자열의 처음과 일치\n",
    "\r\n"
   ]
  },
  {
   "cell_type": "code",
   "execution_count": 6,
   "id": "2f234f4c-7a65-4c89-aa4a-d0a44b18d297",
   "metadata": {
    "scrolled": true
   },
   "outputs": [
    {
     "name": "stdout",
     "output_type": "stream",
     "text": [
      "<re.Match object; span=(0, 4), match='Life'>\n"
     ]
    }
   ],
   "source": [
    "print(re.search('^Life', 'Life is too short'))"
   ]
  },
  {
   "cell_type": "code",
   "execution_count": 8,
   "id": "88b19b38-0dea-400f-8874-714c78702a84",
   "metadata": {},
   "outputs": [
    {
     "name": "stdout",
     "output_type": "stream",
     "text": [
      "None\n"
     ]
    }
   ],
   "source": [
    "print(re.search('^Life', 'My Life'))"
   ]
  },
  {
   "cell_type": "markdown",
   "id": "2177fb50-c211-4d43-8772-63f870c26fa7",
   "metadata": {},
   "source": [
    "#### $ Dollar Sign 달러\n",
    "- 문자열의 끝과 매치\n",
    "\r\n"
   ]
  },
  {
   "cell_type": "code",
   "execution_count": 10,
   "id": "95119986-bc93-46d2-969f-e65d1d4b7fb4",
   "metadata": {},
   "outputs": [
    {
     "name": "stdout",
     "output_type": "stream",
     "text": [
      "<re.Match object; span=(12, 17), match='short'>\n"
     ]
    }
   ],
   "source": [
    "print(re.search('short$', 'Life is too short'))"
   ]
  },
  {
   "cell_type": "code",
   "execution_count": 12,
   "id": "a9c377aa-dcb8-41f3-879d-ac6d1ff9bffe",
   "metadata": {},
   "outputs": [
    {
     "name": "stdout",
     "output_type": "stream",
     "text": [
      "None\n"
     ]
    }
   ],
   "source": [
    "print(re.search('short$', 'Life is too short, you need python'))"
   ]
  },
  {
   "cell_type": "markdown",
   "id": "ef679f06-59ea-4a91-afb5-1c83ea72d1bc",
   "metadata": {},
   "source": [
    "#### \\A \n",
    "- 문자열의 처음과 매치(^)\n",
    "- re.MULTILINE 옵션일 경우 ^은 각 줄의 문자열 처음과 매치\n",
    "- \\A는 줄과 상관없이 전체 문자열의 처음하고만 매치"
   ]
  },
  {
   "cell_type": "markdown",
   "id": "dd0a9f62-f13c-438b-8ceb-c8299377a014",
   "metadata": {},
   "source": [
    "#### \\Z\n",
    "- 문자열의 마지막과 매치($)\n",
    "- re.MULTILINE 옵션일 경우 ^은 각 줄의 문자열 마지막과 매치\n",
    "- \\Z는 줄과 상관없이 전체 문자열의 마지막하고만 매치"
   ]
  },
  {
   "cell_type": "markdown",
   "id": "8c90b1a6-8506-45df-babb-d65a3aca0856",
   "metadata": {},
   "source": [
    "#### \\A \n",
    "- 문자열의 처음과 매치(^)\n",
    "- re.MULTILINE 옵션일 경우 ^은 각 줄의 문자열 처음과 매치\n",
    "- \\A는 줄과 상관없이 전체 문자열의 처음하고만 매치"
   ]
  },
  {
   "cell_type": "markdown",
   "id": "ce0bb4ea-7734-4fad-bdd8-e210f479e9b0",
   "metadata": {},
   "source": [
    "#### \\b \n",
    "- 단어 구분자\n",
    "- 보통 단어는 화이트스페이스에 의해 구분된다.\n",
    "- 파이썬 리터럴 규칙: \\b 는 백스페이스backspace를 의미\n",
    "- raw string으로 사용\n"
   ]
  },
  {
   "cell_type": "markdown",
   "id": "823f67ba-abb5-4ba0-882b-37bd1bd549cd",
   "metadata": {},
   "source": [
    "#### \\B \n",
    "- \\b와 반대의 경우\n",
    "- 화이트스페이스로 구분된 단어가 아닌 경우에만 매치된다.\n"
   ]
  },
  {
   "cell_type": "code",
   "execution_count": 36,
   "id": "c2dfabad-7d80-4e5d-9b24-c9011cb54cef",
   "metadata": {},
   "outputs": [
    {
     "name": "stdout",
     "output_type": "stream",
     "text": [
      "<re.Match object; span=(3, 8), match='class'>\n",
      "None\n",
      "None\n"
     ]
    }
   ],
   "source": [
    "import re \n",
    "\n",
    "p = re.compile(r'\\bclass\\b')\n",
    "print(p.search('no class at all'))\n",
    "print(p.search('the declassified algorithm'))\n",
    "print(p.search('one subclass is'))"
   ]
  },
  {
   "cell_type": "code",
   "execution_count": 38,
   "id": "9962146b-6bd5-4d1f-9200-0e7ba95b016e",
   "metadata": {},
   "outputs": [
    {
     "name": "stdout",
     "output_type": "stream",
     "text": [
      "None\n",
      "<re.Match object; span=(6, 11), match='class'>\n",
      "None\n"
     ]
    }
   ],
   "source": [
    "import re \n",
    "\n",
    "p = re.compile(r'\\Bclass\\B')\n",
    "print(p.search('no class at all'))\n",
    "print(p.search('the declassified algorithm'))\n",
    "print(p.search('one subclass is'))"
   ]
  },
  {
   "cell_type": "code",
   "execution_count": null,
   "id": "1057915c-903e-4a45-a1be-b59cbc372f4c",
   "metadata": {},
   "outputs": [],
   "source": []
  },
  {
   "cell_type": "markdown",
   "id": "a19209c9-0b3f-4607-b54d-49c0b3f8d8ef",
   "metadata": {},
   "source": [
    "#### 그룹핑 grouping\n",
    "- 문자열이 계속해서 반복되는지 조사"
   ]
  },
  {
   "cell_type": "code",
   "execution_count": 45,
   "id": "2c443d6e-d5e1-4108-b9dc-f0ba06b6b512",
   "metadata": {},
   "outputs": [
    {
     "name": "stdout",
     "output_type": "stream",
     "text": [
      "<re.Match object; span=(0, 9), match='ABCABCABC'>\n",
      "ABCABCABC\n",
      "ABC\n"
     ]
    }
   ],
   "source": [
    "# 그룹핑 ()괄호를 주임으로 그루핑됨\n",
    "p = re.compile('(ABC)+')\n",
    "m = p.search('ABCABCABC OK?')\n",
    "print(m)\n",
    "print(m.group())\n",
    "print(m.group(1))\n"
   ]
  },
  {
   "cell_type": "code",
   "execution_count": 47,
   "id": "288ce0d7-e236-4787-ab09-83001dd4c52d",
   "metadata": {},
   "outputs": [
    {
     "name": "stdout",
     "output_type": "stream",
     "text": [
      "<re.Match object; span=(0, 18), match='park 010-1234-1234'>\n"
     ]
    }
   ],
   "source": [
    "p = re.compile(r'\\w+\\s+\\d+[-]\\d+[-]\\d+')\n",
    "m = p.search('park 010-1234-1234')\n",
    "print(m)"
   ]
  },
  {
   "cell_type": "code",
   "execution_count": 56,
   "id": "7a0d8a9a-b9f4-4a31-aec5-06dec733d4dd",
   "metadata": {},
   "outputs": [
    {
     "name": "stdout",
     "output_type": "stream",
     "text": [
      "park 010-1234-1234\n",
      "park 010-1234-1234\n"
     ]
    }
   ],
   "source": [
    "print(m.group())\n",
    "print(m.group(0))"
   ]
  },
  {
   "cell_type": "code",
   "execution_count": 58,
   "id": "e5ed5f3a-8324-4b10-b3cf-564c2bb1fe01",
   "metadata": {},
   "outputs": [
    {
     "name": "stdout",
     "output_type": "stream",
     "text": [
      "<re.Match object; span=(0, 18), match='park 010-1234-1234'>\n"
     ]
    }
   ],
   "source": [
    "p = re.compile(r'(\\w+)\\s+\\d+[-]\\d+[-]\\d+')\n",
    "m = p.search('park 010-1234-1234')\n",
    "print(m)"
   ]
  },
  {
   "cell_type": "code",
   "execution_count": 63,
   "id": "d2470edd-167d-489a-86bd-d8af1e7aca5e",
   "metadata": {},
   "outputs": [
    {
     "name": "stdout",
     "output_type": "stream",
     "text": [
      "park 010-1234-1234\n",
      "park 010-1234-1234\n",
      "park\n"
     ]
    }
   ],
   "source": [
    "print(m.group())\n",
    "print(m.group(0))\n",
    "print(m.group(1))\n"
   ]
  },
  {
   "cell_type": "code",
   "execution_count": 81,
   "id": "dd249d03-06c4-4ea9-a7d9-286768cd6a90",
   "metadata": {},
   "outputs": [
    {
     "name": "stdout",
     "output_type": "stream",
     "text": [
      "<re.Match object; span=(0, 18), match='park 010-1234-1234'>\n"
     ]
    }
   ],
   "source": [
    "p = re.compile(r'(\\w+)\\s+((\\d+)[-]\\d+[-]\\d+)')\n",
    "m = p.search('park 010-1234-1234')\n",
    "print(m)"
   ]
  },
  {
   "cell_type": "code",
   "execution_count": 91,
   "id": "59ce94fd-d61c-422e-ba52-88d6f80b57b3",
   "metadata": {},
   "outputs": [
    {
     "name": "stdout",
     "output_type": "stream",
     "text": [
      "park 010-1234-1234\n",
      "그룹 1 :  park 010-1234-1234\n",
      "그룹 2 :  park\n",
      "그룹 3 :  010-1234-1234\n",
      "그룹 4 :  010\n"
     ]
    }
   ],
   "source": [
    "print(m.group())\n",
    "print('그룹 1 : ', m.group(0))\n",
    "print('그룹 2 : ', m.group(1))\n",
    "print('그룹 3 : ', m.group(2))\n",
    "print('그룹 4 : ', m.group(3))"
   ]
  },
  {
   "cell_type": "markdown",
   "id": "8f47b484-075e-450d-88af-75718aebc08f",
   "metadata": {},
   "source": [
    "#### 그룹핑된 문자열에 이름 붙이기\n",
    "- (?P\\<name>\\w+)(\\s+(\\d+)[-]\\d+[-]\\d+)\n",
    "- (\\w+) -> (?P\\<name>\\w+)\n",
    "- (?P<그룹명>...)"
   ]
  },
  {
   "cell_type": "code",
   "execution_count": 106,
   "id": "9a8dbe9b-ba08-4d63-8471-68ca68d5fea4",
   "metadata": {},
   "outputs": [
    {
     "name": "stdout",
     "output_type": "stream",
     "text": [
      "<re.Match object; span=(0, 18), match='park 010-1234-1234'>\n"
     ]
    }
   ],
   "source": [
    "p = re.compile(r'(?P<name>\\w+)(\\s+(\\d+)[-]\\d+[-]\\d+)')\n",
    "m = p.search('park 010-1234-1234')\n",
    "print(m)"
   ]
  },
  {
   "cell_type": "code",
   "execution_count": 108,
   "id": "d26a9fe3-aaf5-4de0-8946-6982f6351da4",
   "metadata": {},
   "outputs": [
    {
     "name": "stdout",
     "output_type": "stream",
     "text": [
      "park\n"
     ]
    }
   ],
   "source": [
    "print(m.group('name'))"
   ]
  },
  {
   "cell_type": "markdown",
   "id": "56f67ed8-c431-4160-b651-af6b81c361ab",
   "metadata": {},
   "source": [
    "#### 전방탐색 lookahead assertions\n",
    "\n",
    "- 긍정형 전방탐색((?=...)): ...에 해당하는 정규식과 매치되어야 하며 조건이 통과되어도 문자열이 소비되 않는다.\n",
    "- 부정형 전방탐색((?1...)): ...에 해당하는 정규식과 매치되지 않아야 하며 조건이 통과되어도 문자열이 소비되지 않는다."
   ]
  },
  {
   "cell_type": "code",
   "execution_count": 110,
   "id": "d2b6ccb1-5d9d-433a-87bb-5b885cba2dda",
   "metadata": {},
   "outputs": [
    {
     "name": "stdout",
     "output_type": "stream",
     "text": [
      "http:\n"
     ]
    }
   ],
   "source": [
    "# 문자열이 소비된다.\n",
    "\n",
    "p = re.compile('.+:')\n",
    "m = p.search('http://google.com')\n",
    "print(m.group())"
   ]
  },
  {
   "cell_type": "code",
   "execution_count": 96,
   "id": "d1df1083-b874-4d09-85d3-19ead102cf1e",
   "metadata": {},
   "outputs": [
    {
     "name": "stdout",
     "output_type": "stream",
     "text": [
      "http\n"
     ]
    }
   ],
   "source": [
    "# 해당하는 값을 찾았지만 결색결과에서는 제외한다. 소비되지 않는다\n",
    "# 긍정형 전방탐색\n",
    "\n",
    "p = re.compile('.+(?=:)')\n",
    "m = p.search('http://google.com')\n",
    "print(m.group())"
   ]
  },
  {
   "cell_type": "markdown",
   "id": "4240786b-0323-435c-9433-3deef855bf52",
   "metadata": {},
   "source": [
    "\n",
    "- 파일이름 + . + 확장자: .*[.].*$\n",
    "- ex) foo.bar, autoexec.bat, sendmail.cf\n",
    "- 확장자가 bat인 파일을 제외 : .*[.][^b].*$\n",
    "- autoexec.bat 도 제외하고 foo.bar 도 제외된다\n",
    "- .*[.]([^b]..|.[^a].|..[^t])*$\n",
    "- bat를 제외하지만 파일이 확장자의 글자가 2개인 파일(sendmail)은 적용되지 않는다.\n",
    "- .*[.]([^b].?.?|.[^a]?.?|..?[^t]?)*$\n",
    "\n",
    "# 부정형 전방탐색\n",
    "- bat로 끝나는 파일:  .*[.](?!bat$).*$\n",
    "- bat나 exe로 끝나는 파일: .*[.](?!bat$|exe$).*$ "
   ]
  },
  {
   "cell_type": "markdown",
   "id": "1ef481c7-6ffa-401d-b1cd-4197c643e0ee",
   "metadata": {},
   "source": [
    "#### 문자열 바꾸기\n",
    "- sub메서드 사용"
   ]
  },
  {
   "cell_type": "code",
   "execution_count": 114,
   "id": "6e64096d-2991-4bc8-9cf4-28ee040bae95",
   "metadata": {},
   "outputs": [
    {
     "data": {
      "text/plain": [
       "'colour socks and colour shoes'"
      ]
     },
     "execution_count": 114,
     "metadata": {},
     "output_type": "execute_result"
    }
   ],
   "source": [
    "p = re.compile('(blue|white|red)')\n",
    "p.sub('colour', 'blue socks and red shoes')"
   ]
  },
  {
   "cell_type": "code",
   "execution_count": 116,
   "id": "f1e69f13-4235-4c97-8634-11c870d26bbe",
   "metadata": {},
   "outputs": [
    {
     "data": {
      "text/plain": [
       "'colour socks and red shoes'"
      ]
     },
     "execution_count": 116,
     "metadata": {},
     "output_type": "execute_result"
    }
   ],
   "source": [
    "# 횟수만큼 바꾸고 싶을때\n",
    "\n",
    "p = re.compile('(blue|white|red)')\n",
    "p.sub('colour', 'blue socks and red shoes', count=1)"
   ]
  },
  {
   "cell_type": "code",
   "execution_count": 118,
   "id": "eeb4e183-dfbf-49a6-a3b0-b61c160080fe",
   "metadata": {},
   "outputs": [
    {
     "data": {
      "text/plain": [
       "('colour socks and colour shoes', 2)"
      ]
     },
     "execution_count": 118,
     "metadata": {},
     "output_type": "execute_result"
    }
   ],
   "source": [
    "# subn : 튜플로 반환, 변경된 회수 표시\n",
    "p = re.compile('(blue|white|red)')\n",
    "p.subn('colour', 'blue socks and red shoes')"
   ]
  },
  {
   "cell_type": "markdown",
   "id": "62633d6c-6606-4f6f-b39d-451bbf6a5316",
   "metadata": {},
   "source": [
    "#### sub 메서드 사용 시 참고 구문 사용하기"
   ]
  },
  {
   "cell_type": "code",
   "execution_count": 101,
   "id": "907440b5-6ece-418f-b45d-52c02522ae69",
   "metadata": {},
   "outputs": [
    {
     "name": "stdout",
     "output_type": "stream",
     "text": [
      "010-1234-1234 park\n"
     ]
    }
   ],
   "source": [
    "p = re.compile(r'(?P<name>\\w+)\\s+(?P<phone>\\d+[-]\\d+[-]\\d+)')\n",
    "m = p.sub('\\\\g<phone> \\\\g<name>', 'park 010-1234-1234')\n",
    "print(m)\n",
    "\n"
   ]
  },
  {
   "cell_type": "code",
   "execution_count": 105,
   "id": "d75b93ae-7541-4914-8df0-39496c43548c",
   "metadata": {},
   "outputs": [
    {
     "name": "stdout",
     "output_type": "stream",
     "text": [
      "010-1234-1234 park\n"
     ]
    }
   ],
   "source": [
    "p = re.compile(r'(?P<name>\\w+)\\s+(?P<phone>\\d+[-]\\d+[-]\\d+)')\n",
    "m = p.sub(r'\\g<2> \\g<1>', 'park 010-1234-1234')\n",
    "print(m)"
   ]
  },
  {
   "cell_type": "markdown",
   "id": "a81ad5dc-7ac1-49c8-8654-baa9b4a16e66",
   "metadata": {},
   "source": [
    "#### sub 메서드의 매개변수로 함수 넣기"
   ]
  },
  {
   "cell_type": "code",
   "execution_count": 109,
   "id": "3ab13bf0-8421-4144-9990-eef3cd0e661d",
   "metadata": {},
   "outputs": [],
   "source": [
    "def hexrepl(match):\n",
    "    value = int(match.group())\n",
    "    print(value)\n",
    "    return hex(value)"
   ]
  },
  {
   "cell_type": "code",
   "execution_count": 111,
   "id": "1837349e-a35e-42fc-9235-faf1926441bc",
   "metadata": {},
   "outputs": [],
   "source": [
    "p = re.compile(r'\\d+')"
   ]
  },
  {
   "cell_type": "code",
   "execution_count": 113,
   "id": "c316453a-d74f-43f0-8b24-3390496554f0",
   "metadata": {},
   "outputs": [
    {
     "name": "stdout",
     "output_type": "stream",
     "text": [
      "65490\n",
      "49152\n"
     ]
    },
    {
     "data": {
      "text/plain": [
       "'Call 0xffd2 for printing, 0xc000 for user code.'"
      ]
     },
     "execution_count": 113,
     "metadata": {},
     "output_type": "execute_result"
    }
   ],
   "source": [
    "p.sub(hexrepl, 'Call 65490 for printing, 49152 for user code.')"
   ]
  },
  {
   "cell_type": "markdown",
   "id": "3ea3bd35-719c-4685-b728-e69443a32ff0",
   "metadata": {},
   "source": [
    "#### greedy 와 non-greedy\n",
    "- greedy : 탐욕스러운"
   ]
  },
  {
   "cell_type": "code",
   "execution_count": 148,
   "id": "f315306a-f41a-4c41-b162-f1396a9204c5",
   "metadata": {},
   "outputs": [
    {
     "data": {
      "text/plain": [
       "32"
      ]
     },
     "execution_count": 148,
     "metadata": {},
     "output_type": "execute_result"
    }
   ],
   "source": [
    "s ='<html><head><title>Title</title>'\n",
    "len(s)"
   ]
  },
  {
   "cell_type": "code",
   "execution_count": 152,
   "id": "ed7b12ee-5c24-4c1a-b404-9e80ca271ebc",
   "metadata": {},
   "outputs": [
    {
     "name": "stdout",
     "output_type": "stream",
     "text": [
      "(0, 32)\n"
     ]
    }
   ],
   "source": [
    "print(re.match('<.*>', s).span())"
   ]
  },
  {
   "cell_type": "code",
   "execution_count": 154,
   "id": "271c6401-0a0e-47bf-8ca7-e973ef0d61b0",
   "metadata": {},
   "outputs": [
    {
     "name": "stdout",
     "output_type": "stream",
     "text": [
      "<html><head><title>Title</title>\n"
     ]
    }
   ],
   "source": [
    "print(re.match('<.*>', s).group())"
   ]
  },
  {
   "cell_type": "markdown",
   "id": "fb5e254c-e987-4d0d-83a8-765dfe88e7f3",
   "metadata": {},
   "source": [
    "- <.*> 정ㄱ식의 매치 결과로 제일 처음인  <html>을 반환할 것이라고 예상하지만,\n",
    "결과는 <.*>를 만족하는 최대한의 결과를 매치하고 소비한다.\n",
    "- non-greedy  문자인 ? 를 사용하면 *의 탐욕을 제한할 수 있다."
   ]
  },
  {
   "cell_type": "code",
   "execution_count": 120,
   "id": "7d963323-1f59-4a54-ba34-1c9b9ec146df",
   "metadata": {},
   "outputs": [
    {
     "name": "stdout",
     "output_type": "stream",
     "text": [
      "<html>\n"
     ]
    }
   ],
   "source": [
    "s ='<html><head><title>Title</title>'\n",
    "print(re.match('<.*?>', s).group())"
   ]
  },
  {
   "cell_type": "markdown",
   "id": "2659992c-c14e-4748-adce-c6496cf36c90",
   "metadata": {},
   "source": [
    "[위키피디아 정규표현식][https://ko.wikipedia.org/wiki/%EC%A0%95%EA%B7%9C_%ED%91%9C%ED%98%84%EC%8B%9D]"
   ]
  },
  {
   "cell_type": "code",
   "execution_count": null,
   "id": "43224fff-94e3-4a1d-be7c-b3dac864c20f",
   "metadata": {},
   "outputs": [],
   "source": []
  }
 ],
 "metadata": {
  "kernelspec": {
   "display_name": "Python 3 (ipykernel)",
   "language": "python",
   "name": "python3"
  },
  "language_info": {
   "codemirror_mode": {
    "name": "ipython",
    "version": 3
   },
   "file_extension": ".py",
   "mimetype": "text/x-python",
   "name": "python",
   "nbconvert_exporter": "python",
   "pygments_lexer": "ipython3",
   "version": "3.12.4"
  }
 },
 "nbformat": 4,
 "nbformat_minor": 5
}
