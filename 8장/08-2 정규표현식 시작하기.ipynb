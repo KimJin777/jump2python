{
 "cells": [
  {
   "cell_type": "markdown",
   "id": "b1dba361-bbc4-4f99-b67d-cd27ffd7e233",
   "metadata": {},
   "source": [
    "%%html\n",
    "<style>\n",
    "table {float:left}\n",
    "</style>"
   ]
  },
  {
   "cell_type": "code",
   "execution_count": null,
   "id": "ff9eb3e1-0a54-4186-83f2-bc949ce39e36",
   "metadata": {},
   "outputs": [],
   "source": []
  },
  {
   "cell_type": "markdown",
   "id": "547048c9-2cee-4a1a-bdd3-052b86cbc9ac",
   "metadata": {},
   "source": [
    "## 08-2 정규 표현식 시작하기\n",
    "- 정규표현식에서는 메타 문자 meta characters를 사용한다.\n",
    "- 메타문자: 원래 그 문자가 가진 뜻이 아니라 특별한 의미를 가진 문자를 말한다.\n",
    "- 정규 표현식에서 다음과 같은 메타 문자를 사용하면 특별한 의미를 갖게 된다.\n",
    "- . ^ $ * + ? {} [] "
   ]
  },
  {
   "cell_type": "markdown",
   "id": "f09f42af-374b-4832-ba6a-0249356d9ad8",
   "metadata": {},
   "source": [
    "#### 1. []문자 \n",
    "- 문자 클래스 character class\n",
    "- [ 와 ] 사이의 '문자들과 매치'라는 의미를 갖는다.\n",
    "- 문자 클래스를 만드는 메타 문자인 []사이에는 어떤 문자도 들어갈 수 있다.\n",
    "- 정규표현식 [abc]의 의미는 'a, b, c 중 한개의 문자와 매치'를 뜻한다.\n",
    "설명 |"
   ]
  },
  {
   "cell_type": "markdown",
   "id": "4851fb12-d614-4dc9-9e4d-fca09c1c1720",
   "metadata": {},
   "source": [
    "| 정규식 | 문자열  | 매치여부 | 설명 |\n",
    "| :---:  | :---:  | :-:      | :--- |\n",
    "|        | a      | O        | \"a\"는 정규식과 일치하는 문자인 \"a\"가 있으므로 매치된다. |\n",
    "| [abc]  | before | O        | \"before\"는 정규식과 일치하는 문자인 \"b\"가 있으므로 매치된다.  |\n",
    "|        | dude   | X        | \"dude\"는 정규식과 일치하는 문자인 a, b, c 중 어느 하나도 포함하고 있지 않으므로 매치되지 않는다. |"
   ]
  },
  {
   "cell_type": "markdown",
   "id": "57754826-995d-4bc8-a170-46f5af2227ae",
   "metadata": {},
   "source": [
    "- [] 안의 두 문자 사이에 하이프(-)을 사용하면 두 문자 사이의 범위를 의미한다.\n",
    "- [a-b]는 [abc]를 동일하고, [1-5]는 [12345]와 동일하다. \n",
    "- [a-zA-Z]: 모든 알파벳\n",
    "- [0-9]: 모든 숫자\n",
    "- ^ 메타문자는 반대(not)을 의미한다.\n",
    "- [^0-9]: 숫자가 아닌 문자만 매치"
   ]
  },
  {
   "cell_type": "markdown",
   "id": "829207d2-05b2-474b-9e59-ab7002a81a0a",
   "metadata": {},
   "source": [
    "#### Escape 문자목록\n",
    "\n",
    "|정규표현식|설명|\n",
    "|:---:|:---|\n",
    "|\\d|숫자와 매치된다. [0-9]와 동일한 표현이다.|\n",
    "|\\D|숫자가 아닌 것과 매치된다. [^0-9]와 동일한 표현이다.|\n",
    "|\\s|화이트스페이스 문자와 매치된다.[ \\t\\n\\r\\f\\v]와 동일한 표현이다.|\n",
    "|\\S|화이트스페이스 문자가 아닌것과 매치된다. [^ \\t\\n\\r\\f\\v]와 동일한 표현이다.|\n",
    "|\\w|문자+숫자alphanumberic와 매치된다.[a-zA-Z0-9]와 동일한 표현이다.|\n",
    "|\\W|문자+숫자alphanumberic가 아닌 문자와 매치된다.[^a-zA-Z0-9]와 동일한 표현이다.|\n",
    "|\\b|[]안에서 사용될 때는 백스페이스 문자, backspace, \\u0008|"
   ]
  },
  {
   "cell_type": "markdown",
   "id": "7a51320b-209c-4f0e-b729-74517f6ea6ad",
   "metadata": {},
   "source": [
    "#### 화이트스페이스 white space 문자\n",
    "\n",
    "\n",
    "|Escape 문자목록|설명|\n",
    "|:---:|:---|\n",
    "|\\t|탭문자, Tab, \\u0009|\n",
    "|\\r|줄 바꿈 문자, Carrage Return, \\u000D|\n",
    "|\\n|줄 바꿈 문자, New line, Line Feed, \\u000A|\n",
    "|\\f|폼피드, form feed, \\u000C| \n",
    "|\\v|새로탭, \\u000B|\n",
    "\n",
    "\n",
    "#### C 의 화이트스페이스\n",
    "new line        : '\\n', 0x0a, 화면에 출력시 다음 행으로 줄을 바꿉니다.\r",
    "\r\n",
    "carriage return : '\\r', 0x0d, 행의 처음으로 커서를 이동합니다\r\n",
    "\r\n",
    "form feed       : '\\f', 0x0c, 프린트 출력시 현재 페이지를 마\n",
    "\n",
    "칩니다.\r\n",
    "[https://blog.naver.com/mtjeaids/70053523593]자 미니\n"
   ]
  },
  {
   "cell_type": "markdown",
   "id": "334ad6be-be20-4a48-9547-7e8e596feea7",
   "metadata": {},
   "source": [
    "#### 2.(dot)문자 - \\n을 제외한 모든 문자\n",
    "a.b\n",
    "=> 'a + 모든문자 + b'"
   ]
  },
  {
   "cell_type": "markdown",
   "id": "7c1acb53-d445-48ad-ae62-77b8a65bc752",
   "metadata": {},
   "source": [
    "| 정규식 | 문자열  | 매치여부 | 설명 |\n",
    "| :---:  | :---:  | :-:      | :--- |\n",
    "|        | aab    | O        | \"abc\"는 가운데 문자 'a'가 모든 문자를 의미하는 .과 일치하므로 정규식과 매치된다. |\n",
    "| a.b    | a0b    | O        | \"a0b\"는 가운데 문자 '0'가 모든 문자를 의미하는 .과 일치하므로 정규식과 매치된다. |\n",
    "|        | abc    | X        | \"abc\"는 'a'문자와 'b'문자 사이에 어떤 문자라도 하나는 있어야 하는 이 정규식과 일치하지 않으므로 매치되지 않는다. |"
   ]
  },
  {
   "cell_type": "markdown",
   "id": "f100a6a5-f00b-4add-a775-395fd43783f7",
   "metadata": {},
   "source": [
    "a[.]b \n",
    "=> 'a + . + b'"
   ]
  },
  {
   "cell_type": "markdown",
   "id": "bab32580-3c8c-43e2-a9c0-96724166952b",
   "metadata": {},
   "source": [
    "#### 3. *문자\n",
    "- 반복을 의미하는 *메타문자\n",
    "- *은 * 바로 앞에 있는 문자 a가 0부터 무한대까지 반복될 수 있다는 의미이다."
   ]
  },
  {
   "cell_type": "markdown",
   "id": "c0ce4253-9e2a-42e1-9a10-a14a2e38c27c",
   "metadata": {},
   "source": [
    "| 정규식 | 문자열  | 매치여부 | 설명 |\n",
    "| :---:  | :---:  | :-:      | :--- |\n",
    "| ca*t   | ct     | O        | 'a'가 0번 반복되어 매치 |\n",
    "| ca*t   | cat    | O        | 'a'가 0번 반복되어 매치 (1번 반복)|\n",
    "| ca*t   | caaaat | O        | 'a'가 0번 반복되어 매치 (4번 반복)|"
   ]
  },
  {
   "cell_type": "markdown",
   "id": "17941cbb-72ec-413f-8465-47f15d6b819b",
   "metadata": {},
   "source": [
    "#### 4. +문자\n",
    "- 반복을 의미하는 +메타문자\n",
    "- 최소 1번 이상 반복될 때 사용한다.\n",
    "- +는 반복횟수가 1부터이다."
   ]
  },
  {
   "cell_type": "markdown",
   "id": "831f688d-fe5b-46f2-b2cc-d74f3752c0c3",
   "metadata": {},
   "source": [
    "| 정규식 | 문자열  | 매치여부 | 설명 |\n",
    "| :---:  | :---:  | :-:      | :--- |\n",
    "| ca*t   | ct     | X        | 'a'가 0번 반복되어 매치되지 않음 |\n",
    "| ca*t   | cat    | O        | 'a'가 1번 반복되어 매치 (1번 반복)|\n",
    "| ca*t   | caaaat | O        | 'a'가 1번 반복되어 매치 (4번 반복)|"
   ]
  },
  {
   "cell_type": "markdown",
   "id": "b212ca74-15c6-4fae-821f-3ea3e2aaf005",
   "metadata": {},
   "source": [
    "#### 4. {}, ? 문자\n",
    "- 반복 횟수를 제한할 때 사용\n",
    "- {min, MAx}: min: 최소횟수, MAX: 최대횟수\n",
    "- {min,    } 최소 min회\n",
    "- {   , MAX} 최대 MAX회\n",
    "- {1,}와 + 는 동일\n",
    "- {0,}와 * 는 동일\n"
   ]
  },
  {
   "cell_type": "markdown",
   "id": "6539942f-9274-4493-a30a-4136ef3b0b65",
   "metadata": {},
   "source": [
    "- {m} : ca{2}t = 'c + a를 반드시 2회반복 + t'\n",
    "\n",
    "| 정규식 | 문자열  | 매치여부 | 설명 |\n",
    "| :---:  | :---:  | :-:      | :--- |\n",
    "| ca{2}t   | cat     | X        | 'a'가 1번만 반복되어 매치되지 않음 |\n",
    "| ca{2}t   | caat    | O        | 'a'가 2번 반복되어 매치 (1번 반복)|"
   ]
  },
  {
   "cell_type": "markdown",
   "id": "3ce5fdf2-269f-497f-ab21-d965cfc25508",
   "metadata": {},
   "source": [
    "- {m,n} : ca{2,5}t = 'c + a를 2~5회 반복 + t'\n",
    "\n",
    "| 정규식 | 문자열  | 매치여부 | 설명 |\n",
    "| :---:  | :---:  | :-:      | :--- |\n",
    "| ca{2,5}t   | cat    | X   | 'a'가 1번만 반복되어 매치되지 않음 |\n",
    "| ca{2,5}t   | caat   | O   | 'a'가 2번 반복되어 매치 |\n",
    "| ca{2,5}t   | caaaat | O   | 'a'가 5번 반복되어 매치 |"
   ]
  },
  {
   "cell_type": "markdown",
   "id": "32ae5759-941d-4ebf-948d-c140c5b49bd1",
   "metadata": {},
   "source": [
    "- ? : {0,1}\n",
    "- ab?c => 'a + b가 있어도 되고 없어도 됨 + c'\n",
    "\n",
    "| 정규식 | 문자열  | 매치여부 | 설명 |\n",
    "| :---:  | :---:  | :-:      | :--- |\n",
    "| ca?t   | cat    | O   | 'a'가 1번 한번 사용되어 매치 |\n",
    "| ca?t   | ct     | O   | 'a'가 0번 사용되어 매치 |\n"
   ]
  },
  {
   "cell_type": "markdown",
   "id": "eb788730-2667-4a34-9f07-bcc3f26e2516",
   "metadata": {},
   "source": []
  },
  {
   "cell_type": "markdown",
   "id": "f9a61d33-fba0-43c7-a293-fff8fe9ebe55",
   "metadata": {},
   "source": [
    "#### 파이썬에서 정규 표현식을 지원하는 re모듈\n",
    "```python\n",
    "import re\n",
    "p = re.compile('ab*')\n",
    "\n",
    "```\r\n"
   ]
  },
  {
   "cell_type": "markdown",
   "id": "cdede899-f56f-4160-a23a-2481896ba8e8",
   "metadata": {},
   "source": [
    "#### 정규식을 이용한 문자열 검색\n",
    "| 메서드 | 목적  |\n",
    "| :---:  | :---  |\n",
    "| match  | 문자열의 처음부터 정규식과 매치되는지 조사한다.    | \n",
    "| search   | 문자열 전체를 검색하여 정규식과 매치되는 지 조사한다.   | \n",
    "| findall   | 정규식과 매치되는 모든 문자열(substring)을 리스트로 리턴한다. | \n",
    "| finditer   | 정식과 매치되는 모든 문자열(substring)을 이터레이터 객체로 리턴한다.    | "
   ]
  },
  {
   "cell_type": "code",
   "execution_count": 55,
   "id": "5c4c2d5a-b378-4837-8dbb-82d6ae868041",
   "metadata": {},
   "outputs": [
    {
     "name": "stdout",
     "output_type": "stream",
     "text": [
      "<re.Match object; span=(0, 6), match='python'>\n"
     ]
    }
   ],
   "source": [
    "# # match : 문자열의 처음부터 정규식과 매치되는 지 조사한다.\n",
    "\n",
    "import re \n",
    "\n",
    "p = re.compile('[a-z]+')\n",
    "m = p.match('python')\n",
    "print(m)"
   ]
  },
  {
   "cell_type": "code",
   "execution_count": 57,
   "id": "f3520be4-4981-4e0c-b014-a952a0da929a",
   "metadata": {},
   "outputs": [
    {
     "name": "stdout",
     "output_type": "stream",
     "text": [
      "None\n"
     ]
    }
   ],
   "source": [
    "m = p.match('3 python')\n",
    "print(m)\n",
    "\n",
    "# '3 python'문자열은 처음나오는 3이 정규식 [a-z]+에 부합되지 않으므로 None이 리턴된다."
   ]
  },
  {
   "cell_type": "markdown",
   "id": "0f735677-9e2a-4876-9f4e-5c1d1be28258",
   "metadata": {},
   "source": [
    "#### match의 결과로 match 객체 또는 None을 리턴하기 때문에 파이썬 정규식 프로그램은 보통 다음과 같은 흐름으로 작성한다.\n",
    "```python\n",
    "p = re.compile(정규표현식)\n",
    "m = p.match('조사할 문자열')\n",
    "if m :\n",
    "    print('Match found: ', m.group())\n",
    "else:\n",
    "    print('No Match')"
   ]
  },
  {
   "cell_type": "code",
   "execution_count": 59,
   "id": "41da8b18-48d8-45eb-8537-5b6192515cfb",
   "metadata": {},
   "outputs": [
    {
     "name": "stdout",
     "output_type": "stream",
     "text": [
      "Match found:  python\n"
     ]
    }
   ],
   "source": [
    "# match : 문자열의 처음부터 정규식과 매치되는 지 조사한다.\n",
    "\n",
    "p = re.compile('[a-z]+')\n",
    "m = p.match('python')\n",
    "if m :\n",
    "    print('Match found: ', m.group())\n",
    "else:\n",
    "    print('No Match')"
   ]
  },
  {
   "cell_type": "code",
   "execution_count": 61,
   "id": "3f05b5a6-de9c-4fd5-a198-94ed4ba17fec",
   "metadata": {},
   "outputs": [
    {
     "name": "stdout",
     "output_type": "stream",
     "text": [
      "No Match\n"
     ]
    }
   ],
   "source": [
    "# match : 문자열의 처음부터 정규식과 매치되는 지 조사한다.\n",
    "\n",
    "p = re.compile('[a-z]+')\n",
    "m = p.match('3 python')\n",
    "if m :\n",
    "    print('Match found: ', m.group())\n",
    "else:\n",
    "    print('No Match')"
   ]
  },
  {
   "cell_type": "code",
   "execution_count": 51,
   "id": "93cb3a4a-0aba-42db-85c0-a4660404c4ea",
   "metadata": {},
   "outputs": [
    {
     "name": "stdout",
     "output_type": "stream",
     "text": [
      "Match found:  python\n",
      "<re.Match object; span=(0, 6), match='python'>\n"
     ]
    }
   ],
   "source": [
    "# search \n",
    "p = re.compile('[a-z]+')\n",
    "m = p.search('python')\n",
    "if m :\n",
    "    print('Match found: ', m.group())\n",
    "    print(m)\n",
    "else:\n",
    "    print('No Match')"
   ]
  },
  {
   "cell_type": "code",
   "execution_count": 53,
   "id": "6b48c8ff-619a-4f41-8694-6f5eaff74036",
   "metadata": {},
   "outputs": [
    {
     "name": "stdout",
     "output_type": "stream",
     "text": [
      "Match found:  python\n",
      "<re.Match object; span=(2, 8), match='python'>\n"
     ]
    }
   ],
   "source": [
    "# match : 문자열 전체를 조사한다.\n",
    "\n",
    "p = re.compile('[a-z]+')\n",
    "m = p.search('3 python')\n",
    "if m :\n",
    "    print('Match found: ', m.group())\n",
    "    print(m)\n",
    "else:\n",
    "    print('No Match')"
   ]
  },
  {
   "cell_type": "code",
   "execution_count": 65,
   "id": "2447a647-c634-422e-8a00-c7d480f1f1df",
   "metadata": {},
   "outputs": [
    {
     "name": "stdout",
     "output_type": "stream",
     "text": [
      "Match found: \n",
      "['ife', 'is', 'too', 'short']\n"
     ]
    }
   ],
   "source": [
    "# findall : 문자열 전체를 조사한다.\n",
    "\n",
    "p = re.compile('[a-z]+')\n",
    "m = p.findall('Life is too short')\n",
    "if m :\n",
    "    print('Match found: ')\n",
    "    print(m)\n",
    "else:\n",
    "    print('No Match')"
   ]
  },
  {
   "cell_type": "code",
   "execution_count": 68,
   "id": "d3bd181a-021a-474c-b9a7-ba3964a97352",
   "metadata": {
    "jp-MarkdownHeadingCollapsed": true,
    "scrolled": true
   },
   "outputs": [
    {
     "name": "stdout",
     "output_type": "stream",
     "text": [
      "Match found: \n",
      "<callable_iterator object at 0x000001BCDE8379A0>\n"
     ]
    }
   ],
   "source": [
    "# finditer : 문자열 전체를 조사해서 이터레이터로 변환한다.\n",
    "\n",
    "p = re.compile('[a-z]+')\n",
    "m = p.finditer('Life is too short')\n",
    "if m :\n",
    "    print('Match found: ')\n",
    "    print(m)\n",
    "else:\n",
    "    print('No Match')"
   ]
  },
  {
   "cell_type": "code",
   "execution_count": 72,
   "id": "1546414d-a500-4c1e-adb6-085b7c19a6c2",
   "metadata": {},
   "outputs": [
    {
     "name": "stdout",
     "output_type": "stream",
     "text": [
      "<re.Match object; span=(1, 4), match='ife'>\n",
      "<re.Match object; span=(5, 7), match='is'>\n",
      "<re.Match object; span=(8, 11), match='too'>\n",
      "<re.Match object; span=(12, 17), match='short'>\n"
     ]
    }
   ],
   "source": [
    "for r in m : print(r)"
   ]
  },
  {
   "cell_type": "markdown",
   "id": "8f07e604-480e-445c-ba71-9c351765d547",
   "metadata": {},
   "source": []
  },
  {
   "cell_type": "code",
   "execution_count": null,
   "id": "d6882742-ffab-4c1f-bab8-a612207abbdf",
   "metadata": {},
   "outputs": [],
   "source": []
  },
  {
   "cell_type": "code",
   "execution_count": null,
   "id": "672a6449-1299-446d-bade-3bbf3c07930d",
   "metadata": {},
   "outputs": [],
   "source": []
  },
  {
   "cell_type": "code",
   "execution_count": null,
   "id": "1be642a5-76fb-472f-a6c9-311d46a05750",
   "metadata": {},
   "outputs": [],
   "source": []
  },
  {
   "cell_type": "code",
   "execution_count": null,
   "id": "f2e28648-3beb-4fde-9019-6d91d16bc9d4",
   "metadata": {},
   "outputs": [],
   "source": []
  },
  {
   "cell_type": "markdown",
   "id": "e182e0de-27e1-4f0d-b186-07e8dae94f2f",
   "metadata": {},
   "source": []
  },
  {
   "cell_type": "code",
   "execution_count": 115,
   "id": "f63b69e7-f143-48dd-a8c4-48f49bbb87af",
   "metadata": {},
   "outputs": [
    {
     "name": "stdout",
     "output_type": "stream",
     "text": [
      "['life', 'is', 'too', 'short']\n"
     ]
    }
   ],
   "source": [
    "result = p.findall('life is too short')\n",
    "print(result)"
   ]
  },
  {
   "cell_type": "markdown",
   "id": "581d9914-f598-4b14-8bd3-10e1e69559a7",
   "metadata": {},
   "source": []
  },
  {
   "cell_type": "markdown",
   "id": "7b4c98e3-c9ee-43c0-a996-021519eb989f",
   "metadata": {},
   "source": []
  },
  {
   "cell_type": "markdown",
   "id": "2b5037af-2c50-4779-94b1-8a416876f5b5",
   "metadata": {},
   "source": []
  },
  {
   "cell_type": "code",
   "execution_count": 139,
   "id": "f8f5a6ea-cceb-46ea-80a0-362ae148807d",
   "metadata": {},
   "outputs": [],
   "source": [
    "m = re.match('[a-z]+', 'python')"
   ]
  },
  {
   "cell_type": "code",
   "execution_count": 141,
   "id": "e1f8091a-e187-401e-88aa-c99dd6787506",
   "metadata": {},
   "outputs": [
    {
     "name": "stdout",
     "output_type": "stream",
     "text": [
      "<re.Match object; span=(0, 6), match='python'>\n"
     ]
    }
   ],
   "source": [
    "print(m)"
   ]
  },
  {
   "cell_type": "code",
   "execution_count": 143,
   "id": "ab8c7eee-6025-49b2-b68b-3a53f93db0af",
   "metadata": {},
   "outputs": [
    {
     "name": "stdout",
     "output_type": "stream",
     "text": [
      "None\n"
     ]
    }
   ],
   "source": [
    "import re\n",
    "p = re.compile('a.b')\n",
    "m = p.match('a\\nb')\n",
    "print(m)"
   ]
  },
  {
   "cell_type": "code",
   "execution_count": 145,
   "id": "cd850465-78e2-4b4c-8660-2c4e85409feb",
   "metadata": {},
   "outputs": [
    {
     "name": "stdout",
     "output_type": "stream",
     "text": [
      "<re.Match object; span=(0, 3), match='a\\nb'>\n"
     ]
    }
   ],
   "source": [
    "import re\n",
    "p = re.compile('a.b', re.DOTALL)\n",
    "m = p.match('a\\nb')\n",
    "print(m)"
   ]
  },
  {
   "cell_type": "code",
   "execution_count": 149,
   "id": "0f8b7354-078a-4c30-88ca-2b39b6de18a7",
   "metadata": {},
   "outputs": [
    {
     "data": {
      "text/plain": [
       "<re.Match object; span=(0, 6), match='python'>"
      ]
     },
     "execution_count": 149,
     "metadata": {},
     "output_type": "execute_result"
    }
   ],
   "source": [
    "p = re.compile('[a-z]+', re.I)\n",
    "p.match('python')"
   ]
  },
  {
   "cell_type": "code",
   "execution_count": 151,
   "id": "ae0753de-6313-4039-8bb1-7faa3a95dee1",
   "metadata": {},
   "outputs": [
    {
     "data": {
      "text/plain": [
       "<re.Match object; span=(0, 6), match='Python'>"
      ]
     },
     "execution_count": 151,
     "metadata": {},
     "output_type": "execute_result"
    }
   ],
   "source": [
    "p.match('Python')"
   ]
  },
  {
   "cell_type": "code",
   "execution_count": 153,
   "id": "39c923ab-d6a2-4e49-a790-fdada76a0007",
   "metadata": {},
   "outputs": [
    {
     "data": {
      "text/plain": [
       "<re.Match object; span=(0, 6), match='PYTHON'>"
      ]
     },
     "execution_count": 153,
     "metadata": {},
     "output_type": "execute_result"
    }
   ],
   "source": [
    "p.match('PYTHON')"
   ]
  },
  {
   "cell_type": "code",
   "execution_count": 159,
   "id": "2cc3136d-a294-4ab9-af8a-99bdad20b5f7",
   "metadata": {},
   "outputs": [
    {
     "name": "stderr",
     "output_type": "stream",
     "text": [
      "<>:2: SyntaxWarning: invalid escape sequence '\\s'\n",
      "<>:2: SyntaxWarning: invalid escape sequence '\\s'\n",
      "C:\\Users\\kjink007\\AppData\\Local\\Temp\\ipykernel_19344\\3156323401.py:2: SyntaxWarning: invalid escape sequence '\\s'\n",
      "  p = re.compile(\"^python\\s\\w+\")\n"
     ]
    }
   ],
   "source": [
    "import re\n",
    "p = re.compile(\"^python\\s\\w+\")\n",
    "\n",
    "data = \"\"\"python one \n",
    "life is too short\n",
    "python twon\n",
    "you need python\n",
    "python three\"\"\""
   ]
  },
  {
   "cell_type": "code",
   "execution_count": 161,
   "id": "9ade618f-ae29-480a-8019-ab4c195d3de7",
   "metadata": {},
   "outputs": [
    {
     "name": "stdout",
     "output_type": "stream",
     "text": [
      "['python one']\n"
     ]
    }
   ],
   "source": [
    "print(p.findall(data))"
   ]
  },
  {
   "cell_type": "code",
   "execution_count": 169,
   "id": "49e27ff2-55cd-4f97-a56a-6dd23f98bc55",
   "metadata": {},
   "outputs": [
    {
     "name": "stderr",
     "output_type": "stream",
     "text": [
      "<>:2: SyntaxWarning: invalid escape sequence '\\s'\n",
      "<>:2: SyntaxWarning: invalid escape sequence '\\s'\n",
      "C:\\Users\\kjink007\\AppData\\Local\\Temp\\ipykernel_19344\\3425533217.py:2: SyntaxWarning: invalid escape sequence '\\s'\n",
      "  p = re.compile(\"^python\\s\\w+\", re.MULTILINE)\n"
     ]
    }
   ],
   "source": [
    "import re\n",
    "p = re.compile(\"^python\\s\\w+\", re.MULTILINE)\n",
    "\n",
    "data = \"\"\"python one \n",
    "life is too short\n",
    "python twon\n",
    "you need python\n",
    "python three\"\"\"\n",
    "\n"
   ]
  },
  {
   "cell_type": "code",
   "execution_count": 165,
   "id": "1717cb32-6f5a-490b-b5c0-dad710d391a6",
   "metadata": {},
   "outputs": [
    {
     "name": "stdout",
     "output_type": "stream",
     "text": [
      "['python one', 'python twon', 'python three']\n"
     ]
    }
   ],
   "source": [
    "print(p.findall(data))"
   ]
  },
  {
   "cell_type": "code",
   "execution_count": 198,
   "id": "e1d88bd2-0ec0-499d-9d5f-60bfa14f05d8",
   "metadata": {},
   "outputs": [
    {
     "name": "stderr",
     "output_type": "stream",
     "text": [
      "<>:2: SyntaxWarning: invalid escape sequence '\\w'\n",
      "<>:2: SyntaxWarning: invalid escape sequence '\\w'\n",
      "C:\\Users\\kjink007\\AppData\\Local\\Temp\\ipykernel_19344\\3859888556.py:2: SyntaxWarning: invalid escape sequence '\\w'\n",
      "  p = re.compile(\"^python\\v\\w+\", re.MULTILINE)\n"
     ]
    }
   ],
   "source": [
    "import re\n",
    "p = re.compile(\"^python\\v\\w+\", re.MULTILINE)\n",
    "\n",
    "data = \"\"\"python one \n",
    "life is too short\n",
    "python twon\n",
    "you need python\n",
    "python three\"\"\""
   ]
  },
  {
   "cell_type": "code",
   "execution_count": 200,
   "id": "50e2cad0-686b-4e64-a4bb-7a26d7e0f6eb",
   "metadata": {},
   "outputs": [
    {
     "name": "stdout",
     "output_type": "stream",
     "text": [
      "[]\n"
     ]
    }
   ],
   "source": [
    "print(p.findall(data))"
   ]
  },
  {
   "cell_type": "code",
   "execution_count": null,
   "id": "5e5d7fd5-8124-4ace-bc40-c69e6557a6a8",
   "metadata": {},
   "outputs": [],
   "source": []
  },
  {
   "cell_type": "code",
   "execution_count": null,
   "id": "24c90f77-a119-458c-ac65-048d4e0eddd9",
   "metadata": {},
   "outputs": [],
   "source": []
  },
  {
   "cell_type": "markdown",
   "id": "f9111629-9dec-4cd6-a6a8-901c15a956ec",
   "metadata": {},
   "source": [
    "\n",
    "자주 사용하는 정규 표현식\n",
    "\n",
    "이메일\n",
    "/^[\\w-]+(\\.[\\w-]+)*@([a-z0-9-]+(\\.[a-z0-9-]+)*?\\.[a-z]{2,6}|(\\d{1,3}\\.){3}\\d{1,3})(:\\d{4})?$/"
   ]
  },
  {
   "cell_type": "markdown",
   "id": "405c0d1e-15a5-4772-8211-f8d1fe068642",
   "metadata": {},
   "source": [
    "#### match 객체의 메서드\n",
    "- match 객체란 앞에서 살펴본 p.match, p.search, p.finditer 메서드에 의해 리턴된 매치객체 match object를 의미한다.\n",
    "- 어떤 문자열이 매치되었는가?\n",
    "- 매치된 문자열의 인덱슨느 어디서부터 어디까지인가?\n"
   ]
  },
  {
   "cell_type": "markdown",
   "id": "9ce4b002-5b77-4001-a534-533d0a7e9aa4",
   "metadata": {},
   "source": [
    "\n",
    "| 메서드 | 목적  |\n",
    "| :---:  | :---  |\n",
    "| group  | 매치된 문자열을 리턴한다.    | \n",
    "| strat   | 매치된 문자열의 시작위치를 리턴한다. | \n",
    "| end   | 매치된 문자열의 끝 위치를 리턴한다. | \n",
    "| span   | 매치된 문자열의 (시작, 끝)에 해당하는 튜플을 리턴한다. | "
   ]
  },
  {
   "cell_type": "code",
   "execution_count": 87,
   "id": "86a949ef-3c90-4022-bd9d-f3e25699a260",
   "metadata": {},
   "outputs": [
    {
     "name": "stdout",
     "output_type": "stream",
     "text": [
      "Match found: \n",
      "<re.Match object; span=(0, 6), match='python'>\n"
     ]
    }
   ],
   "source": [
    "# 모듈단위로 수행하기\n",
    "import re\n",
    "\n",
    "m = re.match('[a-z]+', 'python')\n",
    "\n",
    "if m :\n",
    "    print('Match found: ')\n",
    "    print(m)\n",
    "else:\n",
    "    print('No Match')"
   ]
  },
  {
   "cell_type": "markdown",
   "id": "105c012d-d586-46f8-af99-20b870ef4f5a",
   "metadata": {},
   "source": [
    "##### re모듈의 compile 옵션\n",
    "\n",
    "| 옵션이름    | 약어  | 설명 |\n",
    "| :---:      | :---: | :---  |\n",
    "| DOTALL     | S     | .(dot)이 줄바꿈 문자를 포함해 모든 문자와 매치될 수 있게 한다.    | \n",
    "| IGNORECASE | I     | 대소문자에 관계없이 매치될 수 있게 한다. | \n",
    "| MULTILINE  | M     | 여러 줄과 매치될 수 있게 한다. ^ $ 메타문자 사용과 관계 있는 옵션이다. | \n",
    "| VERBOSE    | X     | verbose모드를 사용할 수 있게 한다. 정규식을 보기 편하게 만들 수 있고 주석 등을 사용할 수 있게 한다. | \n",
    "\n",
    "- verbose 란, '장황한, 상세한, 말 수가 많은' 이라는 뜻을 갖고 있는 영어 단어이다.\n",
    "- 일반적으로 함수 인자로 verbose가 있으면 함수 수행시 발생하는 상세한 정보들을 표준 출력으로 자세히 내보낼 것인가를 나타냅니다. "
   ]
  },
  {
   "cell_type": "markdown",
   "id": "53e6bd04-488a-4509-85b2-34952110dbfb",
   "metadata": {},
   "source": [
    "#### 1. DOTALL, S"
   ]
  },
  {
   "cell_type": "code",
   "execution_count": 95,
   "id": "ec7de360-db80-4010-9400-11b36c61e468",
   "metadata": {},
   "outputs": [
    {
     "name": "stdout",
     "output_type": "stream",
     "text": [
      "None\n"
     ]
    }
   ],
   "source": [
    "import re\n",
    "m = re.match('a.b', 'a\\nb')\n",
    "print(m)\n",
    "# .(dot) 메타문자는 줄바꿈문자(\\n)을 제외한 모든 문자와 매치되는 규칙이 있다."
   ]
  },
  {
   "cell_type": "code",
   "execution_count": 97,
   "id": "78cd4aca-3f9e-4989-b6d9-0517b07f5de0",
   "metadata": {},
   "outputs": [
    {
     "name": "stdout",
     "output_type": "stream",
     "text": [
      "<re.Match object; span=(0, 3), match='a\\nb'>\n"
     ]
    }
   ],
   "source": [
    "import re\n",
    "m = re.match('a.b', 'a\\nb', re.DOTALL)\n",
    "print(m)"
   ]
  },
  {
   "cell_type": "markdown",
   "id": "f352935e-6145-4dd5-83a2-8f6828a9fd83",
   "metadata": {},
   "source": [
    "#### 2. IGNORECASE, I"
   ]
  },
  {
   "cell_type": "code",
   "execution_count": 111,
   "id": "a6ad055d-ed9c-4dfe-990d-8d60c9f0da13",
   "metadata": {},
   "outputs": [
    {
     "name": "stdout",
     "output_type": "stream",
     "text": [
      "None\n"
     ]
    }
   ],
   "source": [
    "m = re.match('[a-z]+', 'Python')\n",
    "print(m)\n"
   ]
  },
  {
   "cell_type": "code",
   "execution_count": 113,
   "id": "bf1da8c4-6235-42e7-81eb-eac1d60b22c7",
   "metadata": {},
   "outputs": [
    {
     "name": "stdout",
     "output_type": "stream",
     "text": [
      "<re.Match object; span=(0, 6), match='Python'>\n"
     ]
    }
   ],
   "source": [
    "m = re.match('[a-z]+', 'Python', re.I)\n",
    "print(m)"
   ]
  },
  {
   "cell_type": "markdown",
   "id": "5809add7-3b0a-41c0-85ed-c13e31b1beeb",
   "metadata": {},
   "source": [
    "#### 3. MULTILINE, M\n",
    "\n",
    "- re.MULTILINE과 re.M옵션은 메타문자 ^ $와 자주 쓰인다.\r",
    "- ^ : 문자열의 처음\n",
    "- $ : 문자열의 마지막\n",
    "- \r\n",
    "\r\n",
    "다음 예시에서 정규식 ^python\\s\\w+는 문자열이 python으로 시작하고, 공백 하나, 단어 하나가 와야한다는 의미다."
   ]
  },
  {
   "cell_type": "code",
   "execution_count": 145,
   "id": "7cf6324e-abb6-4b6e-b596-d29c925b6a28",
   "metadata": {},
   "outputs": [
    {
     "name": "stdout",
     "output_type": "stream",
     "text": [
      "['python one']\n"
     ]
    }
   ],
   "source": [
    "import re\n",
    "p = re.compile('^python\\\\s\\\\w+')\n",
    "\n",
    "data = '''python one\n",
    "    life is too short\n",
    "    python two\n",
    "    you need python\n",
    "    pthon three\n",
    "    '''\n",
    "\n",
    "print(p.findall(data))\n",
    "# 첫출 한줄만 리턴된다."
   ]
  },
  {
   "cell_type": "code",
   "execution_count": 167,
   "id": "581ba768-6ab3-4e65-96f3-d3e4f3007cd9",
   "metadata": {},
   "outputs": [
    {
     "name": "stdout",
     "output_type": "stream",
     "text": [
      "['python one', 'python two', 'python python']\n"
     ]
    }
   ],
   "source": [
    "  import re \n",
    "  p = re.compile('python\\\\s\\\\w+')\n",
    "\n",
    "  data = '''python one life is too short python two you need python python three'''\n",
    "\n",
    "  print(p.findall(data))"
   ]
  },
  {
   "cell_type": "code",
   "execution_count": 157,
   "id": "87931a02-f395-4b87-8b50-aa1fa2683fd5",
   "metadata": {},
   "outputs": [
    {
     "name": "stdout",
     "output_type": "stream",
     "text": [
      "['python one', 'python two', 'python three']\n"
     ]
    }
   ],
   "source": [
    "  import re \n",
    "  p = re.compile('^python\\\\s\\\\w+', re.MULTILINE)\n",
    "\n",
    "  data = '''python one\n",
    "  life is too short \n",
    "  python two\n",
    "  you need python\n",
    "  python three\n",
    "  '''\n",
    "\n",
    "  print(p.findall(data))"
   ]
  },
  {
   "cell_type": "markdown",
   "id": "3e8103b5-dcf1-443d-a452-eb2abd38fdd9",
   "metadata": {},
   "source": [
    "#### 4. VERBOSE, X\n",
    "```python\n",
    "\n",
    "charref = re.compile(r'&[#](0[0-7]+|[0-9]+|x[0-9a-fA-F]+);')\n",
    "\n",
    "charref = re.compile(r\"\"\"\n",
    "&[#]             # Start of a numberic entity reference\n",
    "(\n",
    "  0[0-7]+        # Octal form\n",
    "|  [0-9]+        # Decimal form\n",
    "| x[0-9a-fA-F]+  # Hexadecimal form\n",
    ") \n",
    ";                # Trailing semicolon\n",
    "\"\"\", re.VERBOSE)"
   ]
  },
  {
   "cell_type": "markdown",
   "id": "9bbf842f-4de2-4e51-aa7e-2782f119b21b",
   "metadata": {},
   "source": [
    "#### 역슬래시 (backslash, \\) 문제\n",
    "\n",
    "- \\section 에서 \\s가 whitespace로 해석된다.\n",
    "- [\\t\\n\\r\\f\\v]ection 으로 해석된다.\n",
    "- 이것을 해결하고자 역슬래시를 하나더 사용한다.\n",
    "- p = re.compile('\\\\section')\n",
    "- 파이썬 리터럴 규칙에 의해 \\\\를 전달하면 \\로 변환되어 다시 문제가 발생한다.\n",
    "- p = re.compile('\\\\\\\\section') 이렇게 전달해야 하나 복잡해진다.\n",
    "- raw string으로 이것을 회피한다.\n",
    "- p = re.compile(r'\\\\section')\n"
   ]
  },
  {
   "cell_type": "markdown",
   "id": "00e61648-d710-487e-b582-bc19a5a38429",
   "metadata": {},
   "source": []
  },
  {
   "cell_type": "markdown",
   "id": "3f27c987-c45a-48e3-84ce-8b7bc20107c2",
   "metadata": {},
   "source": []
  },
  {
   "cell_type": "code",
   "execution_count": null,
   "id": "f471596b-9958-4362-8d92-836268f0f82f",
   "metadata": {},
   "outputs": [],
   "source": []
  },
  {
   "cell_type": "code",
   "execution_count": null,
   "id": "056df3f5-71b9-4662-beac-fc865d7d29f5",
   "metadata": {},
   "outputs": [],
   "source": []
  },
  {
   "cell_type": "code",
   "execution_count": null,
   "id": "0e52e373-58bc-4d8c-8a2e-77ff29bbc538",
   "metadata": {},
   "outputs": [],
   "source": []
  },
  {
   "cell_type": "code",
   "execution_count": null,
   "id": "88686931-afce-4ee9-9dfd-9d0b073e65e6",
   "metadata": {},
   "outputs": [],
   "source": []
  },
  {
   "cell_type": "code",
   "execution_count": null,
   "id": "2c9e28f2-213e-4a95-a3a2-264a52a897f7",
   "metadata": {},
   "outputs": [],
   "source": []
  },
  {
   "cell_type": "code",
   "execution_count": null,
   "id": "f423d0f1-7a84-4c9c-ba04-b13bae794433",
   "metadata": {},
   "outputs": [],
   "source": []
  }
 ],
 "metadata": {
  "kernelspec": {
   "display_name": "Python 3 (ipykernel)",
   "language": "python",
   "name": "python3"
  },
  "language_info": {
   "codemirror_mode": {
    "name": "ipython",
    "version": 3
   },
   "file_extension": ".py",
   "mimetype": "text/x-python",
   "name": "python",
   "nbconvert_exporter": "python",
   "pygments_lexer": "ipython3",
   "version": "3.12.4"
  }
 },
 "nbformat": 4,
 "nbformat_minor": 5
}
