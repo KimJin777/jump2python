{
 "cells": [
  {
   "cell_type": "markdown",
   "id": "316d431d-1f94-4e3e-a56f-c1d428d4e62f",
   "metadata": {},
   "source": [
    "### 활용법 1. 오류의 원인 파악하기"
   ]
  },
  {
   "cell_type": "code",
   "execution_count": 2,
   "id": "c6669d6e-c8de-4289-92cf-cffe9afbd5b7",
   "metadata": {},
   "outputs": [
    {
     "ename": "IndentationError",
     "evalue": "unexpected indent (228226013.py, line 5)",
     "output_type": "error",
     "traceback": [
      "\u001b[1;36m  Cell \u001b[1;32mIn[2], line 5\u001b[1;36m\u001b[0m\n\u001b[1;33m    print('가라')\u001b[0m\n\u001b[1;37m    ^\u001b[0m\n\u001b[1;31mIndentationError\u001b[0m\u001b[1;31m:\u001b[0m unexpected indent\n"
     ]
    }
   ],
   "source": [
    "money = True\n",
    "if money:\n",
    "    print('택시를')\n",
    "print('타고')\n",
    "    print('가라')\n",
    "\n"
   ]
  },
  {
   "cell_type": "markdown",
   "id": "e96c804d-87d0-46d4-92fd-50f29d9e2ef3",
   "metadata": {},
   "source": [
    "#### 다음 코드에서 오류 가 발생하는 이유를 알려줘\n",
    "```python\n",
    "money = True\n",
    "if money:\n",
    "    print('택시를')\n",
    "print('타고')\n",
    "    print('가라')\n",
    "\n"
   ]
  },
  {
   "cell_type": "code",
   "execution_count": 7,
   "id": "06dc908a-467e-44cd-812a-94bd627017c2",
   "metadata": {},
   "outputs": [
    {
     "name": "stdin",
     "output_type": "stream",
     "text": [
      "첫번째 숫자를 입력하세요:  33\n",
      "두번째 숫자를 입력하세요:  33\n"
     ]
    },
    {
     "name": "stdout",
     "output_type": "stream",
     "text": [
      "두 수의 합은 3333 입니다.\n"
     ]
    }
   ],
   "source": [
    "input1 = input('첫번째 숫자를 입력하세요: ')\n",
    "input2 = input('두번째 숫자를 입력하세요: ')\n",
    "total = input1+input2\n",
    "print('두 수의 합은 %s 입니다.' % total)"
   ]
  },
  {
   "cell_type": "markdown",
   "id": "3d253a5e-4faf-4880-9037-58eff7d68a10",
   "metadata": {},
   "source": [
    "### 활용법 2. 작성한 코드 점검하기"
   ]
  },
  {
   "cell_type": "markdown",
   "id": "02e1f563-6cc2-40d4-a16b-bbbb77f8f054",
   "metadata": {},
   "source": [
    "#### 다음 코드에서 오류 가 발생하는 이유를 알려줘\n",
    "```python\n",
    "input1 = input('첫번째 숫자를 입력하세요: ')\n",
    "input2 = input('두번째 숫자를 입력하세요: ')\n",
    "total = input1+input2\n",
    "print('두 수의 합은 %s 입니다.' % total)"
   ]
  },
  {
   "cell_type": "code",
   "execution_count": 10,
   "id": "67ca3c42-205c-49e1-994f-b6cb554f6b28",
   "metadata": {
    "scrolled": true
   },
   "outputs": [
    {
     "name": "stdin",
     "output_type": "stream",
     "text": [
      "첫번째 숫자를 입력하세요:  33\n",
      "두번째 숫자를 입력하세요:  33\n"
     ]
    },
    {
     "name": "stdout",
     "output_type": "stream",
     "text": [
      "두 수의 합은 66 입니다.\n"
     ]
    }
   ],
   "source": [
    "input1 = int(input('첫번째 숫자를 입력하세요: '))\n",
    "input2 = int(input('두번째 숫자를 입력하세요: '))\n",
    "total = input1 + input2\n",
    "print('두 수의 합은 %d 입니다.' % total)"
   ]
  },
  {
   "cell_type": "markdown",
   "id": "90174d75-53b4-445f-8a4a-54b4e4e3268a",
   "metadata": {},
   "source": [
    "### 활용법 3. 코드의 품질 개선하기"
   ]
  },
  {
   "cell_type": "code",
   "execution_count": 17,
   "id": "7f6f6a0a-3d8b-41ea-8d59-f28acbdcf1c3",
   "metadata": {},
   "outputs": [
    {
     "name": "stdout",
     "output_type": "stream",
     "text": [
      "Life is too short!\n"
     ]
    }
   ],
   "source": [
    "f1 = open('test.txt', 'w')\n",
    "f1.write('Life is too short!')\n",
    "f1.close()\n",
    "\n",
    "f2 = open('test.txt', 'r')\n",
    "print(f2.read())\n",
    "f2.close()"
   ]
  },
  {
   "cell_type": "markdown",
   "id": "ecde9ab5-14bf-4ef6-b278-7d2040a0528c",
   "metadata": {},
   "source": [
    "#### 다음 코드를 개선해줘\n",
    "```python\n",
    "f1 = open('test.txt', 'w')\n",
    "f1.write('Life is too short!')\n",
    "f1.close()\n",
    "\n",
    "f2 = open('test.txt', 'r')\n",
    "print(f2.read())\n",
    "f2.close()"
   ]
  },
  {
   "cell_type": "code",
   "execution_count": 20,
   "id": "41508cad-add1-468b-879e-4ce371a86d22",
   "metadata": {},
   "outputs": [
    {
     "name": "stdout",
     "output_type": "stream",
     "text": [
      "Life is too short!\n"
     ]
    }
   ],
   "source": [
    "# 파일에 쓰기\n",
    "with open('test.txt', 'w') as f1:\n",
    "    f1.write('Life is too short!')\n",
    "\n",
    "# 파일 읽기\n",
    "with open('test.txt', 'r') as f2:\n",
    "    content = f2.read()\n",
    "    print(content)\n"
   ]
  },
  {
   "cell_type": "markdown",
   "id": "7563364b-280f-4f12-904f-84db2b261d04",
   "metadata": {},
   "source": [
    "### 활용법 4. 이해하기 어려운 코드에 주석 달기"
   ]
  },
  {
   "cell_type": "code",
   "execution_count": 25,
   "id": "b773da52-6fca-4c0e-89c9-ca56d1c26dc2",
   "metadata": {},
   "outputs": [],
   "source": [
    "def chk_dup_number(s):\n",
    "    result = []\n",
    "    for num in s:\n",
    "        if num not in result:\n",
    "            result.append(num)\n",
    "        else:\n",
    "            return False\n",
    "\n",
    "    return len(result) == 10"
   ]
  },
  {
   "cell_type": "markdown",
   "id": "d8914fa2-6646-4c7c-820a-d05349fac3f7",
   "metadata": {},
   "source": [
    "#### 다음 파이썬 코드에 주석을 만들어줘\n",
    "```python\n",
    "def chk_dup_number(s):\n",
    "    result = []\n",
    "    for num in s:\n",
    "        if num not in result:\n",
    "            result.append(num)\n",
    "        else:\n",
    "            return False\n",
    "\n",
    "    return len(result) == 10"
   ]
  },
  {
   "cell_type": "code",
   "execution_count": 23,
   "id": "5fcbdfff-d141-4c26-bc12-093880c1af7a",
   "metadata": {},
   "outputs": [],
   "source": [
    "def chk_dup_number(s):\n",
    "    # 중복되지 않은 숫자들을 저장할 빈 리스트 생성\n",
    "    result = []\n",
    "\n",
    "    # 입력된 문자열 s의 각 숫자에 대해 반복\n",
    "    for num in s:\n",
    "        # 해당 숫자가 result 리스트에 없으면 추가\n",
    "        if num not in result:\n",
    "            result.append(num)\n",
    "        # 이미 result 리스트에 있으면 False 반환 (중복 발견)\n",
    "        else:\n",
    "            return False\n",
    "\n",
    "    # result 리스트의 길이가 10이면 True 반환 (0부터 9까지 중복 없이 들어있음을 의미)\n",
    "    return len(result) == 10"
   ]
  },
  {
   "cell_type": "markdown",
   "id": "dd4ef3a6-4eb3-4901-94ef-b1c8062418df",
   "metadata": {},
   "source": [
    "### 활용법 5. 코드의 해석 요청하기"
   ]
  },
  {
   "cell_type": "code",
   "execution_count": 27,
   "id": "df71bd9c-0483-478c-b717-b41e941b3549",
   "metadata": {},
   "outputs": [],
   "source": [
    "import re\n",
    "p = re.compile('a[.]{3,}b')"
   ]
  },
  {
   "cell_type": "markdown",
   "id": "fc3f8824-3dc1-4d04-91ad-459032beff81",
   "metadata": {},
   "source": [
    "#### 파이썬으로 작성된 다음의 정규식을 해석해줘\n",
    "\n",
    "```python\n",
    "import re\n",
    "p = re.compile('a[.]{3,}b')"
   ]
  },
  {
   "cell_type": "markdown",
   "id": "30788c41-085f-4558-a420-c907559a8cb5",
   "metadata": {},
   "source": [
    "---\n",
    "이 정규식은 'a[.]{3,}b'입니다. 이를 하나씩 해석하면:\n",
    "\n",
    "- a: 문자열에서 'a' 문자와 일치해야 합니다.\n",
    "- [.]: .(점)을 의미합니다. 대괄호 안에 쓰인 점(.)은 메타문자로서의 의미가 사라지고, 문자 그대로의 점을 의미합니다.\n",
    "- {3,}: 바로 앞의 문자가 최소 3회 이상 반복됨을 나타냅니다. 이 경우 점(.)이 3번 이상 반복되어야 합니다.\n",
    "- b: 문자열에서 'b' 문자와 일치해야 합니다.\n",
    "\n",
    "전체적으로 해석:\n",
    "- 정규식 'a[.]{3,}b'는 'a'로 시작하고, 3개 이상의 연속된 점(...)이 나온 후, 'b'로 끝나는 패턴을 찾습니다.\n",
    "\n",
    "예시로 일치하는 문자열:\n",
    "\n",
    "- a...b\n",
    "- a.....b\n",
    "- a.........b\n",
    "- \n",
    "이처럼 'a'와 'b' 사이에 최소 3개 이상의 점이 포함된 문자열을 찾습니다."
   ]
  },
  {
   "cell_type": "markdown",
   "id": "be22a0d9-abc4-423e-8c57-48d212118f55",
   "metadata": {},
   "source": [
    "### 활용법 6. 기능 구현 의뢰하기"
   ]
  },
  {
   "cell_type": "markdown",
   "id": "9d437970-4fd7-4f8a-9c72-38b95df884a8",
   "metadata": {},
   "source": [
    "두 날짜의 차이를 구할 수 있는 파이썬 라이브러리를 알려 주고 예제도 보여줘."
   ]
  },
  {
   "attachments": {},
   "cell_type": "markdown",
   "id": "8c81df2d-fbf4-4c18-8d1b-c321051f13ca",
   "metadata": {},
   "source": [
    "- 두 날짜의 차이를 계산하기 위해 Python의 datetime 모듈을 사용할 수 있습니다.\n",
    "- 이 모듈에는 날짜와 시간을 다루는 다양한 기능이 포함되어 있으며,\n",
    "- date 또는 datetime 객체를 사용해 날짜 차이를 쉽게 계산할 수 있습니다.\n",
    "\n",
    "- datetime 모듈을 사용한 예제:\n",
    "```python \n",
    "from datetime import datetime\r\n",
    "\r\n",
    "# 날짜 설정 (년, 월, 일)\r\n",
    "date1 = datetime(2023, 9, 1)\r\n",
    "date2 = datetime(2024, 9, 1)\r\n",
    "\r\n",
    "# 두 날짜의 차이 계산\r\n",
    "difference = date2 - date1\r\n",
    "\r\n",
    "# 차이 출력 (일수)\r\n",
    "print(f\"두 날짜의 차이는 {difference.days}일입니다.\")\r\n"
   ]
  },
  {
   "cell_type": "markdown",
   "id": "5680bc97-2af4-4c5b-ab24-9503cf805d13",
   "metadata": {},
   "source": [
    "- 실행결과\n",
    "  \n",
    "  두 날짜의 차이는 366일입니다.\n",
    "\n",
    "- 설명:\n",
    "    - datetime 모듈의 datetime 클래스를 사용해 날짜를 생성합니다.\n",
    "    - 날짜 간의 차이를 구할 때는 두 날짜 객체 간에 뺄셈 연산을 수행하면 됩니다.\n",
    "    - 결과는 timedelta 객체로 반환되며, 여기서 .days 속성을 통해 날짜 차이를 일(day) 단위로 얻을 수 있습니다.\n",
    "      \n",
    "이 방법을 사용하면 두 날짜 사이의 일 수, 시간, 분 등을 손쉽게 계산할 수 있습니다.\r\n"
   ]
  },
  {
   "cell_type": "code",
   "execution_count": 42,
   "id": "1d68521d-5ae3-4e31-b58c-d40e18d30632",
   "metadata": {},
   "outputs": [
    {
     "name": "stdout",
     "output_type": "stream",
     "text": [
      "두 날짜의 차이는 366일입니다.\n"
     ]
    }
   ],
   "source": [
    "from datetime import datetime\n",
    "\n",
    "# 날짜 설정 (년, 월, 일)\n",
    "date1 = datetime(2023, 9, 1)\n",
    "date2 = datetime(2024, 9, 1)\n",
    "\n",
    "# 두 날짜의 차이 계산\n",
    "difference = date2 - date1\n",
    "\n",
    "# 차이 출력 (일수)\n",
    "print(f\"두 날짜의 차이는 {difference.days}일입니다.\")\n"
   ]
  },
  {
   "cell_type": "code",
   "execution_count": null,
   "id": "8cabaefb-cd4b-416e-bbfd-e4904a718a7f",
   "metadata": {},
   "outputs": [],
   "source": []
  },
  {
   "cell_type": "code",
   "execution_count": null,
   "id": "1156a358-57ee-4980-b35a-592b17797075",
   "metadata": {},
   "outputs": [],
   "source": []
  },
  {
   "cell_type": "code",
   "execution_count": null,
   "id": "5e7e9b6c-8a44-4a3b-a555-5586d95d3c27",
   "metadata": {},
   "outputs": [],
   "source": []
  }
 ],
 "metadata": {
  "kernelspec": {
   "display_name": "Python 3 (ipykernel)",
   "language": "python",
   "name": "python3"
  },
  "language_info": {
   "codemirror_mode": {
    "name": "ipython",
    "version": 3
   },
   "file_extension": ".py",
   "mimetype": "text/x-python",
   "name": "python",
   "nbconvert_exporter": "python",
   "pygments_lexer": "ipython3",
   "version": "3.12.4"
  }
 },
 "nbformat": 4,
 "nbformat_minor": 5
}
