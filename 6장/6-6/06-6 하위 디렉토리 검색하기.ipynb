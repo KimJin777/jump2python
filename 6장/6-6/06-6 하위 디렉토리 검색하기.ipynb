{
 "cells": [
  {
   "cell_type": "markdown",
   "id": "cef9af16-0f74-4b98-92be-eb6c961fd072",
   "metadata": {},
   "source": [
    "## 06-6 하위 디렉토리 검색하기\n",
    "\n",
    "특정 디렉토리부터 시작해서 그 하위(디렉토리 포함)의 모든 파일 중 파이썬 파일(*.py)만 출력해주는 프로그램을 만들려면 어떻게 해야 할까?\n"
   ]
  },
  {
   "cell_type": "markdown",
   "id": "2fbba706-a0b0-4d2e-908d-134883f67b00",
   "metadata": {},
   "source": [
    "- 필요한 기능은? 파이썬 파일만 찾아서 출력하기\n",
    "- 입력받는 값은? 검색을 시작할 디렉토리\n",
    "- 출력하는 값은? 파이썬 파일명"
   ]
  },
  {
   "cell_type": "markdown",
   "id": "ed5af4a2-2fb6-4bad-9fac-34425749e289",
   "metadata": {},
   "source": [
    "1. 다음과 같이 sub_dir_search1.py 파일을 작성해 보자.\n",
    "```python\n",
    "\n",
    "sub_dir_search1.py \n",
    "\n",
    "def search(dirname):\n",
    "    print(dirname)\n",
    "\n",
    "```"
   ]
  },
  {
   "cell_type": "code",
   "execution_count": 3,
   "id": "f3391019-de0f-4246-9b37-cd66742d0c4e",
   "metadata": {},
   "outputs": [
    {
     "name": "stdout",
     "output_type": "stream",
     "text": [
      "c:/\n"
     ]
    }
   ],
   "source": [
    "def search(dirname):\n",
    "    print(dirname)\n",
    "\n",
    "search(\"c:/\")"
   ]
  },
  {
   "cell_type": "markdown",
   "id": "e2cf8a43-2c0c-427c-9358-04f3c9695ae2",
   "metadata": {},
   "source": [
    "2. 이 디렉터리에 있는 파일을 검색할 수 있도록 소스를 변경해 보자.\n",
    "```python\n",
    "\n",
    "sub_dir_search2.py \n",
    "\n",
    "\n",
    "import os\n",
    "\n",
    "def search(dirname):\n",
    "    filenames = os.listdir(dirname)\n",
    "    for filename in filenames:\n",
    "        full_filename = os.path.join(dirname, filename)\n",
    "        print(full_filename)\n",
    "```\n",
    "\n",
    "\n",
    ")"
   ]
  },
  {
   "cell_type": "code",
   "execution_count": 31,
   "id": "a9647065-7456-489d-a1d1-695b59702c0d",
   "metadata": {},
   "outputs": [],
   "source": [
    "import os \n",
    "\n",
    "def search(dirname):\n",
    "    filenames = os.listdir(dirname)\n",
    "    for filename in filenames:\n",
    "        full_filename = os.path.join(dirname, filename)\n",
    "        print(full_filename)\n"
   ]
  },
  {
   "cell_type": "code",
   "execution_count": 33,
   "id": "f237d228-a348-44cc-96c5-2f9fc5d285ef",
   "metadata": {},
   "outputs": [
    {
     "name": "stdout",
     "output_type": "stream",
     "text": [
      "c:/$Recycle.Bin\n",
      "c:/$WINDOWS.~BT\n",
      "c:/$Windows.~WS\n",
      "c:/$WinREAgent\n",
      "c:/$WINRE_BACKUP_PARTITION.MARKER\n",
      "c:/Documents and Settings\n",
      "c:/doit\n",
      "c:/DumpStack.log\n",
      "c:/DumpStack.log.tmp\n",
      "c:/ESD\n",
      "c:/Intel\n",
      "c:/KMPlayer\n",
      "c:/LDPlayer\n",
      "c:/NEOWIZ\n",
      "c:/nsispromotion_log.txt\n",
      "c:/pagefile.sys\n",
      "c:/PerfLogs\n",
      "c:/Program Files\n",
      "c:/Program Files (x86)\n",
      "c:/ProgramData\n",
      "c:/Quarantine_MZ\n",
      "c:/Recovery\n",
      "c:/Riot Games\n",
      "c:/SeetrolMyService.log\n",
      "c:/swapfile.sys\n",
      "c:/System Volume Information\n",
      "c:/Temp\n",
      "c:/Users\n",
      "c:/Windows\n",
      "c:/windows10 pro 64bit\n"
     ]
    }
   ],
   "source": [
    "search('c:/')"
   ]
  },
  {
   "cell_type": "markdown",
   "id": "e294fc85-2b65-4e74-ba7d-89508a500141",
   "metadata": {},
   "source": [
    "3.  c:/디렉토리에 있는 파일 중 확장자가 .py인 파일만 출력하도록 코드를 변경해 보자.\n",
    "```python\n",
    "\n",
    "sub_dir_search3.py \n",
    "\n",
    "\n",
    "import os\n",
    "\n",
    "def search(dirname):\n",
    "    filenames = os.listdir(dirname)\n",
    "    for filename in filenames:\n",
    "        full_filename = os.path.join(dirname, filename)\n",
    "        ext = os.path.splitext(full_filename)[-1]\n",
    "        if ext == '.py':\n",
    "            print(full_filename)\n",
    "```"
   ]
  },
  {
   "cell_type": "code",
   "execution_count": 42,
   "id": "0ea5625f-d974-4cfd-bb93-785ee9d167a8",
   "metadata": {},
   "outputs": [],
   "source": [
    "import os\n",
    "\n",
    "def search(dirname):\n",
    "    filenames = os.listdir(dirname)\n",
    "    for filename in filenames:\n",
    "        full_filename = os.path.join(dirname, filename)\n",
    "        ext = os.path.splitext(full_filename)[-1]\n",
    "        if ext == '.py':\n",
    "            print(full_filename)"
   ]
  },
  {
   "cell_type": "code",
   "execution_count": 46,
   "id": "85ef030c-939f-4aa1-b8e1-e3e057d1be49",
   "metadata": {
    "scrolled": true
   },
   "outputs": [
    {
     "name": "stdout",
     "output_type": "stream",
     "text": [
      "C:\\Users\\kjink007\\내 드라이브\\Colab Notebooks\\2024년 2학기 연암공전\\점프투파이썬\\6장\\6-6\\sub_dir_search1.py\n",
      "C:\\Users\\kjink007\\내 드라이브\\Colab Notebooks\\2024년 2학기 연암공전\\점프투파이썬\\6장\\6-6\\sub_dir_search2.py\n",
      "C:\\Users\\kjink007\\내 드라이브\\Colab Notebooks\\2024년 2학기 연암공전\\점프투파이썬\\6장\\6-6\\sub_dir_search3.py\n"
     ]
    }
   ],
   "source": [
    "import os\n",
    "\n",
    "files = os.getcwd()\n",
    "search(files)"
   ]
  },
  {
   "cell_type": "markdown",
   "id": "2b625b31-3d0e-4449-9b6f-eaf35f27fa75",
   "metadata": {},
   "source": [
    "4. 하위 디렉터리 검색하기\n",
    "```python\n",
    "\n",
    "sub_dir_search4.py \n",
    "\n",
    "\n",
    "import os\n",
    "\n",
    "def search(dirname):\n",
    "    try:\n",
    "        filenames = os.listdir(dirname)\n",
    "        for filename in filenames:\n",
    "            full_filename = os.path.join(dirname, filename)\n",
    "            if os.path.isdir(full_filename):\n",
    "                search(full_filename)\n",
    "            else:\n",
    "                ext = os.path.splitext(full_filename)[-1]\n",
    "                if ext == '.py':\n",
    "                    print(full_filename)\n",
    "    except PermissionError:\n",
    "        pass\n",
    "```"
   ]
  },
  {
   "cell_type": "code",
   "execution_count": 53,
   "id": "9d47f8a7-633f-4d26-ae35-a5662651f6f9",
   "metadata": {},
   "outputs": [],
   "source": [
    "import os\n",
    "\n",
    "def search(dirname):\n",
    "    try:\n",
    "        filenames = os.listdir(dirname)\n",
    "        for filename in filenames:\n",
    "            full_filename = os.path.join(dirname, filename)\n",
    "            if os.path.isdir(full_filename):\n",
    "                search(full_filename)\n",
    "            else:\n",
    "                ext = os.path.splitext(full_filename)[-1]\n",
    "                if ext == '.py':\n",
    "                    print(full_filename)\n",
    "    except PermissionError:\n",
    "        pass"
   ]
  },
  {
   "cell_type": "code",
   "execution_count": null,
   "id": "09d166e0-cb7e-4086-b359-3895cacb91ca",
   "metadata": {},
   "outputs": [],
   "source": [
    "search('c:/')"
   ]
  },
  {
   "cell_type": "code",
   "execution_count": null,
   "id": "0e66c5ba-dc44-438a-bb0d-09edf5d64ad3",
   "metadata": {},
   "outputs": [],
   "source": [
    "search('../')"
   ]
  },
  {
   "cell_type": "code",
   "execution_count": 109,
   "id": "065588df-225b-4869-9400-ce912b78bea5",
   "metadata": {},
   "outputs": [],
   "source": []
  },
  {
   "cell_type": "code",
   "execution_count": 63,
   "id": "b001cff9-9fdf-40fd-90dd-d8efa5a1f75e",
   "metadata": {},
   "outputs": [
    {
     "name": "stdout",
     "output_type": "stream",
     "text": [
      "../6-4/memo.py\n",
      "../6-4/memo2.py\n",
      "../6-4/memo3.py\n",
      "../6-4\\.ipynb_checkpoints/memo-checkpoint.py\n",
      "../6-4\\.ipynb_checkpoints/memo2-checkpoint.py\n",
      "../6-4\\.ipynb_checkpoints/memo3-checkpoint.py\n",
      "../6-5/tabto4-1.py\n",
      "../6-5/tabto4-2.py\n",
      "../6-5/tabto4-3.py\n",
      "../6-5\\.ipynb_checkpoints/tabto4-1-checkpoint.py\n",
      "../6-5\\.ipynb_checkpoints/tabto4-2-checkpoint.py\n",
      "../6-5\\.ipynb_checkpoints/tabto4-3-checkpoint.py\n",
      "../6-6/sub_dir_search1.py\n",
      "../6-6/sub_dir_search2.py\n",
      "../6-6/sub_dir_search3.py\n",
      "../6-6/sub_dir_search4.py\n",
      "../6-6\\.ipynb_checkpoints/sub_dir_search1-checkpoint.py\n",
      "../6-6\\.ipynb_checkpoints/sub_dir_search2-checkpoint.py\n",
      "../6-6\\.ipynb_checkpoints/sub_dir_search3-checkpoint.py\n",
      "../6-6\\.ipynb_checkpoints/sub_dir_search4-checkpoint.py\n"
     ]
    }
   ],
   "source": [
    "# os.walk 사용하기\n",
    "\n",
    "\n",
    "import os\n",
    "\n",
    "for (path, dir, files) in os.walk('../'):\n",
    "    for filename in files:\n",
    "        ext = os.path.splitext(filename)[-1]\n",
    "        if ext =='.py':\n",
    "            print('%s/%s' % (path, filename))"
   ]
  },
  {
   "cell_type": "code",
   "execution_count": null,
   "id": "db4d0cb3-8200-4ff6-af1f-6784de7d4c80",
   "metadata": {},
   "outputs": [],
   "source": []
  }
 ],
 "metadata": {
  "kernelspec": {
   "display_name": "Python 3 (ipykernel)",
   "language": "python",
   "name": "python3"
  },
  "language_info": {
   "codemirror_mode": {
    "name": "ipython",
    "version": 3
   },
   "file_extension": ".py",
   "mimetype": "text/x-python",
   "name": "python",
   "nbconvert_exporter": "python",
   "pygments_lexer": "ipython3",
   "version": "3.12.4"
  }
 },
 "nbformat": 4,
 "nbformat_minor": 5
}
