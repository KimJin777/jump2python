{
 "cells": [
  {
   "cell_type": "markdown",
   "id": "a26ff885-02f1-412d-833f-a49b02d3a48f",
   "metadata": {},
   "source": [
    "#### 06-1 나의 프로그램\n",
    "\n",
    "문법도 어느 정도 알겠고, 책 내용도 대부분 이해된다.\n",
    "하지만, 이러한 지식을 바탕으로 도대체 어떤 프로그램을 만들수 있을까?\n",
    "\n",
    "구구단 2단 프로그램을 출력하는 프로그램을 작성해보자\n"
   ]
  },
  {
   "cell_type": "markdown",
   "id": "048fd041-2f04-4cda-baa6-f78ca9605630",
   "metadata": {},
   "source": [
    "#### 구구단 프로그램\n",
    "\n",
    "-2단\n",
    "- 함수 이름: gugu로 짓자\n",
    "- 입력받는 값은? 2\n",
    "- 출력하는 값은? 2단(2,4,6, ... , 18)\n",
    "- 결과는 어떤 형태로 저장하지? 연속된 자료형이므로 리스트"
   ]
  },
  {
   "cell_type": "code",
   "execution_count": 5,
   "id": "52e431a9-c1a8-4360-9dcd-398766d480c7",
   "metadata": {},
   "outputs": [
    {
     "name": "stdout",
     "output_type": "stream",
     "text": [
      "2\n"
     ]
    }
   ],
   "source": [
    "# 1: gugu()라는 함수에 2를 입력값으로 주면 result라는 결과값을 넣으라는 뜻이다.\n",
    "\n",
    "result = gugu(2)"
   ]
  },
  {
   "cell_type": "code",
   "execution_count": null,
   "id": "5e7a2124-4dcb-4c4f-8cbc-aa6e89109926",
   "metadata": {},
   "outputs": [],
   "source": [
    "# 2: 출력값은 2단으로 2,4,6, ... , 18 이므로 리스트자료형으로 받으면 되겠다."
   ]
  },
  {
   "cell_type": "code",
   "execution_count": 7,
   "id": "f71fb7a4-fb63-466d-b320-23fa888f57ef",
   "metadata": {},
   "outputs": [],
   "source": [
    "# 3: 이름을 gugu()라고 지은 함수를 만든다.\n",
    "\n",
    "def gugu(n):\n",
    "    pass\n",
    "    # print(n)"
   ]
  },
  {
   "cell_type": "code",
   "execution_count": 9,
   "id": "507bc695-975e-4244-82d1-c41c615c5b7f",
   "metadata": {},
   "outputs": [],
   "source": [
    "gugu(2)"
   ]
  },
  {
   "cell_type": "code",
   "execution_count": 17,
   "id": "ca52dabd-ccf4-48a6-85d7-0fb344c892c3",
   "metadata": {},
   "outputs": [],
   "source": [
    "# 4: 원하는 단이 인쇄되는지 확인\n",
    "\n",
    "def gugu(n):\n",
    "    # pass\n",
    "    print(n)"
   ]
  },
  {
   "cell_type": "code",
   "execution_count": 19,
   "id": "d3ccae92-f23b-418b-8e2b-53ec7c3aa67e",
   "metadata": {},
   "outputs": [
    {
     "name": "stdout",
     "output_type": "stream",
     "text": [
      "2\n"
     ]
    }
   ],
   "source": [
    "result = gugu(2)\n"
   ]
  },
  {
   "cell_type": "code",
   "execution_count": 21,
   "id": "f1c96ae3-a10b-479c-b7c8-fc23a69561ca",
   "metadata": {},
   "outputs": [],
   "source": [
    "# 5: 리스트 생성\n",
    "def gugu(n):\n",
    "    result = []"
   ]
  },
  {
   "cell_type": "code",
   "execution_count": 7,
   "id": "50ce9929-94a5-462b-92b3-60dfaf090ba7",
   "metadata": {},
   "outputs": [],
   "source": [
    "# 6: 리스트에 2단 데이터 넣기\n",
    "\n",
    "def gugu(n):\n",
    "    result = []\n",
    "    result.append(n*1)\n",
    "    result.append(n*2)\n",
    "    result.append(n*3)\n",
    "    result.append(n*4)\n",
    "    result.append(n*5)\n",
    "    result.append(n*6)\n",
    "    result.append(n*7)\n",
    "    result.append(n*8)\n",
    "    result.append(n*9)\n",
    "    return result\n",
    "    \n",
    " "
   ]
  },
  {
   "cell_type": "code",
   "execution_count": 11,
   "id": "0072c69a-4011-4485-9887-a25ba981247a",
   "metadata": {},
   "outputs": [
    {
     "name": "stdout",
     "output_type": "stream",
     "text": [
      "[2, 4, 6, 8, 10, 12, 14, 16, 18]\n"
     ]
    }
   ],
   "source": [
    "print(gugu(2))"
   ]
  },
  {
   "cell_type": "code",
   "execution_count": 27,
   "id": "f067ec55-5a7e-46bb-9975-73e5dfa45cf9",
   "metadata": {},
   "outputs": [],
   "source": [
    "# 7: 반복문 사용하기\n",
    "\n",
    "def gugu(n):\n",
    "    result = []\n",
    "    for i in range(1, 10):\n",
    "        result.append(i*n)\n",
    "    return result"
   ]
  },
  {
   "cell_type": "code",
   "execution_count": 29,
   "id": "9cb64212-f360-405d-8f40-f3fbc5919ef2",
   "metadata": {},
   "outputs": [
    {
     "name": "stdout",
     "output_type": "stream",
     "text": [
      "[2, 4, 6, 8, 10, 12, 14, 16, 18]\n"
     ]
    }
   ],
   "source": [
    "print(gugu(2))"
   ]
  },
  {
   "cell_type": "code",
   "execution_count": null,
   "id": "7247f00d-ab48-47c0-85de-b512531ff4f0",
   "metadata": {},
   "outputs": [],
   "source": []
  }
 ],
 "metadata": {
  "kernelspec": {
   "display_name": "Python 3 (ipykernel)",
   "language": "python",
   "name": "python3"
  },
  "language_info": {
   "codemirror_mode": {
    "name": "ipython",
    "version": 3
   },
   "file_extension": ".py",
   "mimetype": "text/x-python",
   "name": "python",
   "nbconvert_exporter": "python",
   "pygments_lexer": "ipython3",
   "version": "3.12.4"
  }
 },
 "nbformat": 4,
 "nbformat_minor": 5
}
