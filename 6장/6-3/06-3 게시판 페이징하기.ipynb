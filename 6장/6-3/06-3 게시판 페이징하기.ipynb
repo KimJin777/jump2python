{
 "cells": [
  {
   "cell_type": "code",
   "execution_count": 20,
   "id": "1bd9a89f-db4f-47d1-bfe5-e18c9f13f5d5",
   "metadata": {},
   "outputs": [
    {
     "data": {
      "text/html": [
       "<style>\n",
       "table {float:left}\n",
       "</style>\n"
      ],
      "text/plain": [
       "<IPython.core.display.HTML object>"
      ]
     },
     "metadata": {},
     "output_type": "display_data"
    }
   ],
   "source": [
    "%%html\n",
    "<style>\n",
    "table {float:left}\n",
    "</style>"
   ]
  },
  {
   "cell_type": "markdown",
   "id": "0822db07-0753-4211-8fbd-11028e62322e",
   "metadata": {},
   "source": [
    "## 06-3 게시판 페이징하기\n",
    "\n",
    "A씨는 게시판 프로그램을 작성하고 있다. 그런데 게시물의 총 개수와 한 페이지에 보여 줄 게시물 수를 입력으로 주었을 때 총 페이지 수를 출력하는 프로그램이 필요하다고 한다.\n",
    "게시판의 페이지 수를 구하는 것을 '페이징' 이라고 부른다."
   ]
  },
  {
   "cell_type": "markdown",
   "id": "10fd19c1-6302-4cad-bace-0c1ca3e68577",
   "metadata": {},
   "source": [
    "- 함수 이름은? get_totla_page\n",
    "- 입력받는 값은? 게시물의 총 개수(m), 한 레이지에 보여줄 게시물 수(n)\n",
    "- 출력하는 값은? 총 페이지 수"
   ]
  },
  {
   "cell_type": "markdown",
   "id": "890ef1e1-28cb-4e15-b4b9-1a9fb85db779",
   "metadata": {},
   "source": [
    "\n",
    "<style>\n",
    "\n",
    "|게시물의 총 개수(m)| 페이지 당 보여줄 게시물 수(n)| 총 페이지 수 |\n",
    "|:---:|:---:|:---:|\n",
    "| 5 | 10 | 1|\n",
    "| 15 | 10 | 2|\n",
    "| 25 | 10 | 3|\n",
    "| 30 | 10 | 4|\n",
    "\r\n",
    "table {float:left}\r\n",
    "</style>"
   ]
  },
  {
   "cell_type": "markdown",
   "id": "e9289e29-99e1-4aae-94f2-9cebf2b826b1",
   "metadata": {},
   "source": [
    "|게시물의 총 개수(m) | 페이지 당 보여줄 게시물 수(n) | 총페이지 수|\n",
    "|:---:|:---:|:---:|\n",
    "|5|10|1|\n",
    "|15|10|2|\n",
    "|25|10|3|\n",
    "|25|10|3|"
   ]
  },
  {
   "cell_type": "code",
   "execution_count": 28,
   "id": "f62d655f-ac80-44c0-b86a-0a458a8c1342",
   "metadata": {},
   "outputs": [],
   "source": [
    "# 1. 총 페이지수 = (총 게시물 개수 /한페이지당 보여줄 개수) + 1"
   ]
  },
  {
   "cell_type": "code",
   "execution_count": 30,
   "id": "c61c7168-6fd1-4ddb-9fd0-9ee1b967a482",
   "metadata": {},
   "outputs": [
    {
     "name": "stdout",
     "output_type": "stream",
     "text": [
      "0\n",
      "1\n",
      "2\n",
      "3\n"
     ]
    }
   ],
   "source": [
    "# 2. 계산확인\n",
    "def get_total_page(m, n):\n",
    "    return m//n\n",
    "\n",
    "print(get_total_page(5, 10))\n",
    "print(get_total_page(15, 10))\n",
    "print(get_total_page(25, 10))\n",
    "print(get_total_page(30, 10))"
   ]
  },
  {
   "cell_type": "code",
   "execution_count": 32,
   "id": "0df5142f-52a5-4176-a3a4-1783c9919d0b",
   "metadata": {},
   "outputs": [
    {
     "name": "stdout",
     "output_type": "stream",
     "text": [
      "1\n",
      "2\n",
      "3\n",
      "4\n"
     ]
    }
   ],
   "source": [
    "# 3. 1페이지 더하기\n",
    "def get_total_page(m, n):\n",
    "    return m//n+1\n",
    "\n",
    "print(get_total_page(5, 10))\n",
    "print(get_total_page(15, 10))\n",
    "print(get_total_page(25, 10))\n",
    "print(get_total_page(30, 10))"
   ]
  },
  {
   "cell_type": "code",
   "execution_count": 34,
   "id": "5a02034d-4f23-4118-8e5a-df9a9ecababb",
   "metadata": {},
   "outputs": [
    {
     "name": "stdout",
     "output_type": "stream",
     "text": [
      "1\n",
      "2\n",
      "3\n",
      "3\n"
     ]
    }
   ],
   "source": [
    "# 4. 나누었을때 나머지가 9인 경우는 나누기의 몫을 리턴하고\n",
    "#    이외의 경우는 1을 더하여 리턴하도록 변경\n",
    "def get_total_page(m, n):\n",
    "    if m % n == 0:\n",
    "        return m//n\n",
    "    else:\n",
    "        return m//n +1\n",
    "\n",
    "print(get_total_page(5, 10))\n",
    "print(get_total_page(15, 10))\n",
    "print(get_total_page(25, 10))\n",
    "print(get_total_page(30, 10))"
   ]
  },
  {
   "cell_type": "code",
   "execution_count": null,
   "id": "7ae009e7-85eb-4955-b931-888edd7ab05b",
   "metadata": {},
   "outputs": [],
   "source": []
  }
 ],
 "metadata": {
  "kernelspec": {
   "display_name": "Python 3 (ipykernel)",
   "language": "python",
   "name": "python3"
  },
  "language_info": {
   "codemirror_mode": {
    "name": "ipython",
    "version": 3
   },
   "file_extension": ".py",
   "mimetype": "text/x-python",
   "name": "python",
   "nbconvert_exporter": "python",
   "pygments_lexer": "ipython3",
   "version": "3.12.4"
  }
 },
 "nbformat": 4,
 "nbformat_minor": 5
}
