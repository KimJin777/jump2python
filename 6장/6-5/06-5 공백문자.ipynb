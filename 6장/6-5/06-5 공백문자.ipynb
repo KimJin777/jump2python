{
 "cells": [
  {
   "cell_type": "markdown",
   "id": "ac02a517-1c2a-4334-b9c8-a20f558132cb",
   "metadata": {},
   "source": [
    "## 06-5 탭 문자를 고백 문자 4개로 바꾸기\n",
    "\n",
    "문서 파일을 읽어서 그 문서 파일 안에 있는 탭문자를 공백문자 4개로 바꾸어 주는 프로그램을 작성해 보자\n"
   ]
  },
  {
   "cell_type": "code",
   "execution_count": null,
   "id": "4fdad114-88d6-46e1-a447-46a43817c23f",
   "metadata": {},
   "outputs": [],
   "source": [
    "- 필요한 기능은? 문서파일 읽어 들이기, 문자열 변경하기\n",
    "- 입력받는 값은? 탭을 포함한 문서파일\n",
    "- 출력하는 값은? 탭이 고배으로 수정된 문서 파일"
   ]
  },
  {
   "cell_type": "markdown",
   "id": "bff39658-1dff-4029-9573-fc98db0d3451",
   "metadata": {},
   "source": [
    "```python\n",
    ">>> python tabto4.py src dst\n",
    "```\n",
    "- tabto4.py : 우리가 작성해야 할 파이썬 프로그램 이름\n",
    "- src : 탭을 포함하고 있는 원본 파일 이름\n",
    "- dst : 파일 안의 탭을 공백 4개로 변환한 결과를 저장할 파일 이름"
   ]
  },
  {
   "cell_type": "markdown",
   "id": "152899ef-47f4-46ce-8bd2-b993cacf6ee0",
   "metadata": {},
   "source": [
    "```python\n",
    ">>> python tabto4-1.py a.txt b.txt\n",
    "```\n",
    "- a.txt에 있는 탭을 4개의 공백으로 바꾸어 b.txt에 저장하고 싶다면 위와 같이 실행하면 된다."
   ]
  },
  {
   "cell_type": "markdown",
   "id": "2341aeac-8621-4fef-b5a2-592a2a923f44",
   "metadata": {},
   "source": [
    "1. 먼저 다음과 같이 tatto4-1.py 파일을 작성해 보자."
   ]
  },
  {
   "cell_type": "code",
   "execution_count": 7,
   "id": "faaf7bdf-9e6e-4feb-bfcb-dfc8be0b8afd",
   "metadata": {},
   "outputs": [
    {
     "name": "stdout",
     "output_type": "stream",
     "text": [
      "-f\n",
      "C:\\Users\\kjink007\\AppData\\Roaming\\jupyter\\runtime\\kernel-9bd2a5cc-d79e-4227-b9d0-125138503125.json\n"
     ]
    }
   ],
   "source": [
    "import sys\n",
    "\n",
    "src = sys.argv[1]\n",
    "dst = sys.argv[2]\n",
    "\n",
    "print(src)\n",
    "print(dst)"
   ]
  },
  {
   "cell_type": "markdown",
   "id": "bbc6e5eb-f158-46c7-885e-620747dee66a",
   "metadata": {},
   "source": [
    "2. 다음과 같이 수행했을 때 입력값이 정상적으로 출력되는지 확인해 보자."
   ]
  },
  {
   "cell_type": "code",
   "execution_count": 9,
   "id": "2d76db7b-a7d9-4efe-bf25-2824a9562d81",
   "metadata": {},
   "outputs": [
    {
     "name": "stdout",
     "output_type": "stream",
     "text": [
      "a.txt\n",
      "b.txt\n"
     ]
    }
   ],
   "source": [
    "!python tabto4-1.py a.txt b.txt"
   ]
  },
  {
   "cell_type": "markdown",
   "id": "472d91c2-17a6-4807-acdb-1e4573589f79",
   "metadata": {},
   "source": [
    "3. 테스트를 위한 원본파일(태을 포함하는 파일)인 a.txt을 다음과 같이 작성한다. 각 단어는(\\t)문자로 분리되도록 입력해야 한다."
   ]
  },
  {
   "cell_type": "code",
   "execution_count": 13,
   "id": "db4d0cb3-8200-4ff6-af1f-6784de7d4c80",
   "metadata": {},
   "outputs": [
    {
     "name": "stdout",
     "output_type": "stream",
     "text": [
      "Life\tis\ttoo\tshort\t\n",
      "You\tneed\tpython\n"
     ]
    }
   ],
   "source": [
    "!type a.txt\n"
   ]
  },
  {
   "cell_type": "markdown",
   "id": "9c86f208-57c9-409a-96f3-abd45b68af21",
   "metadata": {},
   "source": [
    "4. 탭 문자를 포함한 a.txt를 읽어 탭을 공백 4개로 변환할 수 있도록 코드를 수정해 보자."
   ]
  },
  {
   "cell_type": "markdown",
   "id": "e4e62052-5452-45a1-9b75-8c71f4796ca8",
   "metadata": {
    "scrolled": true
   },
   "source": [
    "#### tabto4-2\n",
    "```python\n",
    "import sys\n",
    "\n",
    "src = sys.argv[1]\n",
    "dst = sys.argv[2]\n",
    "\n",
    "f = open(src)\n",
    "tab_content = f.read()\n",
    "f.close()\n",
    "print(tab_content)\n",
    "print('-'*40)\n",
    "space_content = tab_content.replace('\\t', ' '*4)\n",
    "print(space_content)\n",
    "```"
   ]
  },
  {
   "cell_type": "markdown",
   "id": "bc6f0999-0294-460c-98ca-31a0ddcd1318",
   "metadata": {},
   "source": [
    "5. 이제 다음고 같은 명령을 수행해 보자"
   ]
  },
  {
   "cell_type": "code",
   "execution_count": 25,
   "id": "b2e6458d-9a1b-45e2-8f7e-19fc0cb63788",
   "metadata": {},
   "outputs": [
    {
     "name": "stdout",
     "output_type": "stream",
     "text": [
      "Life\tis\ttoo\tshort\t\n",
      "You\tneed\tpython\n",
      "----------------------------------------\n",
      "Life    is    too    short    \n",
      "You    need    python\n"
     ]
    }
   ],
   "source": [
    "!python tabto4-2.py a.txt b.txt"
   ]
  },
  {
   "cell_type": "markdown",
   "id": "0161ae7d-c7c5-450c-8dff-71b04bd592e0",
   "metadata": {},
   "source": [
    "6. 변경된 내용을 b.txt에 저장할 수 있도록 다음과 같이 프로그램을 작성해 보자."
   ]
  },
  {
   "cell_type": "markdown",
   "id": "aae9d86d-bad7-442e-8dbc-9dd51014aa7d",
   "metadata": {},
   "source": [
    "#### tabto4-3.py\n",
    "```python\n",
    "import sys\n",
    "\n",
    "src = sys.argv[1]\n",
    "dst = sys.argv[2]\n",
    "\n",
    "f = open(src)\n",
    "tab_content = f.read()\n",
    "f.close()\n",
    "# print(tab_content)\n",
    "# print('-'*40)\n",
    "space_content = tab_content.replace('\\t', ' '*4)\n",
    "# print(space_content)\n",
    "\n",
    "f = open(dst, 'w')\n",
    "f.write(space_content)\n",
    "f.close()\n",
    "```"
   ]
  },
  {
   "cell_type": "code",
   "execution_count": 34,
   "id": "18cf6e34-8916-4dc3-9643-95fa98811390",
   "metadata": {},
   "outputs": [],
   "source": [
    "!python tabto4-3.py a.txt b.txt"
   ]
  },
  {
   "cell_type": "code",
   "execution_count": 36,
   "id": "80bbc982-90db-4af3-a331-69f522d119e3",
   "metadata": {},
   "outputs": [
    {
     "name": "stdout",
     "output_type": "stream",
     "text": [
      "Life    is    too    short    \n",
      "You    need    python\n"
     ]
    }
   ],
   "source": [
    "!type b.txt"
   ]
  },
  {
   "cell_type": "code",
   "execution_count": null,
   "id": "57f4feab-e50f-4bd4-9aa5-3d5e78ca4561",
   "metadata": {},
   "outputs": [],
   "source": []
  }
 ],
 "metadata": {
  "kernelspec": {
   "display_name": "Python 3 (ipykernel)",
   "language": "python",
   "name": "python3"
  },
  "language_info": {
   "codemirror_mode": {
    "name": "ipython",
    "version": 3
   },
   "file_extension": ".py",
   "mimetype": "text/x-python",
   "name": "python",
   "nbconvert_exporter": "python",
   "pygments_lexer": "ipython3",
   "version": "3.12.4"
  }
 },
 "nbformat": 4,
 "nbformat_minor": 5
}
