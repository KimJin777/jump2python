{
 "cells": [
  {
   "cell_type": "markdown",
   "id": "af787285-30e3-4d64-99aa-57b3464bb8e5",
   "metadata": {},
   "source": [
    "## 06-4 간단한 메모장 만들기\n",
    "\n",
    "원하는 메모를 파일에 저장하고 추가 및 조회가 가능한 간단한 메모장을 만들어 보자\n"
   ]
  },
  {
   "cell_type": "markdown",
   "id": "ea8426b0-89be-4a82-a877-6a7b218c7f8c",
   "metadata": {},
   "source": [
    "- 필요한 기능은? 메모 추가하기, 메모 조회하기\n",
    "- 입력받는 값은? 메모 내용, 프로그램 실행 옵션\n",
    "- 출려하는 값은? memo.txt"
   ]
  },
  {
   "cell_type": "markdown",
   "id": "b6e189f0-52f1-43bb-8b49-d01bbad22b06",
   "metadata": {},
   "source": [
    "가장 먼저 해야 할 일은 메모를 추가하는 것이다. 다음 명령을 실행했을 때 메모를 추가할 수 있도록 만들어 보자.\n",
    "```python\n",
    ">>>python memo.py -a 'Life is too short'\n",
    "```"
   ]
  },
  {
   "cell_type": "markdown",
   "id": "f6551734-45da-4d1a-995a-560500213c97",
   "metadata": {},
   "source": [
    "- 우리가 작성할 파이썬 프로그램 이름 : memp.py\n",
    "- 프로그램 옵션 : -a\n",
    "- 추가할 메모 내용: 'Life is too short'"
   ]
  },
  {
   "cell_type": "markdown",
   "id": "f93b3654-06d5-4834-b4d6-dbf323817db4",
   "metadata": {},
   "source": [
    "1. 다음과 같이 입력으로 받은 옵션과 메모를 출력하는 코드를 에디터로 작성해 보자."
   ]
  },
  {
   "cell_type": "markdown",
   "id": "f4531208-4991-48b7-a687-90a42ab7209f",
   "metadata": {},
   "source": [
    "```python\n",
    "memo.py\n",
    "\n",
    "import sys\n",
    "\n",
    "option = sys.argv[1]\n",
    "memo = sys.argv[2]\n",
    "\n",
    "print(option)\n",
    "print(memo)\n",
    "```"
   ]
  },
  {
   "cell_type": "markdown",
   "id": "8c361f87-7787-4727-bc1e-c1a223262735",
   "metadata": {},
   "source": [
    "2. memo.py를 작성했다면 다음 명령을 수행해 보자.\n",
    "   디렉토리를 신경써야 한다."
   ]
  },
  {
   "cell_type": "code",
   "execution_count": 5,
   "id": "19f8994a-acb0-467f-ad4e-d3ab2cbfe36f",
   "metadata": {
    "scrolled": true
   },
   "outputs": [
    {
     "name": "stdout",
     "output_type": "stream",
     "text": [
      "-a\n",
      "'Life\n"
     ]
    }
   ],
   "source": [
    "!python memo.py -a 'Life is too short'"
   ]
  },
  {
   "cell_type": "markdown",
   "id": "8caf5d8e-f6c4-4284-afc2-849fd35144b0",
   "metadata": {},
   "source": [
    "3. 앱력으로 받은 메모를 파일에 쓰도록 코드를 변경해 보자.\n",
    "```python\n",
    "memo2.py\n",
    "\n",
    "import sys\n",
    "option = sys.argv[1]\n",
    "\n",
    "if option == '-a':\n",
    "    memo = sys.argv[2]\n",
    "    f = open('memo.txt', 'a')\n",
    "    f.write(memo)\n",
    "    f.write('\\n')\n",
    "    f.close()\n",
    "\n",
    "    print('complete')\n"
   ]
  },
  {
   "cell_type": "markdown",
   "id": "a13d8aef-3307-4b6a-9d4d-6988a77ae7dd",
   "metadata": {},
   "source": [
    "4. 다음과 같은 명령을 수행해 보자.\n",
    "```python\n",
    ">>>python memo.py -a \"Life is too short\"\n",
    ">>>python memo.py -a \"You need python\"\n",
    "```"
   ]
  },
  {
   "cell_type": "code",
   "execution_count": 60,
   "id": "ba1d6c68-e003-42a1-93e7-b3dfe508ec33",
   "metadata": {},
   "outputs": [
    {
     "name": "stdout",
     "output_type": "stream",
     "text": [
      "complete\n"
     ]
    }
   ],
   "source": [
    "!python memo2.py -a \"Life is too short\""
   ]
  },
  {
   "cell_type": "code",
   "execution_count": 62,
   "id": "eec43336-bc90-492a-9e3c-998fb5fa4c95",
   "metadata": {
    "scrolled": true
   },
   "outputs": [
    {
     "name": "stdout",
     "output_type": "stream",
     "text": [
      "complete\n"
     ]
    }
   ],
   "source": [
    "!python memo2.py -a \"You need python\""
   ]
  },
  {
   "cell_type": "code",
   "execution_count": 64,
   "id": "013b00e7-2a02-41b0-89bf-db2d59547ee4",
   "metadata": {},
   "outputs": [
    {
     "name": "stdout",
     "output_type": "stream",
     "text": [
      "'Life\n",
      "'You\n",
      "'Life\n",
      "'You\n",
      "'Life is too short'\n",
      "'You need python'\n",
      "Life is too short\n",
      "You need python\n"
     ]
    }
   ],
   "source": [
    "!type memo.txt\n"
   ]
  },
  {
   "cell_type": "markdown",
   "id": "9d441e0d-487c-4b07-9b93-9814411d7a2e",
   "metadata": {},
   "source": [
    "5. 앱력으로 받은 메모를 파일에 쓰도록 코드를 변경해 보자.\n",
    "```python\n",
    "memo3.py\n",
    "\n",
    "import sys\n",
    "\n",
    "option = sys.argv[1]\n",
    "if option == '-a':\n",
    "    memo = sys.argv[2]\n",
    "    f = open('memo3.txt', 'a')\n",
    "    #print('memo')\n",
    "    f.write(memo)\n",
    "    f.write('\\n')\n",
    "    f.close()\n",
    "elif option == '-v':\n",
    "    f = open('memo3.txt')\n",
    "    memo = f.read()\n",
    "    f.close()\n",
    "    print(memo)\n"
   ]
  },
  {
   "cell_type": "code",
   "execution_count": 58,
   "id": "32b93e91-3c5c-43b3-a452-b5b0de9b817d",
   "metadata": {},
   "outputs": [],
   "source": [
    "# 쌍따옴표 써야 됨\n",
    "\n",
    "!python memo3.py -a \"You need python\""
   ]
  },
  {
   "cell_type": "code",
   "execution_count": 72,
   "id": "9e3eafd1-a08a-484a-b4bd-58a4c5a29393",
   "metadata": {},
   "outputs": [
    {
     "name": "stdout",
     "output_type": "stream",
     "text": [
      "You need python\n",
      "\n"
     ]
    }
   ],
   "source": [
    "!python memo3.py -v "
   ]
  },
  {
   "cell_type": "code",
   "execution_count": 74,
   "id": "db4d0cb3-8200-4ff6-af1f-6784de7d4c80",
   "metadata": {},
   "outputs": [
    {
     "name": "stdout",
     "output_type": "stream",
     "text": [
      "You need python\n"
     ]
    }
   ],
   "source": [
    "!type memo3.txt"
   ]
  },
  {
   "cell_type": "code",
   "execution_count": null,
   "id": "1e64e28b-5fc5-4d2e-9cfd-5c4a5973364f",
   "metadata": {},
   "outputs": [],
   "source": []
  }
 ],
 "metadata": {
  "kernelspec": {
   "display_name": "Python 3 (ipykernel)",
   "language": "python",
   "name": "python3"
  },
  "language_info": {
   "codemirror_mode": {
    "name": "ipython",
    "version": 3
   },
   "file_extension": ".py",
   "mimetype": "text/x-python",
   "name": "python",
   "nbconvert_exporter": "python",
   "pygments_lexer": "ipython3",
   "version": "3.12.4"
  }
 },
 "nbformat": 4,
 "nbformat_minor": 5
}
