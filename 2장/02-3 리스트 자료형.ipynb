{
 "cells": [
  {
   "cell_type": "markdown",
   "id": "29f1ad81-e71c-4a34-b36d-ada45d541aca",
   "metadata": {},
   "source": [
    "## 02-3 리스트 자료형"
   ]
  },
  {
   "cell_type": "markdown",
   "id": "a51e304b-986b-4ee8-b77b-c9161fdf5ba4",
   "metadata": {},
   "source": []
  },
  {
   "cell_type": "markdown",
   "id": "59fadc19-57bb-43e4-a036-ecc12db8b8b2",
   "metadata": {},
   "source": [
    "#### 리스트 자료형 만들기/사용하기"
   ]
  },
  {
   "cell_type": "code",
   "execution_count": 4,
   "id": "11616ea8-2c2e-4f2d-b40a-3aef68b9654e",
   "metadata": {},
   "outputs": [],
   "source": [
    "a = []\n",
    "b = [1, 2, 3]\n",
    "c = ['Life', 'is', 'too', 'short']\n",
    "d = [1, 2, 'Life', 'is']\n",
    "e = [1, 2, ['Life', 'is']]"
   ]
  },
  {
   "cell_type": "code",
   "execution_count": 6,
   "id": "d9764086-de82-46de-b9cd-8ea84f306782",
   "metadata": {},
   "outputs": [],
   "source": [
    "a = [1, 2, 3]"
   ]
  },
  {
   "cell_type": "code",
   "execution_count": 8,
   "id": "db2a162b-559e-4fe5-b90a-7d89609ae397",
   "metadata": {},
   "outputs": [],
   "source": [
    "a = list()"
   ]
  },
  {
   "cell_type": "code",
   "execution_count": 10,
   "id": "1efa4c4f-4c79-49b3-b1fa-10320ae14b07",
   "metadata": {},
   "outputs": [
    {
     "data": {
      "text/plain": [
       "[]"
      ]
     },
     "execution_count": 10,
     "metadata": {},
     "output_type": "execute_result"
    }
   ],
   "source": [
    "a"
   ]
  },
  {
   "cell_type": "code",
   "execution_count": 12,
   "id": "d6f94ddc-1a75-4114-86fc-4d61ed2c151d",
   "metadata": {},
   "outputs": [
    {
     "ename": "TypeError",
     "evalue": "list expected at most 1 argument, got 4",
     "output_type": "error",
     "traceback": [
      "\u001b[1;31m---------------------------------------------------------------------------\u001b[0m",
      "\u001b[1;31mTypeError\u001b[0m                                 Traceback (most recent call last)",
      "Cell \u001b[1;32mIn[12], line 1\u001b[0m\n\u001b[1;32m----> 1\u001b[0m a \u001b[38;5;241m=\u001b[39m \u001b[38;5;28mlist\u001b[39m(\u001b[38;5;241m1\u001b[39m, \u001b[38;5;241m2\u001b[39m, \u001b[38;5;241m3\u001b[39m, \u001b[38;5;241m4\u001b[39m)\n",
      "\u001b[1;31mTypeError\u001b[0m: list expected at most 1 argument, got 4"
     ]
    }
   ],
   "source": [
    "a = list(1, 2, 3, 4)"
   ]
  },
  {
   "cell_type": "markdown",
   "id": "38f53755-cc94-44b9-ba8f-25f776846cba",
   "metadata": {},
   "source": [
    "#### 리스트의 인덱싱과 슬라이싱"
   ]
  },
  {
   "cell_type": "code",
   "execution_count": 141,
   "id": "76e3b0b2-a997-4cbc-aa7d-2c86bb541eec",
   "metadata": {},
   "outputs": [],
   "source": [
    "a = list([1, 2, 3, 4])"
   ]
  },
  {
   "cell_type": "code",
   "execution_count": 143,
   "id": "e1623f28-8342-4c64-92e1-959faeb6311e",
   "metadata": {},
   "outputs": [
    {
     "data": {
      "text/plain": [
       "[1, 2, 3, 4]"
      ]
     },
     "execution_count": 143,
     "metadata": {},
     "output_type": "execute_result"
    }
   ],
   "source": [
    "a"
   ]
  },
  {
   "cell_type": "code",
   "execution_count": 8,
   "id": "c85c3978-2851-4368-8ecb-d3f585041055",
   "metadata": {},
   "outputs": [
    {
     "data": {
      "text/plain": [
       "1"
      ]
     },
     "execution_count": 8,
     "metadata": {},
     "output_type": "execute_result"
    }
   ],
   "source": [
    "a[0]"
   ]
  },
  {
   "cell_type": "code",
   "execution_count": 10,
   "id": "1c3d867e-c51d-4824-815b-054b8e6f63b0",
   "metadata": {},
   "outputs": [
    {
     "data": {
      "text/plain": [
       "3"
      ]
     },
     "execution_count": 10,
     "metadata": {},
     "output_type": "execute_result"
    }
   ],
   "source": [
    "a[0]+a[1]"
   ]
  },
  {
   "cell_type": "code",
   "execution_count": 12,
   "id": "04a6db9a-164b-4d0d-ae8f-69a7ccdf1fd7",
   "metadata": {},
   "outputs": [
    {
     "data": {
      "text/plain": [
       "'Lifeis'"
      ]
     },
     "execution_count": 12,
     "metadata": {},
     "output_type": "execute_result"
    }
   ],
   "source": [
    "c[0]+c[1]"
   ]
  },
  {
   "cell_type": "code",
   "execution_count": 14,
   "id": "15f6ed48-c4d3-4877-b448-40919f186d71",
   "metadata": {},
   "outputs": [],
   "source": [
    "a = [1, 2, 3, ['a', 'b', 'c']]"
   ]
  },
  {
   "cell_type": "code",
   "execution_count": 16,
   "id": "3044068d-b475-4763-a067-022af564e866",
   "metadata": {},
   "outputs": [
    {
     "data": {
      "text/plain": [
       "1"
      ]
     },
     "execution_count": 16,
     "metadata": {},
     "output_type": "execute_result"
    }
   ],
   "source": [
    "a[0]"
   ]
  },
  {
   "cell_type": "code",
   "execution_count": 18,
   "id": "0239ba53-0965-4f3a-873a-ed8ca80519d1",
   "metadata": {},
   "outputs": [
    {
     "data": {
      "text/plain": [
       "'a'"
      ]
     },
     "execution_count": 18,
     "metadata": {},
     "output_type": "execute_result"
    }
   ],
   "source": [
    "a[-1][0]"
   ]
  },
  {
   "cell_type": "code",
   "execution_count": 28,
   "id": "3caa84d2-2449-41c4-8190-79c461121319",
   "metadata": {},
   "outputs": [],
   "source": [
    "a = [1, 2, 3, 4, 5]"
   ]
  },
  {
   "cell_type": "code",
   "execution_count": 22,
   "id": "d071511c-c866-4ba8-a01b-84d5d426775e",
   "metadata": {},
   "outputs": [
    {
     "data": {
      "text/plain": [
       "[1, 2]"
      ]
     },
     "execution_count": 22,
     "metadata": {},
     "output_type": "execute_result"
    }
   ],
   "source": [
    "a[0:2]"
   ]
  },
  {
   "cell_type": "code",
   "execution_count": 30,
   "id": "f9cc194a-fbfa-4f11-829e-5ed8390f5e29",
   "metadata": {},
   "outputs": [],
   "source": [
    "b = \"12345\""
   ]
  },
  {
   "cell_type": "code",
   "execution_count": 32,
   "id": "f7ad5990-f0ef-480d-ba5f-5571fe525f50",
   "metadata": {},
   "outputs": [
    {
     "data": {
      "text/plain": [
       "'12'"
      ]
     },
     "execution_count": 32,
     "metadata": {},
     "output_type": "execute_result"
    }
   ],
   "source": [
    "b[0:2]"
   ]
  },
  {
   "cell_type": "code",
   "execution_count": 34,
   "id": "bc1eabc6-353c-4b80-8f42-1623bf85e561",
   "metadata": {},
   "outputs": [
    {
     "data": {
      "text/plain": [
       "[1, 2]"
      ]
     },
     "execution_count": 34,
     "metadata": {},
     "output_type": "execute_result"
    }
   ],
   "source": [
    "a[:2]"
   ]
  },
  {
   "cell_type": "code",
   "execution_count": 36,
   "id": "66107eee-26d6-4af3-9cfc-719874a4962c",
   "metadata": {},
   "outputs": [
    {
     "data": {
      "text/plain": [
       "[3, 4, 5]"
      ]
     },
     "execution_count": 36,
     "metadata": {},
     "output_type": "execute_result"
    }
   ],
   "source": [
    "a[2:]"
   ]
  },
  {
   "cell_type": "code",
   "execution_count": 38,
   "id": "12af26fe-144d-4bef-9f63-a29bd8ca1225",
   "metadata": {},
   "outputs": [],
   "source": [
    "a = [1, 2, 3, ['a', 'b', 'c'], 4, 5]"
   ]
  },
  {
   "cell_type": "code",
   "execution_count": 40,
   "id": "3023fbc3-6cbb-4fb5-8470-b56ff815b283",
   "metadata": {},
   "outputs": [
    {
     "data": {
      "text/plain": [
       "[3, ['a', 'b', 'c'], 4]"
      ]
     },
     "execution_count": 40,
     "metadata": {},
     "output_type": "execute_result"
    }
   ],
   "source": [
    "a[2:5]"
   ]
  },
  {
   "cell_type": "code",
   "execution_count": 46,
   "id": "da7a5dff-7db9-4f7e-877b-1634794f06fd",
   "metadata": {},
   "outputs": [
    {
     "data": {
      "text/plain": [
       "['a', 'b']"
      ]
     },
     "execution_count": 46,
     "metadata": {},
     "output_type": "execute_result"
    }
   ],
   "source": [
    "a[3][:2]"
   ]
  },
  {
   "cell_type": "markdown",
   "id": "1666f99f-bdbd-4d8d-8d5f-41fab5462ce1",
   "metadata": {},
   "source": [
    "#### 리스트 연산하기"
   ]
  },
  {
   "cell_type": "code",
   "execution_count": 48,
   "id": "f70b7acb-a27b-43cc-94c0-57b733ed1b5f",
   "metadata": {},
   "outputs": [],
   "source": [
    "a = [1, 2, 3]\n",
    "b = [4, 5, 6]"
   ]
  },
  {
   "cell_type": "code",
   "execution_count": 50,
   "id": "e7f93992-05b4-458b-886c-bb1f5c7921b0",
   "metadata": {},
   "outputs": [
    {
     "data": {
      "text/plain": [
       "[1, 2, 3, 4, 5, 6]"
      ]
     },
     "execution_count": 50,
     "metadata": {},
     "output_type": "execute_result"
    }
   ],
   "source": [
    "a+b"
   ]
  },
  {
   "cell_type": "code",
   "execution_count": 52,
   "id": "7fb154ae-3b2e-4d44-900d-dcf6187fa9f9",
   "metadata": {},
   "outputs": [
    {
     "data": {
      "text/plain": [
       "[1, 2, 3, 1, 2, 3, 1, 2, 3]"
      ]
     },
     "execution_count": 52,
     "metadata": {},
     "output_type": "execute_result"
    }
   ],
   "source": [
    "a*3"
   ]
  },
  {
   "cell_type": "code",
   "execution_count": 54,
   "id": "d9911bd8-75a7-4581-9494-ab4c136d9dc4",
   "metadata": {},
   "outputs": [
    {
     "data": {
      "text/plain": [
       "3"
      ]
     },
     "execution_count": 54,
     "metadata": {},
     "output_type": "execute_result"
    }
   ],
   "source": [
    "len(a)"
   ]
  },
  {
   "cell_type": "code",
   "execution_count": 56,
   "id": "b027ef61-b891-4ee3-832c-3a9018ab8654",
   "metadata": {},
   "outputs": [
    {
     "ename": "TypeError",
     "evalue": "unsupported operand type(s) for +: 'int' and 'str'",
     "output_type": "error",
     "traceback": [
      "\u001b[1;31m---------------------------------------------------------------------------\u001b[0m",
      "\u001b[1;31mTypeError\u001b[0m                                 Traceback (most recent call last)",
      "Cell \u001b[1;32mIn[56], line 1\u001b[0m\n\u001b[1;32m----> 1\u001b[0m a[\u001b[38;5;241m2\u001b[39m] \u001b[38;5;241m+\u001b[39m \u001b[38;5;124m'\u001b[39m\u001b[38;5;124mhi\u001b[39m\u001b[38;5;124m'\u001b[39m\n",
      "\u001b[1;31mTypeError\u001b[0m: unsupported operand type(s) for +: 'int' and 'str'"
     ]
    }
   ],
   "source": [
    "a[2] + 'hi'"
   ]
  },
  {
   "cell_type": "code",
   "execution_count": 58,
   "id": "d70709d5-4221-4e10-950c-25675aac0df2",
   "metadata": {},
   "outputs": [
    {
     "data": {
      "text/plain": [
       "'hihihi'"
      ]
     },
     "execution_count": 58,
     "metadata": {},
     "output_type": "execute_result"
    }
   ],
   "source": [
    "'hi' * a[2]"
   ]
  },
  {
   "cell_type": "markdown",
   "id": "0387dbcc-db55-4333-ab6f-2b2fbf52e32c",
   "metadata": {},
   "source": [
    "#### 리스트의 수정과 삭제"
   ]
  },
  {
   "cell_type": "code",
   "execution_count": 60,
   "id": "b738cecd-23a9-4843-be63-6eb74a09e52a",
   "metadata": {},
   "outputs": [
    {
     "data": {
      "text/plain": [
       "[1, 2, 4]"
      ]
     },
     "execution_count": 60,
     "metadata": {},
     "output_type": "execute_result"
    }
   ],
   "source": [
    "a[2] = 4\n",
    "a"
   ]
  },
  {
   "cell_type": "code",
   "execution_count": 62,
   "id": "661a2a0a-1e24-4f42-a7c6-00362447e96d",
   "metadata": {},
   "outputs": [
    {
     "data": {
      "text/plain": [
       "[1, 4]"
      ]
     },
     "execution_count": 62,
     "metadata": {},
     "output_type": "execute_result"
    }
   ],
   "source": [
    "del a[1]\n",
    "a"
   ]
  },
  {
   "cell_type": "code",
   "execution_count": 64,
   "id": "ca2f7a07-203a-4675-8e6d-5b2ef56ff15f",
   "metadata": {},
   "outputs": [],
   "source": [
    "del a[:2]"
   ]
  },
  {
   "cell_type": "code",
   "execution_count": 66,
   "id": "4af19277-3a1a-4d45-8958-2a9771290b40",
   "metadata": {},
   "outputs": [
    {
     "data": {
      "text/plain": [
       "[]"
      ]
     },
     "execution_count": 66,
     "metadata": {},
     "output_type": "execute_result"
    }
   ],
   "source": [
    "a"
   ]
  },
  {
   "cell_type": "markdown",
   "id": "3a3bf062-68c0-4302-99f6-34a9e2a338c2",
   "metadata": {},
   "source": [
    "#### 리스트 관련 함수"
   ]
  },
  {
   "cell_type": "code",
   "execution_count": 70,
   "id": "dee64add-687a-45db-a74a-c45b6dde87aa",
   "metadata": {},
   "outputs": [
    {
     "data": {
      "text/plain": [
       "[1]"
      ]
     },
     "execution_count": 70,
     "metadata": {},
     "output_type": "execute_result"
    }
   ],
   "source": [
    "a.append(1)\n",
    "a"
   ]
  },
  {
   "cell_type": "code",
   "execution_count": 72,
   "id": "14f7a0e0-7723-42ba-ae9d-276d3a0ae931",
   "metadata": {},
   "outputs": [
    {
     "ename": "TypeError",
     "evalue": "list.append() takes exactly one argument (4 given)",
     "output_type": "error",
     "traceback": [
      "\u001b[1;31m---------------------------------------------------------------------------\u001b[0m",
      "\u001b[1;31mTypeError\u001b[0m                                 Traceback (most recent call last)",
      "Cell \u001b[1;32mIn[72], line 1\u001b[0m\n\u001b[1;32m----> 1\u001b[0m a\u001b[38;5;241m.\u001b[39mappend(\u001b[38;5;241m1\u001b[39m,\u001b[38;5;241m2\u001b[39m,\u001b[38;5;241m3\u001b[39m,\u001b[38;5;241m4\u001b[39m)\n",
      "\u001b[1;31mTypeError\u001b[0m: list.append() takes exactly one argument (4 given)"
     ]
    }
   ],
   "source": [
    "a.append(1,2,3,4)"
   ]
  },
  {
   "cell_type": "code",
   "execution_count": 74,
   "id": "b37cf914-5ed3-4bec-9bcd-abf549195c3b",
   "metadata": {},
   "outputs": [],
   "source": [
    "a.append([1,2,3,4])"
   ]
  },
  {
   "cell_type": "code",
   "execution_count": 76,
   "id": "4a094f48-e488-4e18-82b8-fedf54a4130a",
   "metadata": {},
   "outputs": [
    {
     "data": {
      "text/plain": [
       "[1, [1, 2, 3, 4]]"
      ]
     },
     "execution_count": 76,
     "metadata": {},
     "output_type": "execute_result"
    }
   ],
   "source": [
    "a"
   ]
  },
  {
   "cell_type": "code",
   "execution_count": 80,
   "id": "4d077183-e13f-4928-ae29-52ad3bb74fca",
   "metadata": {},
   "outputs": [],
   "source": [
    "a = [1,4, 5, 6, 2,3,4]"
   ]
  },
  {
   "cell_type": "code",
   "execution_count": 82,
   "id": "9f76b999-2cb9-4014-a1a5-671fc47549cc",
   "metadata": {},
   "outputs": [],
   "source": [
    "a.sort()"
   ]
  },
  {
   "cell_type": "code",
   "execution_count": 84,
   "id": "62e9ec64-fe04-4151-9928-73771e4bf694",
   "metadata": {},
   "outputs": [
    {
     "data": {
      "text/plain": [
       "[1, 2, 3, 4, 4, 5, 6]"
      ]
     },
     "execution_count": 84,
     "metadata": {},
     "output_type": "execute_result"
    }
   ],
   "source": [
    "a"
   ]
  },
  {
   "cell_type": "code",
   "execution_count": 86,
   "id": "c3bee4e1-147e-49b6-8483-4184aff89310",
   "metadata": {},
   "outputs": [
    {
     "data": {
      "text/plain": [
       "[6, 5, 4, 4, 3, 2, 1]"
      ]
     },
     "execution_count": 86,
     "metadata": {},
     "output_type": "execute_result"
    }
   ],
   "source": [
    "a.reverse()\n",
    "a\n"
   ]
  },
  {
   "cell_type": "code",
   "execution_count": 88,
   "id": "74397fa4-e8c0-4253-958f-7663308b5323",
   "metadata": {},
   "outputs": [
    {
     "data": {
      "text/plain": [
       "0"
      ]
     },
     "execution_count": 88,
     "metadata": {},
     "output_type": "execute_result"
    }
   ],
   "source": [
    "a.index(6)"
   ]
  },
  {
   "cell_type": "code",
   "execution_count": 90,
   "id": "ac639e86-10a2-4252-8a14-1e9e5f0f8f87",
   "metadata": {},
   "outputs": [
    {
     "ename": "ValueError",
     "evalue": "9 is not in list",
     "output_type": "error",
     "traceback": [
      "\u001b[1;31m---------------------------------------------------------------------------\u001b[0m",
      "\u001b[1;31mValueError\u001b[0m                                Traceback (most recent call last)",
      "Cell \u001b[1;32mIn[90], line 1\u001b[0m\n\u001b[1;32m----> 1\u001b[0m a\u001b[38;5;241m.\u001b[39mindex(\u001b[38;5;241m9\u001b[39m)\n",
      "\u001b[1;31mValueError\u001b[0m: 9 is not in list"
     ]
    }
   ],
   "source": [
    "a.index(9)"
   ]
  },
  {
   "cell_type": "code",
   "execution_count": 92,
   "id": "8a87f0d3-883e-4e22-a767-929885760394",
   "metadata": {},
   "outputs": [],
   "source": [
    "a.insert(0, 4)"
   ]
  },
  {
   "cell_type": "code",
   "execution_count": 94,
   "id": "fe703797-833a-448c-b3f5-c23779d06dbb",
   "metadata": {},
   "outputs": [
    {
     "data": {
      "text/plain": [
       "[4, 6, 5, 4, 4, 3, 2, 1]"
      ]
     },
     "execution_count": 94,
     "metadata": {},
     "output_type": "execute_result"
    }
   ],
   "source": [
    "a"
   ]
  },
  {
   "cell_type": "code",
   "execution_count": 96,
   "id": "a3af4e3a-e07f-4aa9-8403-b4586a0db572",
   "metadata": {},
   "outputs": [],
   "source": [
    "a.insert(4, 9)"
   ]
  },
  {
   "cell_type": "code",
   "execution_count": 98,
   "id": "cb318817-8022-41ac-bd69-e32cd1652227",
   "metadata": {},
   "outputs": [
    {
     "data": {
      "text/plain": [
       "[4, 6, 5, 4, 9, 4, 3, 2, 1]"
      ]
     },
     "execution_count": 98,
     "metadata": {},
     "output_type": "execute_result"
    }
   ],
   "source": [
    "a"
   ]
  },
  {
   "cell_type": "code",
   "execution_count": 100,
   "id": "07577ab4-36c9-4c2f-9893-f41b6f78777c",
   "metadata": {},
   "outputs": [],
   "source": [
    "a.remove(4)"
   ]
  },
  {
   "cell_type": "code",
   "execution_count": 102,
   "id": "910d5844-dfd9-4e58-8963-5b724e3156db",
   "metadata": {},
   "outputs": [
    {
     "data": {
      "text/plain": [
       "[6, 5, 4, 9, 4, 3, 2, 1]"
      ]
     },
     "execution_count": 102,
     "metadata": {},
     "output_type": "execute_result"
    }
   ],
   "source": [
    "a"
   ]
  },
  {
   "cell_type": "code",
   "execution_count": 104,
   "id": "21d3bc42-569b-4082-9640-ca7e182e9772",
   "metadata": {},
   "outputs": [
    {
     "data": {
      "text/plain": [
       "1"
      ]
     },
     "execution_count": 104,
     "metadata": {},
     "output_type": "execute_result"
    }
   ],
   "source": [
    "a.pop()"
   ]
  },
  {
   "cell_type": "code",
   "execution_count": 106,
   "id": "baa8fd29-2562-4bc3-9d55-f8198af4f565",
   "metadata": {},
   "outputs": [
    {
     "data": {
      "text/plain": [
       "[6, 5, 4, 9, 4, 3, 2]"
      ]
     },
     "execution_count": 106,
     "metadata": {},
     "output_type": "execute_result"
    }
   ],
   "source": [
    "a"
   ]
  },
  {
   "cell_type": "code",
   "execution_count": 108,
   "id": "f488395b-af2e-4bbb-a85a-f8a4e30cb253",
   "metadata": {},
   "outputs": [
    {
     "data": {
      "text/plain": [
       "9"
      ]
     },
     "execution_count": 108,
     "metadata": {},
     "output_type": "execute_result"
    }
   ],
   "source": [
    "a.pop(3)"
   ]
  },
  {
   "cell_type": "code",
   "execution_count": 110,
   "id": "f1445d36-add5-4f61-a271-693b44778c83",
   "metadata": {},
   "outputs": [
    {
     "data": {
      "text/plain": [
       "[6, 5, 4, 4, 3, 2]"
      ]
     },
     "execution_count": 110,
     "metadata": {},
     "output_type": "execute_result"
    }
   ],
   "source": [
    "a\n"
   ]
  },
  {
   "cell_type": "code",
   "execution_count": 112,
   "id": "e4f1dfbe-ded0-4449-8179-98841912c0f3",
   "metadata": {},
   "outputs": [
    {
     "data": {
      "text/plain": [
       "2"
      ]
     },
     "execution_count": 112,
     "metadata": {},
     "output_type": "execute_result"
    }
   ],
   "source": [
    "a.count(4)"
   ]
  },
  {
   "cell_type": "code",
   "execution_count": 114,
   "id": "3c46f700-f83d-45ac-856d-b7b2c4cc3a25",
   "metadata": {},
   "outputs": [
    {
     "ename": "TypeError",
     "evalue": "list.count() takes exactly one argument (0 given)",
     "output_type": "error",
     "traceback": [
      "\u001b[1;31m---------------------------------------------------------------------------\u001b[0m",
      "\u001b[1;31mTypeError\u001b[0m                                 Traceback (most recent call last)",
      "Cell \u001b[1;32mIn[114], line 1\u001b[0m\n\u001b[1;32m----> 1\u001b[0m a\u001b[38;5;241m.\u001b[39mcount()\n",
      "\u001b[1;31mTypeError\u001b[0m: list.count() takes exactly one argument (0 given)"
     ]
    }
   ],
   "source": [
    "a.count()"
   ]
  },
  {
   "cell_type": "code",
   "execution_count": 116,
   "id": "e265f577-51c4-42ef-9dcf-3c1be3dd2dfa",
   "metadata": {},
   "outputs": [
    {
     "data": {
      "text/plain": [
       "6"
      ]
     },
     "execution_count": 116,
     "metadata": {},
     "output_type": "execute_result"
    }
   ],
   "source": [
    "len(a)"
   ]
  },
  {
   "cell_type": "code",
   "execution_count": 118,
   "id": "745951f2-b22e-474f-8cdf-6b84c2b260ce",
   "metadata": {},
   "outputs": [],
   "source": [
    "a.extend([6,7])"
   ]
  },
  {
   "cell_type": "code",
   "execution_count": 120,
   "id": "c955490c-ed53-4d97-ac5a-937603339773",
   "metadata": {},
   "outputs": [],
   "source": [
    "b = [8,9]\n",
    "a.extend(b)"
   ]
  },
  {
   "cell_type": "code",
   "execution_count": 122,
   "id": "83b5719a-8c05-4fe9-aa0d-f11acbfeb6bd",
   "metadata": {},
   "outputs": [
    {
     "data": {
      "text/plain": [
       "[6, 5, 4, 4, 3, 2, 6, 7, 8, 9]"
      ]
     },
     "execution_count": 122,
     "metadata": {},
     "output_type": "execute_result"
    }
   ],
   "source": [
    "a"
   ]
  },
  {
   "cell_type": "code",
   "execution_count": 124,
   "id": "f35ded56-9de8-4d2a-a36f-5281a2ad1c24",
   "metadata": {},
   "outputs": [],
   "source": [
    "a += b"
   ]
  },
  {
   "cell_type": "code",
   "execution_count": 126,
   "id": "37b56a55-17cb-412e-a7c4-06e61106a414",
   "metadata": {},
   "outputs": [
    {
     "data": {
      "text/plain": [
       "[6, 5, 4, 4, 3, 2, 6, 7, 8, 9, 8, 9]"
      ]
     },
     "execution_count": 126,
     "metadata": {},
     "output_type": "execute_result"
    }
   ],
   "source": [
    "a"
   ]
  },
  {
   "cell_type": "code",
   "execution_count": null,
   "id": "9710133e-e284-4a2e-9038-3de4ca56202c",
   "metadata": {},
   "outputs": [],
   "source": []
  }
 ],
 "metadata": {
  "kernelspec": {
   "display_name": "Python 3 (ipykernel)",
   "language": "python",
   "name": "python3"
  },
  "language_info": {
   "codemirror_mode": {
    "name": "ipython",
    "version": 3
   },
   "file_extension": ".py",
   "mimetype": "text/x-python",
   "name": "python",
   "nbconvert_exporter": "python",
   "pygments_lexer": "ipython3",
   "version": "3.12.4"
  }
 },
 "nbformat": 4,
 "nbformat_minor": 5
}
