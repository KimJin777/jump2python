{
 "cells": [
  {
   "cell_type": "markdown",
   "id": "232e546a-97c7-423d-9840-b91ebdced8e7",
   "metadata": {},
   "source": [
    "02 파이썬 프로그래밍의 기초, 자료형\n",
    "\n",
    "- 자료형이란 프로그래밍을 할 때 쓰이는 숫자, 문자열 등과 같이 자료 형태로 사용하는 모든 것을 뜻한다.\n",
    "- 프로그램의 기본이자 핵심 단위가 바로 자료형이다. "
   ]
  },
  {
   "cell_type": "markdown",
   "id": "8bda9de6-9f87-4e63-b7a7-9148d1b5965b",
   "metadata": {},
   "source": [
    "02-1 숫자형\n",
    "- 정수 : 1,23, -345, 0\n",
    "- 실수 : 123.45, -1234.5, 4.4e10\n",
    "- 8진수: 0o34, 0o25\n",
    "- 16진수: 0x2A, 0oFf"
   ]
  },
  {
   "cell_type": "markdown",
   "id": "314db709-83e8-4654-bfab-f7ad1aaf4d9a",
   "metadata": {},
   "source": [
    "정수형 integer"
   ]
  },
  {
   "cell_type": "code",
   "execution_count": 2,
   "id": "1b9cfe90-2492-46d5-b031-ba3484285336",
   "metadata": {},
   "outputs": [],
   "source": [
    "a = 123 # 양의 정수 대입"
   ]
  },
  {
   "cell_type": "code",
   "execution_count": 4,
   "id": "3b6eeeb2-d6bf-4ace-bbb0-d280af9940fe",
   "metadata": {},
   "outputs": [],
   "source": [
    "a = -178 # 음의 정수 대입"
   ]
  },
  {
   "cell_type": "code",
   "execution_count": 6,
   "id": "33a2b478-7a80-4cae-8cb3-2d818058200c",
   "metadata": {},
   "outputs": [],
   "source": [
    "a = 0 # 숫자 0을 대입"
   ]
  },
  {
   "cell_type": "markdown",
   "id": "2d047fab-194e-4a9c-8a68-1f8ad504f5b8",
   "metadata": {},
   "source": [
    "실수형 floating point"
   ]
  },
  {
   "cell_type": "code",
   "execution_count": 8,
   "id": "05b2baf8-9b8d-460d-bef4-c5cb0288a3ea",
   "metadata": {},
   "outputs": [],
   "source": [
    "a = 1.2"
   ]
  },
  {
   "cell_type": "code",
   "execution_count": 10,
   "id": "b2dd0176-4997-4817-81b5-1b245cae942b",
   "metadata": {},
   "outputs": [],
   "source": [
    "a = -3.45"
   ]
  },
  {
   "cell_type": "code",
   "execution_count": 16,
   "id": "c6005fbd-f189-4512-81bc-1056486bd714",
   "metadata": {},
   "outputs": [
    {
     "name": "stdout",
     "output_type": "stream",
     "text": [
      "42400000000.0\n"
     ]
    }
   ],
   "source": [
    "a = 4.24E10\n",
    "print(a)"
   ]
  },
  {
   "cell_type": "code",
   "execution_count": 20,
   "id": "0119bfa0-1be3-4dd2-956f-aaf4df61ffcf",
   "metadata": {},
   "outputs": [
    {
     "name": "stdout",
     "output_type": "stream",
     "text": [
      "4.24e-10\n"
     ]
    }
   ],
   "source": [
    "a = 4.24E-10\n",
    "print(a)"
   ]
  },
  {
   "cell_type": "markdown",
   "id": "8e28e799-f0d9-4eab-b0e7-4646a16a48a7",
   "metadata": {},
   "source": [
    "8진수와 16진수"
   ]
  },
  {
   "cell_type": "code",
   "execution_count": 8,
   "id": "684a7db0-8274-42cf-b348-e4717ea54066",
   "metadata": {},
   "outputs": [
    {
     "name": "stdout",
     "output_type": "stream",
     "text": [
      "127 <- 1*8^2 + 7*8 + 7\n"
     ]
    }
   ],
   "source": [
    "a = 0o177\n",
    "print(a, '<- 1*8^2 + 7*8 + 7')"
   ]
  },
  {
   "cell_type": "code",
   "execution_count": 28,
   "id": "ea27e148-8846-467d-986e-dceee19e17ec",
   "metadata": {},
   "outputs": [
    {
     "name": "stdout",
     "output_type": "stream",
     "text": [
      "2748\n"
     ]
    }
   ],
   "source": [
    "a = 0xABC\n",
    "print(a)"
   ]
  },
  {
   "cell_type": "markdown",
   "id": "66141080-610c-4bae-bb5d-010318451e93",
   "metadata": {},
   "source": [
    "사칙연산"
   ]
  },
  {
   "cell_type": "code",
   "execution_count": 17,
   "id": "ac2a275a-b2fb-46f4-b479-ccead23ee7ee",
   "metadata": {},
   "outputs": [
    {
     "data": {
      "text/plain": [
       "7"
      ]
     },
     "execution_count": 17,
     "metadata": {},
     "output_type": "execute_result"
    }
   ],
   "source": [
    "a = 3\n",
    "b = 4\n",
    "a+b"
   ]
  },
  {
   "cell_type": "code",
   "execution_count": 19,
   "id": "5fdc0cf3-5451-4221-bf78-14073e6dea9f",
   "metadata": {},
   "outputs": [
    {
     "data": {
      "text/plain": [
       "-1"
      ]
     },
     "execution_count": 19,
     "metadata": {},
     "output_type": "execute_result"
    }
   ],
   "source": [
    "a-b"
   ]
  },
  {
   "cell_type": "code",
   "execution_count": 21,
   "id": "2bb9d386-dbe5-4492-812b-47d1e9b71b01",
   "metadata": {},
   "outputs": [
    {
     "data": {
      "text/plain": [
       "12"
      ]
     },
     "execution_count": 21,
     "metadata": {},
     "output_type": "execute_result"
    }
   ],
   "source": [
    "a*b"
   ]
  },
  {
   "cell_type": "code",
   "execution_count": 23,
   "id": "7f8f4e8a-7256-4098-9d5b-163300d5e1e3",
   "metadata": {},
   "outputs": [
    {
     "data": {
      "text/plain": [
       "0.75"
      ]
     },
     "execution_count": 23,
     "metadata": {},
     "output_type": "execute_result"
    }
   ],
   "source": [
    "a/b"
   ]
  },
  {
   "cell_type": "code",
   "execution_count": 25,
   "id": "3d56db72-b4f9-477f-82f2-a5c47d9dcee4",
   "metadata": {},
   "outputs": [
    {
     "data": {
      "text/plain": [
       "81"
      ]
     },
     "execution_count": 25,
     "metadata": {},
     "output_type": "execute_result"
    }
   ],
   "source": [
    "a**b #제곱"
   ]
  },
  {
   "cell_type": "code",
   "execution_count": 27,
   "id": "88927660-5d5d-45ec-b549-f9d348c7116e",
   "metadata": {},
   "outputs": [
    {
     "data": {
      "text/plain": [
       "3"
      ]
     },
     "execution_count": 27,
     "metadata": {},
     "output_type": "execute_result"
    }
   ],
   "source": [
    "a%b # 나머지"
   ]
  },
  {
   "cell_type": "code",
   "execution_count": 29,
   "id": "ad094689-5909-4721-8008-ee81d4270594",
   "metadata": {},
   "outputs": [
    {
     "data": {
      "text/plain": [
       "0"
      ]
     },
     "execution_count": 29,
     "metadata": {},
     "output_type": "execute_result"
    }
   ],
   "source": [
    "a//b # 몫"
   ]
  },
  {
   "cell_type": "code",
   "execution_count": 31,
   "id": "909344e2-0d5c-4e7d-9c69-ebba6e5d1c59",
   "metadata": {},
   "outputs": [
    {
     "data": {
      "text/plain": [
       "(0, 3)"
      ]
     },
     "execution_count": 31,
     "metadata": {},
     "output_type": "execute_result"
    }
   ],
   "source": [
    "divmod(a, b)"
   ]
  },
  {
   "cell_type": "code",
   "execution_count": null,
   "id": "56c94bfe-39f6-448a-947a-811b104796de",
   "metadata": {},
   "outputs": [],
   "source": []
  }
 ],
 "metadata": {
  "kernelspec": {
   "display_name": "Python 3 (ipykernel)",
   "language": "python",
   "name": "python3"
  },
  "language_info": {
   "codemirror_mode": {
    "name": "ipython",
    "version": 3
   },
   "file_extension": ".py",
   "mimetype": "text/x-python",
   "name": "python",
   "nbconvert_exporter": "python",
   "pygments_lexer": "ipython3",
   "version": "3.12.4"
  }
 },
 "nbformat": 4,
 "nbformat_minor": 5
}
