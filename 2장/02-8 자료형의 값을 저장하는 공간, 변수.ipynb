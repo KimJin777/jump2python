{
 "cells": [
  {
   "cell_type": "markdown",
   "id": "fc305382-a339-4bba-b664-90f2b04e5cb3",
   "metadata": {},
   "source": [
    "## 02-8 자료형의 값을 저장하는 공간, 변수"
   ]
  },
  {
   "cell_type": "markdown",
   "id": "e8ad885b-da9c-4b71-a058-6212e9bf1f6b",
   "metadata": {},
   "source": [
    "- 따로 변수 선언을 하지 않아도 된다. 하면 안된다.\n",
    "- 변수 이름 = 변수에 저장할 값\n",
    "- =   assingment\n",
    "- ==  equal"
   ]
  },
  {
   "cell_type": "markdown",
   "id": "dcf6dfe8-b5d0-4d1a-87bb-03ba405bab15",
   "metadata": {},
   "source": [
    "변수 선언"
   ]
  },
  {
   "cell_type": "code",
   "execution_count": 14,
   "id": "5d719e2c-aea2-466b-bcd0-0635a8d140f0",
   "metadata": {},
   "outputs": [
    {
     "ename": "NameError",
     "evalue": "name 'a' is not defined",
     "output_type": "error",
     "traceback": [
      "\u001b[1;31m---------------------------------------------------------------------------\u001b[0m",
      "\u001b[1;31mNameError\u001b[0m                                 Traceback (most recent call last)",
      "Cell \u001b[1;32mIn[14], line 1\u001b[0m\n\u001b[1;32m----> 1\u001b[0m a\u001b[38;5;241m.\u001b[39mtype(\u001b[38;5;28mstr\u001b[39m)\n\u001b[0;32m      2\u001b[0m \u001b[38;5;28mstr\u001b[39m(a)\n",
      "\u001b[1;31mNameError\u001b[0m: name 'a' is not defined"
     ]
    }
   ],
   "source": [
    "a.type(str)\n",
    "str(a)"
   ]
  },
  {
   "cell_type": "code",
   "execution_count": 1,
   "id": "2f31ca43-a1f3-447c-93da-85b2d61b0de9",
   "metadata": {},
   "outputs": [],
   "source": [
    "a = 1\n",
    "b = 'python'\n",
    "c = [1,2,3,4]"
   ]
  },
  {
   "cell_type": "markdown",
   "id": "7702d801-ef67-45c9-832e-2856751d1989",
   "metadata": {},
   "source": [
    "리스트 복사"
   ]
  },
  {
   "cell_type": "code",
   "execution_count": 3,
   "id": "5e944f55-cb65-4a21-a094-02e1b7d07138",
   "metadata": {},
   "outputs": [
    {
     "data": {
      "text/plain": [
       "140708037867960"
      ]
     },
     "execution_count": 3,
     "metadata": {},
     "output_type": "execute_result"
    }
   ],
   "source": [
    "id(a)"
   ]
  },
  {
   "cell_type": "code",
   "execution_count": 5,
   "id": "dc2ccd65-abd8-49e5-b1f6-6a7d55436e8e",
   "metadata": {},
   "outputs": [
    {
     "data": {
      "text/plain": [
       "1993184427200"
      ]
     },
     "execution_count": 5,
     "metadata": {},
     "output_type": "execute_result"
    }
   ],
   "source": [
    "id(b)"
   ]
  },
  {
   "cell_type": "code",
   "execution_count": 7,
   "id": "5f54a1e4-69eb-44a7-a6fd-d28e357036f7",
   "metadata": {},
   "outputs": [],
   "source": [
    "b = a"
   ]
  },
  {
   "cell_type": "code",
   "execution_count": 9,
   "id": "5a204a9b-9ef6-4e85-b647-9974609e4403",
   "metadata": {},
   "outputs": [
    {
     "name": "stdout",
     "output_type": "stream",
     "text": [
      "140708037867960 140708037867960\n"
     ]
    }
   ],
   "source": [
    "print(id(a), id(b))"
   ]
  },
  {
   "cell_type": "code",
   "execution_count": 11,
   "id": "0d37cdf3-113e-4cd3-9343-9997fe37f16f",
   "metadata": {},
   "outputs": [
    {
     "name": "stdout",
     "output_type": "stream",
     "text": [
      "True\n"
     ]
    }
   ],
   "source": [
    "print(a is b)"
   ]
  },
  {
   "cell_type": "code",
   "execution_count": 15,
   "id": "0ac1b3ad-526a-478c-ad72-0f0b17fcd43e",
   "metadata": {},
   "outputs": [],
   "source": [
    "a = [1,2,3]\n",
    "b = a"
   ]
  },
  {
   "cell_type": "code",
   "execution_count": 17,
   "id": "f64a53f9-794c-4fe3-a696-d81634aaa558",
   "metadata": {},
   "outputs": [
    {
     "name": "stdout",
     "output_type": "stream",
     "text": [
      "1993299495104 1993299495104\n"
     ]
    }
   ],
   "source": [
    "print(id(a), id(b))"
   ]
  },
  {
   "cell_type": "code",
   "execution_count": 19,
   "id": "1f95a75b-2263-457a-8f26-a847ee3dc908",
   "metadata": {},
   "outputs": [],
   "source": [
    "a[1] = 9"
   ]
  },
  {
   "cell_type": "code",
   "execution_count": 21,
   "id": "488db5ae-8a2d-41c8-aa24-c5ca791db455",
   "metadata": {},
   "outputs": [
    {
     "name": "stdout",
     "output_type": "stream",
     "text": [
      "[1, 9, 3] [1, 9, 3]\n"
     ]
    }
   ],
   "source": [
    "print(a, b)"
   ]
  },
  {
   "cell_type": "code",
   "execution_count": 23,
   "id": "3491818d-817f-4f97-9a45-627cf258f079",
   "metadata": {},
   "outputs": [
    {
     "name": "stdout",
     "output_type": "stream",
     "text": [
      "1993299495104 1993299495104\n"
     ]
    }
   ],
   "source": [
    "print(id(a), id(b))"
   ]
  },
  {
   "cell_type": "code",
   "execution_count": 25,
   "id": "e8fb385b-7d12-483f-905c-0c69d644dfe4",
   "metadata": {},
   "outputs": [
    {
     "name": "stdout",
     "output_type": "stream",
     "text": [
      "[1, 9, 3] [1, 2, 3]\n"
     ]
    }
   ],
   "source": [
    "a = [1,2,3]\n",
    "b = a[:]\n",
    "a[1] = 9\n",
    "print(a, b)"
   ]
  },
  {
   "cell_type": "code",
   "execution_count": 27,
   "id": "8f6d981d-d70f-43e2-8934-37ac42251088",
   "metadata": {},
   "outputs": [
    {
     "name": "stdout",
     "output_type": "stream",
     "text": [
      "1993330845376 1993330845120\n"
     ]
    }
   ],
   "source": [
    "print(id(a), id(b))"
   ]
  },
  {
   "cell_type": "code",
   "execution_count": 29,
   "id": "f9fd476c-a983-485e-ac6c-0508538bdab5",
   "metadata": {},
   "outputs": [],
   "source": [
    "from copy import copy\n",
    "a = [1,2,4]\n",
    "b = copy(a)"
   ]
  },
  {
   "cell_type": "code",
   "execution_count": 31,
   "id": "0af49314-dfae-4297-a43d-32ada69a98f9",
   "metadata": {},
   "outputs": [
    {
     "name": "stdout",
     "output_type": "stream",
     "text": [
      "[1, 9, 4] [1, 2, 4]\n"
     ]
    }
   ],
   "source": [
    "a[1] = 9\n",
    "print(a, b)"
   ]
  },
  {
   "cell_type": "code",
   "execution_count": 33,
   "id": "cf39570b-30df-4288-9cd1-c661849cc387",
   "metadata": {},
   "outputs": [
    {
     "name": "stdout",
     "output_type": "stream",
     "text": [
      "1993330845760 1993330846784\n"
     ]
    }
   ],
   "source": [
    "print(id(a), id(b))"
   ]
  },
  {
   "cell_type": "code",
   "execution_count": 35,
   "id": "5de2283f-8dd6-44e5-938d-4d9af8e8b729",
   "metadata": {},
   "outputs": [
    {
     "data": {
      "text/plain": [
       "False"
      ]
     },
     "execution_count": 35,
     "metadata": {},
     "output_type": "execute_result"
    }
   ],
   "source": [
    "b = a.copy()\n",
    "b is a"
   ]
  },
  {
   "cell_type": "markdown",
   "id": "5415e99c-d607-49fb-8f24-344755038f2f",
   "metadata": {},
   "source": [
    "변수를 만드는 여러 가지 방법"
   ]
  },
  {
   "cell_type": "code",
   "execution_count": 41,
   "id": "6fda434c-9bca-4036-ad02-c1fc70b20bda",
   "metadata": {},
   "outputs": [
    {
     "name": "stdout",
     "output_type": "stream",
     "text": [
      "a = python, b = life \n"
     ]
    }
   ],
   "source": [
    "a, b = ('python', 'life')\n",
    "print('a = %s, b = %s ' % (a, b))"
   ]
  },
  {
   "cell_type": "code",
   "execution_count": 43,
   "id": "d1be8a1a-c345-49f5-96b6-95ddd9d3e8f3",
   "metadata": {},
   "outputs": [
    {
     "name": "stdout",
     "output_type": "stream",
     "text": [
      "a = python, b = life \n"
     ]
    }
   ],
   "source": [
    "(a, b) = ('python', 'life')\n",
    "print('a = %s, b = %s ' % (a, b))"
   ]
  },
  {
   "cell_type": "code",
   "execution_count": 45,
   "id": "411bfa97-4e7d-4cb5-b942-a4f3c762263a",
   "metadata": {},
   "outputs": [
    {
     "name": "stdout",
     "output_type": "stream",
     "text": [
      "a = python, b = life \n"
     ]
    }
   ],
   "source": [
    "(a, b) = 'python', 'life'\n",
    "print('a = %s, b = %s ' % (a, b))"
   ]
  },
  {
   "cell_type": "code",
   "execution_count": 47,
   "id": "49b8e714-14a8-4f02-a875-be4a7be525f4",
   "metadata": {},
   "outputs": [
    {
     "name": "stdout",
     "output_type": "stream",
     "text": [
      "a = python, b = life \n"
     ]
    }
   ],
   "source": [
    "[a, b] = 'python', 'life'\n",
    "print('a = %s, b = %s ' % (a, b))"
   ]
  },
  {
   "cell_type": "code",
   "execution_count": 49,
   "id": "d66b684e-9a8d-4786-a0f2-9f9f11f10b0b",
   "metadata": {},
   "outputs": [
    {
     "name": "stdout",
     "output_type": "stream",
     "text": [
      "a = python, b = life \n"
     ]
    }
   ],
   "source": [
    "[a, b] =[ 'python', 'life']\n",
    "print('a = %s, b = %s ' % (a, b))"
   ]
  },
  {
   "cell_type": "code",
   "execution_count": 51,
   "id": "e9be2c2a-6e25-4686-9023-1cccd4d74afd",
   "metadata": {},
   "outputs": [
    {
     "name": "stdout",
     "output_type": "stream",
     "text": [
      "a = python, b = python \n"
     ]
    }
   ],
   "source": [
    "a = b = 'python'\n",
    "print('a = %s, b = %s ' % (a, b))"
   ]
  },
  {
   "cell_type": "code",
   "execution_count": 53,
   "id": "580d7987-45ca-41df-802d-255d89260edb",
   "metadata": {},
   "outputs": [
    {
     "name": "stdout",
     "output_type": "stream",
     "text": [
      "a = 5, b = 3 \n"
     ]
    }
   ],
   "source": [
    "a = 3\n",
    "b = 5\n",
    "a, b = b, a\n",
    "print('a = %s, b = %s ' % (a, b))"
   ]
  },
  {
   "cell_type": "code",
   "execution_count": null,
   "id": "0bb8ec7a-a469-4b43-b2f8-4fabafe9849c",
   "metadata": {},
   "outputs": [],
   "source": []
  }
 ],
 "metadata": {
  "kernelspec": {
   "display_name": "Python 3 (ipykernel)",
   "language": "python",
   "name": "python3"
  },
  "language_info": {
   "codemirror_mode": {
    "name": "ipython",
    "version": 3
   },
   "file_extension": ".py",
   "mimetype": "text/x-python",
   "name": "python",
   "nbconvert_exporter": "python",
   "pygments_lexer": "ipython3",
   "version": "3.12.4"
  }
 },
 "nbformat": 4,
 "nbformat_minor": 5
}
