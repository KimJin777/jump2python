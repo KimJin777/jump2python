{
 "cells": [
  {
   "cell_type": "markdown",
   "id": "c57fdbdc-d215-4769-9b57-46218d7890c7",
   "metadata": {},
   "source": [
    "## 03-2 while 문\n",
    "\n",
    "#### while 문의 기본 구조:\n",
    "```python\n",
    "while 조건문:\n",
    "    수행할 문장 1\n",
    "    수행할 문장 2\n",
    "    수행할 문장 3\n",
    "    ...\n",
    "    "
   ]
  },
  {
   "attachments": {
    "c530afff-959e-4707-b980-e64764e73e9f.png": {
     "image/png": "[encoded data removed]"
    }
   },
   "cell_type": "markdown",
   "id": "9d358e64-27e3-4e28-944f-d5445c4a7e8c",
   "metadata": {},
   "source": [
    "![image.png](attachment:c530afff-959e-4707-b980-e64764e73e9f.png)"
   ]
  },
  {
   "cell_type": "code",
   "execution_count": 9,
   "id": "9142f62a-50da-45ba-afd0-980e99b3b790",
   "metadata": {},
   "outputs": [
    {
     "name": "stdout",
     "output_type": "stream",
     "text": [
      "나무를 1번 찍었습니다.\n",
      "나무를 2번 찍었습니다.\n",
      "나무를 3번 찍었습니다.\n",
      "나무를 4번 찍었습니다.\n",
      "나무를 5번 찍었습니다.\n",
      "나무를 6번 찍었습니다.\n",
      "나무를 7번 찍었습니다.\n",
      "나무를 8번 찍었습니다.\n",
      "나무를 9번 찍었습니다.\n",
      "나무를 10번 찍었습니다.\n",
      "\n",
      "나무가 넘어갔습니다.\n"
     ]
    }
   ],
   "source": [
    "treeHit = 0\n",
    "while treeHit < 10:\n",
    "    treeHit = treeHit +1\n",
    "    print('나무를 %d번 찍었습니다.' % treeHit)\n",
    "    if treeHit == 10 :\n",
    "        print('\\n나무가 넘어갔습니다.')"
   ]
  },
  {
   "cell_type": "markdown",
   "id": "602f1952-a49e-4f25-af74-1c7392916a31",
   "metadata": {
    "jp-MarkdownHeadingCollapsed": true
   },
   "source": [
    "\n",
    "\n",
    "\n",
    "| TreeHit | 조건문 | 조건판단 |수행하는 문장 | while 문 |\n",
    "| :-----------: | :------------: | ------------: | :------------: | :------------: |\n",
    "| 0  |  0< 10  |참 |   나무를 1번 찍었습니다. |  반복 |\n",
    "| 1  |  1< 10  |참 |   나무를 2번 찍었습니다. |  반복 |\n",
    "| 2  |  2< 10  |참 |   나무를 3번 찍었습니다. |  반복 |\n",
    "| 3  |  3< 10  |참 |   나무를 4번 찍었습니다. |  반복 |\n",
    "| 4  |  4< 10  |참 |   나무를 5번 찍었습니다. |  반복 |\n",
    "| 5  |  5< 10  |참 |   나무를 6번 찍었습니다. |  반복 |\n",
    "| 6  |  6< 10  |참 |   나무를 7번 찍었습니다. |  반복 |\n",
    "| 7  |  7< 10  |참 |   나무를 8번 찍었습니다. |  반복 |\n",
    "| 8  |  8< 10  |참 |   나무를 9번 찍었습니다. |  반복 |\n",
    "| 9  |  9< 10  |참 |   나무를 10번 찍었습니다. 나무가 넘어갑니다.|  반복 |\n",
    "| 10 |  10< 10 |거짓|    |  종료 |\n",
    "\n",
    " 12|"
   ]
  },
  {
   "cell_type": "markdown",
   "id": "748c1929-9427-48e4-965d-6cedd8219b9d",
   "metadata": {},
   "source": [
    "#### while 문 만들기"
   ]
  },
  {
   "cell_type": "code",
   "execution_count": 16,
   "id": "54bcb0cd-7971-49f5-b8e3-9b5885b6b46d",
   "metadata": {},
   "outputs": [],
   "source": [
    "prompt = \"\"\"\n",
    "    1. Add\n",
    "    2. Del\n",
    "    3. List\n",
    "    4. Quit\n",
    "\n",
    "    Enter number:\n",
    "\"\"\""
   ]
  },
  {
   "cell_type": "code",
   "execution_count": 13,
   "id": "be54d627-e940-45b6-ac36-6e1a01ea6d5e",
   "metadata": {},
   "outputs": [
    {
     "name": "stdout",
     "output_type": "stream",
     "text": [
      "\n",
      "    1. Add\n",
      "    2. Del\n",
      "    3. List\n",
      "    4. Quit\n",
      "\n",
      "    Enter number:\n",
      "\n"
     ]
    },
    {
     "name": "stdin",
     "output_type": "stream",
     "text": [
      " 1\n"
     ]
    },
    {
     "name": "stdout",
     "output_type": "stream",
     "text": [
      "\n",
      "    1. Add\n",
      "    2. Del\n",
      "    3. List\n",
      "    4. Quit\n",
      "\n",
      "    Enter number:\n",
      "\n"
     ]
    },
    {
     "name": "stdin",
     "output_type": "stream",
     "text": [
      " 1\n"
     ]
    },
    {
     "name": "stdout",
     "output_type": "stream",
     "text": [
      "\n",
      "    1. Add\n",
      "    2. Del\n",
      "    3. List\n",
      "    4. Quit\n",
      "\n",
      "    Enter number:\n",
      "\n"
     ]
    },
    {
     "name": "stdin",
     "output_type": "stream",
     "text": [
      " 2\n"
     ]
    },
    {
     "name": "stdout",
     "output_type": "stream",
     "text": [
      "\n",
      "    1. Add\n",
      "    2. Del\n",
      "    3. List\n",
      "    4. Quit\n",
      "\n",
      "    Enter number:\n",
      "\n"
     ]
    },
    {
     "name": "stdin",
     "output_type": "stream",
     "text": [
      " 4\n"
     ]
    }
   ],
   "source": [
    "number = 0\n",
    "while number != 4:\n",
    "    print(prompt)\n",
    "    number = int(input())"
   ]
  },
  {
   "cell_type": "markdown",
   "id": "171c42f3-e1ae-4633-8966-44f97d94a051",
   "metadata": {},
   "source": [
    "#### while 문 강제로 빠져나가기"
   ]
  },
  {
   "cell_type": "code",
   "execution_count": 23,
   "id": "f9506960-80ef-4022-b878-12f90c9a94e5",
   "metadata": {},
   "outputs": [
    {
     "name": "stdout",
     "output_type": "stream",
     "text": [
      "돈을 받았으니 커피를 줍니다.\n",
      "남은 커피의 양은 9개입니다.\n",
      "돈을 받았으니 커피를 줍니다.\n",
      "남은 커피의 양은 8개입니다.\n",
      "돈을 받았으니 커피를 줍니다.\n",
      "남은 커피의 양은 7개입니다.\n",
      "돈을 받았으니 커피를 줍니다.\n",
      "남은 커피의 양은 6개입니다.\n",
      "돈을 받았으니 커피를 줍니다.\n",
      "남은 커피의 양은 5개입니다.\n",
      "돈을 받았으니 커피를 줍니다.\n",
      "남은 커피의 양은 4개입니다.\n",
      "돈을 받았으니 커피를 줍니다.\n",
      "남은 커피의 양은 3개입니다.\n",
      "돈을 받았으니 커피를 줍니다.\n",
      "남은 커피의 양은 2개입니다.\n",
      "돈을 받았으니 커피를 줍니다.\n",
      "남은 커피의 양은 1개입니다.\n",
      "돈을 받았으니 커피를 줍니다.\n",
      "남은 커피의 양은 0개입니다.\n",
      "\n",
      "커피가 다 떨어졌습니다. 판매를 중지합니다.\n"
     ]
    }
   ],
   "source": [
    "coffee = 10\n",
    "money = 300\n",
    "while money:\n",
    "    print('돈을 받았으니 커피를 줍니다.')\n",
    "    coffee = coffee -1\n",
    "    money = money - 10\n",
    "    print('남은 커피의 양은 %d개입니다.' % coffee)\n",
    "    if coffee == 0:\n",
    "        print('\\n커피가 다 떨어졌습니다. 판매를 중지합니다.')\n",
    "        break\n"
   ]
  },
  {
   "cell_type": "code",
   "execution_count": 25,
   "id": "6fc7755e-c45b-4688-a785-f5e476209aa1",
   "metadata": {},
   "outputs": [
    {
     "name": "stdout",
     "output_type": "stream",
     "text": [
      "돈을 받았으니 커피를 줍니다.\n",
      "남은 커피의 양은 99개 입니다.\n",
      "남은 돈은 290원 입니다.\n",
      "돈을 받았으니 커피를 줍니다.\n",
      "남은 커피의 양은 98개 입니다.\n",
      "남은 돈은 280원 입니다.\n",
      "돈을 받았으니 커피를 줍니다.\n",
      "남은 커피의 양은 97개 입니다.\n",
      "남은 돈은 270원 입니다.\n",
      "돈을 받았으니 커피를 줍니다.\n",
      "남은 커피의 양은 96개 입니다.\n",
      "남은 돈은 260원 입니다.\n",
      "돈을 받았으니 커피를 줍니다.\n",
      "남은 커피의 양은 95개 입니다.\n",
      "남은 돈은 250원 입니다.\n",
      "돈을 받았으니 커피를 줍니다.\n",
      "남은 커피의 양은 94개 입니다.\n",
      "남은 돈은 240원 입니다.\n",
      "돈을 받았으니 커피를 줍니다.\n",
      "남은 커피의 양은 93개 입니다.\n",
      "남은 돈은 230원 입니다.\n",
      "돈을 받았으니 커피를 줍니다.\n",
      "남은 커피의 양은 92개 입니다.\n",
      "남은 돈은 220원 입니다.\n",
      "돈을 받았으니 커피를 줍니다.\n",
      "남은 커피의 양은 91개 입니다.\n",
      "남은 돈은 210원 입니다.\n",
      "돈을 받았으니 커피를 줍니다.\n",
      "남은 커피의 양은 90개 입니다.\n",
      "남은 돈은 200원 입니다.\n",
      "돈을 받았으니 커피를 줍니다.\n",
      "남은 커피의 양은 89개 입니다.\n",
      "남은 돈은 190원 입니다.\n",
      "돈을 받았으니 커피를 줍니다.\n",
      "남은 커피의 양은 88개 입니다.\n",
      "남은 돈은 180원 입니다.\n",
      "돈을 받았으니 커피를 줍니다.\n",
      "남은 커피의 양은 87개 입니다.\n",
      "남은 돈은 170원 입니다.\n",
      "돈을 받았으니 커피를 줍니다.\n",
      "남은 커피의 양은 86개 입니다.\n",
      "남은 돈은 160원 입니다.\n",
      "돈을 받았으니 커피를 줍니다.\n",
      "남은 커피의 양은 85개 입니다.\n",
      "남은 돈은 150원 입니다.\n",
      "돈을 받았으니 커피를 줍니다.\n",
      "남은 커피의 양은 84개 입니다.\n",
      "남은 돈은 140원 입니다.\n",
      "돈을 받았으니 커피를 줍니다.\n",
      "남은 커피의 양은 83개 입니다.\n",
      "남은 돈은 130원 입니다.\n",
      "돈을 받았으니 커피를 줍니다.\n",
      "남은 커피의 양은 82개 입니다.\n",
      "남은 돈은 120원 입니다.\n",
      "돈을 받았으니 커피를 줍니다.\n",
      "남은 커피의 양은 81개 입니다.\n",
      "남은 돈은 110원 입니다.\n",
      "돈을 받았으니 커피를 줍니다.\n",
      "남은 커피의 양은 80개 입니다.\n",
      "남은 돈은 100원 입니다.\n",
      "돈을 받았으니 커피를 줍니다.\n",
      "남은 커피의 양은 79개 입니다.\n",
      "남은 돈은 90원 입니다.\n",
      "돈을 받았으니 커피를 줍니다.\n",
      "남은 커피의 양은 78개 입니다.\n",
      "남은 돈은 80원 입니다.\n",
      "돈을 받았으니 커피를 줍니다.\n",
      "남은 커피의 양은 77개 입니다.\n",
      "남은 돈은 70원 입니다.\n",
      "돈을 받았으니 커피를 줍니다.\n",
      "남은 커피의 양은 76개 입니다.\n",
      "남은 돈은 60원 입니다.\n",
      "돈을 받았으니 커피를 줍니다.\n",
      "남은 커피의 양은 75개 입니다.\n",
      "남은 돈은 50원 입니다.\n",
      "돈을 받았으니 커피를 줍니다.\n",
      "남은 커피의 양은 74개 입니다.\n",
      "남은 돈은 40원 입니다.\n",
      "돈을 받았으니 커피를 줍니다.\n",
      "남은 커피의 양은 73개 입니다.\n",
      "남은 돈은 30원 입니다.\n",
      "돈을 받았으니 커피를 줍니다.\n",
      "남은 커피의 양은 72개 입니다.\n",
      "남은 돈은 20원 입니다.\n",
      "돈을 받았으니 커피를 줍니다.\n",
      "남은 커피의 양은 71개 입니다.\n",
      "남은 돈은 10원 입니다.\n",
      "돈을 받았으니 커피를 줍니다.\n",
      "남은 커피의 양은 70개 입니다.\n",
      "남은 돈은 0원 입니다.\n",
      "\n",
      "돈이 다 떨어졌습니다. 판매를 중지합니다.\n"
     ]
    }
   ],
   "source": [
    "coffee = 100\n",
    "money = 300\n",
    "while money:\n",
    "    print('돈을 받았으니 커피를 줍니다.')\n",
    "    coffee = coffee -1\n",
    "    money = money - 10\n",
    "    print('남은 커피의 양은 %d개 입니다.' % coffee)\n",
    "    print('남은 돈은 %d원 입니다.' % money)\n",
    "    if coffee == 0:\n",
    "        print('\\n커피가 다 떨어졌습니다. 판매를 중지합니다.')\n",
    "        break\n",
    "    if money == 0:\n",
    "        print('\\n돈이 다 떨어졌습니다. 판매를 중지합니다.')\n",
    "        break"
   ]
  },
  {
   "cell_type": "code",
   "execution_count": 29,
   "id": "9c32a71b-5f7e-4e5a-a0bd-14d0fa45cf63",
   "metadata": {},
   "outputs": [
    {
     "name": "stdin",
     "output_type": "stream",
     "text": [
      "돈을 넣어 주세요:  300\n"
     ]
    },
    {
     "name": "stdout",
     "output_type": "stream",
     "text": [
      "돈을 받았으니 커피를 줍니다.\n",
      "남은 커리의 양은 9 개입니다. \n"
     ]
    },
    {
     "name": "stdin",
     "output_type": "stream",
     "text": [
      "돈을 넣어 주세요:  400\n"
     ]
    },
    {
     "name": "stdout",
     "output_type": "stream",
     "text": [
      "거스름돈 100원을 주고 커피를 줍니다.\n",
      "남은 커리의 양은 8 개입니다. \n"
     ]
    },
    {
     "name": "stdin",
     "output_type": "stream",
     "text": [
      "돈을 넣어 주세요:  50\n"
     ]
    },
    {
     "name": "stdout",
     "output_type": "stream",
     "text": [
      "돈을 돌려주고 커피를 주지 않습니다.\n",
      "남은 커리의 양은 8 개입니다. \n"
     ]
    },
    {
     "name": "stdin",
     "output_type": "stream",
     "text": [
      "돈을 넣어 주세요:  400\n"
     ]
    },
    {
     "name": "stdout",
     "output_type": "stream",
     "text": [
      "거스름돈 100원을 주고 커피를 줍니다.\n",
      "남은 커리의 양은 7 개입니다. \n"
     ]
    },
    {
     "name": "stdin",
     "output_type": "stream",
     "text": [
      "돈을 넣어 주세요:  300\n"
     ]
    },
    {
     "name": "stdout",
     "output_type": "stream",
     "text": [
      "돈을 받았으니 커피를 줍니다.\n",
      "남은 커리의 양은 6 개입니다. \n"
     ]
    },
    {
     "name": "stdin",
     "output_type": "stream",
     "text": [
      "돈을 넣어 주세요:  300\n"
     ]
    },
    {
     "name": "stdout",
     "output_type": "stream",
     "text": [
      "돈을 받았으니 커피를 줍니다.\n",
      "남은 커리의 양은 5 개입니다. \n"
     ]
    },
    {
     "name": "stdin",
     "output_type": "stream",
     "text": [
      "돈을 넣어 주세요:  300\n"
     ]
    },
    {
     "name": "stdout",
     "output_type": "stream",
     "text": [
      "돈을 받았으니 커피를 줍니다.\n",
      "남은 커리의 양은 4 개입니다. \n"
     ]
    },
    {
     "name": "stdin",
     "output_type": "stream",
     "text": [
      "돈을 넣어 주세요:  300\n"
     ]
    },
    {
     "name": "stdout",
     "output_type": "stream",
     "text": [
      "돈을 받았으니 커피를 줍니다.\n",
      "남은 커리의 양은 3 개입니다. \n"
     ]
    },
    {
     "name": "stdin",
     "output_type": "stream",
     "text": [
      "돈을 넣어 주세요:  300\n"
     ]
    },
    {
     "name": "stdout",
     "output_type": "stream",
     "text": [
      "돈을 받았으니 커피를 줍니다.\n",
      "남은 커리의 양은 2 개입니다. \n"
     ]
    },
    {
     "name": "stdin",
     "output_type": "stream",
     "text": [
      "돈을 넣어 주세요:  300\n"
     ]
    },
    {
     "name": "stdout",
     "output_type": "stream",
     "text": [
      "돈을 받았으니 커피를 줍니다.\n",
      "남은 커리의 양은 1 개입니다. \n"
     ]
    },
    {
     "name": "stdin",
     "output_type": "stream",
     "text": [
      "돈을 넣어 주세요:  300\n"
     ]
    },
    {
     "name": "stdout",
     "output_type": "stream",
     "text": [
      "돈을 받았으니 커피를 줍니다.\n",
      "\n",
      "커피가 다 떨어졌습니다. 판매를 중지합니다.\n"
     ]
    }
   ],
   "source": [
    "coffee = 10\n",
    "coffeePrice = 300\n",
    "while True:\n",
    "    money = int(input('돈을 넣어 주세요: '))\n",
    "    if money == coffeePrice:\n",
    "        print('돈을 받았으니 커피를 줍니다.')\n",
    "        coffee = coffee -1\n",
    "\n",
    "    elif money > 300:\n",
    "        print('거스름돈 %d원을 주고 커피를 줍니다.' % (money - coffeePrice))\n",
    "        coffee = coffee -1\n",
    "    else:\n",
    "        print('돈을 돌려주고 커피를 주지 않습니다.')\n",
    "        \n",
    "    if coffee == 0:\n",
    "        print('\\n커피가 다 떨어졌습니다. 판매를 중지합니다.')\n",
    "        break\n",
    "    print('남은 커리의 양은 %d 개입니다. ' % coffee)"
   ]
  },
  {
   "cell_type": "code",
   "execution_count": 31,
   "id": "2f1cb696-bd65-45e7-bc6d-e55a9a34d9bd",
   "metadata": {},
   "outputs": [
    {
     "data": {
      "text/plain": [
       "'C:\\\\Users\\\\kjink\\\\내 드라이브\\\\Colab Notebooks\\\\점프투파이썬'"
      ]
     },
     "execution_count": 31,
     "metadata": {},
     "output_type": "execute_result"
    }
   ],
   "source": [
    "pwd\n"
   ]
  },
  {
   "cell_type": "code",
   "execution_count": 33,
   "id": "3264648f-3e41-46ca-add4-80d9b3e01494",
   "metadata": {},
   "outputs": [
    {
     "name": "stdout",
     "output_type": "stream",
     "text": [
      "^C\n"
     ]
    }
   ],
   "source": [
    "!python coffee.py"
   ]
  },
  {
   "cell_type": "code",
   "execution_count": 35,
   "id": "e6b20d28-fe80-4254-b546-9a08250f6129",
   "metadata": {},
   "outputs": [
    {
     "name": "stdin",
     "output_type": "stream",
     "text": [
      "돈을 넣어 주세요:  300\n"
     ]
    },
    {
     "name": "stdout",
     "output_type": "stream",
     "text": [
      "돈을 받았으니 커피를 줍니다.\n",
      "남은 커리의 양은 9 개입니다. \n"
     ]
    },
    {
     "name": "stdin",
     "output_type": "stream",
     "text": [
      "돈을 넣어 주세요:  400\n"
     ]
    },
    {
     "name": "stdout",
     "output_type": "stream",
     "text": [
      "거스름돈 100원을 주고 커피를 줍니다.\n",
      "남은 커리의 양은 8 개입니다. \n"
     ]
    },
    {
     "name": "stdin",
     "output_type": "stream",
     "text": [
      "돈을 넣어 주세요:  222\n"
     ]
    },
    {
     "name": "stdout",
     "output_type": "stream",
     "text": [
      "돈을 돌려주고 커피를 주지 않습니다.\n",
      "남은 커리의 양은 8 개입니다. \n"
     ]
    },
    {
     "name": "stdin",
     "output_type": "stream",
     "text": [
      "돈을 넣어 주세요:  333\n"
     ]
    },
    {
     "name": "stdout",
     "output_type": "stream",
     "text": [
      "거스름돈 33원을 주고 커피를 줍니다.\n",
      "남은 커리의 양은 7 개입니다. \n"
     ]
    },
    {
     "name": "stdin",
     "output_type": "stream",
     "text": [
      "돈을 넣어 주세요:  444\n"
     ]
    },
    {
     "name": "stdout",
     "output_type": "stream",
     "text": [
      "거스름돈 144원을 주고 커피를 줍니다.\n",
      "남은 커리의 양은 6 개입니다. \n"
     ]
    },
    {
     "name": "stdin",
     "output_type": "stream",
     "text": [
      "돈을 넣어 주세요:  333\n"
     ]
    },
    {
     "name": "stdout",
     "output_type": "stream",
     "text": [
      "거스름돈 33원을 주고 커피를 줍니다.\n",
      "남은 커리의 양은 5 개입니다. \n"
     ]
    },
    {
     "name": "stdin",
     "output_type": "stream",
     "text": [
      "돈을 넣어 주세요:  333\n"
     ]
    },
    {
     "name": "stdout",
     "output_type": "stream",
     "text": [
      "거스름돈 33원을 주고 커피를 줍니다.\n",
      "남은 커리의 양은 4 개입니다. \n"
     ]
    },
    {
     "name": "stdin",
     "output_type": "stream",
     "text": [
      "돈을 넣어 주세요:  3333\n"
     ]
    },
    {
     "name": "stdout",
     "output_type": "stream",
     "text": [
      "거스름돈 3033원을 주고 커피를 줍니다.\n",
      "남은 커리의 양은 3 개입니다. \n"
     ]
    },
    {
     "name": "stdin",
     "output_type": "stream",
     "text": [
      "돈을 넣어 주세요:  333\n"
     ]
    },
    {
     "name": "stdout",
     "output_type": "stream",
     "text": [
      "거스름돈 33원을 주고 커피를 줍니다.\n",
      "남은 커리의 양은 2 개입니다. \n"
     ]
    },
    {
     "name": "stdin",
     "output_type": "stream",
     "text": [
      "돈을 넣어 주세요:  333\n"
     ]
    },
    {
     "name": "stdout",
     "output_type": "stream",
     "text": [
      "거스름돈 33원을 주고 커피를 줍니다.\n",
      "남은 커리의 양은 1 개입니다. \n"
     ]
    },
    {
     "name": "stdin",
     "output_type": "stream",
     "text": [
      "돈을 넣어 주세요:  333\n"
     ]
    },
    {
     "name": "stdout",
     "output_type": "stream",
     "text": [
      "거스름돈 33원을 주고 커피를 줍니다.\n",
      "\n",
      "커피가 다 떨어졌습니다. 판매를 중지합니다.\n"
     ]
    }
   ],
   "source": [
    "run -i coffee.py"
   ]
  },
  {
   "cell_type": "markdown",
   "id": "87591dc5-08a0-459f-8e05-4d4a9b2bcaf6",
   "metadata": {},
   "source": [
    "#### while 문의 처음으로 돌아가기"
   ]
  },
  {
   "cell_type": "code",
   "execution_count": 37,
   "id": "0995b8c0-deae-49ab-9695-83f184abe2c1",
   "metadata": {},
   "outputs": [
    {
     "name": "stdout",
     "output_type": "stream",
     "text": [
      "1\n",
      "3\n",
      "5\n",
      "7\n",
      "9\n"
     ]
    }
   ],
   "source": [
    "a = 0\n",
    "while a < 10:\n",
    "    a = a + 1\n",
    "    if a % 2 == 0:\n",
    "        continue\n",
    "    print(a)"
   ]
  },
  {
   "cell_type": "code",
   "execution_count": 39,
   "id": "56b4f9cc-5b13-4d2b-b1ac-93f06a681659",
   "metadata": {},
   "outputs": [
    {
     "name": "stdout",
     "output_type": "stream",
     "text": [
      "1\n",
      "2\n",
      "3\n",
      "4\n",
      "5\n",
      "6\n",
      "7\n",
      "8\n",
      "9\n",
      "10\n"
     ]
    }
   ],
   "source": [
    "a = 0\n",
    "while a < 10:\n",
    "    a = a + 1\n",
    "    if a % 2 == 0:\n",
    "        pass\n",
    "    print(a)"
   ]
  },
  {
   "cell_type": "markdown",
   "id": "7f05c292-1447-4d5f-be0d-bed6b4b516e3",
   "metadata": {},
   "source": [
    "#### 무한루프"
   ]
  },
  {
   "cell_type": "code",
   "execution_count": 43,
   "id": "23bad3c2-4d8c-4214-92d6-8e09b5f460f1",
   "metadata": {},
   "outputs": [
    {
     "name": "stderr",
     "output_type": "stream",
     "text": [
      "IOPub data rate exceeded.\n",
      "The Jupyter server will temporarily stop sending output\n",
      "to the client in order to avoid crashing it.\n",
      "To change this limit, set the config variable\n",
      "`--ServerApp.iopub_data_rate_limit`.\n",
      "\n",
      "Current values:\n",
      "ServerApp.iopub_data_rate_limit=1000000.0 (bytes/sec)\n",
      "ServerApp.rate_limit_window=3.0 (secs)\n",
      "\n"
     ]
    },
    {
     "ename": "KeyboardInterrupt",
     "evalue": "",
     "output_type": "error",
     "traceback": [
      "\u001b[1;31m---------------------------------------------------------------------------\u001b[0m",
      "\u001b[1;31mKeyboardInterrupt\u001b[0m                         Traceback (most recent call last)",
      "Cell \u001b[1;32mIn[43], line 2\u001b[0m\n\u001b[0;32m      1\u001b[0m \u001b[38;5;28;01mwhile\u001b[39;00m \u001b[38;5;28;01mTrue\u001b[39;00m:\n\u001b[1;32m----> 2\u001b[0m     \u001b[38;5;28mprint\u001b[39m(\u001b[38;5;124m'\u001b[39m\u001b[38;5;124mCtrl + C를 눌러야 while문을 빠져나갈 수 있습니다.\u001b[39m\u001b[38;5;124m'\u001b[39m)\n",
      "File \u001b[1;32mC:\\ProgramData\\anaconda3\\Lib\\site-packages\\ipykernel\\iostream.py:649\u001b[0m, in \u001b[0;36mOutStream.write\u001b[1;34m(self, string)\u001b[0m\n\u001b[0;32m    646\u001b[0m     msg \u001b[38;5;241m=\u001b[39m \u001b[38;5;124m\"\u001b[39m\u001b[38;5;124mI/O operation on closed file\u001b[39m\u001b[38;5;124m\"\u001b[39m\n\u001b[0;32m    647\u001b[0m     \u001b[38;5;28;01mraise\u001b[39;00m \u001b[38;5;167;01mValueError\u001b[39;00m(msg)\n\u001b[1;32m--> 649\u001b[0m is_child \u001b[38;5;241m=\u001b[39m \u001b[38;5;129;01mnot\u001b[39;00m \u001b[38;5;28mself\u001b[39m\u001b[38;5;241m.\u001b[39m_is_master_process()\n\u001b[0;32m    650\u001b[0m \u001b[38;5;66;03m# only touch the buffer in the IO thread to avoid races\u001b[39;00m\n\u001b[0;32m    651\u001b[0m \u001b[38;5;28;01mwith\u001b[39;00m \u001b[38;5;28mself\u001b[39m\u001b[38;5;241m.\u001b[39m_buffer_lock:\n",
      "File \u001b[1;32mC:\\ProgramData\\anaconda3\\Lib\\site-packages\\ipykernel\\iostream.py:519\u001b[0m, in \u001b[0;36mOutStream._is_master_process\u001b[1;34m(self)\u001b[0m\n\u001b[0;32m    516\u001b[0m     \u001b[38;5;28mself\u001b[39m\u001b[38;5;241m.\u001b[39mwatch_fd_thread\u001b[38;5;241m.\u001b[39mdaemon \u001b[38;5;241m=\u001b[39m \u001b[38;5;28;01mTrue\u001b[39;00m\n\u001b[0;32m    517\u001b[0m     \u001b[38;5;28mself\u001b[39m\u001b[38;5;241m.\u001b[39mwatch_fd_thread\u001b[38;5;241m.\u001b[39mstart()\n\u001b[1;32m--> 519\u001b[0m \u001b[38;5;28;01mdef\u001b[39;00m \u001b[38;5;21m_is_master_process\u001b[39m(\u001b[38;5;28mself\u001b[39m):\n\u001b[0;32m    520\u001b[0m     \u001b[38;5;28;01mreturn\u001b[39;00m os\u001b[38;5;241m.\u001b[39mgetpid() \u001b[38;5;241m==\u001b[39m \u001b[38;5;28mself\u001b[39m\u001b[38;5;241m.\u001b[39m_master_pid\n\u001b[0;32m    522\u001b[0m \u001b[38;5;28;01mdef\u001b[39;00m \u001b[38;5;21mset_parent\u001b[39m(\u001b[38;5;28mself\u001b[39m, parent):\n",
      "\u001b[1;31mKeyboardInterrupt\u001b[0m: "
     ]
    }
   ],
   "source": [
    "while True:\n",
    "    print('Ctrl + C를 눌러야 while문을 빠져나갈 수 있습니다.')"
   ]
  },
  {
   "cell_type": "code",
   "execution_count": null,
   "id": "8ed40dce-18fe-40f3-a5d6-c0592753a998",
   "metadata": {},
   "outputs": [],
   "source": []
  }
 ],
 "metadata": {
  "kernelspec": {
   "display_name": "Python 3 (ipykernel)",
   "language": "python",
   "name": "python3"
  },
  "language_info": {
   "codemirror_mode": {
    "name": "ipython",
    "version": 3
   },
   "file_extension": ".py",
   "mimetype": "text/x-python",
   "name": "python",
   "nbconvert_exporter": "python",
   "pygments_lexer": "ipython3",
   "version": "3.12.4"
  }
 },
 "nbformat": 4,
 "nbformat_minor": 5
}
