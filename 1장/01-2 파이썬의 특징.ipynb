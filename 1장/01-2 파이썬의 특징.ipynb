{
 "cells": [
  {
   "cell_type": "markdown",
   "id": "fcb1bc2f-0cd9-4ff2-95bb-1a96af7d211e",
   "metadata": {},
   "source": [
    "파이썬은 인간다운 언어이다."
   ]
  },
  {
   "cell_type": "code",
   "execution_count": 2,
   "id": "4cc8b93e-296e-455a-b80a-aa79422f9233",
   "metadata": {},
   "outputs": [
    {
     "name": "stdout",
     "output_type": "stream",
     "text": [
      "4가 있습니다\n"
     ]
    }
   ],
   "source": [
    "if 4 in [1,2,3,4]: print('4가 있습니다')"
   ]
  },
  {
   "cell_type": "markdown",
   "id": "89fd2292-2bc5-4cba-8376-a1fe17f8b638",
   "metadata": {},
   "source": [
    "문법이 쉬워 빠르게 배울 수 있다."
   ]
  },
  {
   "cell_type": "markdown",
   "id": "0a82c5f9-87d1-420b-bc1c-55005d0ca911",
   "metadata": {},
   "source": [
    "무료이지만 강력하다\n",
    "- 오픈소스 open source\n",
    "- \n",
    "- 파이썬과 C는 찰떡궁합\n",
    "- 프로그램의 전반적인 뼈대는 파이썬으로 만들고,\n",
    "- 빠른 실행 속도가 필요한 부분은 C로 만들어서 파이썬 프로그램 안에 포함시킬 수 있다."
   ]
  },
  {
   "cell_type": "markdown",
   "id": "33daf7fc-da6a-4172-8a1f-9cb0df0b97a8",
   "metadata": {},
   "source": [
    "간결하다."
   ]
  },
  {
   "cell_type": "code",
   "execution_count": 8,
   "id": "c81125fb-5631-4caa-9c8f-5ac265da8b0d",
   "metadata": {},
   "outputs": [
    {
     "name": "stdout",
     "output_type": "stream",
     "text": [
      "python need interpreter\n",
      "  perl need interpreter\n",
      "     c need compiler\n",
      "  java need compiler\n"
     ]
    }
   ],
   "source": [
    "languages = ['python', 'perl', 'c', 'java']\n",
    "\n",
    "for lang in languages:\n",
    "    if lang in ['python', 'perl']:\n",
    "        print('%6s need interpreter' % lang)\n",
    "    elif lang in ['c', 'java']:\n",
    "        print('%6s need compiler' % lang)\n",
    "    else: \n",
    "        print('shoud not reach here')"
   ]
  },
  {
   "cell_type": "markdown",
   "id": "629a75a2-630c-4155-a136-33c79f835b15",
   "metadata": {},
   "source": [
    "-------------------------------------------------------------\n",
    "파이썬은 들여쓰기가 필요하다.\n",
    "\n",
    "- 다른 언어는 가독성을 높이기 위해 일부러 들여쓰기를 한다. 아무런 기능은 없다.\n",
    "- 문법적으로 들여쓰기를 해야 한다."
   ]
  },
  {
   "cell_type": "markdown",
   "id": "f58e829d-9231-41dc-b5a8-21db7cffa705",
   "metadata": {},
   "source": [
    "프로그래밍을 즐기게 해 준다"
   ]
  },
  {
   "cell_type": "markdown",
   "id": "8d584f9d-b33f-47c7-8062-790d667f8faa",
   "metadata": {},
   "source": [
    "개발속도가 빠르다.\n",
    "- Life is too short, You need python.\n",
    "- 이냇ㅇ은 너무 짧으니 파이썬이 필요해"
   ]
  },
  {
   "cell_type": "markdown",
   "id": "cc0226b4-f939-45dd-bd97-7b72a56a2b00",
   "metadata": {},
   "source": []
  },
  {
   "cell_type": "markdown",
   "id": "c64857c4-847b-422a-b077-a4176f4554b6",
   "metadata": {},
   "source": []
  },
  {
   "cell_type": "markdown",
   "id": "8fb007e5-c6fa-48be-a11a-6ecc649be35a",
   "metadata": {},
   "source": []
  }
 ],
 "metadata": {
  "kernelspec": {
   "display_name": "Python 3 (ipykernel)",
   "language": "python",
   "name": "python3"
  },
  "language_info": {
   "codemirror_mode": {
    "name": "ipython",
    "version": 3
   },
   "file_extension": ".py",
   "mimetype": "text/x-python",
   "name": "python",
   "nbconvert_exporter": "python",
   "pygments_lexer": "ipython3",
   "version": "3.12.4"
  }
 },
 "nbformat": 4,
 "nbformat_minor": 5
}
