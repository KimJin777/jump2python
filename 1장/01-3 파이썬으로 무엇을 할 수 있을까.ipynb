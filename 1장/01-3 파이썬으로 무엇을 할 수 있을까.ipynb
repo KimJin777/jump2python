{
 "cells": [
  {
   "cell_type": "markdown",
   "id": "db9a1257-7ea5-4f29-83ec-1770d975ab09",
   "metadata": {},
   "source": [
    "- 파이썬으로 할 수 있는 일\n",
    "  - 웹 프록래밍\n",
    "  - 인공지능과 머신러닝\n",
    "  - 수치연산 프로그래밍\n",
    "  - 데이터 분석\n",
    "  - 데이터베이스 프로그래밍\n",
    "  - 시스템 유틸리티 제작하기\n",
    "  - GUI 프로그래밍\n",
    "  - C/C++과 결합하기\n",
    "    - 접착언어glue\n",
    "  - 사물인터넷\n",
    "    - 라즈베리파이Raspberry pi\n"
   ]
  },
  {
   "cell_type": "markdown",
   "id": "72e151c3-2e16-4fe8-a3ee-4f03d2d661d0",
   "metadata": {},
   "source": []
  },
  {
   "cell_type": "markdown",
   "id": "a8a010b0-a5ab-4a92-9fa4-726439005484",
   "metadata": {},
   "source": [
    "- 파이썬으로 할 수 없는 일\n",
    "  - 시스템과 밀접한 프로그래밍 영역\n",
    "  - 모바일 프로그래밍"
   ]
  },
  {
   "cell_type": "markdown",
   "id": "4ddb0ed9-68cf-40d1-b8b2-d249f8d11408",
   "metadata": {},
   "source": []
  },
  {
   "cell_type": "markdown",
   "id": "2bf59e7e-7b52-482f-9091-f2c4f2c8f186",
   "metadata": {},
   "source": []
  },
  {
   "cell_type": "markdown",
   "id": "d475c8e0-955a-4555-a4e3-3028a2e7e767",
   "metadata": {},
   "source": []
  },
  {
   "cell_type": "markdown",
   "id": "dea60a3b-273f-44ef-b907-56d5c1dddf92",
   "metadata": {},
   "source": []
  },
  {
   "cell_type": "markdown",
   "id": "efde0792-9749-4b51-a7e0-5a8fdf143313",
   "metadata": {},
   "source": []
  }
 ],
 "metadata": {
  "kernelspec": {
   "display_name": "Python 3 (ipykernel)",
   "language": "python",
   "name": "python3"
  },
  "language_info": {
   "codemirror_mode": {
    "name": "ipython",
    "version": 3
   },
   "file_extension": ".py",
   "mimetype": "text/x-python",
   "name": "python",
   "nbconvert_exporter": "python",
   "pygments_lexer": "ipython3",
   "version": "3.12.4"
  }
 },
 "nbformat": 4,
 "nbformat_minor": 5
}
